{
 "cells": [
  {
   "cell_type": "markdown",
   "metadata": {},
   "source": [
    "# Notebook to extract embeddings from Basic Features "
   ]
  },
  {
   "cell_type": "code",
   "execution_count": null,
   "metadata": {},
   "outputs": [],
   "source": []
  },
  {
   "cell_type": "code",
   "execution_count": 13,
   "metadata": {},
   "outputs": [],
   "source": [
    "import os\n",
    "import glob\n",
    "import torch\n",
    "import numpy as np\n",
    "import pandas as pd\n",
    "from tqdm import tqdm\n",
    "from model import BasicFeaturesExtractor\n",
    "from modeling_hacked_basic_features import BasicFeatures\n",
    "from tokenizer import tokenize, rms_tokenizer\n",
    "from utils import set_seed, wordrate, content_words, function_words, log_frequency, word_position, rms, sentence_to_words, create_onsets_files\n"
   ]
  },
  {
   "cell_type": "markdown",
   "metadata": {},
   "source": [
    " "
   ]
  },
  {
   "cell_type": "code",
   "execution_count": 2,
   "metadata": {},
   "outputs": [],
   "source": [
    "def check_folder(path):\n",
    "    \"\"\"Create adequate folders if necessary.\"\"\"\n",
    "    try:\n",
    "        if not os.path.isdir(path):\n",
    "            check_folder(os.path.dirname(path))\n",
    "            os.mkdir(path)\n",
    "    except:\n",
    "        pass"
   ]
  },
  {
   "cell_type": "markdown",
   "metadata": {},
   "source": [
    "Defining variables:"
   ]
  },
  {
   "cell_type": "code",
   "execution_count": 18,
   "metadata": {},
   "outputs": [],
   "source": [
    "language = 'french'"
   ]
  },
  {
   "cell_type": "code",
   "execution_count": 19,
   "metadata": {},
   "outputs": [],
   "source": [
    "template = f'/neurospin/unicog/protocols/IRMf/LePetitPrince_Pallier_2018/LePetitPrince/data/text/{language}/text_{language}_run*.txt' # path to text input\n",
    "template_rms = f'/neurospin/unicog/protocols/IRMf/LePetitPrince_Pallier_2018/LePetitPrince/data/wave/{language}/wave_{language}_run*.wav'\n",
    "\n"
   ]
  },
  {
   "cell_type": "code",
   "execution_count": 20,
   "metadata": {},
   "outputs": [],
   "source": [
    "#functions = [wordrate, content_words, function_words, log_word_freq, word_position, rms]\n",
    "functions = [rms]"
   ]
  },
  {
   "cell_type": "code",
   "execution_count": 21,
   "metadata": {},
   "outputs": [],
   "source": [
    "vocab_path = f'/neurospin/unicog/protocols/IRMf/LePetitPrince_Pallier_2018/LePetitPrince/data/text/{language}/glove_training'\n",
    "path_to_data = f'/neurospin/unicog/protocols/IRMf/LePetitPrince_Pallier_2018/LePetitPrince/data/stimuli-representations/{language}'"
   ]
  },
  {
   "cell_type": "code",
   "execution_count": 22,
   "metadata": {},
   "outputs": [],
   "source": [
    "#template = '/Users/alexpsq/Code/Parietal/data/text_english_run*.txt' # path to text input\n",
    "#template_rms = '/Users/alexpsq/Code/Parietal/data/wave_english_run*.wav'\n",
    "#path_to_data = '/Users/alexpsq/Code/Parietal/data/stimuli-representations'"
   ]
  },
  {
   "cell_type": "code",
   "execution_count": 23,
   "metadata": {},
   "outputs": [],
   "source": [
    "saving_path_folders = [os.path.join(path_to_data, function.__name__) for function in functions]\n",
    "config_paths = [None]"
   ]
  },
  {
   "cell_type": "markdown",
   "metadata": {},
   "source": [
    "Creating iterator for each run:"
   ]
  },
  {
   "cell_type": "code",
   "execution_count": 24,
   "metadata": {},
   "outputs": [],
   "source": [
    "paths = sorted(glob.glob(template))\n",
    "paths_rms = sorted(glob.glob(template_rms))"
   ]
  },
  {
   "cell_type": "code",
   "execution_count": 25,
   "metadata": {},
   "outputs": [
    {
     "data": {
      "text/plain": [
       "['/neurospin/unicog/protocols/IRMf/LePetitPrince_Pallier_2018/LePetitPrince/data/wave/french/wave_french_run1.wav',\n",
       " '/neurospin/unicog/protocols/IRMf/LePetitPrince_Pallier_2018/LePetitPrince/data/wave/french/wave_french_run2.wav',\n",
       " '/neurospin/unicog/protocols/IRMf/LePetitPrince_Pallier_2018/LePetitPrince/data/wave/french/wave_french_run3.wav',\n",
       " '/neurospin/unicog/protocols/IRMf/LePetitPrince_Pallier_2018/LePetitPrince/data/wave/french/wave_french_run4.wav',\n",
       " '/neurospin/unicog/protocols/IRMf/LePetitPrince_Pallier_2018/LePetitPrince/data/wave/french/wave_french_run5.wav',\n",
       " '/neurospin/unicog/protocols/IRMf/LePetitPrince_Pallier_2018/LePetitPrince/data/wave/french/wave_french_run6.wav',\n",
       " '/neurospin/unicog/protocols/IRMf/LePetitPrince_Pallier_2018/LePetitPrince/data/wave/french/wave_french_run7.wav',\n",
       " '/neurospin/unicog/protocols/IRMf/LePetitPrince_Pallier_2018/LePetitPrince/data/wave/french/wave_french_run8.wav',\n",
       " '/neurospin/unicog/protocols/IRMf/LePetitPrince_Pallier_2018/LePetitPrince/data/wave/french/wave_french_run9.wav']"
      ]
     },
     "execution_count": 25,
     "metadata": {},
     "output_type": "execute_result"
    }
   ],
   "source": [
    "paths_rms"
   ]
  },
  {
   "cell_type": "code",
   "execution_count": 26,
   "metadata": {},
   "outputs": [],
   "source": [
    "slice_period=10e-3"
   ]
  },
  {
   "cell_type": "code",
   "execution_count": 27,
   "metadata": {
    "scrolled": true
   },
   "outputs": [
    {
     "name": "stderr",
     "output_type": "stream",
     "text": [
      "100%|██████████| 135/135 [00:00<00:00, 536203.64it/s]\n",
      "100%|██████████| 136/136 [00:00<00:00, 718419.83it/s]\n",
      "100%|██████████| 184/184 [00:00<00:00, 732212.46it/s]\n",
      "100%|██████████| 174/174 [00:00<00:00, 303202.70it/s]\n",
      "100%|██████████| 177/177 [00:00<00:00, 770115.98it/s]\n",
      "100%|██████████| 211/211 [00:00<00:00, 232527.10it/s]\n",
      "100%|██████████| 192/192 [00:00<00:00, 765500.35it/s]\n",
      "100%|██████████| 143/143 [00:00<00:00, 689408.59it/s]\n",
      "100%|██████████| 197/197 [00:00<00:00, 839713.30it/s]\n"
     ]
    }
   ],
   "source": [
    "iterator_list = [tokenize(path, language, train=False) for path in paths]\n",
    "rms_iterator_list = [rms_tokenizer(path_to_audio, slice_period=slice_period) for path_to_audio in paths_rms]\n",
    "onsets = [pd.read_csv('/neurospin/unicog/protocols/IRMf/LePetitPrince_Pallier_2018/LePetitPrince/data/onsets-offsets/{}/word_run{}.csv'.format(language, index)) for index in range(1,10)]\n",
    "\n",
    "\n",
    "path_to_onset_folder = f'/neurospin/unicog/protocols/IRMf/LePetitPrince_Pallier_2018/LePetitPrince/data/onsets-offsets/{language}'\n",
    "\n",
    "for run_index, iterator in enumerate(rms_iterator_list):\n",
    "    iter_, frame_rate, n_frames, slice_length = iterator\n",
    "    create_onsets_files(path_to_onset_folder, n_frames, frame_rate, slice_period, run_index+1)\n",
    "    "
   ]
  },
  {
   "cell_type": "code",
   "execution_count": 65,
   "metadata": {},
   "outputs": [
    {
     "name": "stdout",
     "output_type": "stream",
     "text": [
      "0 (44100, 24462270, 441) 55470\n",
      "1 (44100, 25921980, 441) 58780\n",
      "2 (44100, 29608740, 441) 67140\n",
      "3 (44100, 26380620, 441) 59820\n",
      "4 (44100, 23029020, 441) 52220\n",
      "5 (44100, 29904210, 441) 67810\n",
      "6 (44100, 28312200, 441) 64200\n",
      "7 (44100, 25392780, 441) 57580\n",
      "8 (44100, 32065110, 441) 72710\n"
     ]
    }
   ],
   "source": [
    "for i in range(9):\n",
    "    print(i, rms_iterator_list[i][1:], len(rms_iterator_list[i][0]))"
   ]
  },
  {
   "cell_type": "code",
   "execution_count": 14,
   "metadata": {},
   "outputs": [],
   "source": [
    "def add_at_index(df, index, word, method='last'):\n",
    "    # method can be in ['last', 'interpolate', 'next']\n",
    "    if method=='last':\n",
    "        onset = df['onsets'].iloc[index-1]\n",
    "        offset = df['offsets'].iloc[index-1]\n",
    "    elif method=='interpolate':\n",
    "        onset = df['offsets'].iloc[index-1]\n",
    "        offset = df['onsets'].iloc[index]\n",
    "    elif method=='next':\n",
    "        onset = df['onsets'].iloc[index]\n",
    "        offset = df['offsets'].iloc[index]\n",
    "    else:\n",
    "        raise ValueError('Method {} not implemented...'.format(method))\n",
    "    data = {'word':[word],\n",
    "           'onsets':[onset],\n",
    "           'offsets':[offset]}\n",
    "    tmp = pd.DataFrame(data)\n",
    "    result = pd.concat([df.loc[:index-1], tmp, df.loc[index:]], axis=0, ignore_index=True)\n",
    "    return result"
   ]
  },
  {
   "cell_type": "code",
   "execution_count": 16,
   "metadata": {},
   "outputs": [
    {
     "name": "stdout",
     "output_type": "stream",
     "text": [
      "0 --------------------------------------------------\n",
      "1 --------------------------------------------------\n",
      "2 --------------------------------------------------\n",
      "3 --------------------------------------------------\n",
      "4 --------------------------------------------------\n",
      "5 --------------------------------------------------\n",
      "6 --------------------------------------------------\n",
      "7 --------------------------------------------------\n",
      "8 --------------------------------------------------\n"
     ]
    }
   ],
   "source": [
    "for i, text in enumerate(iterator_list):\n",
    "    print(i, '-'*50)\n",
    "    it = sentence_to_words(text)\n",
    "    j = 0\n",
    "    for index, value in enumerate(it):\n",
    "        if value.lower() == onsets[i]['word'].iloc[j]:\n",
    "            j+=1\n",
    "        else:\n",
    "            onsets[i] = add_at_index(onsets[i], index, value.lower(), method='interpolate')\n",
    "            j+=1\n",
    "            print(index, value)\n",
    "            print(onsets[i].iloc[j-3:j+3])\n",
    "            print(it[index-1], it[index], it[index+1])"
   ]
  },
  {
   "cell_type": "code",
   "execution_count": 17,
   "metadata": {},
   "outputs": [],
   "source": [
    "for index, onset in enumerate(onsets):\n",
    "    onset.to_csv('/neurospin/unicog/protocols/IRMf/LePetitPrince_Pallier_2018/LePetitPrince/data/wave/english/onset-offsets/word_run{}.csv'.format(index+1), index=False)"
   ]
  },
  {
   "cell_type": "code",
   "execution_count": 20,
   "metadata": {},
   "outputs": [
    {
     "name": "stdout",
     "output_type": "stream",
     "text": [
      "1519 1519\n",
      "1719 1719\n",
      "1853 1853\n",
      "1636 1636\n",
      "1532 1532\n",
      "1818 1818\n",
      "1787 1787\n",
      "1584 1584\n",
      "1978 1978\n"
     ]
    }
   ],
   "source": [
    "for i, onset in enumerate(onsets):\n",
    "    print(len(onset['word']))"
   ]
  },
  {
   "cell_type": "code",
   "execution_count": 21,
   "metadata": {
    "scrolled": true
   },
   "outputs": [],
   "source": [
    "for index, onset in enumerate(onsets):\n",
    "    for i, value in enumerate(onset['word']):\n",
    "        if value != sentence_to_words(iterator_list[index])[i].lower():\n",
    "            print(index, i)"
   ]
  },
  {
   "cell_type": "markdown",
   "metadata": {},
   "source": [
    "## Activation extraction"
   ]
  },
  {
   "cell_type": "code",
   "execution_count": 66,
   "metadata": {},
   "outputs": [],
   "source": [
    "kwargs = {'path_to_function_words_list': f'/neurospin/unicog/protocols/IRMf/LePetitPrince_Pallier_2018/LePetitPrince/data/text/{language}/function_words.txt',\n",
    "         'path_to_onset_folder': f'/neurospin/unicog/protocols/IRMf/LePetitPrince_Pallier_2018/LePetitPrince/data/onsets-offsets/{language}',\n",
    "         'path_to_lexique_database': f'/neurospin/unicog/protocols/IRMf/LePetitPrince_Pallier_2018/LePetitPrince/data/text/{language}/lexique_database.tsv'}"
   ]
  },
  {
   "cell_type": "code",
   "execution_count": 67,
   "metadata": {},
   "outputs": [
    {
     "data": {
      "text/plain": [
       "['/neurospin/unicog/protocols/IRMf/LePetitPrince_Pallier_2018/LePetitPrince/data/stimuli-representations/english/rms']"
      ]
     },
     "execution_count": 67,
     "metadata": {},
     "output_type": "execute_result"
    }
   ],
   "source": [
    "saving_path_folders"
   ]
  },
  {
   "cell_type": "code",
   "execution_count": 68,
   "metadata": {
    "scrolled": true
   },
   "outputs": [
    {
     "name": "stderr",
     "output_type": "stream",
     "text": [
      "\r",
      "0it [00:00, ?it/s]"
     ]
    },
    {
     "name": "stdout",
     "output_type": "stream",
     "text": [
      "rms  - Extracting activations ...\n",
      "############# Run 0 #############\n"
     ]
    },
    {
     "name": "stderr",
     "output_type": "stream",
     "text": [
      "\r",
      "1it [00:03,  3.44s/it]"
     ]
    },
    {
     "name": "stdout",
     "output_type": "stream",
     "text": [
      "55470\n",
      "############# Run 1 #############\n"
     ]
    },
    {
     "name": "stderr",
     "output_type": "stream",
     "text": [
      "\r",
      "2it [00:06,  3.45s/it]"
     ]
    },
    {
     "name": "stdout",
     "output_type": "stream",
     "text": [
      "58780\n",
      "############# Run 2 #############\n"
     ]
    },
    {
     "name": "stderr",
     "output_type": "stream",
     "text": [
      "\r",
      "3it [00:10,  3.62s/it]"
     ]
    },
    {
     "name": "stdout",
     "output_type": "stream",
     "text": [
      "67140\n",
      "############# Run 3 #############\n"
     ]
    },
    {
     "name": "stderr",
     "output_type": "stream",
     "text": [
      "\r",
      "4it [00:14,  3.59s/it]"
     ]
    },
    {
     "name": "stdout",
     "output_type": "stream",
     "text": [
      "59820\n",
      "############# Run 4 #############\n"
     ]
    },
    {
     "name": "stderr",
     "output_type": "stream",
     "text": [
      "\r",
      "5it [00:17,  3.44s/it]"
     ]
    },
    {
     "name": "stdout",
     "output_type": "stream",
     "text": [
      "52220\n",
      "############# Run 5 #############\n"
     ]
    },
    {
     "name": "stderr",
     "output_type": "stream",
     "text": [
      "\r",
      "6it [00:21,  3.61s/it]"
     ]
    },
    {
     "name": "stdout",
     "output_type": "stream",
     "text": [
      "67810\n",
      "############# Run 6 #############\n"
     ]
    },
    {
     "name": "stderr",
     "output_type": "stream",
     "text": [
      "\r",
      "7it [00:25,  3.67s/it]"
     ]
    },
    {
     "name": "stdout",
     "output_type": "stream",
     "text": [
      "64200\n",
      "############# Run 7 #############\n"
     ]
    },
    {
     "name": "stderr",
     "output_type": "stream",
     "text": [
      "\r",
      "8it [00:28,  3.60s/it]"
     ]
    },
    {
     "name": "stdout",
     "output_type": "stream",
     "text": [
      "57580\n",
      "############# Run 8 #############\n"
     ]
    },
    {
     "name": "stderr",
     "output_type": "stream",
     "text": [
      "9it [00:33,  3.68s/it]"
     ]
    },
    {
     "name": "stdout",
     "output_type": "stream",
     "text": [
      "72710\n"
     ]
    },
    {
     "name": "stderr",
     "output_type": "stream",
     "text": [
      "\n"
     ]
    }
   ],
   "source": [
    "for index, function in enumerate(functions):\n",
    "    extractor = BasicFeaturesExtractor([function], language, **kwargs)\n",
    "    print(extractor.name, ' - Extracting activations ...')\n",
    "    for run_index, iterator in tqdm(enumerate(iterator_list)):\n",
    "        print(\"############# Run {} #############\".format(run_index))\n",
    "        check_folder(saving_path_folders[index])\n",
    "        activations  = extractor.extract_activations(iterator, rms_iterator_list[run_index])\n",
    "        \n",
    "        activations.to_csv(os.path.join(saving_path_folders[index], 'activations_run{}.csv'.format(run_index + 1)), index=False)\n",
    "        \n",
    "        "
   ]
  },
  {
   "cell_type": "code",
   "execution_count": 13,
   "metadata": {},
   "outputs": [
    {
     "data": {
      "text/html": [
       "<div>\n",
       "<style scoped>\n",
       "    .dataframe tbody tr th:only-of-type {\n",
       "        vertical-align: middle;\n",
       "    }\n",
       "\n",
       "    .dataframe tbody tr th {\n",
       "        vertical-align: top;\n",
       "    }\n",
       "\n",
       "    .dataframe thead th {\n",
       "        text-align: right;\n",
       "    }\n",
       "</style>\n",
       "<table border=\"1\" class=\"dataframe\">\n",
       "  <thead>\n",
       "    <tr style=\"text-align: right;\">\n",
       "      <th></th>\n",
       "      <th>embedding-1</th>\n",
       "      <th>embedding-2</th>\n",
       "      <th>embedding-3</th>\n",
       "      <th>embedding-4</th>\n",
       "      <th>embedding-5</th>\n",
       "      <th>embedding-6</th>\n",
       "      <th>embedding-7</th>\n",
       "      <th>embedding-8</th>\n",
       "      <th>embedding-9</th>\n",
       "      <th>embedding-10</th>\n",
       "      <th>...</th>\n",
       "      <th>embedding-291</th>\n",
       "      <th>embedding-292</th>\n",
       "      <th>embedding-293</th>\n",
       "      <th>embedding-294</th>\n",
       "      <th>embedding-295</th>\n",
       "      <th>embedding-296</th>\n",
       "      <th>embedding-297</th>\n",
       "      <th>embedding-298</th>\n",
       "      <th>embedding-299</th>\n",
       "      <th>embedding-300</th>\n",
       "    </tr>\n",
       "  </thead>\n",
       "  <tbody>\n",
       "    <tr>\n",
       "      <th>0</th>\n",
       "      <td>0.300710</td>\n",
       "      <td>-0.468670</td>\n",
       "      <td>-0.206170</td>\n",
       "      <td>-0.809780</td>\n",
       "      <td>-0.238890</td>\n",
       "      <td>0.243290</td>\n",
       "      <td>0.016538</td>\n",
       "      <td>-0.035687</td>\n",
       "      <td>-0.223060</td>\n",
       "      <td>0.95189</td>\n",
       "      <td>...</td>\n",
       "      <td>0.119920</td>\n",
       "      <td>0.146110</td>\n",
       "      <td>0.160340</td>\n",
       "      <td>0.072431</td>\n",
       "      <td>-0.43760</td>\n",
       "      <td>-0.259790</td>\n",
       "      <td>0.581580</td>\n",
       "      <td>0.49267</td>\n",
       "      <td>-0.112760</td>\n",
       "      <td>-0.277750</td>\n",
       "    </tr>\n",
       "    <tr>\n",
       "      <th>1</th>\n",
       "      <td>-0.255390</td>\n",
       "      <td>-0.257230</td>\n",
       "      <td>0.131690</td>\n",
       "      <td>-0.042688</td>\n",
       "      <td>0.218170</td>\n",
       "      <td>-0.022702</td>\n",
       "      <td>-0.178540</td>\n",
       "      <td>0.107560</td>\n",
       "      <td>0.058936</td>\n",
       "      <td>-1.38540</td>\n",
       "      <td>...</td>\n",
       "      <td>0.075968</td>\n",
       "      <td>-0.014359</td>\n",
       "      <td>-0.073794</td>\n",
       "      <td>0.221760</td>\n",
       "      <td>0.14652</td>\n",
       "      <td>0.566860</td>\n",
       "      <td>0.053307</td>\n",
       "      <td>-0.23290</td>\n",
       "      <td>-0.122260</td>\n",
       "      <td>0.354990</td>\n",
       "    </tr>\n",
       "    <tr>\n",
       "      <th>2</th>\n",
       "      <td>-0.141540</td>\n",
       "      <td>0.027303</td>\n",
       "      <td>0.135940</td>\n",
       "      <td>-0.120160</td>\n",
       "      <td>0.316880</td>\n",
       "      <td>-0.002833</td>\n",
       "      <td>0.049514</td>\n",
       "      <td>0.012035</td>\n",
       "      <td>0.050774</td>\n",
       "      <td>-1.78970</td>\n",
       "      <td>...</td>\n",
       "      <td>0.016749</td>\n",
       "      <td>-0.279860</td>\n",
       "      <td>0.091358</td>\n",
       "      <td>-0.116660</td>\n",
       "      <td>0.10341</td>\n",
       "      <td>0.231110</td>\n",
       "      <td>-0.089390</td>\n",
       "      <td>-0.40974</td>\n",
       "      <td>0.126680</td>\n",
       "      <td>0.114250</td>\n",
       "    </tr>\n",
       "    <tr>\n",
       "      <th>3</th>\n",
       "      <td>0.300710</td>\n",
       "      <td>-0.468670</td>\n",
       "      <td>-0.206170</td>\n",
       "      <td>-0.809780</td>\n",
       "      <td>-0.238890</td>\n",
       "      <td>0.243290</td>\n",
       "      <td>0.016538</td>\n",
       "      <td>-0.035687</td>\n",
       "      <td>-0.223060</td>\n",
       "      <td>0.95189</td>\n",
       "      <td>...</td>\n",
       "      <td>0.119920</td>\n",
       "      <td>0.146110</td>\n",
       "      <td>0.160340</td>\n",
       "      <td>0.072431</td>\n",
       "      <td>-0.43760</td>\n",
       "      <td>-0.259790</td>\n",
       "      <td>0.581580</td>\n",
       "      <td>0.49267</td>\n",
       "      <td>-0.112760</td>\n",
       "      <td>-0.277750</td>\n",
       "    </tr>\n",
       "    <tr>\n",
       "      <th>4</th>\n",
       "      <td>0.065573</td>\n",
       "      <td>0.022011</td>\n",
       "      <td>-0.131820</td>\n",
       "      <td>-0.213300</td>\n",
       "      <td>-0.045275</td>\n",
       "      <td>-0.095786</td>\n",
       "      <td>-0.197060</td>\n",
       "      <td>0.008206</td>\n",
       "      <td>-0.292850</td>\n",
       "      <td>-1.82300</td>\n",
       "      <td>...</td>\n",
       "      <td>0.345770</td>\n",
       "      <td>-0.229280</td>\n",
       "      <td>0.243410</td>\n",
       "      <td>0.336540</td>\n",
       "      <td>0.29751</td>\n",
       "      <td>0.446170</td>\n",
       "      <td>0.300770</td>\n",
       "      <td>-0.21916</td>\n",
       "      <td>-0.431860</td>\n",
       "      <td>-0.080348</td>\n",
       "    </tr>\n",
       "    <tr>\n",
       "      <th>...</th>\n",
       "      <td>...</td>\n",
       "      <td>...</td>\n",
       "      <td>...</td>\n",
       "      <td>...</td>\n",
       "      <td>...</td>\n",
       "      <td>...</td>\n",
       "      <td>...</td>\n",
       "      <td>...</td>\n",
       "      <td>...</td>\n",
       "      <td>...</td>\n",
       "      <td>...</td>\n",
       "      <td>...</td>\n",
       "      <td>...</td>\n",
       "      <td>...</td>\n",
       "      <td>...</td>\n",
       "      <td>...</td>\n",
       "      <td>...</td>\n",
       "      <td>...</td>\n",
       "      <td>...</td>\n",
       "      <td>...</td>\n",
       "      <td>...</td>\n",
       "    </tr>\n",
       "    <tr>\n",
       "      <th>1889</th>\n",
       "      <td>-0.210040</td>\n",
       "      <td>-0.395560</td>\n",
       "      <td>-0.460310</td>\n",
       "      <td>-0.122070</td>\n",
       "      <td>-0.882160</td>\n",
       "      <td>-0.355770</td>\n",
       "      <td>-0.029017</td>\n",
       "      <td>0.435330</td>\n",
       "      <td>-0.467000</td>\n",
       "      <td>-1.21150</td>\n",
       "      <td>...</td>\n",
       "      <td>-0.243670</td>\n",
       "      <td>-0.040827</td>\n",
       "      <td>-0.500400</td>\n",
       "      <td>-0.137830</td>\n",
       "      <td>-0.19901</td>\n",
       "      <td>0.016252</td>\n",
       "      <td>0.881520</td>\n",
       "      <td>-0.44566</td>\n",
       "      <td>0.693910</td>\n",
       "      <td>0.171590</td>\n",
       "    </tr>\n",
       "    <tr>\n",
       "      <th>1890</th>\n",
       "      <td>0.007368</td>\n",
       "      <td>0.062532</td>\n",
       "      <td>-0.097432</td>\n",
       "      <td>0.282890</td>\n",
       "      <td>0.179070</td>\n",
       "      <td>0.155630</td>\n",
       "      <td>-0.060022</td>\n",
       "      <td>-0.187060</td>\n",
       "      <td>0.252200</td>\n",
       "      <td>-1.43660</td>\n",
       "      <td>...</td>\n",
       "      <td>-0.150380</td>\n",
       "      <td>0.084015</td>\n",
       "      <td>-0.055967</td>\n",
       "      <td>-0.013686</td>\n",
       "      <td>0.19127</td>\n",
       "      <td>-0.425410</td>\n",
       "      <td>-0.138320</td>\n",
       "      <td>-0.32432</td>\n",
       "      <td>0.196110</td>\n",
       "      <td>0.293620</td>\n",
       "    </tr>\n",
       "    <tr>\n",
       "      <th>1891</th>\n",
       "      <td>-0.451630</td>\n",
       "      <td>0.127710</td>\n",
       "      <td>0.028132</td>\n",
       "      <td>0.008648</td>\n",
       "      <td>0.085709</td>\n",
       "      <td>0.051218</td>\n",
       "      <td>-0.068144</td>\n",
       "      <td>-0.155410</td>\n",
       "      <td>0.101610</td>\n",
       "      <td>-1.91470</td>\n",
       "      <td>...</td>\n",
       "      <td>-0.304990</td>\n",
       "      <td>0.179810</td>\n",
       "      <td>0.761070</td>\n",
       "      <td>0.141640</td>\n",
       "      <td>0.32768</td>\n",
       "      <td>0.136020</td>\n",
       "      <td>-0.016393</td>\n",
       "      <td>-0.54141</td>\n",
       "      <td>0.159790</td>\n",
       "      <td>-0.020832</td>\n",
       "    </tr>\n",
       "    <tr>\n",
       "      <th>1892</th>\n",
       "      <td>0.233640</td>\n",
       "      <td>-0.399180</td>\n",
       "      <td>-0.236820</td>\n",
       "      <td>-0.032494</td>\n",
       "      <td>-0.419840</td>\n",
       "      <td>0.409520</td>\n",
       "      <td>-0.452690</td>\n",
       "      <td>0.254970</td>\n",
       "      <td>0.110240</td>\n",
       "      <td>-1.77100</td>\n",
       "      <td>...</td>\n",
       "      <td>-0.072694</td>\n",
       "      <td>-0.302780</td>\n",
       "      <td>-0.271480</td>\n",
       "      <td>0.242300</td>\n",
       "      <td>0.33633</td>\n",
       "      <td>0.022533</td>\n",
       "      <td>0.129580</td>\n",
       "      <td>-0.43302</td>\n",
       "      <td>0.072295</td>\n",
       "      <td>0.440340</td>\n",
       "    </tr>\n",
       "    <tr>\n",
       "      <th>1893</th>\n",
       "      <td>0.085200</td>\n",
       "      <td>-0.126110</td>\n",
       "      <td>-0.178500</td>\n",
       "      <td>-0.145740</td>\n",
       "      <td>-0.282680</td>\n",
       "      <td>-0.131660</td>\n",
       "      <td>-0.382790</td>\n",
       "      <td>0.433400</td>\n",
       "      <td>-0.244230</td>\n",
       "      <td>-1.26830</td>\n",
       "      <td>...</td>\n",
       "      <td>-0.309990</td>\n",
       "      <td>-0.120540</td>\n",
       "      <td>-0.691990</td>\n",
       "      <td>-0.065745</td>\n",
       "      <td>0.40223</td>\n",
       "      <td>0.146920</td>\n",
       "      <td>0.108910</td>\n",
       "      <td>0.18073</td>\n",
       "      <td>-0.092319</td>\n",
       "      <td>0.200790</td>\n",
       "    </tr>\n",
       "  </tbody>\n",
       "</table>\n",
       "<p>1894 rows × 300 columns</p>\n",
       "</div>"
      ],
      "text/plain": [
       "      embedding-1  embedding-2  embedding-3  embedding-4  embedding-5  \\\n",
       "0        0.300710    -0.468670    -0.206170    -0.809780    -0.238890   \n",
       "1       -0.255390    -0.257230     0.131690    -0.042688     0.218170   \n",
       "2       -0.141540     0.027303     0.135940    -0.120160     0.316880   \n",
       "3        0.300710    -0.468670    -0.206170    -0.809780    -0.238890   \n",
       "4        0.065573     0.022011    -0.131820    -0.213300    -0.045275   \n",
       "...           ...          ...          ...          ...          ...   \n",
       "1889    -0.210040    -0.395560    -0.460310    -0.122070    -0.882160   \n",
       "1890     0.007368     0.062532    -0.097432     0.282890     0.179070   \n",
       "1891    -0.451630     0.127710     0.028132     0.008648     0.085709   \n",
       "1892     0.233640    -0.399180    -0.236820    -0.032494    -0.419840   \n",
       "1893     0.085200    -0.126110    -0.178500    -0.145740    -0.282680   \n",
       "\n",
       "      embedding-6  embedding-7  embedding-8  embedding-9  embedding-10  ...  \\\n",
       "0        0.243290     0.016538    -0.035687    -0.223060       0.95189  ...   \n",
       "1       -0.022702    -0.178540     0.107560     0.058936      -1.38540  ...   \n",
       "2       -0.002833     0.049514     0.012035     0.050774      -1.78970  ...   \n",
       "3        0.243290     0.016538    -0.035687    -0.223060       0.95189  ...   \n",
       "4       -0.095786    -0.197060     0.008206    -0.292850      -1.82300  ...   \n",
       "...           ...          ...          ...          ...           ...  ...   \n",
       "1889    -0.355770    -0.029017     0.435330    -0.467000      -1.21150  ...   \n",
       "1890     0.155630    -0.060022    -0.187060     0.252200      -1.43660  ...   \n",
       "1891     0.051218    -0.068144    -0.155410     0.101610      -1.91470  ...   \n",
       "1892     0.409520    -0.452690     0.254970     0.110240      -1.77100  ...   \n",
       "1893    -0.131660    -0.382790     0.433400    -0.244230      -1.26830  ...   \n",
       "\n",
       "      embedding-291  embedding-292  embedding-293  embedding-294  \\\n",
       "0          0.119920       0.146110       0.160340       0.072431   \n",
       "1          0.075968      -0.014359      -0.073794       0.221760   \n",
       "2          0.016749      -0.279860       0.091358      -0.116660   \n",
       "3          0.119920       0.146110       0.160340       0.072431   \n",
       "4          0.345770      -0.229280       0.243410       0.336540   \n",
       "...             ...            ...            ...            ...   \n",
       "1889      -0.243670      -0.040827      -0.500400      -0.137830   \n",
       "1890      -0.150380       0.084015      -0.055967      -0.013686   \n",
       "1891      -0.304990       0.179810       0.761070       0.141640   \n",
       "1892      -0.072694      -0.302780      -0.271480       0.242300   \n",
       "1893      -0.309990      -0.120540      -0.691990      -0.065745   \n",
       "\n",
       "      embedding-295  embedding-296  embedding-297  embedding-298  \\\n",
       "0          -0.43760      -0.259790       0.581580        0.49267   \n",
       "1           0.14652       0.566860       0.053307       -0.23290   \n",
       "2           0.10341       0.231110      -0.089390       -0.40974   \n",
       "3          -0.43760      -0.259790       0.581580        0.49267   \n",
       "4           0.29751       0.446170       0.300770       -0.21916   \n",
       "...             ...            ...            ...            ...   \n",
       "1889       -0.19901       0.016252       0.881520       -0.44566   \n",
       "1890        0.19127      -0.425410      -0.138320       -0.32432   \n",
       "1891        0.32768       0.136020      -0.016393       -0.54141   \n",
       "1892        0.33633       0.022533       0.129580       -0.43302   \n",
       "1893        0.40223       0.146920       0.108910        0.18073   \n",
       "\n",
       "      embedding-299  embedding-300  \n",
       "0         -0.112760      -0.277750  \n",
       "1         -0.122260       0.354990  \n",
       "2          0.126680       0.114250  \n",
       "3         -0.112760      -0.277750  \n",
       "4         -0.431860      -0.080348  \n",
       "...             ...            ...  \n",
       "1889       0.693910       0.171590  \n",
       "1890       0.196110       0.293620  \n",
       "1891       0.159790      -0.020832  \n",
       "1892       0.072295       0.440340  \n",
       "1893      -0.092319       0.200790  \n",
       "\n",
       "[1894 rows x 300 columns]"
      ]
     },
     "execution_count": 13,
     "metadata": {},
     "output_type": "execute_result"
    }
   ],
   "source": [
    "activations"
   ]
  },
  {
   "cell_type": "code",
   "execution_count": 13,
   "metadata": {},
   "outputs": [],
   "source": [
    "database = pd.read_csv(kwargs['path_to_lexique_database'], delimiter='\\t')"
   ]
  },
  {
   "cell_type": "code",
   "execution_count": 22,
   "metadata": {},
   "outputs": [],
   "source": [
    "from utils import sentence_to_words"
   ]
  },
  {
   "cell_type": "code",
   "execution_count": null,
   "metadata": {},
   "outputs": [],
   "source": []
  }
 ],
 "metadata": {
  "kernelspec": {
   "display_name": "Python 3",
   "language": "python",
   "name": "python3"
  },
  "language_info": {
   "codemirror_mode": {
    "name": "ipython",
    "version": 3
   },
   "file_extension": ".py",
   "mimetype": "text/x-python",
   "name": "python",
   "nbconvert_exporter": "python",
   "pygments_lexer": "ipython3",
   "version": "3.8.3"
  }
 },
 "nbformat": 4,
 "nbformat_minor": 4
}
