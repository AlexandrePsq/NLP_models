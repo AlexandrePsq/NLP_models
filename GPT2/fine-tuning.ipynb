{
 "cells": [
  {
   "cell_type": "code",
   "execution_count": 1,
   "metadata": {},
   "outputs": [],
   "source": [
    "import os\n",
    "import wget\n",
    "import time\n",
    "import yaml\n",
    "import glob\n",
    "import torch\n",
    "import random\n",
    "import inspect\n",
    "import logging\n",
    "import datetime\n",
    "import argparse\n",
    "import numpy as np\n",
    "import pandas as pd\n",
    "import seaborn as sns\n",
    "import matplotlib.pyplot as plt\n",
    "\n",
    "from transformers import AdamW, GPT2Config, get_linear_schedule_with_warmup\n",
    "from transformers import GPT2Tokenizer, GPT2Model, GPT2LMHeadModel, WEIGHTS_NAME, CONFIG_NAME\n",
    "\n",
    "from language_modeling import LMDataset, LMProcessor\n",
    "from utils import read_yaml, set_seed, format_time, filter_args, get_device, save, check_folder, save_yaml\n",
    "from processors import DataProcessor, ModelProcessor\n",
    "from reporting import Report\n",
    "from dataset import Dataset"
   ]
  },
  {
   "cell_type": "code",
   "execution_count": 2,
   "metadata": {},
   "outputs": [],
   "source": [
    "yaml_file = 'fine_tuning_template.yml'"
   ]
  },
  {
   "cell_type": "code",
   "execution_count": 3,
   "metadata": {},
   "outputs": [],
   "source": [
    "parameters = read_yaml(yaml_file)\n",
    "check_folder(parameters['output_dir'])\n",
    "save_yaml(parameters, os.path.join(parameters['output_dir'], 'config.yml'))\n",
    "logging.basicConfig(filename=os.path.join(parameters['output_dir'], parameters['log_file']), filemode='w+', level=logging.INFO)\n",
    "logging.info(\"Parameters fetched.\")\n"
   ]
  },
  {
   "cell_type": "code",
   "execution_count": 4,
   "metadata": {},
   "outputs": [
    {
     "name": "stdout",
     "output_type": "stream",
     "text": [
      "There are 0 GPU(s) available.\n",
      "No GPU available, using the CPU instead.\n"
     ]
    }
   ],
   "source": [
    "logging.info(\"Setting seed for reproductibility...\") \n",
    "set_seed(parameters['seed'])\n",
    "logging.info(\"\\tDone.\")\n",
    "\n",
    "logging.info(\"Set and retrieve the device on which to run...\")\n",
    "device = get_device()\n",
    "task = parameters['task'].lower()\n",
    "logging.info(\"\\tDone.\")\n"
   ]
  },
  {
   "cell_type": "code",
   "execution_count": 5,
   "metadata": {},
   "outputs": [],
   "source": [
    "logging.info(\"Instanciating dataset and data processor...\")\n",
    "if task in ['language_modeling']:\n",
    "    data = LMDataset(task, parameters['dataset_name'].lower(), dataset_dir=parameters['dataset_dir'])\n",
    "    processor = LMProcessor()\n",
    "logging.info(\"\\tDone.\")\n",
    "\n"
   ]
  },
  {
   "cell_type": "code",
   "execution_count": 6,
   "metadata": {},
   "outputs": [
    {
     "name": "stderr",
     "output_type": "stream",
     "text": [
      "100%|██████████| 135/135 [00:00<00:00, 207107.18it/s]\n",
      "100%|██████████| 135/135 [00:00<00:00, 214238.00it/s]\n",
      "100%|██████████| 176/176 [00:00<00:00, 304285.86it/s]\n",
      "100%|██████████| 173/173 [00:00<00:00, 301585.45it/s]\n",
      "100%|██████████| 177/177 [00:00<00:00, 232651.77it/s]\n",
      "100%|██████████| 216/216 [00:00<00:00, 300587.15it/s]\n",
      "100%|██████████| 196/196 [00:00<00:00, 321377.48it/s]\n",
      "100%|██████████| 145/145 [00:00<00:00, 222367.12it/s]\n",
      "100%|██████████| 207/207 [00:00<00:00, 279350.36it/s]\n",
      "100%|██████████| 135/135 [00:00<00:00, 222400.25it/s]\n",
      "100%|██████████| 135/135 [00:00<00:00, 239928.41it/s]\n",
      "100%|██████████| 176/176 [00:00<00:00, 228120.37it/s]\n",
      "100%|██████████| 173/173 [00:00<00:00, 266574.06it/s]\n",
      "100%|██████████| 177/177 [00:00<00:00, 328056.48it/s]\n",
      "100%|██████████| 216/216 [00:00<00:00, 304732.48it/s]\n",
      "100%|██████████| 196/196 [00:00<00:00, 260235.39it/s]\n",
      "100%|██████████| 145/145 [00:00<00:00, 237660.84it/s]\n",
      "100%|██████████| 207/207 [00:00<00:00, 299489.80it/s]"
     ]
    },
    {
     "name": "stdout",
     "output_type": "stream",
     "text": [
      "Tokenizing...\n",
      "Preprocessing...\n",
      "Preprocessed.\n",
      "Tokenized.\n",
      "Tokenizing...\n",
      "Preprocessing...\n",
      "Preprocessed.\n",
      "Tokenized.\n",
      "Tokenizing...\n",
      "Preprocessing...\n",
      "Preprocessed.\n",
      "Tokenized.\n",
      "Tokenizing...\n",
      "Preprocessing...\n",
      "Preprocessed.\n",
      "Tokenized.\n",
      "Tokenizing...\n",
      "Preprocessing...\n",
      "Preprocessed.\n",
      "Tokenized.\n",
      "Tokenizing...\n",
      "Preprocessing...\n",
      "Preprocessed.\n",
      "Tokenized.\n",
      "Tokenizing...\n",
      "Preprocessing...\n",
      "Preprocessed.\n",
      "Tokenized.\n",
      "Tokenizing...\n",
      "Preprocessing...\n",
      "Preprocessed.\n",
      "Tokenized.\n",
      "Tokenizing...\n",
      "Preprocessing...\n",
      "Preprocessed.\n",
      "Tokenized.\n",
      "Tokenizing...\n",
      "Preprocessing...\n",
      "Preprocessed.\n",
      "Tokenized.\n",
      "Tokenizing...\n",
      "Preprocessing...\n",
      "Preprocessed.\n",
      "Tokenized.\n",
      "Tokenizing...\n",
      "Preprocessing...\n",
      "Preprocessed.\n",
      "Tokenized.\n",
      "Tokenizing...\n",
      "Preprocessing...\n",
      "Preprocessed.\n",
      "Tokenized.\n",
      "Tokenizing...\n",
      "Preprocessing...\n",
      "Preprocessed.\n",
      "Tokenized.\n",
      "Tokenizing...\n",
      "Preprocessing...\n",
      "Preprocessed.\n",
      "Tokenized.\n",
      "Tokenizing...\n",
      "Preprocessing...\n",
      "Preprocessed.\n",
      "Tokenized.\n",
      "Tokenizing...\n",
      "Preprocessing...\n",
      "Preprocessed.\n",
      "Tokenized.\n",
      "Tokenizing...\n",
      "Preprocessing...\n",
      "Preprocessed.\n",
      "Tokenized.\n"
     ]
    },
    {
     "name": "stderr",
     "output_type": "stream",
     "text": [
      "\n",
      "100%|██████████| 135/135 [00:00<00:00, 154370.51it/s]\n",
      "100%|██████████| 135/135 [00:00<00:00, 253460.63it/s]\n",
      "100%|██████████| 176/176 [00:00<00:00, 293284.67it/s]\n",
      "100%|██████████| 173/173 [00:00<00:00, 312226.59it/s]\n",
      "100%|██████████| 177/177 [00:00<00:00, 281102.54it/s]"
     ]
    },
    {
     "name": "stdout",
     "output_type": "stream",
     "text": [
      "Tokenizing...\n",
      "Preprocessing...\n",
      "Preprocessed.\n",
      "Tokenized.\n",
      "Tokenizing...\n",
      "Preprocessing...\n",
      "Preprocessed.\n",
      "Tokenized.\n",
      "Tokenizing...\n",
      "Preprocessing...\n",
      "Preprocessed.\n",
      "Tokenized.\n",
      "Tokenizing...\n",
      "Preprocessing...\n",
      "Preprocessed.\n",
      "Tokenized.\n",
      "Tokenizing...\n",
      "Preprocessing...\n",
      "Preprocessed.\n",
      "Tokenized.\n",
      "Tokenizing...\n",
      "Preprocessing...\n",
      "Preprocessed."
     ]
    },
    {
     "name": "stderr",
     "output_type": "stream",
     "text": [
      "\n",
      "100%|██████████| 216/216 [00:00<00:00, 342133.56it/s]\n",
      "100%|██████████| 196/196 [00:00<00:00, 345123.25it/s]\n",
      "100%|██████████| 145/145 [00:00<00:00, 308561.18it/s]\n",
      "100%|██████████| 207/207 [00:00<00:00, 342358.41it/s]"
     ]
    },
    {
     "name": "stdout",
     "output_type": "stream",
     "text": [
      "\n",
      "Tokenized.\n",
      "Tokenizing...\n",
      "Preprocessing...\n",
      "Preprocessed.\n",
      "Tokenized.\n",
      "Tokenizing...\n",
      "Preprocessing...\n",
      "Preprocessed.\n",
      "Tokenized.\n",
      "Tokenizing...\n",
      "Preprocessing...\n",
      "Preprocessed.\n",
      "Tokenized.\n"
     ]
    },
    {
     "name": "stderr",
     "output_type": "stream",
     "text": [
      "\n"
     ]
    }
   ],
   "source": [
    "logging.info(\"Fetching data (training + validation) and parameters...\")\n",
    "data._fetch_dataset()\n",
    "for set_type in ['train', 'dev']:\n",
    "    data.process_dataset(set_type)\n",
    "if parameters['do_test']:\n",
    "    data.process_dataset('test')\n",
    "logging.info(\"\\tDone.\")\n",
    "\n",
    "logging.info(\"Fetching pre-trained GPT-2 model: {} and Tokenizer: {} for the task: {}...\".format(parameters['pretrained_model'],\n",
    "                                                                                                parameters['pretrained_tokenizer'],\n",
    "                                                                                                parameters['task']))\n"
   ]
  },
  {
   "cell_type": "code",
   "execution_count": 7,
   "metadata": {},
   "outputs": [],
   "source": [
    "if task in ['language_modeling']:\n",
    "    model = GPT2LMHeadModel.from_pretrained(\n",
    "                parameters['pretrained_model'],\n",
    "                output_attentions=parameters['output_attentions'], # Whether the model returns attentions weights.\n",
    "                output_hidden_states=parameters['output_hidden_states'], # Whether the model returns all hidden-states.\n",
    "    )\n",
    "tokenizer = GPT2Tokenizer.from_pretrained(parameters['pretrained_tokenizer'])\n",
    "model.to(device)\n",
    "logging.info(\"\\tDone.\")\n",
    "\n"
   ]
  },
  {
   "cell_type": "code",
   "execution_count": 8,
   "metadata": {},
   "outputs": [],
   "source": [
    "logging.info(\"Get input examples...\")\n",
    "train_examples = processor.get_train_examples(data)\n",
    "dev_examples = processor.get_dev_examples(data)\n",
    "if parameters['do_test']:\n",
    "    test_examples = processor.get_test_examples(data)\n",
    "logging.info(\"\\tDone.\")\n",
    "\n"
   ]
  },
  {
   "cell_type": "code",
   "execution_count": 9,
   "metadata": {},
   "outputs": [
    {
     "data": {
      "text/plain": [
       "64"
      ]
     },
     "execution_count": 9,
     "metadata": {},
     "output_type": "execute_result"
    }
   ],
   "source": [
    " parameters['max_length']"
   ]
  },
  {
   "cell_type": "code",
   "execution_count": 10,
   "metadata": {},
   "outputs": [
    {
     "name": "stderr",
     "output_type": "stream",
     "text": [
      "100%|██████████| 1560/1560 [00:11<00:00, 131.58it/s]\n",
      "100%|██████████| 1560/1560 [00:07<00:00, 207.12it/s]\n",
      "100%|██████████| 1560/1560 [00:07<00:00, 217.19it/s]\n"
     ]
    }
   ],
   "source": [
    "logging.info(\"Get input features...\")\n",
    "train_features = processor.convert_examples_to_features(train_examples, parameters['max_length'], tokenizer) \n",
    "dev_features = processor.convert_examples_to_features(dev_examples, parameters['max_length'], tokenizer)\n",
    "if parameters['do_test']:\n",
    "    test_features = processor.convert_examples_to_features(test_examples, parameters['max_length'], tokenizer) \n",
    "logging.info(\"\\tDone.\")\n",
    "    \n"
   ]
  },
  {
   "cell_type": "code",
   "execution_count": 11,
   "metadata": {},
   "outputs": [],
   "source": [
    "logging.info(\"Creating data loaders...\")\n",
    "train_dataloader = processor.get_data_loader(train_features, \n",
    "                                                batch_size=parameters['batch_size'], \n",
    "                                                local_rank=parameters['local_rank'], \n",
    "                                                set_type='train')\n",
    "dev_dataloader = processor.get_data_loader(dev_features, \n",
    "                                            batch_size=parameters['batch_size'], \n",
    "                                            local_rank=parameters['local_rank'], \n",
    "                                            set_type='dev')\n",
    "if parameters['do_test']:\n",
    "    test_dataloader = processor.get_data_loader(test_features, \n",
    "                                                batch_size=parameters['batch_size'], \n",
    "                                                local_rank=parameters['local_rank'], \n",
    "                                                set_type='test')\n",
    "logging.info(\"\\tDone.\")\n",
    "\n"
   ]
  },
  {
   "cell_type": "code",
   "execution_count": 12,
   "metadata": {},
   "outputs": [],
   "source": [
    "logging.info(\"Creating optimizer and learning rate scheduler...\")\n",
    "optimizer = AdamW(\n",
    "                model.parameters(),\n",
    "                lr=float(parameters['learning_rate']),\n",
    "                eps=float(parameters['adam_epsilon'])\n",
    "            )\n",
    "total_steps = len(train_dataloader) * parameters['nb_epochs'] # Total number of training steps is [nb batches] x [nb epochs]. \n",
    "scheduler = get_linear_schedule_with_warmup(\n",
    "                optimizer, \n",
    "                num_warmup_steps=parameters['num_warmup_steps'],\n",
    "                num_training_steps=total_steps\n",
    "            )\n",
    "logging.info(\"\\tDone.\")\n",
    "\n",
    "logging.info(\"Fine-tuning the model.\")\n",
    "model_processor = ModelProcessor(model, optimizer, tokenizer, \n",
    "                                    scheduler, device, \n",
    "                                    parameters['metric_name'], \n",
    "                                    parameters['nb_epochs'],\n",
    "                                    parameters['use_output_mask'])\n"
   ]
  },
  {
   "cell_type": "code",
   "execution_count": 13,
   "metadata": {},
   "outputs": [
    {
     "data": {
      "text/plain": [
       "49"
      ]
     },
     "execution_count": 13,
     "metadata": {},
     "output_type": "execute_result"
    }
   ],
   "source": [
    "len(train_dataloader)"
   ]
  },
  {
   "cell_type": "code",
   "execution_count": 14,
   "metadata": {},
   "outputs": [
    {
     "name": "stderr",
     "output_type": "stream",
     "text": [
      "\r",
      "0it [00:00, ?it/s]"
     ]
    },
    {
     "name": "stdout",
     "output_type": "stream",
     "text": [
      "\n",
      "======== Epoch 1 / 3 ========\n",
      "Training...\n"
     ]
    },
    {
     "name": "stderr",
     "output_type": "stream",
     "text": [
      "/pytorch/torch/csrc/utils/python_arg_parser.cpp:756: UserWarning: This overload of add_ is deprecated:\n",
      "\tadd_(Number alpha, Tensor other)\n",
      "Consider using one of the following signatures instead:\n",
      "\tadd_(Tensor other, *, Number alpha)\n",
      "6it [00:34,  5.76s/it]"
     ]
    },
    {
     "name": "stdout",
     "output_type": "stream",
     "text": [
      "Saving model to ./LM_LPP_GPT2/checkpoint_1\n"
     ]
    },
    {
     "name": "stderr",
     "output_type": "stream",
     "text": [
      "12it [01:14,  6.03s/it]"
     ]
    },
    {
     "name": "stdout",
     "output_type": "stream",
     "text": [
      "Saving model to ./LM_LPP_GPT2/checkpoint_2\n"
     ]
    },
    {
     "name": "stderr",
     "output_type": "stream",
     "text": [
      "18it [01:53,  5.83s/it]"
     ]
    },
    {
     "name": "stdout",
     "output_type": "stream",
     "text": [
      "Saving model to ./LM_LPP_GPT2/checkpoint_3\n"
     ]
    },
    {
     "name": "stderr",
     "output_type": "stream",
     "text": [
      "24it [02:30,  5.58s/it]"
     ]
    },
    {
     "name": "stdout",
     "output_type": "stream",
     "text": [
      "Saving model to ./LM_LPP_GPT2/checkpoint_4\n"
     ]
    },
    {
     "name": "stderr",
     "output_type": "stream",
     "text": [
      "30it [03:06,  5.56s/it]"
     ]
    },
    {
     "name": "stdout",
     "output_type": "stream",
     "text": [
      "Saving model to ./LM_LPP_GPT2/checkpoint_5\n"
     ]
    },
    {
     "name": "stderr",
     "output_type": "stream",
     "text": [
      "36it [03:40,  5.07s/it]"
     ]
    },
    {
     "name": "stdout",
     "output_type": "stream",
     "text": [
      "Saving model to ./LM_LPP_GPT2/checkpoint_6\n"
     ]
    },
    {
     "name": "stderr",
     "output_type": "stream",
     "text": [
      "42it [04:15,  5.34s/it]"
     ]
    },
    {
     "name": "stdout",
     "output_type": "stream",
     "text": [
      "Saving model to ./LM_LPP_GPT2/checkpoint_7\n"
     ]
    },
    {
     "name": "stderr",
     "output_type": "stream",
     "text": [
      "48it [04:50,  5.16s/it]"
     ]
    },
    {
     "name": "stdout",
     "output_type": "stream",
     "text": [
      "Saving model to ./LM_LPP_GPT2/checkpoint_8\n"
     ]
    },
    {
     "name": "stderr",
     "output_type": "stream",
     "text": [
      "49it [05:00,  6.13s/it]\n"
     ]
    },
    {
     "name": "stdout",
     "output_type": "stream",
     "text": [
      "\n",
      "  Average training loss: 4.64\n",
      "  Training epcoh took: 0:05:01\n",
      "Running Validation...\n"
     ]
    },
    {
     "name": "stderr",
     "output_type": "stream",
     "text": [
      "\r",
      "0it [00:00, ?it/s]"
     ]
    },
    {
     "name": "stdout",
     "output_type": "stream",
     "text": [
      "  Accuracy: 0.00\n",
      "  Validation Loss: 6.74\n",
      "  Validation took: 0:01:18\n",
      "\n",
      "======== Epoch 2 / 3 ========\n",
      "Training...\n"
     ]
    },
    {
     "name": "stderr",
     "output_type": "stream",
     "text": [
      "6it [00:35,  5.62s/it]"
     ]
    },
    {
     "name": "stdout",
     "output_type": "stream",
     "text": [
      "Saving model to ./LM_LPP_GPT2/checkpoint_9\n"
     ]
    },
    {
     "name": "stderr",
     "output_type": "stream",
     "text": [
      "12it [01:11,  5.45s/it]"
     ]
    },
    {
     "name": "stdout",
     "output_type": "stream",
     "text": [
      "Saving model to ./LM_LPP_GPT2/checkpoint_10\n"
     ]
    },
    {
     "name": "stderr",
     "output_type": "stream",
     "text": [
      "18it [01:47,  5.30s/it]"
     ]
    },
    {
     "name": "stdout",
     "output_type": "stream",
     "text": [
      "Saving model to ./LM_LPP_GPT2/checkpoint_11\n"
     ]
    },
    {
     "name": "stderr",
     "output_type": "stream",
     "text": [
      "24it [02:22,  5.32s/it]"
     ]
    },
    {
     "name": "stdout",
     "output_type": "stream",
     "text": [
      "Saving model to ./LM_LPP_GPT2/checkpoint_12\n"
     ]
    },
    {
     "name": "stderr",
     "output_type": "stream",
     "text": [
      "30it [02:59,  5.46s/it]"
     ]
    },
    {
     "name": "stdout",
     "output_type": "stream",
     "text": [
      "Saving model to ./LM_LPP_GPT2/checkpoint_13\n"
     ]
    },
    {
     "name": "stderr",
     "output_type": "stream",
     "text": [
      "36it [03:34,  5.23s/it]"
     ]
    },
    {
     "name": "stdout",
     "output_type": "stream",
     "text": [
      "Saving model to ./LM_LPP_GPT2/checkpoint_14\n"
     ]
    },
    {
     "name": "stderr",
     "output_type": "stream",
     "text": [
      "42it [04:12,  5.68s/it]"
     ]
    },
    {
     "name": "stdout",
     "output_type": "stream",
     "text": [
      "Saving model to ./LM_LPP_GPT2/checkpoint_15\n"
     ]
    },
    {
     "name": "stderr",
     "output_type": "stream",
     "text": [
      "48it [04:52,  6.19s/it]"
     ]
    },
    {
     "name": "stdout",
     "output_type": "stream",
     "text": [
      "Saving model to ./LM_LPP_GPT2/checkpoint_16\n"
     ]
    },
    {
     "name": "stderr",
     "output_type": "stream",
     "text": [
      "49it [05:02,  6.18s/it]\n"
     ]
    },
    {
     "name": "stdout",
     "output_type": "stream",
     "text": [
      "\n",
      "  Average training loss: 3.43\n",
      "  Training epcoh took: 0:05:03\n",
      "Running Validation...\n"
     ]
    },
    {
     "name": "stderr",
     "output_type": "stream",
     "text": [
      "\r",
      "0it [00:00, ?it/s]"
     ]
    },
    {
     "name": "stdout",
     "output_type": "stream",
     "text": [
      "  Accuracy: 0.00\n",
      "  Validation Loss: 6.16\n",
      "  Validation took: 0:01:19\n",
      "\n",
      "======== Epoch 3 / 3 ========\n",
      "Training...\n"
     ]
    },
    {
     "name": "stderr",
     "output_type": "stream",
     "text": [
      "6it [00:30,  5.11s/it]"
     ]
    },
    {
     "name": "stdout",
     "output_type": "stream",
     "text": [
      "Saving model to ./LM_LPP_GPT2/checkpoint_17\n"
     ]
    },
    {
     "name": "stderr",
     "output_type": "stream",
     "text": [
      "12it [01:05,  5.14s/it]"
     ]
    },
    {
     "name": "stdout",
     "output_type": "stream",
     "text": [
      "Saving model to ./LM_LPP_GPT2/checkpoint_18\n"
     ]
    },
    {
     "name": "stderr",
     "output_type": "stream",
     "text": [
      "18it [01:40,  5.27s/it]"
     ]
    },
    {
     "name": "stdout",
     "output_type": "stream",
     "text": [
      "Saving model to ./LM_LPP_GPT2/checkpoint_19\n"
     ]
    },
    {
     "name": "stderr",
     "output_type": "stream",
     "text": [
      "24it [02:17,  5.44s/it]"
     ]
    },
    {
     "name": "stdout",
     "output_type": "stream",
     "text": [
      "Saving model to ./LM_LPP_GPT2/checkpoint_20\n"
     ]
    },
    {
     "name": "stderr",
     "output_type": "stream",
     "text": [
      "30it [02:53,  5.48s/it]"
     ]
    },
    {
     "name": "stdout",
     "output_type": "stream",
     "text": [
      "Saving model to ./LM_LPP_GPT2/checkpoint_21\n"
     ]
    },
    {
     "name": "stderr",
     "output_type": "stream",
     "text": [
      "36it [03:34,  6.36s/it]"
     ]
    },
    {
     "name": "stdout",
     "output_type": "stream",
     "text": [
      "Saving model to ./LM_LPP_GPT2/checkpoint_22\n"
     ]
    },
    {
     "name": "stderr",
     "output_type": "stream",
     "text": [
      "42it [04:15,  5.96s/it]"
     ]
    },
    {
     "name": "stdout",
     "output_type": "stream",
     "text": [
      "Saving model to ./LM_LPP_GPT2/checkpoint_23\n"
     ]
    },
    {
     "name": "stderr",
     "output_type": "stream",
     "text": [
      "48it [04:51,  5.45s/it]"
     ]
    },
    {
     "name": "stdout",
     "output_type": "stream",
     "text": [
      "Saving model to ./LM_LPP_GPT2/checkpoint_24\n"
     ]
    },
    {
     "name": "stderr",
     "output_type": "stream",
     "text": [
      "49it [05:01,  6.15s/it]\n"
     ]
    },
    {
     "name": "stdout",
     "output_type": "stream",
     "text": [
      "\n",
      "  Average training loss: 3.25\n",
      "  Training epcoh took: 0:05:02\n",
      "Running Validation...\n",
      "  Accuracy: 0.00\n",
      "  Validation Loss: 6.04\n",
      "  Validation took: 0:01:14\n",
      "\n",
      "Training complete!\n",
      "Total training took 0:18:56 (h:mm:ss)\n"
     ]
    }
   ],
   "source": [
    "training_stats = model_processor.train(train_dataloader, dev_dataloader, parameters['output_dir'])\n"
   ]
  },
  {
   "cell_type": "code",
   "execution_count": 17,
   "metadata": {},
   "outputs": [
    {
     "name": "stdout",
     "output_type": "stream",
     "text": [
      "Running Validation...\n",
      "  Accuracy: 0.00\n",
      "  Validation Loss: 6.04\n",
      "  Validation took: 0:01:14\n",
      "Saving model to ./LM_LPP_GPT2/fine_tuned\n"
     ]
    },
    {
     "data": {
      "image/png": "[encoded data removed]",
      "text/plain": [
       "<Figure size 864x432 with 1 Axes>"
      ]
     },
     "metadata": {},
     "output_type": "display_data"
    }
   ],
   "source": [
    "logging.info(\"Validation reports: \")\n",
    "#for stat in training_stats:\n",
    "#    logging.info(stat['report'])\n",
    "test_accuracy, test_loss = None, None\n",
    "if parameters['do_test']:\n",
    "    logging.info(\"Evaluation report: \")\n",
    "    test_accuracy, test_loss, test_time = model_processor.evaluate(test_dataloader) \n",
    "    #logging.info(report)\n",
    "logging.info(\"\\tDone.\")\n",
    "\n",
    "logging.info(\"Saving fine-tuned model to {}...\".format(os.path.join(parameters['output_dir'], 'fine_tuned')))\n",
    "save(model, tokenizer, parameters['output_dir'], 'fine_tuned')\n",
    "logging.info(\"\\tDone.\")\n",
    "\n",
    "logging.info(\"Plotting training and validation losses...\")\n",
    "Report.plots_train_val_loss(training_stats, parameters['nb_epochs'], \n",
    "                            os.path.join(parameters['output_dir'], 'train_val_loss.png'), \n",
    "                            test_accuracy=test_accuracy, test_loss=test_loss)\n",
    "logging.info(\"\\tDone.\")"
   ]
  },
  {
   "cell_type": "code",
   "execution_count": null,
   "metadata": {},
   "outputs": [],
   "source": []
  },
  {
   "cell_type": "code",
   "execution_count": null,
   "metadata": {},
   "outputs": [],
   "source": []
  },
  {
   "cell_type": "code",
   "execution_count": null,
   "metadata": {},
   "outputs": [],
   "source": []
  }
 ],
 "metadata": {
  "kernelspec": {
   "display_name": "Python 3",
   "language": "python",
   "name": "python3"
  },
  "language_info": {
   "codemirror_mode": {
    "name": "ipython",
    "version": 3
   },
   "file_extension": ".py",
   "mimetype": "text/x-python",
   "name": "python",
   "nbconvert_exporter": "python",
   "pygments_lexer": "ipython3",
   "version": "3.7.6"
  }
 },
 "nbformat": 4,
 "nbformat_minor": 4
}
