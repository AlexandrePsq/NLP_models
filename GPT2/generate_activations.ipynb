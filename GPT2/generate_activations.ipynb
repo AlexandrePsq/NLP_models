{
 "cells": [
  {
   "cell_type": "markdown",
   "metadata": {},
   "source": [
    "# Notebook to extract hidden-states and attention heads activations from gpt2 model predictions"
   ]
  },
  {
   "cell_type": "code",
   "execution_count": 1,
   "metadata": {},
   "outputs": [],
   "source": [
    "import os\n",
    "import glob\n",
    "import torch\n",
    "import gc\n",
    "import numpy as np\n",
    "import pandas as pd\n",
    "from tqdm import tqdm\n",
    "from model import GPT2Extractor\n",
    "from sklearn.preprocessing import StandardScaler\n",
    "from tokenizer import tokenize\n",
    "from utils import set_seed\n",
    "from numpy import linalg as la\n",
    "import matplotlib.pyplot as plt"
   ]
  },
  {
   "cell_type": "markdown",
   "metadata": {},
   "source": [
    " "
   ]
  },
  {
   "cell_type": "code",
   "execution_count": 2,
   "metadata": {},
   "outputs": [],
   "source": [
    "def check_folder(path):\n",
    "    \"\"\"Create adequate folders if necessary.\"\"\"\n",
    "    try:\n",
    "        if not os.path.isdir(path):\n",
    "            check_folder(os.path.dirname(path))\n",
    "            os.mkdir(path)\n",
    "    except:\n",
    "        pass"
   ]
  },
  {
   "cell_type": "code",
   "execution_count": 3,
   "metadata": {},
   "outputs": [],
   "source": [
    "def transform(activations, path, name, run_index, n_layers_hidden=13, n_layers_attention=12, hidden_size=768):\n",
    "    assert activations.values.shape[1] == (n_layers_hidden + n_layers_attention) * hidden_size\n",
    "    indexes = [[index*hidden_size, (index+1)*hidden_size] for index in range(n_layers_hidden + n_layers_attention)]\n",
    "    for order in [2]: # np.inf\n",
    "        matrices = []\n",
    "        for i, index in enumerate(indexes):\n",
    "            matrix = activations.values[:, index[0]:index[1]]\n",
    "            #with_std = True if order=='std' else False\n",
    "            #scaler = StandardScaler(with_mean=True, with_std=with_std)\n",
    "            #scaler.fit(matrix)\n",
    "            #matrix = scaler.transform(matrix)\n",
    "            if order is not None and order != 'std':\n",
    "                matrix = matrix / np.mean(la.norm(matrix, ord=order, axis=1))\n",
    "            matrices.append(matrix)\n",
    "        matrices = np.hstack(matrices)\n",
    "        new_data = pd.DataFrame(matrices, columns=activations.columns)\n",
    "        new_path = path + '_norm-' + str(order).replace('np.', '')\n",
    "        check_folder(new_path)\n",
    "        new_data.to_csv(os.path.join(new_path, name + '_run{}.csv'.format(run_index + 1)), index=False)\n"
   ]
  },
  {
   "cell_type": "markdown",
   "metadata": {},
   "source": [
    "Defining variables:"
   ]
  },
  {
   "cell_type": "code",
   "execution_count": 4,
   "metadata": {},
   "outputs": [],
   "source": [
    "template = '/neurospin/unicog/protocols/IRMf/LePetitPrince_Pallier_2018/LePetitPrince/data/text/english/text_english_run*.txt' # path to text input\n",
    "language = 'english'"
   ]
  },
  {
   "cell_type": "markdown",
   "metadata": {},
   "source": [
    "Creating iterator for each run:"
   ]
  },
  {
   "cell_type": "code",
   "execution_count": 5,
   "metadata": {},
   "outputs": [],
   "source": [
    "#template = '/Users/alexpsq/Code/Parietal/data/text_english_run*.txt' # path to text input\n"
   ]
  },
  {
   "cell_type": "code",
   "execution_count": 6,
   "metadata": {},
   "outputs": [],
   "source": [
    "paths = sorted(glob.glob(template))"
   ]
  },
  {
   "cell_type": "code",
   "execution_count": 7,
   "metadata": {},
   "outputs": [
    {
     "name": "stderr",
     "output_type": "stream",
     "text": [
      "100%|██████████| 135/135 [00:00<00:00, 224338.76it/s]\n",
      "100%|██████████| 135/135 [00:00<00:00, 217697.44it/s]\n",
      "100%|██████████| 176/176 [00:00<00:00, 263172.02it/s]\n",
      "100%|██████████| 173/173 [00:00<00:00, 245140.06it/s]\n",
      "100%|██████████| 177/177 [00:00<00:00, 271739.31it/s]\n",
      "100%|██████████| 216/216 [00:00<00:00, 291214.94it/s]\n",
      "100%|██████████| 196/196 [00:00<00:00, 300030.51it/s]\n",
      "100%|██████████| 145/145 [00:00<00:00, 146336.40it/s]\n",
      "100%|██████████| 207/207 [00:00<00:00, 229445.28it/s]\n"
     ]
    }
   ],
   "source": [
    "iterator_list = [tokenize(path, language, train=False) for path in paths]"
   ]
  },
  {
   "cell_type": "code",
   "execution_count": 46,
   "metadata": {
    "scrolled": true
   },
   "outputs": [
    {
     "ename": "AttributeError",
     "evalue": "module 'utils' has no attribute 'batchify_per_sentence_with_context'",
     "output_type": "error",
     "traceback": [
      "\u001b[0;31m---------------------------------------------------------------------------\u001b[0m",
      "\u001b[0;31mAttributeError\u001b[0m                            Traceback (most recent call last)",
      "\u001b[0;32m<ipython-input-46-0fd87e6eebaa>\u001b[0m in \u001b[0;36m<module>\u001b[0;34m\u001b[0m\n\u001b[1;32m      9\u001b[0m \u001b[0;34m\u001b[0m\u001b[0m\n\u001b[1;32m     10\u001b[0m \u001b[0;32mfor\u001b[0m \u001b[0mindex\u001b[0m \u001b[0;32min\u001b[0m \u001b[0mrange\u001b[0m\u001b[0;34m(\u001b[0m\u001b[0;36m9\u001b[0m\u001b[0;34m)\u001b[0m\u001b[0;34m:\u001b[0m\u001b[0;34m\u001b[0m\u001b[0;34m\u001b[0m\u001b[0m\n\u001b[0;32m---> 11\u001b[0;31m     batches, indexes = utils.batchify_per_sentence_with_context(\n\u001b[0m\u001b[1;32m     12\u001b[0m                 \u001b[0miterator_list\u001b[0m\u001b[0;34m[\u001b[0m\u001b[0mindex\u001b[0m\u001b[0;34m]\u001b[0m\u001b[0;34m,\u001b[0m\u001b[0;34m\u001b[0m\u001b[0;34m\u001b[0m\u001b[0m\n\u001b[1;32m     13\u001b[0m                 \u001b[0;36m1\u001b[0m\u001b[0;34m,\u001b[0m\u001b[0;34m\u001b[0m\u001b[0;34m\u001b[0m\u001b[0m\n",
      "\u001b[0;31mAttributeError\u001b[0m: module 'utils' has no attribute 'batchify_per_sentence_with_context'"
     ]
    }
   ],
   "source": [
    "import utils\n",
    "import seaborn as sns\n",
    "import matplotlib.pyplot as plt\n",
    "from transformers import GPT2Tokenizer\n",
    "\n",
    "tokenizer = GPT2Tokenizer.from_pretrained('gpt2')\n",
    "\n",
    "lengths = []\n",
    "\n",
    "for index in range(9):\n",
    "    batches, indexes = utils.batchify_per_sentence_with_context(\n",
    "                iterator_list[index], \n",
    "                1, \n",
    "                5, \n",
    "                'gpt2', \n",
    "                max_length=512)\n",
    "    #lengths.append(np.array(sorted([len(item.split()) for item in batches])))\n",
    "    lengths.append(np.array(sorted([len(tokenizer.tokenize(item)) for item in batches])))\n",
    "\n",
    "    sns.boxplot(lengths[-1])\n",
    "    plt.show()\n",
    "    print()\n",
    "\n",
    "print(np.mean(np.array([np.mean(item) for item in lengths])))\n",
    "print(np.median(np.array([np.median(item) for item in lengths])))\n",
    "print(np.mean(np.array([np.median(item) for item in lengths])))"
   ]
  },
  {
   "cell_type": "code",
   "execution_count": 8,
   "metadata": {},
   "outputs": [],
   "source": [
    "pretrained_gpt2_models = ['gpt2'] \n",
    "names = [\n",
    "    'gpt2_pre-5_1_token-2'\n",
    "        ]\n",
    "config_paths = [None] * 56\n",
    "saving_path_folders = [\n",
    "    '/neurospin/unicog/protocols/IRMf/LePetitPrince_Pallier_2018/LePetitPrince/data/stimuli-representations/{}/gpt2_pre-5_1_token-2'.format(language)\n",
    "    \n",
    "]\n",
    "prediction_types = ['control-context'] * 56\n",
    "number_of_sentence_list = [1] * 56\n",
    "number_of_sentence_before_list = [5]\n",
    "attention_length_before_list = [2] * 56\n",
    "stop_attention_at_sent_list = [None] * 56\n",
    "stop_attention_before_sent_list = [0] * 56\n"
   ]
  },
  {
   "cell_type": "code",
   "execution_count": 20,
   "metadata": {},
   "outputs": [
    {
     "data": {
      "application/vnd.jupyter.widget-view+json": {
       "model_id": "485e180998454a58923b474f8f66d354",
       "version_major": 2,
       "version_minor": 0
      },
      "text/plain": [
       "HBox(children=(FloatProgress(value=0.0, description='Downloading', max=665.0, style=ProgressStyle(description_…"
      ]
     },
     "metadata": {},
     "output_type": "display_data"
    },
    {
     "name": "stdout",
     "output_type": "stream",
     "text": [
      "\n"
     ]
    },
    {
     "data": {
      "application/vnd.jupyter.widget-view+json": {
       "model_id": "569e2ab651ce4e7d9ede17879f933b25",
       "version_major": 2,
       "version_minor": 0
      },
      "text/plain": [
       "HBox(children=(FloatProgress(value=0.0, description='Downloading', max=548118077.0, style=ProgressStyle(descri…"
      ]
     },
     "metadata": {},
     "output_type": "display_data"
    },
    {
     "name": "stdout",
     "output_type": "stream",
     "text": [
      "\n"
     ]
    },
    {
     "name": "stderr",
     "output_type": "stream",
     "text": [
      "Some weights of GPT2Model were not initialized from the model checkpoint at gpt2 and are newly initialized: ['h.0.attn.masked_bias', 'h.1.attn.masked_bias', 'h.2.attn.masked_bias', 'h.3.attn.masked_bias', 'h.4.attn.masked_bias', 'h.5.attn.masked_bias', 'h.6.attn.masked_bias', 'h.7.attn.masked_bias', 'h.8.attn.masked_bias', 'h.9.attn.masked_bias', 'h.10.attn.masked_bias', 'h.11.attn.masked_bias']\n",
      "You should probably TRAIN this model on a down-stream task to be able to use it for predictions and inference.\n"
     ]
    },
    {
     "data": {
      "text/plain": [
       "GPT2Config {\n",
       "  \"activation_function\": \"gelu_new\",\n",
       "  \"architectures\": [\n",
       "    \"GPT2LMHeadModel\"\n",
       "  ],\n",
       "  \"attn_pdrop\": 0.1,\n",
       "  \"bos_token_id\": 50256,\n",
       "  \"embd_pdrop\": 0.1,\n",
       "  \"eos_token_id\": 50256,\n",
       "  \"initializer_range\": 0.02,\n",
       "  \"layer_norm_epsilon\": 1e-05,\n",
       "  \"model_type\": \"gpt2\",\n",
       "  \"n_ctx\": 1024,\n",
       "  \"n_embd\": 768,\n",
       "  \"n_head\": 12,\n",
       "  \"n_inner\": null,\n",
       "  \"n_layer\": 12,\n",
       "  \"n_positions\": 1024,\n",
       "  \"resid_pdrop\": 0.1,\n",
       "  \"summary_activation\": null,\n",
       "  \"summary_first_dropout\": 0.1,\n",
       "  \"summary_proj_to_labels\": true,\n",
       "  \"summary_type\": \"cls_index\",\n",
       "  \"summary_use_proj\": true,\n",
       "  \"task_specific_params\": {\n",
       "    \"text-generation\": {\n",
       "      \"do_sample\": true,\n",
       "      \"max_length\": 50\n",
       "    }\n",
       "  },\n",
       "  \"vocab_size\": 50257\n",
       "}"
      ]
     },
     "execution_count": 20,
     "metadata": {},
     "output_type": "execute_result"
    }
   ],
   "source": [
    "from transformers import GPT2Model\n",
    "GPT2Model.from_pretrained('gpt2').config"
   ]
  },
  {
   "cell_type": "code",
   "execution_count": 17,
   "metadata": {},
   "outputs": [
    {
     "name": "stdout",
     "output_type": "stream",
     "text": [
      "[(0, 365), (365, 377), (345, 358), (345, 363), (355, 365), (344, 352), (330, 340), (310, 345), (340, 354), (331, 346), (329, 354), (346, 353), (340, 354), (333, 346), (338, 363), (321, 328), (311, 341), (323, 334), (306, 317), (302, 322), (311, 331), (318, 337), (325, 332), (319, 326), (308, 314), (304, 313), (305, 321), (311, 316), (281, 289), (275, 290), (275, 291), (266, 281), (274, 281), (267, 307), (294, 307), (282, 294), (287, 312), (282, 304), (293, 315), (304, 323), (303, 310), (290, 304), (285, 320), (313, 353), (346, 357), (351, 358), (349, 376), (360, 371), (366, 382), (374, 376), (361, 377), (361, 378), (363, 371), (364, 369), (329, 336), (323, 327), (315, 326), (301, 310), (288, 294), (272, 291), (272, 286), (279, 283), (269, 300), (265, 278), (238, 272), (261, 270), (263, 290), (263, 276), (265, 271), (255, 270), (268, 276), (260, 270), (253, 267), (259, 261), (256, 264), (257, 268), (264, 278), (267, 284), (275, 293), (287, 335), (316, 325), (311, 314), (310, 316), (285, 294), (281, 294), (260, 268), (259, 267), (240, 251), (238, 242), (236, 241), (226, 229), (221, 240), (230, 242), (228, 243), (241, 249), (241, 269), (258, 266), (252, 285), (268, 281), (263, 283), (235, 256), (247, 265), (262, 277), (271, 282), (273, 310), (297, 305), (297, 321), (313, 319), (308, 323), (319, 326), (321, 346), (343, 367), (348, 353), (341, 346), (331, 359), (351, 375)]\n",
      "365\n",
      "12\n",
      "13\n",
      "18\n",
      "10\n",
      "8\n",
      "10\n",
      "35\n",
      "14\n",
      "15\n",
      "25\n",
      "7\n",
      "14\n",
      "13\n",
      "25\n",
      "7\n",
      "30\n",
      "11\n",
      "11\n",
      "20\n",
      "20\n",
      "19\n",
      "7\n",
      "7\n",
      "6\n",
      "9\n",
      "16\n",
      "5\n",
      "8\n",
      "15\n",
      "16\n",
      "15\n",
      "7\n",
      "40\n",
      "13\n",
      "12\n",
      "25\n",
      "22\n",
      "22\n",
      "19\n",
      "7\n",
      "14\n",
      "35\n",
      "40\n",
      "11\n",
      "7\n",
      "27\n",
      "11\n",
      "16\n",
      "2\n",
      "16\n",
      "17\n",
      "8\n",
      "5\n",
      "7\n",
      "4\n",
      "11\n",
      "9\n",
      "6\n",
      "19\n",
      "14\n",
      "4\n",
      "31\n",
      "13\n",
      "34\n",
      "9\n",
      "27\n",
      "13\n",
      "6\n",
      "15\n",
      "8\n",
      "10\n",
      "14\n",
      "2\n",
      "8\n",
      "11\n",
      "14\n",
      "17\n",
      "18\n",
      "48\n",
      "9\n",
      "3\n",
      "6\n",
      "9\n",
      "13\n",
      "8\n",
      "8\n",
      "11\n",
      "4\n",
      "5\n",
      "3\n",
      "19\n",
      "12\n",
      "15\n",
      "8\n",
      "28\n",
      "8\n",
      "33\n",
      "13\n",
      "20\n",
      "21\n",
      "18\n",
      "15\n",
      "11\n",
      "37\n",
      "8\n",
      "24\n",
      "6\n",
      "15\n",
      "7\n",
      "25\n",
      "24\n",
      "5\n",
      "5\n",
      "28\n",
      "24\n"
     ]
    },
    {
     "name": "stderr",
     "output_type": "stream",
     "text": [
      "Some weights of GPT2Model were not initialized from the model checkpoint at gpt2 and are newly initialized: ['h.0.attn.masked_bias', 'h.1.attn.masked_bias', 'h.2.attn.masked_bias', 'h.3.attn.masked_bias', 'h.4.attn.masked_bias', 'h.5.attn.masked_bias', 'h.6.attn.masked_bias', 'h.7.attn.masked_bias', 'h.8.attn.masked_bias', 'h.9.attn.masked_bias', 'h.10.attn.masked_bias', 'h.11.attn.masked_bias']\n",
      "You should probably TRAIN this model on a down-stream task to be able to use it for predictions and inference.\n"
     ]
    },
    {
     "ename": "TypeError",
     "evalue": "extract_activations_from_token_activations() missing 2 required positional arguments: 'tokenized_text' and 'tokenizer'",
     "output_type": "error",
     "traceback": [
      "\u001b[0;31m---------------------------------------------------------------------------\u001b[0m",
      "\u001b[0;31mTypeError\u001b[0m                                 Traceback (most recent call last)",
      "\u001b[0;32m<ipython-input-17-0994ae12cba7>\u001b[0m in \u001b[0;36m<module>\u001b[0;34m\u001b[0m\n\u001b[1;32m     52\u001b[0m         \u001b[0mencoded_layers\u001b[0m \u001b[0;34m=\u001b[0m \u001b[0mmodel\u001b[0m\u001b[0;34m(\u001b[0m\u001b[0minputs_ids\u001b[0m\u001b[0;34m,\u001b[0m \u001b[0mattention_mask\u001b[0m\u001b[0;34m=\u001b[0m\u001b[0mattention_mask\u001b[0m\u001b[0;34m)\u001b[0m\u001b[0;34m\u001b[0m\u001b[0;34m\u001b[0m\u001b[0m\n\u001b[1;32m     53\u001b[0m     \u001b[0mhidden_states_activations_\u001b[0m \u001b[0;34m=\u001b[0m \u001b[0mnp\u001b[0m\u001b[0;34m.\u001b[0m\u001b[0mvstack\u001b[0m\u001b[0;34m(\u001b[0m\u001b[0mencoded_layers\u001b[0m\u001b[0;34m[\u001b[0m\u001b[0;36m2\u001b[0m\u001b[0;34m]\u001b[0m\u001b[0;34m)\u001b[0m \u001b[0;31m# retrieve all the hidden states (dimension = layer_count * len(tokenized_text) * feature_count)\u001b[0m\u001b[0;34m\u001b[0m\u001b[0;34m\u001b[0m\u001b[0m\n\u001b[0;32m---> 54\u001b[0;31m     \u001b[0ma\u001b[0m \u001b[0;34m=\u001b[0m \u001b[0mutils\u001b[0m\u001b[0;34m.\u001b[0m\u001b[0mextract_activations_from_token_activations\u001b[0m\u001b[0;34m(\u001b[0m\u001b[0mhidden_states_activations_\u001b[0m\u001b[0;34m,\u001b[0m \u001b[0mmapping\u001b[0m\u001b[0;34m,\u001b[0m \u001b[0mindexes_tmp\u001b[0m\u001b[0;34m[\u001b[0m\u001b[0mindex\u001b[0m\u001b[0;34m]\u001b[0m\u001b[0;34m)\u001b[0m\u001b[0;34m\u001b[0m\u001b[0;34m\u001b[0m\u001b[0m\n\u001b[0m\u001b[1;32m     55\u001b[0m     \u001b[0;31m#m += len(tokenized_text[indexes_tmp[index][0]:indexes_tmp[index][1]])\u001b[0m\u001b[0;34m\u001b[0m\u001b[0;34m\u001b[0m\u001b[0;34m\u001b[0m\u001b[0m\n\u001b[1;32m     56\u001b[0m     \u001b[0mm\u001b[0m \u001b[0;34m+=\u001b[0m \u001b[0mlen\u001b[0m\u001b[0;34m(\u001b[0m\u001b[0ma\u001b[0m\u001b[0;34m)\u001b[0m\u001b[0;34m\u001b[0m\u001b[0;34m\u001b[0m\u001b[0m\n",
      "\u001b[0;31mTypeError\u001b[0m: extract_activations_from_token_activations() missing 2 required positional arguments: 'tokenized_text' and 'tokenizer'"
     ]
    }
   ],
   "source": [
    "import utils\n",
    "config = {'stop_attention_at_sent': None,\n",
    "          'number_of_sentence': 1,\n",
    "          'stop_attention_before_sent': 0\n",
    "         }\n",
    "\n",
    "batches, indexes = utils.batchify_with_detailed_indexes(\n",
    "            iterator_list[0], \n",
    "            config['number_of_sentence'], \n",
    "            20, \n",
    "            'gpt2', \n",
    "            1024,\n",
    "            config['stop_attention_at_sent'],\n",
    "            config['stop_attention_before_sent'],\n",
    "    True\n",
    "        )\n",
    "\n",
    "\n",
    "\n",
    "indexes_tmp = [(indexes[i][-config['number_of_sentence']][0], indexes[i][-1][1]) for i in range(len(indexes))]\n",
    "indexes_tmp[0] = (indexes[0][0][0], indexes[0][-1][1])\n",
    "print(indexes_tmp)\n",
    "for i in indexes_tmp:\n",
    "    print(i[1]-i[0])\n",
    "\n",
    "\n",
    "\n",
    "from transformers import GPT2Tokenizer, GPT2Model\n",
    "tokenizer = GPT2Tokenizer.from_pretrained('gpt2')\n",
    "model = GPT2Model.from_pretrained('gpt2', output_hidden_states=True)\n",
    "\n",
    "m = 0\n",
    "hidden_states_activations = []\n",
    "\n",
    "for index, batch in enumerate(batches):\n",
    "    batch = batch.strip() # Remove trailing character\n",
    "    #batch = '<|endoftext|> ' + batch + ' <|endoftext|>'\n",
    "    \n",
    "    tokenized_text = tokenizer.tokenize(batch, add_prefix_space=False)\n",
    "    inputs_ids = torch.tensor([tokenizer.convert_tokens_to_ids(tokenized_text)])\n",
    "    attention_mask = torch.tensor([[1 for x in tokenized_text]])\n",
    "\n",
    "    if (config['stop_attention_at_sent'] is not None) and (index > 0):\n",
    "        attention_mask[:, :1 + indexes[index][-config['stop_attention_at_sent']-config['number_of_sentence']][0]] = 0\n",
    "        if self.config['stop_attention_before_sent'] < 0:\n",
    "            attention_mask[:, 1 + indexes[index][-config['stop_attention_at_sent']-config['number_of_sentence']][0]: 1 + indexes[index][-config['stop_attention_at_sent']-config['number_of_sentence']][0]-config['stop_attention_before_sent']] = 0\n",
    "        elif self.config['stop_attention_before_sent'] > 0:\n",
    "            attention_mask[:, 1 + indexes[index][-config['stop_attention_at_sent']-config['number_of_sentence']][0]-config['stop_attention_before_sent']: 1 + indexes[index][-config['stop_attention_at_sent']-config['number_of_sentence']][0]] = 1\n",
    "    mapping = utils.match_tokenized_to_untokenized(tokenized_text, batch)\n",
    "    \n",
    "    with torch.no_grad():\n",
    "        encoded_layers = model(inputs_ids, attention_mask=attention_mask) \n",
    "    hidden_states_activations_ = np.vstack(encoded_layers[2]) # retrieve all the hidden states (dimension = layer_count * len(tokenized_text) * feature_count)\n",
    "    a = utils.extract_activations_from_token_activations(hidden_states_activations_, mapping, indexes_tmp[index])\n",
    "    #m += len(tokenized_text[indexes_tmp[index][0]:indexes_tmp[index][1]])\n",
    "    m += len(a)\n",
    "    #print(len(a), a[0].shape)\n",
    "    #print(len(tokenized_text), indexes_tmp[index][0], indexes_tmp[index][1])\n",
    "    #print(tokenized_text[indexes_tmp[index][0]:indexes_tmp[index][1]])\n",
    "    #print(np.array(tokenized_text)[attention_mask.detach().numpy()[0].astype(bool)])\n",
    "    #print(mapping)\n",
    "    key_start = None\n",
    "    key_stop = None\n",
    "    for key_, value in mapping.items(): \n",
    "        if (value[0])== (indexes_tmp[index][0]): #because we added <|endoftext|> token at the beginning\n",
    "            key_start = key_\n",
    "\n",
    "    #print(key_start, len(mapping.keys()))\n",
    "    #print(tokenized_text)\n",
    "    for word_index in range(key_start, len(mapping.keys())): # len(mapping.keys()) - 1\n",
    "        print([index for index in mapping[word_index]])\n",
    "    #print()\n",
    "    #a=input()\n",
    "    #if a!='a':\n",
    "    #    break\n",
    "print(m)"
   ]
  },
  {
   "cell_type": "code",
   "execution_count": 13,
   "metadata": {},
   "outputs": [
    {
     "data": {
      "text/plain": [
       "[\"Once , when I was six years old , I saw a magnificent picture in a book about the primeval forest called ‘ Real - life Stories . ’ It showed a boa constrictor swallowing a wild animal . Here is a copy of the drawing . It said in the book : “ Boa constrictors swallow their prey whole , without chewing . Then they are not able to move , and they sleep for the six months it takes for digestion . ” So I thought a lot about the adventures of the jungle and , in turn , I managed , with a coloured pencil , to make my first drawing . My Drawing Number one . It looked like this : I showed my masterpiece to the grownups and I asked them if my drawing frightened them . They answered me : “ Why would anyone be frightened by a hat ? ” My drawing was not of a hat . It showed a boa constrictor digesting an elephant . I then drew the inside of the boa constrictor , so that the grownups could understand . They always need to have things explained . My Drawing Number two looked like this : The grownups advised me to leave aside drawings of boa constrictors , open or closed , and to apply myself instead to geography , history , arithmetic and grammar . Thus I abandoned , at the age of six , a magnificent career as a painter . I was discouraged by the failure of my Drawing Number one and of my Drawing Number two . Grownups never understand anything by themselves , and it ’ s tiresome for children to always explain things for them again and again . So I had to choose another profession , and I learned to fly airplanes . I flew a little in many places around the world . And geography , it ' s true , has served me well .\",\n",
       " \"Once , when I was six years old , I saw a magnificent picture in a book about the primeval forest called ‘ Real - life Stories . ’ It showed a boa constrictor swallowing a wild animal . Here is a copy of the drawing . It said in the book : “ Boa constrictors swallow their prey whole , without chewing . Then they are not able to move , and they sleep for the six months it takes for digestion . ” So I thought a lot about the adventures of the jungle and , in turn , I managed , with a coloured pencil , to make my first drawing . My Drawing Number one . It looked like this : I showed my masterpiece to the grownups and I asked them if my drawing frightened them . They answered me : “ Why would anyone be frightened by a hat ? ” My drawing was not of a hat . It showed a boa constrictor digesting an elephant . I then drew the inside of the boa constrictor , so that the grownups could understand . They always need to have things explained . My Drawing Number two looked like this : The grownups advised me to leave aside drawings of boa constrictors , open or closed , and to apply myself instead to geography , history , arithmetic and grammar . Thus I abandoned , at the age of six , a magnificent career as a painter . I was discouraged by the failure of my Drawing Number one and of my Drawing Number two . Grownups never understand anything by themselves , and it ’ s tiresome for children to always explain things for them again and again . So I had to choose another profession , and I learned to fly airplanes . I flew a little in many places around the world . And geography , it ' s true , has served me well . I could recognize , at first glance , China from Arizona .\",\n",
       " \"It showed a boa constrictor swallowing a wild animal . Here is a copy of the drawing . It said in the book : “ Boa constrictors swallow their prey whole , without chewing . Then they are not able to move , and they sleep for the six months it takes for digestion . ” So I thought a lot about the adventures of the jungle and , in turn , I managed , with a coloured pencil , to make my first drawing . My Drawing Number one . It looked like this : I showed my masterpiece to the grownups and I asked them if my drawing frightened them . They answered me : “ Why would anyone be frightened by a hat ? ” My drawing was not of a hat . It showed a boa constrictor digesting an elephant . I then drew the inside of the boa constrictor , so that the grownups could understand . They always need to have things explained . My Drawing Number two looked like this : The grownups advised me to leave aside drawings of boa constrictors , open or closed , and to apply myself instead to geography , history , arithmetic and grammar . Thus I abandoned , at the age of six , a magnificent career as a painter . I was discouraged by the failure of my Drawing Number one and of my Drawing Number two . Grownups never understand anything by themselves , and it ’ s tiresome for children to always explain things for them again and again . So I had to choose another profession , and I learned to fly airplanes . I flew a little in many places around the world . And geography , it ' s true , has served me well . I could recognize , at first glance , China from Arizona . It ’ s very useful if you get lost at night .\",\n",
       " \"Here is a copy of the drawing . It said in the book : “ Boa constrictors swallow their prey whole , without chewing . Then they are not able to move , and they sleep for the six months it takes for digestion . ” So I thought a lot about the adventures of the jungle and , in turn , I managed , with a coloured pencil , to make my first drawing . My Drawing Number one . It looked like this : I showed my masterpiece to the grownups and I asked them if my drawing frightened them . They answered me : “ Why would anyone be frightened by a hat ? ” My drawing was not of a hat . It showed a boa constrictor digesting an elephant . I then drew the inside of the boa constrictor , so that the grownups could understand . They always need to have things explained . My Drawing Number two looked like this : The grownups advised me to leave aside drawings of boa constrictors , open or closed , and to apply myself instead to geography , history , arithmetic and grammar . Thus I abandoned , at the age of six , a magnificent career as a painter . I was discouraged by the failure of my Drawing Number one and of my Drawing Number two . Grownups never understand anything by themselves , and it ’ s tiresome for children to always explain things for them again and again . So I had to choose another profession , and I learned to fly airplanes . I flew a little in many places around the world . And geography , it ' s true , has served me well . I could recognize , at first glance , China from Arizona . It ’ s very useful if you get lost at night . I have had , during my life , a lot of contact with many persons of consequence .\",\n",
       " \"It said in the book : “ Boa constrictors swallow their prey whole , without chewing . Then they are not able to move , and they sleep for the six months it takes for digestion . ” So I thought a lot about the adventures of the jungle and , in turn , I managed , with a coloured pencil , to make my first drawing . My Drawing Number one . It looked like this : I showed my masterpiece to the grownups and I asked them if my drawing frightened them . They answered me : “ Why would anyone be frightened by a hat ? ” My drawing was not of a hat . It showed a boa constrictor digesting an elephant . I then drew the inside of the boa constrictor , so that the grownups could understand . They always need to have things explained . My Drawing Number two looked like this : The grownups advised me to leave aside drawings of boa constrictors , open or closed , and to apply myself instead to geography , history , arithmetic and grammar . Thus I abandoned , at the age of six , a magnificent career as a painter . I was discouraged by the failure of my Drawing Number one and of my Drawing Number two . Grownups never understand anything by themselves , and it ’ s tiresome for children to always explain things for them again and again . So I had to choose another profession , and I learned to fly airplanes . I flew a little in many places around the world . And geography , it ' s true , has served me well . I could recognize , at first glance , China from Arizona . It ’ s very useful if you get lost at night . I have had , during my life , a lot of contact with many persons of consequence . I have lived a lot amongst the grownups .\",\n",
       " \"Then they are not able to move , and they sleep for the six months it takes for digestion . ” So I thought a lot about the adventures of the jungle and , in turn , I managed , with a coloured pencil , to make my first drawing . My Drawing Number one . It looked like this : I showed my masterpiece to the grownups and I asked them if my drawing frightened them . They answered me : “ Why would anyone be frightened by a hat ? ” My drawing was not of a hat . It showed a boa constrictor digesting an elephant . I then drew the inside of the boa constrictor , so that the grownups could understand . They always need to have things explained . My Drawing Number two looked like this : The grownups advised me to leave aside drawings of boa constrictors , open or closed , and to apply myself instead to geography , history , arithmetic and grammar . Thus I abandoned , at the age of six , a magnificent career as a painter . I was discouraged by the failure of my Drawing Number one and of my Drawing Number two . Grownups never understand anything by themselves , and it ’ s tiresome for children to always explain things for them again and again . So I had to choose another profession , and I learned to fly airplanes . I flew a little in many places around the world . And geography , it ' s true , has served me well . I could recognize , at first glance , China from Arizona . It ’ s very useful if you get lost at night . I have had , during my life , a lot of contact with many persons of consequence . I have lived a lot amongst the grownups . I have seen them from close up .\",\n",
       " \"So I thought a lot about the adventures of the jungle and , in turn , I managed , with a coloured pencil , to make my first drawing . My Drawing Number one . It looked like this : I showed my masterpiece to the grownups and I asked them if my drawing frightened them . They answered me : “ Why would anyone be frightened by a hat ? ” My drawing was not of a hat . It showed a boa constrictor digesting an elephant . I then drew the inside of the boa constrictor , so that the grownups could understand . They always need to have things explained . My Drawing Number two looked like this : The grownups advised me to leave aside drawings of boa constrictors , open or closed , and to apply myself instead to geography , history , arithmetic and grammar . Thus I abandoned , at the age of six , a magnificent career as a painter . I was discouraged by the failure of my Drawing Number one and of my Drawing Number two . Grownups never understand anything by themselves , and it ’ s tiresome for children to always explain things for them again and again . So I had to choose another profession , and I learned to fly airplanes . I flew a little in many places around the world . And geography , it ' s true , has served me well . I could recognize , at first glance , China from Arizona . It ’ s very useful if you get lost at night . I have had , during my life , a lot of contact with many persons of consequence . I have lived a lot amongst the grownups . I have seen them from close up . It hasnt much improved my opinion of them .\",\n",
       " \"My Drawing Number one . It looked like this : I showed my masterpiece to the grownups and I asked them if my drawing frightened them . They answered me : “ Why would anyone be frightened by a hat ? ” My drawing was not of a hat . It showed a boa constrictor digesting an elephant . I then drew the inside of the boa constrictor , so that the grownups could understand . They always need to have things explained . My Drawing Number two looked like this : The grownups advised me to leave aside drawings of boa constrictors , open or closed , and to apply myself instead to geography , history , arithmetic and grammar . Thus I abandoned , at the age of six , a magnificent career as a painter . I was discouraged by the failure of my Drawing Number one and of my Drawing Number two . Grownups never understand anything by themselves , and it ’ s tiresome for children to always explain things for them again and again . So I had to choose another profession , and I learned to fly airplanes . I flew a little in many places around the world . And geography , it ' s true , has served me well . I could recognize , at first glance , China from Arizona . It ’ s very useful if you get lost at night . I have had , during my life , a lot of contact with many persons of consequence . I have lived a lot amongst the grownups . I have seen them from close up . It hasnt much improved my opinion of them . Whenever I met one of them that seemed a bit more clear - sighted , I tried the experiment of showing them my Drawing Number one , that I ' ve always kept .\",\n",
       " \"It looked like this : I showed my masterpiece to the grownups and I asked them if my drawing frightened them . They answered me : “ Why would anyone be frightened by a hat ? ” My drawing was not of a hat . It showed a boa constrictor digesting an elephant . I then drew the inside of the boa constrictor , so that the grownups could understand . They always need to have things explained . My Drawing Number two looked like this : The grownups advised me to leave aside drawings of boa constrictors , open or closed , and to apply myself instead to geography , history , arithmetic and grammar . Thus I abandoned , at the age of six , a magnificent career as a painter . I was discouraged by the failure of my Drawing Number one and of my Drawing Number two . Grownups never understand anything by themselves , and it ’ s tiresome for children to always explain things for them again and again . So I had to choose another profession , and I learned to fly airplanes . I flew a little in many places around the world . And geography , it ' s true , has served me well . I could recognize , at first glance , China from Arizona . It ’ s very useful if you get lost at night . I have had , during my life , a lot of contact with many persons of consequence . I have lived a lot amongst the grownups . I have seen them from close up . It hasnt much improved my opinion of them . Whenever I met one of them that seemed a bit more clear - sighted , I tried the experiment of showing them my Drawing Number one , that I ' ve always kept . I wanted to know if they were really a person of true understanding .\",\n",
       " \"They answered me : “ Why would anyone be frightened by a hat ? ” My drawing was not of a hat . It showed a boa constrictor digesting an elephant . I then drew the inside of the boa constrictor , so that the grownups could understand . They always need to have things explained . My Drawing Number two looked like this : The grownups advised me to leave aside drawings of boa constrictors , open or closed , and to apply myself instead to geography , history , arithmetic and grammar . Thus I abandoned , at the age of six , a magnificent career as a painter . I was discouraged by the failure of my Drawing Number one and of my Drawing Number two . Grownups never understand anything by themselves , and it ’ s tiresome for children to always explain things for them again and again . So I had to choose another profession , and I learned to fly airplanes . I flew a little in many places around the world . And geography , it ' s true , has served me well . I could recognize , at first glance , China from Arizona . It ’ s very useful if you get lost at night . I have had , during my life , a lot of contact with many persons of consequence . I have lived a lot amongst the grownups . I have seen them from close up . It hasnt much improved my opinion of them . Whenever I met one of them that seemed a bit more clear - sighted , I tried the experiment of showing them my Drawing Number one , that I ' ve always kept . I wanted to know if they were really a person of true understanding . But they always responded : “ It ' s a hat . ”\",\n",
       " \"My drawing was not of a hat . It showed a boa constrictor digesting an elephant . I then drew the inside of the boa constrictor , so that the grownups could understand . They always need to have things explained . My Drawing Number two looked like this : The grownups advised me to leave aside drawings of boa constrictors , open or closed , and to apply myself instead to geography , history , arithmetic and grammar . Thus I abandoned , at the age of six , a magnificent career as a painter . I was discouraged by the failure of my Drawing Number one and of my Drawing Number two . Grownups never understand anything by themselves , and it ’ s tiresome for children to always explain things for them again and again . So I had to choose another profession , and I learned to fly airplanes . I flew a little in many places around the world . And geography , it ' s true , has served me well . I could recognize , at first glance , China from Arizona . It ’ s very useful if you get lost at night . I have had , during my life , a lot of contact with many persons of consequence . I have lived a lot amongst the grownups . I have seen them from close up . It hasnt much improved my opinion of them . Whenever I met one of them that seemed a bit more clear - sighted , I tried the experiment of showing them my Drawing Number one , that I ' ve always kept . I wanted to know if they were really a person of true understanding . But they always responded : “ It ' s a hat . ” So I would never speak to them of boa constrictors , nor of primeval forests , nor of the stars .\",\n",
       " \"It showed a boa constrictor digesting an elephant . I then drew the inside of the boa constrictor , so that the grownups could understand . They always need to have things explained . My Drawing Number two looked like this : The grownups advised me to leave aside drawings of boa constrictors , open or closed , and to apply myself instead to geography , history , arithmetic and grammar . Thus I abandoned , at the age of six , a magnificent career as a painter . I was discouraged by the failure of my Drawing Number one and of my Drawing Number two . Grownups never understand anything by themselves , and it ’ s tiresome for children to always explain things for them again and again . So I had to choose another profession , and I learned to fly airplanes . I flew a little in many places around the world . And geography , it ' s true , has served me well . I could recognize , at first glance , China from Arizona . It ’ s very useful if you get lost at night . I have had , during my life , a lot of contact with many persons of consequence . I have lived a lot amongst the grownups . I have seen them from close up . It hasnt much improved my opinion of them . Whenever I met one of them that seemed a bit more clear - sighted , I tried the experiment of showing them my Drawing Number one , that I ' ve always kept . I wanted to know if they were really a person of true understanding . But they always responded : “ It ' s a hat . ” So I would never speak to them of boa constrictors , nor of primeval forests , nor of the stars . I put myself at their level .\",\n",
       " \"I then drew the inside of the boa constrictor , so that the grownups could understand . They always need to have things explained . My Drawing Number two looked like this : The grownups advised me to leave aside drawings of boa constrictors , open or closed , and to apply myself instead to geography , history , arithmetic and grammar . Thus I abandoned , at the age of six , a magnificent career as a painter . I was discouraged by the failure of my Drawing Number one and of my Drawing Number two . Grownups never understand anything by themselves , and it ’ s tiresome for children to always explain things for them again and again . So I had to choose another profession , and I learned to fly airplanes . I flew a little in many places around the world . And geography , it ' s true , has served me well . I could recognize , at first glance , China from Arizona . It ’ s very useful if you get lost at night . I have had , during my life , a lot of contact with many persons of consequence . I have lived a lot amongst the grownups . I have seen them from close up . It hasnt much improved my opinion of them . Whenever I met one of them that seemed a bit more clear - sighted , I tried the experiment of showing them my Drawing Number one , that I ' ve always kept . I wanted to know if they were really a person of true understanding . But they always responded : “ It ' s a hat . ” So I would never speak to them of boa constrictors , nor of primeval forests , nor of the stars . I put myself at their level . I talked to them about bridge , golf , politics and neckties .\",\n",
       " \"They always need to have things explained . My Drawing Number two looked like this : The grownups advised me to leave aside drawings of boa constrictors , open or closed , and to apply myself instead to geography , history , arithmetic and grammar . Thus I abandoned , at the age of six , a magnificent career as a painter . I was discouraged by the failure of my Drawing Number one and of my Drawing Number two . Grownups never understand anything by themselves , and it ’ s tiresome for children to always explain things for them again and again . So I had to choose another profession , and I learned to fly airplanes . I flew a little in many places around the world . And geography , it ' s true , has served me well . I could recognize , at first glance , China from Arizona . It ’ s very useful if you get lost at night . I have had , during my life , a lot of contact with many persons of consequence . I have lived a lot amongst the grownups . I have seen them from close up . It hasnt much improved my opinion of them . Whenever I met one of them that seemed a bit more clear - sighted , I tried the experiment of showing them my Drawing Number one , that I ' ve always kept . I wanted to know if they were really a person of true understanding . But they always responded : “ It ' s a hat . ” So I would never speak to them of boa constrictors , nor of primeval forests , nor of the stars . I put myself at their level . I talked to them about bridge , golf , politics and neckties . And the grownup was glad to know such a sensible man .\",\n",
       " \"My Drawing Number two looked like this : The grownups advised me to leave aside drawings of boa constrictors , open or closed , and to apply myself instead to geography , history , arithmetic and grammar . Thus I abandoned , at the age of six , a magnificent career as a painter . I was discouraged by the failure of my Drawing Number one and of my Drawing Number two . Grownups never understand anything by themselves , and it ’ s tiresome for children to always explain things for them again and again . So I had to choose another profession , and I learned to fly airplanes . I flew a little in many places around the world . And geography , it ' s true , has served me well . I could recognize , at first glance , China from Arizona . It ’ s very useful if you get lost at night . I have had , during my life , a lot of contact with many persons of consequence . I have lived a lot amongst the grownups . I have seen them from close up . It hasnt much improved my opinion of them . Whenever I met one of them that seemed a bit more clear - sighted , I tried the experiment of showing them my Drawing Number one , that I ' ve always kept . I wanted to know if they were really a person of true understanding . But they always responded : “ It ' s a hat . ” So I would never speak to them of boa constrictors , nor of primeval forests , nor of the stars . I put myself at their level . I talked to them about bridge , golf , politics and neckties . And the grownup was glad to know such a sensible man . So I lived alone , without anyone I could really talk to , until a breakdown in the Sahara desert , six years ago .\",\n",
       " \"Thus I abandoned , at the age of six , a magnificent career as a painter . I was discouraged by the failure of my Drawing Number one and of my Drawing Number two . Grownups never understand anything by themselves , and it ’ s tiresome for children to always explain things for them again and again . So I had to choose another profession , and I learned to fly airplanes . I flew a little in many places around the world . And geography , it ' s true , has served me well . I could recognize , at first glance , China from Arizona . It ’ s very useful if you get lost at night . I have had , during my life , a lot of contact with many persons of consequence . I have lived a lot amongst the grownups . I have seen them from close up . It hasnt much improved my opinion of them . Whenever I met one of them that seemed a bit more clear - sighted , I tried the experiment of showing them my Drawing Number one , that I ' ve always kept . I wanted to know if they were really a person of true understanding . But they always responded : “ It ' s a hat . ” So I would never speak to them of boa constrictors , nor of primeval forests , nor of the stars . I put myself at their level . I talked to them about bridge , golf , politics and neckties . And the grownup was glad to know such a sensible man . So I lived alone , without anyone I could really talk to , until a breakdown in the Sahara desert , six years ago . Something had broken in my engine .\",\n",
       " \"I was discouraged by the failure of my Drawing Number one and of my Drawing Number two . Grownups never understand anything by themselves , and it ’ s tiresome for children to always explain things for them again and again . So I had to choose another profession , and I learned to fly airplanes . I flew a little in many places around the world . And geography , it ' s true , has served me well . I could recognize , at first glance , China from Arizona . It ’ s very useful if you get lost at night . I have had , during my life , a lot of contact with many persons of consequence . I have lived a lot amongst the grownups . I have seen them from close up . It hasnt much improved my opinion of them . Whenever I met one of them that seemed a bit more clear - sighted , I tried the experiment of showing them my Drawing Number one , that I ' ve always kept . I wanted to know if they were really a person of true understanding . But they always responded : “ It ' s a hat . ” So I would never speak to them of boa constrictors , nor of primeval forests , nor of the stars . I put myself at their level . I talked to them about bridge , golf , politics and neckties . And the grownup was glad to know such a sensible man . So I lived alone , without anyone I could really talk to , until a breakdown in the Sahara desert , six years ago . Something had broken in my engine . And as I had with me neither a mechanic nor any passengers , I readied myself to try and carry out , all alone , the difficult repairs .\",\n",
       " \"Grownups never understand anything by themselves , and it ’ s tiresome for children to always explain things for them again and again . So I had to choose another profession , and I learned to fly airplanes . I flew a little in many places around the world . And geography , it ' s true , has served me well . I could recognize , at first glance , China from Arizona . It ’ s very useful if you get lost at night . I have had , during my life , a lot of contact with many persons of consequence . I have lived a lot amongst the grownups . I have seen them from close up . It hasnt much improved my opinion of them . Whenever I met one of them that seemed a bit more clear - sighted , I tried the experiment of showing them my Drawing Number one , that I ' ve always kept . I wanted to know if they were really a person of true understanding . But they always responded : “ It ' s a hat . ” So I would never speak to them of boa constrictors , nor of primeval forests , nor of the stars . I put myself at their level . I talked to them about bridge , golf , politics and neckties . And the grownup was glad to know such a sensible man . So I lived alone , without anyone I could really talk to , until a breakdown in the Sahara desert , six years ago . Something had broken in my engine . And as I had with me neither a mechanic nor any passengers , I readied myself to try and carry out , all alone , the difficult repairs . For me it was a matter of life or death .\",\n",
       " \"So I had to choose another profession , and I learned to fly airplanes . I flew a little in many places around the world . And geography , it ' s true , has served me well . I could recognize , at first glance , China from Arizona . It ’ s very useful if you get lost at night . I have had , during my life , a lot of contact with many persons of consequence . I have lived a lot amongst the grownups . I have seen them from close up . It hasnt much improved my opinion of them . Whenever I met one of them that seemed a bit more clear - sighted , I tried the experiment of showing them my Drawing Number one , that I ' ve always kept . I wanted to know if they were really a person of true understanding . But they always responded : “ It ' s a hat . ” So I would never speak to them of boa constrictors , nor of primeval forests , nor of the stars . I put myself at their level . I talked to them about bridge , golf , politics and neckties . And the grownup was glad to know such a sensible man . So I lived alone , without anyone I could really talk to , until a breakdown in the Sahara desert , six years ago . Something had broken in my engine . And as I had with me neither a mechanic nor any passengers , I readied myself to try and carry out , all alone , the difficult repairs . For me it was a matter of life or death . I had hardly enough water to drink for a week .\",\n",
       " \"I flew a little in many places around the world . And geography , it ' s true , has served me well . I could recognize , at first glance , China from Arizona . It ’ s very useful if you get lost at night . I have had , during my life , a lot of contact with many persons of consequence . I have lived a lot amongst the grownups . I have seen them from close up . It hasnt much improved my opinion of them . Whenever I met one of them that seemed a bit more clear - sighted , I tried the experiment of showing them my Drawing Number one , that I ' ve always kept . I wanted to know if they were really a person of true understanding . But they always responded : “ It ' s a hat . ” So I would never speak to them of boa constrictors , nor of primeval forests , nor of the stars . I put myself at their level . I talked to them about bridge , golf , politics and neckties . And the grownup was glad to know such a sensible man . So I lived alone , without anyone I could really talk to , until a breakdown in the Sahara desert , six years ago . Something had broken in my engine . And as I had with me neither a mechanic nor any passengers , I readied myself to try and carry out , all alone , the difficult repairs . For me it was a matter of life or death . I had hardly enough water to drink for a week . The first night I went to sleep on the sand , a thousand miles from any human habitation .\",\n",
       " \"And geography , it ' s true , has served me well . I could recognize , at first glance , China from Arizona . It ’ s very useful if you get lost at night . I have had , during my life , a lot of contact with many persons of consequence . I have lived a lot amongst the grownups . I have seen them from close up . It hasnt much improved my opinion of them . Whenever I met one of them that seemed a bit more clear - sighted , I tried the experiment of showing them my Drawing Number one , that I ' ve always kept . I wanted to know if they were really a person of true understanding . But they always responded : “ It ' s a hat . ” So I would never speak to them of boa constrictors , nor of primeval forests , nor of the stars . I put myself at their level . I talked to them about bridge , golf , politics and neckties . And the grownup was glad to know such a sensible man . So I lived alone , without anyone I could really talk to , until a breakdown in the Sahara desert , six years ago . Something had broken in my engine . And as I had with me neither a mechanic nor any passengers , I readied myself to try and carry out , all alone , the difficult repairs . For me it was a matter of life or death . I had hardly enough water to drink for a week . The first night I went to sleep on the sand , a thousand miles from any human habitation . I was more isolated than a shipwrecked sailor on a raft in the middle of the ocean .\",\n",
       " \"I could recognize , at first glance , China from Arizona . It ’ s very useful if you get lost at night . I have had , during my life , a lot of contact with many persons of consequence . I have lived a lot amongst the grownups . I have seen them from close up . It hasnt much improved my opinion of them . Whenever I met one of them that seemed a bit more clear - sighted , I tried the experiment of showing them my Drawing Number one , that I ' ve always kept . I wanted to know if they were really a person of true understanding . But they always responded : “ It ' s a hat . ” So I would never speak to them of boa constrictors , nor of primeval forests , nor of the stars . I put myself at their level . I talked to them about bridge , golf , politics and neckties . And the grownup was glad to know such a sensible man . So I lived alone , without anyone I could really talk to , until a breakdown in the Sahara desert , six years ago . Something had broken in my engine . And as I had with me neither a mechanic nor any passengers , I readied myself to try and carry out , all alone , the difficult repairs . For me it was a matter of life or death . I had hardly enough water to drink for a week . The first night I went to sleep on the sand , a thousand miles from any human habitation . I was more isolated than a shipwrecked sailor on a raft in the middle of the ocean . So you can imagine my surprise when at daybreak , a funny little voice woke me up .\",\n",
       " \"It ’ s very useful if you get lost at night . I have had , during my life , a lot of contact with many persons of consequence . I have lived a lot amongst the grownups . I have seen them from close up . It hasnt much improved my opinion of them . Whenever I met one of them that seemed a bit more clear - sighted , I tried the experiment of showing them my Drawing Number one , that I ' ve always kept . I wanted to know if they were really a person of true understanding . But they always responded : “ It ' s a hat . ” So I would never speak to them of boa constrictors , nor of primeval forests , nor of the stars . I put myself at their level . I talked to them about bridge , golf , politics and neckties . And the grownup was glad to know such a sensible man . So I lived alone , without anyone I could really talk to , until a breakdown in the Sahara desert , six years ago . Something had broken in my engine . And as I had with me neither a mechanic nor any passengers , I readied myself to try and carry out , all alone , the difficult repairs . For me it was a matter of life or death . I had hardly enough water to drink for a week . The first night I went to sleep on the sand , a thousand miles from any human habitation . I was more isolated than a shipwrecked sailor on a raft in the middle of the ocean . So you can imagine my surprise when at daybreak , a funny little voice woke me up . It said : “ Please ...\",\n",
       " \"I have had , during my life , a lot of contact with many persons of consequence . I have lived a lot amongst the grownups . I have seen them from close up . It hasnt much improved my opinion of them . Whenever I met one of them that seemed a bit more clear - sighted , I tried the experiment of showing them my Drawing Number one , that I ' ve always kept . I wanted to know if they were really a person of true understanding . But they always responded : “ It ' s a hat . ” So I would never speak to them of boa constrictors , nor of primeval forests , nor of the stars . I put myself at their level . I talked to them about bridge , golf , politics and neckties . And the grownup was glad to know such a sensible man . So I lived alone , without anyone I could really talk to , until a breakdown in the Sahara desert , six years ago . Something had broken in my engine . And as I had with me neither a mechanic nor any passengers , I readied myself to try and carry out , all alone , the difficult repairs . For me it was a matter of life or death . I had hardly enough water to drink for a week . The first night I went to sleep on the sand , a thousand miles from any human habitation . I was more isolated than a shipwrecked sailor on a raft in the middle of the ocean . So you can imagine my surprise when at daybreak , a funny little voice woke me up . It said : “ Please ... draw me a sheep ! ”\",\n",
       " \"I have lived a lot amongst the grownups . I have seen them from close up . It hasnt much improved my opinion of them . Whenever I met one of them that seemed a bit more clear - sighted , I tried the experiment of showing them my Drawing Number one , that I ' ve always kept . I wanted to know if they were really a person of true understanding . But they always responded : “ It ' s a hat . ” So I would never speak to them of boa constrictors , nor of primeval forests , nor of the stars . I put myself at their level . I talked to them about bridge , golf , politics and neckties . And the grownup was glad to know such a sensible man . So I lived alone , without anyone I could really talk to , until a breakdown in the Sahara desert , six years ago . Something had broken in my engine . And as I had with me neither a mechanic nor any passengers , I readied myself to try and carry out , all alone , the difficult repairs . For me it was a matter of life or death . I had hardly enough water to drink for a week . The first night I went to sleep on the sand , a thousand miles from any human habitation . I was more isolated than a shipwrecked sailor on a raft in the middle of the ocean . So you can imagine my surprise when at daybreak , a funny little voice woke me up . It said : “ Please ... draw me a sheep ! ” “ What ? ”\",\n",
       " \"I have seen them from close up . It hasnt much improved my opinion of them . Whenever I met one of them that seemed a bit more clear - sighted , I tried the experiment of showing them my Drawing Number one , that I ' ve always kept . I wanted to know if they were really a person of true understanding . But they always responded : “ It ' s a hat . ” So I would never speak to them of boa constrictors , nor of primeval forests , nor of the stars . I put myself at their level . I talked to them about bridge , golf , politics and neckties . And the grownup was glad to know such a sensible man . So I lived alone , without anyone I could really talk to , until a breakdown in the Sahara desert , six years ago . Something had broken in my engine . And as I had with me neither a mechanic nor any passengers , I readied myself to try and carry out , all alone , the difficult repairs . For me it was a matter of life or death . I had hardly enough water to drink for a week . The first night I went to sleep on the sand , a thousand miles from any human habitation . I was more isolated than a shipwrecked sailor on a raft in the middle of the ocean . So you can imagine my surprise when at daybreak , a funny little voice woke me up . It said : “ Please ... draw me a sheep ! ” “ What ? ” “ Draw me a sheep ! ”\",\n",
       " \"It hasnt much improved my opinion of them . Whenever I met one of them that seemed a bit more clear - sighted , I tried the experiment of showing them my Drawing Number one , that I ' ve always kept . I wanted to know if they were really a person of true understanding . But they always responded : “ It ' s a hat . ” So I would never speak to them of boa constrictors , nor of primeval forests , nor of the stars . I put myself at their level . I talked to them about bridge , golf , politics and neckties . And the grownup was glad to know such a sensible man . So I lived alone , without anyone I could really talk to , until a breakdown in the Sahara desert , six years ago . Something had broken in my engine . And as I had with me neither a mechanic nor any passengers , I readied myself to try and carry out , all alone , the difficult repairs . For me it was a matter of life or death . I had hardly enough water to drink for a week . The first night I went to sleep on the sand , a thousand miles from any human habitation . I was more isolated than a shipwrecked sailor on a raft in the middle of the ocean . So you can imagine my surprise when at daybreak , a funny little voice woke me up . It said : “ Please ... draw me a sheep ! ” “ What ? ” “ Draw me a sheep ! ” I jumped to my feet as if I ’ d been struck by lightning .\",\n",
       " \"Whenever I met one of them that seemed a bit more clear - sighted , I tried the experiment of showing them my Drawing Number one , that I ' ve always kept . I wanted to know if they were really a person of true understanding . But they always responded : “ It ' s a hat . ” So I would never speak to them of boa constrictors , nor of primeval forests , nor of the stars . I put myself at their level . I talked to them about bridge , golf , politics and neckties . And the grownup was glad to know such a sensible man . So I lived alone , without anyone I could really talk to , until a breakdown in the Sahara desert , six years ago . Something had broken in my engine . And as I had with me neither a mechanic nor any passengers , I readied myself to try and carry out , all alone , the difficult repairs . For me it was a matter of life or death . I had hardly enough water to drink for a week . The first night I went to sleep on the sand , a thousand miles from any human habitation . I was more isolated than a shipwrecked sailor on a raft in the middle of the ocean . So you can imagine my surprise when at daybreak , a funny little voice woke me up . It said : “ Please ... draw me a sheep ! ” “ What ? ” “ Draw me a sheep ! ” I jumped to my feet as if I ’ d been struck by lightning . I rubbed my eyes .\",\n",
       " \"I wanted to know if they were really a person of true understanding . But they always responded : “ It ' s a hat . ” So I would never speak to them of boa constrictors , nor of primeval forests , nor of the stars . I put myself at their level . I talked to them about bridge , golf , politics and neckties . And the grownup was glad to know such a sensible man . So I lived alone , without anyone I could really talk to , until a breakdown in the Sahara desert , six years ago . Something had broken in my engine . And as I had with me neither a mechanic nor any passengers , I readied myself to try and carry out , all alone , the difficult repairs . For me it was a matter of life or death . I had hardly enough water to drink for a week . The first night I went to sleep on the sand , a thousand miles from any human habitation . I was more isolated than a shipwrecked sailor on a raft in the middle of the ocean . So you can imagine my surprise when at daybreak , a funny little voice woke me up . It said : “ Please ... draw me a sheep ! ” “ What ? ” “ Draw me a sheep ! ” I jumped to my feet as if I ’ d been struck by lightning . I rubbed my eyes . I took a good look around me .\",\n",
       " \"But they always responded : “ It ' s a hat . ” So I would never speak to them of boa constrictors , nor of primeval forests , nor of the stars . I put myself at their level . I talked to them about bridge , golf , politics and neckties . And the grownup was glad to know such a sensible man . So I lived alone , without anyone I could really talk to , until a breakdown in the Sahara desert , six years ago . Something had broken in my engine . And as I had with me neither a mechanic nor any passengers , I readied myself to try and carry out , all alone , the difficult repairs . For me it was a matter of life or death . I had hardly enough water to drink for a week . The first night I went to sleep on the sand , a thousand miles from any human habitation . I was more isolated than a shipwrecked sailor on a raft in the middle of the ocean . So you can imagine my surprise when at daybreak , a funny little voice woke me up . It said : “ Please ... draw me a sheep ! ” “ What ? ” “ Draw me a sheep ! ” I jumped to my feet as if I ’ d been struck by lightning . I rubbed my eyes . I took a good look around me . And I saw a quite extraordinary little man , who was examining me seriously .\",\n",
       " 'So I would never speak to them of boa constrictors , nor of primeval forests , nor of the stars . I put myself at their level . I talked to them about bridge , golf , politics and neckties . And the grownup was glad to know such a sensible man . So I lived alone , without anyone I could really talk to , until a breakdown in the Sahara desert , six years ago . Something had broken in my engine . And as I had with me neither a mechanic nor any passengers , I readied myself to try and carry out , all alone , the difficult repairs . For me it was a matter of life or death . I had hardly enough water to drink for a week . The first night I went to sleep on the sand , a thousand miles from any human habitation . I was more isolated than a shipwrecked sailor on a raft in the middle of the ocean . So you can imagine my surprise when at daybreak , a funny little voice woke me up . It said : “ Please ... draw me a sheep ! ” “ What ? ” “ Draw me a sheep ! ” I jumped to my feet as if I ’ d been struck by lightning . I rubbed my eyes . I took a good look around me . And I saw a quite extraordinary little man , who was examining me seriously . Here is the best portrait that , later , I managed to do of him .',\n",
       " 'I put myself at their level . I talked to them about bridge , golf , politics and neckties . And the grownup was glad to know such a sensible man . So I lived alone , without anyone I could really talk to , until a breakdown in the Sahara desert , six years ago . Something had broken in my engine . And as I had with me neither a mechanic nor any passengers , I readied myself to try and carry out , all alone , the difficult repairs . For me it was a matter of life or death . I had hardly enough water to drink for a week . The first night I went to sleep on the sand , a thousand miles from any human habitation . I was more isolated than a shipwrecked sailor on a raft in the middle of the ocean . So you can imagine my surprise when at daybreak , a funny little voice woke me up . It said : “ Please ... draw me a sheep ! ” “ What ? ” “ Draw me a sheep ! ” I jumped to my feet as if I ’ d been struck by lightning . I rubbed my eyes . I took a good look around me . And I saw a quite extraordinary little man , who was examining me seriously . Here is the best portrait that , later , I managed to do of him . But my drawing , of course , is much less charming than its model .',\n",
       " \"I talked to them about bridge , golf , politics and neckties . And the grownup was glad to know such a sensible man . So I lived alone , without anyone I could really talk to , until a breakdown in the Sahara desert , six years ago . Something had broken in my engine . And as I had with me neither a mechanic nor any passengers , I readied myself to try and carry out , all alone , the difficult repairs . For me it was a matter of life or death . I had hardly enough water to drink for a week . The first night I went to sleep on the sand , a thousand miles from any human habitation . I was more isolated than a shipwrecked sailor on a raft in the middle of the ocean . So you can imagine my surprise when at daybreak , a funny little voice woke me up . It said : “ Please ... draw me a sheep ! ” “ What ? ” “ Draw me a sheep ! ” I jumped to my feet as if I ’ d been struck by lightning . I rubbed my eyes . I took a good look around me . And I saw a quite extraordinary little man , who was examining me seriously . Here is the best portrait that , later , I managed to do of him . But my drawing , of course , is much less charming than its model . It ' s not my fault .\",\n",
       " \"And the grownup was glad to know such a sensible man . So I lived alone , without anyone I could really talk to , until a breakdown in the Sahara desert , six years ago . Something had broken in my engine . And as I had with me neither a mechanic nor any passengers , I readied myself to try and carry out , all alone , the difficult repairs . For me it was a matter of life or death . I had hardly enough water to drink for a week . The first night I went to sleep on the sand , a thousand miles from any human habitation . I was more isolated than a shipwrecked sailor on a raft in the middle of the ocean . So you can imagine my surprise when at daybreak , a funny little voice woke me up . It said : “ Please ... draw me a sheep ! ” “ What ? ” “ Draw me a sheep ! ” I jumped to my feet as if I ’ d been struck by lightning . I rubbed my eyes . I took a good look around me . And I saw a quite extraordinary little man , who was examining me seriously . Here is the best portrait that , later , I managed to do of him . But my drawing , of course , is much less charming than its model . It ' s not my fault . I was discouraged in my career as a painter by the grownups , at the age of six , and I hadn ' t learned to draw anything except boa constrictors , closed and open .\",\n",
       " \"So I lived alone , without anyone I could really talk to , until a breakdown in the Sahara desert , six years ago . Something had broken in my engine . And as I had with me neither a mechanic nor any passengers , I readied myself to try and carry out , all alone , the difficult repairs . For me it was a matter of life or death . I had hardly enough water to drink for a week . The first night I went to sleep on the sand , a thousand miles from any human habitation . I was more isolated than a shipwrecked sailor on a raft in the middle of the ocean . So you can imagine my surprise when at daybreak , a funny little voice woke me up . It said : “ Please ... draw me a sheep ! ” “ What ? ” “ Draw me a sheep ! ” I jumped to my feet as if I ’ d been struck by lightning . I rubbed my eyes . I took a good look around me . And I saw a quite extraordinary little man , who was examining me seriously . Here is the best portrait that , later , I managed to do of him . But my drawing , of course , is much less charming than its model . It ' s not my fault . I was discouraged in my career as a painter by the grownups , at the age of six , and I hadn ' t learned to draw anything except boa constrictors , closed and open . I stared at this sudden apparition wide eyed with astonishment .\",\n",
       " \"Something had broken in my engine . And as I had with me neither a mechanic nor any passengers , I readied myself to try and carry out , all alone , the difficult repairs . For me it was a matter of life or death . I had hardly enough water to drink for a week . The first night I went to sleep on the sand , a thousand miles from any human habitation . I was more isolated than a shipwrecked sailor on a raft in the middle of the ocean . So you can imagine my surprise when at daybreak , a funny little voice woke me up . It said : “ Please ... draw me a sheep ! ” “ What ? ” “ Draw me a sheep ! ” I jumped to my feet as if I ’ d been struck by lightning . I rubbed my eyes . I took a good look around me . And I saw a quite extraordinary little man , who was examining me seriously . Here is the best portrait that , later , I managed to do of him . But my drawing , of course , is much less charming than its model . It ' s not my fault . I was discouraged in my career as a painter by the grownups , at the age of six , and I hadn ' t learned to draw anything except boa constrictors , closed and open . I stared at this sudden apparition wide eyed with astonishment . Remember that I was a thousand miles from any inhabited region .\",\n",
       " \"And as I had with me neither a mechanic nor any passengers , I readied myself to try and carry out , all alone , the difficult repairs . For me it was a matter of life or death . I had hardly enough water to drink for a week . The first night I went to sleep on the sand , a thousand miles from any human habitation . I was more isolated than a shipwrecked sailor on a raft in the middle of the ocean . So you can imagine my surprise when at daybreak , a funny little voice woke me up . It said : “ Please ... draw me a sheep ! ” “ What ? ” “ Draw me a sheep ! ” I jumped to my feet as if I ’ d been struck by lightning . I rubbed my eyes . I took a good look around me . And I saw a quite extraordinary little man , who was examining me seriously . Here is the best portrait that , later , I managed to do of him . But my drawing , of course , is much less charming than its model . It ' s not my fault . I was discouraged in my career as a painter by the grownups , at the age of six , and I hadn ' t learned to draw anything except boa constrictors , closed and open . I stared at this sudden apparition wide eyed with astonishment . Remember that I was a thousand miles from any inhabited region . And yet this little fellow seemed neither lost , nor half - dead with fatigue , nor starved or dying of thirst or fear .\",\n",
       " \"For me it was a matter of life or death . I had hardly enough water to drink for a week . The first night I went to sleep on the sand , a thousand miles from any human habitation . I was more isolated than a shipwrecked sailor on a raft in the middle of the ocean . So you can imagine my surprise when at daybreak , a funny little voice woke me up . It said : “ Please ... draw me a sheep ! ” “ What ? ” “ Draw me a sheep ! ” I jumped to my feet as if I ’ d been struck by lightning . I rubbed my eyes . I took a good look around me . And I saw a quite extraordinary little man , who was examining me seriously . Here is the best portrait that , later , I managed to do of him . But my drawing , of course , is much less charming than its model . It ' s not my fault . I was discouraged in my career as a painter by the grownups , at the age of six , and I hadn ' t learned to draw anything except boa constrictors , closed and open . I stared at this sudden apparition wide eyed with astonishment . Remember that I was a thousand miles from any inhabited region . And yet this little fellow seemed neither lost , nor half - dead with fatigue , nor starved or dying of thirst or fear . He looked nothing like a child lost in the middle of the desert , a thousand miles from any inhabited region .\",\n",
       " \"I had hardly enough water to drink for a week . The first night I went to sleep on the sand , a thousand miles from any human habitation . I was more isolated than a shipwrecked sailor on a raft in the middle of the ocean . So you can imagine my surprise when at daybreak , a funny little voice woke me up . It said : “ Please ... draw me a sheep ! ” “ What ? ” “ Draw me a sheep ! ” I jumped to my feet as if I ’ d been struck by lightning . I rubbed my eyes . I took a good look around me . And I saw a quite extraordinary little man , who was examining me seriously . Here is the best portrait that , later , I managed to do of him . But my drawing , of course , is much less charming than its model . It ' s not my fault . I was discouraged in my career as a painter by the grownups , at the age of six , and I hadn ' t learned to draw anything except boa constrictors , closed and open . I stared at this sudden apparition wide eyed with astonishment . Remember that I was a thousand miles from any inhabited region . And yet this little fellow seemed neither lost , nor half - dead with fatigue , nor starved or dying of thirst or fear . He looked nothing like a child lost in the middle of the desert , a thousand miles from any inhabited region . When I finally managed to speak , I said : “ But — what are you doing here ? ”\",\n",
       " \"The first night I went to sleep on the sand , a thousand miles from any human habitation . I was more isolated than a shipwrecked sailor on a raft in the middle of the ocean . So you can imagine my surprise when at daybreak , a funny little voice woke me up . It said : “ Please ... draw me a sheep ! ” “ What ? ” “ Draw me a sheep ! ” I jumped to my feet as if I ’ d been struck by lightning . I rubbed my eyes . I took a good look around me . And I saw a quite extraordinary little man , who was examining me seriously . Here is the best portrait that , later , I managed to do of him . But my drawing , of course , is much less charming than its model . It ' s not my fault . I was discouraged in my career as a painter by the grownups , at the age of six , and I hadn ' t learned to draw anything except boa constrictors , closed and open . I stared at this sudden apparition wide eyed with astonishment . Remember that I was a thousand miles from any inhabited region . And yet this little fellow seemed neither lost , nor half - dead with fatigue , nor starved or dying of thirst or fear . He looked nothing like a child lost in the middle of the desert , a thousand miles from any inhabited region . When I finally managed to speak , I said : “ But — what are you doing here ? ” And he repeated , very slowly , as if it was something very serious : “ Please ...\",\n",
       " \"I was more isolated than a shipwrecked sailor on a raft in the middle of the ocean . So you can imagine my surprise when at daybreak , a funny little voice woke me up . It said : “ Please ... draw me a sheep ! ” “ What ? ” “ Draw me a sheep ! ” I jumped to my feet as if I ’ d been struck by lightning . I rubbed my eyes . I took a good look around me . And I saw a quite extraordinary little man , who was examining me seriously . Here is the best portrait that , later , I managed to do of him . But my drawing , of course , is much less charming than its model . It ' s not my fault . I was discouraged in my career as a painter by the grownups , at the age of six , and I hadn ' t learned to draw anything except boa constrictors , closed and open . I stared at this sudden apparition wide eyed with astonishment . Remember that I was a thousand miles from any inhabited region . And yet this little fellow seemed neither lost , nor half - dead with fatigue , nor starved or dying of thirst or fear . He looked nothing like a child lost in the middle of the desert , a thousand miles from any inhabited region . When I finally managed to speak , I said : “ But — what are you doing here ? ” And he repeated , very slowly , as if it was something very serious : “ Please ... draw me a sheep ... ”\",\n",
       " \"So you can imagine my surprise when at daybreak , a funny little voice woke me up . It said : “ Please ... draw me a sheep ! ” “ What ? ” “ Draw me a sheep ! ” I jumped to my feet as if I ’ d been struck by lightning . I rubbed my eyes . I took a good look around me . And I saw a quite extraordinary little man , who was examining me seriously . Here is the best portrait that , later , I managed to do of him . But my drawing , of course , is much less charming than its model . It ' s not my fault . I was discouraged in my career as a painter by the grownups , at the age of six , and I hadn ' t learned to draw anything except boa constrictors , closed and open . I stared at this sudden apparition wide eyed with astonishment . Remember that I was a thousand miles from any inhabited region . And yet this little fellow seemed neither lost , nor half - dead with fatigue , nor starved or dying of thirst or fear . He looked nothing like a child lost in the middle of the desert , a thousand miles from any inhabited region . When I finally managed to speak , I said : “ But — what are you doing here ? ” And he repeated , very slowly , as if it was something very serious : “ Please ... draw me a sheep ... ” When a mystery is too overpowering , one dare not disobey .\",\n",
       " \"It said : “ Please ... draw me a sheep ! ” “ What ? ” “ Draw me a sheep ! ” I jumped to my feet as if I ’ d been struck by lightning . I rubbed my eyes . I took a good look around me . And I saw a quite extraordinary little man , who was examining me seriously . Here is the best portrait that , later , I managed to do of him . But my drawing , of course , is much less charming than its model . It ' s not my fault . I was discouraged in my career as a painter by the grownups , at the age of six , and I hadn ' t learned to draw anything except boa constrictors , closed and open . I stared at this sudden apparition wide eyed with astonishment . Remember that I was a thousand miles from any inhabited region . And yet this little fellow seemed neither lost , nor half - dead with fatigue , nor starved or dying of thirst or fear . He looked nothing like a child lost in the middle of the desert , a thousand miles from any inhabited region . When I finally managed to speak , I said : “ But — what are you doing here ? ” And he repeated , very slowly , as if it was something very serious : “ Please ... draw me a sheep ... ” When a mystery is too overpowering , one dare not disobey . Absurd as it seemed to me a thousand miles from any human habitation and in danger of death , I took out of my pocket a sheet of paper and a pen .\",\n",
       " \"draw me a sheep ! ” “ What ? ” “ Draw me a sheep ! ” I jumped to my feet as if I ’ d been struck by lightning . I rubbed my eyes . I took a good look around me . And I saw a quite extraordinary little man , who was examining me seriously . Here is the best portrait that , later , I managed to do of him . But my drawing , of course , is much less charming than its model . It ' s not my fault . I was discouraged in my career as a painter by the grownups , at the age of six , and I hadn ' t learned to draw anything except boa constrictors , closed and open . I stared at this sudden apparition wide eyed with astonishment . Remember that I was a thousand miles from any inhabited region . And yet this little fellow seemed neither lost , nor half - dead with fatigue , nor starved or dying of thirst or fear . He looked nothing like a child lost in the middle of the desert , a thousand miles from any inhabited region . When I finally managed to speak , I said : “ But — what are you doing here ? ” And he repeated , very slowly , as if it was something very serious : “ Please ... draw me a sheep ... ” When a mystery is too overpowering , one dare not disobey . Absurd as it seemed to me a thousand miles from any human habitation and in danger of death , I took out of my pocket a sheet of paper and a pen . But then I remembered that I had mainly studied geography , history , arithmetic and grammar , and I told the little fellow ( a little crossly ) that I didn ’ t know how to draw .\",\n",
       " \"“ What ? ” “ Draw me a sheep ! ” I jumped to my feet as if I ’ d been struck by lightning . I rubbed my eyes . I took a good look around me . And I saw a quite extraordinary little man , who was examining me seriously . Here is the best portrait that , later , I managed to do of him . But my drawing , of course , is much less charming than its model . It ' s not my fault . I was discouraged in my career as a painter by the grownups , at the age of six , and I hadn ' t learned to draw anything except boa constrictors , closed and open . I stared at this sudden apparition wide eyed with astonishment . Remember that I was a thousand miles from any inhabited region . And yet this little fellow seemed neither lost , nor half - dead with fatigue , nor starved or dying of thirst or fear . He looked nothing like a child lost in the middle of the desert , a thousand miles from any inhabited region . When I finally managed to speak , I said : “ But — what are you doing here ? ” And he repeated , very slowly , as if it was something very serious : “ Please ... draw me a sheep ... ” When a mystery is too overpowering , one dare not disobey . Absurd as it seemed to me a thousand miles from any human habitation and in danger of death , I took out of my pocket a sheet of paper and a pen . But then I remembered that I had mainly studied geography , history , arithmetic and grammar , and I told the little fellow ( a little crossly ) that I didn ’ t know how to draw . He replied : “ It doesn ' t matter .\",\n",
       " \"“ Draw me a sheep ! ” I jumped to my feet as if I ’ d been struck by lightning . I rubbed my eyes . I took a good look around me . And I saw a quite extraordinary little man , who was examining me seriously . Here is the best portrait that , later , I managed to do of him . But my drawing , of course , is much less charming than its model . It ' s not my fault . I was discouraged in my career as a painter by the grownups , at the age of six , and I hadn ' t learned to draw anything except boa constrictors , closed and open . I stared at this sudden apparition wide eyed with astonishment . Remember that I was a thousand miles from any inhabited region . And yet this little fellow seemed neither lost , nor half - dead with fatigue , nor starved or dying of thirst or fear . He looked nothing like a child lost in the middle of the desert , a thousand miles from any inhabited region . When I finally managed to speak , I said : “ But — what are you doing here ? ” And he repeated , very slowly , as if it was something very serious : “ Please ... draw me a sheep ... ” When a mystery is too overpowering , one dare not disobey . Absurd as it seemed to me a thousand miles from any human habitation and in danger of death , I took out of my pocket a sheet of paper and a pen . But then I remembered that I had mainly studied geography , history , arithmetic and grammar , and I told the little fellow ( a little crossly ) that I didn ’ t know how to draw . He replied : “ It doesn ' t matter . Draw me a sheep . ”\",\n",
       " \"I jumped to my feet as if I ’ d been struck by lightning . I rubbed my eyes . I took a good look around me . And I saw a quite extraordinary little man , who was examining me seriously . Here is the best portrait that , later , I managed to do of him . But my drawing , of course , is much less charming than its model . It ' s not my fault . I was discouraged in my career as a painter by the grownups , at the age of six , and I hadn ' t learned to draw anything except boa constrictors , closed and open . I stared at this sudden apparition wide eyed with astonishment . Remember that I was a thousand miles from any inhabited region . And yet this little fellow seemed neither lost , nor half - dead with fatigue , nor starved or dying of thirst or fear . He looked nothing like a child lost in the middle of the desert , a thousand miles from any inhabited region . When I finally managed to speak , I said : “ But — what are you doing here ? ” And he repeated , very slowly , as if it was something very serious : “ Please ... draw me a sheep ... ” When a mystery is too overpowering , one dare not disobey . Absurd as it seemed to me a thousand miles from any human habitation and in danger of death , I took out of my pocket a sheet of paper and a pen . But then I remembered that I had mainly studied geography , history , arithmetic and grammar , and I told the little fellow ( a little crossly ) that I didn ’ t know how to draw . He replied : “ It doesn ' t matter . Draw me a sheep . ” As I ’ d never drawn a sheep , I redrew for him one of the only two drawings that I was capable of .\",\n",
       " \"I rubbed my eyes . I took a good look around me . And I saw a quite extraordinary little man , who was examining me seriously . Here is the best portrait that , later , I managed to do of him . But my drawing , of course , is much less charming than its model . It ' s not my fault . I was discouraged in my career as a painter by the grownups , at the age of six , and I hadn ' t learned to draw anything except boa constrictors , closed and open . I stared at this sudden apparition wide eyed with astonishment . Remember that I was a thousand miles from any inhabited region . And yet this little fellow seemed neither lost , nor half - dead with fatigue , nor starved or dying of thirst or fear . He looked nothing like a child lost in the middle of the desert , a thousand miles from any inhabited region . When I finally managed to speak , I said : “ But — what are you doing here ? ” And he repeated , very slowly , as if it was something very serious : “ Please ... draw me a sheep ... ” When a mystery is too overpowering , one dare not disobey . Absurd as it seemed to me a thousand miles from any human habitation and in danger of death , I took out of my pocket a sheet of paper and a pen . But then I remembered that I had mainly studied geography , history , arithmetic and grammar , and I told the little fellow ( a little crossly ) that I didn ’ t know how to draw . He replied : “ It doesn ' t matter . Draw me a sheep . ” As I ’ d never drawn a sheep , I redrew for him one of the only two drawings that I was capable of . The one of the closed boa constrictor .\",\n",
       " \"I took a good look around me . And I saw a quite extraordinary little man , who was examining me seriously . Here is the best portrait that , later , I managed to do of him . But my drawing , of course , is much less charming than its model . It ' s not my fault . I was discouraged in my career as a painter by the grownups , at the age of six , and I hadn ' t learned to draw anything except boa constrictors , closed and open . I stared at this sudden apparition wide eyed with astonishment . Remember that I was a thousand miles from any inhabited region . And yet this little fellow seemed neither lost , nor half - dead with fatigue , nor starved or dying of thirst or fear . He looked nothing like a child lost in the middle of the desert , a thousand miles from any inhabited region . When I finally managed to speak , I said : “ But — what are you doing here ? ” And he repeated , very slowly , as if it was something very serious : “ Please ... draw me a sheep ... ” When a mystery is too overpowering , one dare not disobey . Absurd as it seemed to me a thousand miles from any human habitation and in danger of death , I took out of my pocket a sheet of paper and a pen . But then I remembered that I had mainly studied geography , history , arithmetic and grammar , and I told the little fellow ( a little crossly ) that I didn ’ t know how to draw . He replied : “ It doesn ' t matter . Draw me a sheep . ” As I ’ d never drawn a sheep , I redrew for him one of the only two drawings that I was capable of . The one of the closed boa constrictor . And I was astounded to hear the little fellow respond : “ No !\",\n",
       " \"And I saw a quite extraordinary little man , who was examining me seriously . Here is the best portrait that , later , I managed to do of him . But my drawing , of course , is much less charming than its model . It ' s not my fault . I was discouraged in my career as a painter by the grownups , at the age of six , and I hadn ' t learned to draw anything except boa constrictors , closed and open . I stared at this sudden apparition wide eyed with astonishment . Remember that I was a thousand miles from any inhabited region . And yet this little fellow seemed neither lost , nor half - dead with fatigue , nor starved or dying of thirst or fear . He looked nothing like a child lost in the middle of the desert , a thousand miles from any inhabited region . When I finally managed to speak , I said : “ But — what are you doing here ? ” And he repeated , very slowly , as if it was something very serious : “ Please ... draw me a sheep ... ” When a mystery is too overpowering , one dare not disobey . Absurd as it seemed to me a thousand miles from any human habitation and in danger of death , I took out of my pocket a sheet of paper and a pen . But then I remembered that I had mainly studied geography , history , arithmetic and grammar , and I told the little fellow ( a little crossly ) that I didn ’ t know how to draw . He replied : “ It doesn ' t matter . Draw me a sheep . ” As I ’ d never drawn a sheep , I redrew for him one of the only two drawings that I was capable of . The one of the closed boa constrictor . And I was astounded to hear the little fellow respond : “ No ! No !\",\n",
       " \"Here is the best portrait that , later , I managed to do of him . But my drawing , of course , is much less charming than its model . It ' s not my fault . I was discouraged in my career as a painter by the grownups , at the age of six , and I hadn ' t learned to draw anything except boa constrictors , closed and open . I stared at this sudden apparition wide eyed with astonishment . Remember that I was a thousand miles from any inhabited region . And yet this little fellow seemed neither lost , nor half - dead with fatigue , nor starved or dying of thirst or fear . He looked nothing like a child lost in the middle of the desert , a thousand miles from any inhabited region . When I finally managed to speak , I said : “ But — what are you doing here ? ” And he repeated , very slowly , as if it was something very serious : “ Please ... draw me a sheep ... ” When a mystery is too overpowering , one dare not disobey . Absurd as it seemed to me a thousand miles from any human habitation and in danger of death , I took out of my pocket a sheet of paper and a pen . But then I remembered that I had mainly studied geography , history , arithmetic and grammar , and I told the little fellow ( a little crossly ) that I didn ’ t know how to draw . He replied : “ It doesn ' t matter . Draw me a sheep . ” As I ’ d never drawn a sheep , I redrew for him one of the only two drawings that I was capable of . The one of the closed boa constrictor . And I was astounded to hear the little fellow respond : “ No ! No ! I don ’ t want an elephant inside a boa constrictor .\",\n",
       " \"But my drawing , of course , is much less charming than its model . It ' s not my fault . I was discouraged in my career as a painter by the grownups , at the age of six , and I hadn ' t learned to draw anything except boa constrictors , closed and open . I stared at this sudden apparition wide eyed with astonishment . Remember that I was a thousand miles from any inhabited region . And yet this little fellow seemed neither lost , nor half - dead with fatigue , nor starved or dying of thirst or fear . He looked nothing like a child lost in the middle of the desert , a thousand miles from any inhabited region . When I finally managed to speak , I said : “ But — what are you doing here ? ” And he repeated , very slowly , as if it was something very serious : “ Please ... draw me a sheep ... ” When a mystery is too overpowering , one dare not disobey . Absurd as it seemed to me a thousand miles from any human habitation and in danger of death , I took out of my pocket a sheet of paper and a pen . But then I remembered that I had mainly studied geography , history , arithmetic and grammar , and I told the little fellow ( a little crossly ) that I didn ’ t know how to draw . He replied : “ It doesn ' t matter . Draw me a sheep . ” As I ’ d never drawn a sheep , I redrew for him one of the only two drawings that I was capable of . The one of the closed boa constrictor . And I was astounded to hear the little fellow respond : “ No ! No ! I don ’ t want an elephant inside a boa constrictor . A boa constrictor is very dangerous , and an elephant is very cumbersome .\",\n",
       " \"It ' s not my fault . I was discouraged in my career as a painter by the grownups , at the age of six , and I hadn ' t learned to draw anything except boa constrictors , closed and open . I stared at this sudden apparition wide eyed with astonishment . Remember that I was a thousand miles from any inhabited region . And yet this little fellow seemed neither lost , nor half - dead with fatigue , nor starved or dying of thirst or fear . He looked nothing like a child lost in the middle of the desert , a thousand miles from any inhabited region . When I finally managed to speak , I said : “ But — what are you doing here ? ” And he repeated , very slowly , as if it was something very serious : “ Please ... draw me a sheep ... ” When a mystery is too overpowering , one dare not disobey . Absurd as it seemed to me a thousand miles from any human habitation and in danger of death , I took out of my pocket a sheet of paper and a pen . But then I remembered that I had mainly studied geography , history , arithmetic and grammar , and I told the little fellow ( a little crossly ) that I didn ’ t know how to draw . He replied : “ It doesn ' t matter . Draw me a sheep . ” As I ’ d never drawn a sheep , I redrew for him one of the only two drawings that I was capable of . The one of the closed boa constrictor . And I was astounded to hear the little fellow respond : “ No ! No ! I don ’ t want an elephant inside a boa constrictor . A boa constrictor is very dangerous , and an elephant is very cumbersome . Where I live everything is very small .\",\n",
       " \"I was discouraged in my career as a painter by the grownups , at the age of six , and I hadn ' t learned to draw anything except boa constrictors , closed and open . I stared at this sudden apparition wide eyed with astonishment . Remember that I was a thousand miles from any inhabited region . And yet this little fellow seemed neither lost , nor half - dead with fatigue , nor starved or dying of thirst or fear . He looked nothing like a child lost in the middle of the desert , a thousand miles from any inhabited region . When I finally managed to speak , I said : “ But — what are you doing here ? ” And he repeated , very slowly , as if it was something very serious : “ Please ... draw me a sheep ... ” When a mystery is too overpowering , one dare not disobey . Absurd as it seemed to me a thousand miles from any human habitation and in danger of death , I took out of my pocket a sheet of paper and a pen . But then I remembered that I had mainly studied geography , history , arithmetic and grammar , and I told the little fellow ( a little crossly ) that I didn ’ t know how to draw . He replied : “ It doesn ' t matter . Draw me a sheep . ” As I ’ d never drawn a sheep , I redrew for him one of the only two drawings that I was capable of . The one of the closed boa constrictor . And I was astounded to hear the little fellow respond : “ No ! No ! I don ’ t want an elephant inside a boa constrictor . A boa constrictor is very dangerous , and an elephant is very cumbersome . Where I live everything is very small . I need a sheep .\",\n",
       " \"I stared at this sudden apparition wide eyed with astonishment . Remember that I was a thousand miles from any inhabited region . And yet this little fellow seemed neither lost , nor half - dead with fatigue , nor starved or dying of thirst or fear . He looked nothing like a child lost in the middle of the desert , a thousand miles from any inhabited region . When I finally managed to speak , I said : “ But — what are you doing here ? ” And he repeated , very slowly , as if it was something very serious : “ Please ... draw me a sheep ... ” When a mystery is too overpowering , one dare not disobey . Absurd as it seemed to me a thousand miles from any human habitation and in danger of death , I took out of my pocket a sheet of paper and a pen . But then I remembered that I had mainly studied geography , history , arithmetic and grammar , and I told the little fellow ( a little crossly ) that I didn ’ t know how to draw . He replied : “ It doesn ' t matter . Draw me a sheep . ” As I ’ d never drawn a sheep , I redrew for him one of the only two drawings that I was capable of . The one of the closed boa constrictor . And I was astounded to hear the little fellow respond : “ No ! No ! I don ’ t want an elephant inside a boa constrictor . A boa constrictor is very dangerous , and an elephant is very cumbersome . Where I live everything is very small . I need a sheep . Draw me a sheep . ”\",\n",
       " \"Remember that I was a thousand miles from any inhabited region . And yet this little fellow seemed neither lost , nor half - dead with fatigue , nor starved or dying of thirst or fear . He looked nothing like a child lost in the middle of the desert , a thousand miles from any inhabited region . When I finally managed to speak , I said : “ But — what are you doing here ? ” And he repeated , very slowly , as if it was something very serious : “ Please ... draw me a sheep ... ” When a mystery is too overpowering , one dare not disobey . Absurd as it seemed to me a thousand miles from any human habitation and in danger of death , I took out of my pocket a sheet of paper and a pen . But then I remembered that I had mainly studied geography , history , arithmetic and grammar , and I told the little fellow ( a little crossly ) that I didn ’ t know how to draw . He replied : “ It doesn ' t matter . Draw me a sheep . ” As I ’ d never drawn a sheep , I redrew for him one of the only two drawings that I was capable of . The one of the closed boa constrictor . And I was astounded to hear the little fellow respond : “ No ! No ! I don ’ t want an elephant inside a boa constrictor . A boa constrictor is very dangerous , and an elephant is very cumbersome . Where I live everything is very small . I need a sheep . Draw me a sheep . ” So I drew .\",\n",
       " \"And yet this little fellow seemed neither lost , nor half - dead with fatigue , nor starved or dying of thirst or fear . He looked nothing like a child lost in the middle of the desert , a thousand miles from any inhabited region . When I finally managed to speak , I said : “ But — what are you doing here ? ” And he repeated , very slowly , as if it was something very serious : “ Please ... draw me a sheep ... ” When a mystery is too overpowering , one dare not disobey . Absurd as it seemed to me a thousand miles from any human habitation and in danger of death , I took out of my pocket a sheet of paper and a pen . But then I remembered that I had mainly studied geography , history , arithmetic and grammar , and I told the little fellow ( a little crossly ) that I didn ’ t know how to draw . He replied : “ It doesn ' t matter . Draw me a sheep . ” As I ’ d never drawn a sheep , I redrew for him one of the only two drawings that I was capable of . The one of the closed boa constrictor . And I was astounded to hear the little fellow respond : “ No ! No ! I don ’ t want an elephant inside a boa constrictor . A boa constrictor is very dangerous , and an elephant is very cumbersome . Where I live everything is very small . I need a sheep . Draw me a sheep . ” So I drew . He looked carefully , then said : “ No !\",\n",
       " \"He looked nothing like a child lost in the middle of the desert , a thousand miles from any inhabited region . When I finally managed to speak , I said : “ But — what are you doing here ? ” And he repeated , very slowly , as if it was something very serious : “ Please ... draw me a sheep ... ” When a mystery is too overpowering , one dare not disobey . Absurd as it seemed to me a thousand miles from any human habitation and in danger of death , I took out of my pocket a sheet of paper and a pen . But then I remembered that I had mainly studied geography , history , arithmetic and grammar , and I told the little fellow ( a little crossly ) that I didn ’ t know how to draw . He replied : “ It doesn ' t matter . Draw me a sheep . ” As I ’ d never drawn a sheep , I redrew for him one of the only two drawings that I was capable of . The one of the closed boa constrictor . And I was astounded to hear the little fellow respond : “ No ! No ! I don ’ t want an elephant inside a boa constrictor . A boa constrictor is very dangerous , and an elephant is very cumbersome . Where I live everything is very small . I need a sheep . Draw me a sheep . ” So I drew . He looked carefully , then said : “ No ! This one ’ s already very sick .\",\n",
       " \"When I finally managed to speak , I said : “ But — what are you doing here ? ” And he repeated , very slowly , as if it was something very serious : “ Please ... draw me a sheep ... ” When a mystery is too overpowering , one dare not disobey . Absurd as it seemed to me a thousand miles from any human habitation and in danger of death , I took out of my pocket a sheet of paper and a pen . But then I remembered that I had mainly studied geography , history , arithmetic and grammar , and I told the little fellow ( a little crossly ) that I didn ’ t know how to draw . He replied : “ It doesn ' t matter . Draw me a sheep . ” As I ’ d never drawn a sheep , I redrew for him one of the only two drawings that I was capable of . The one of the closed boa constrictor . And I was astounded to hear the little fellow respond : “ No ! No ! I don ’ t want an elephant inside a boa constrictor . A boa constrictor is very dangerous , and an elephant is very cumbersome . Where I live everything is very small . I need a sheep . Draw me a sheep . ” So I drew . He looked carefully , then said : “ No ! This one ’ s already very sick . Make another one . ”\",\n",
       " \"And he repeated , very slowly , as if it was something very serious : “ Please ... draw me a sheep ... ” When a mystery is too overpowering , one dare not disobey . Absurd as it seemed to me a thousand miles from any human habitation and in danger of death , I took out of my pocket a sheet of paper and a pen . But then I remembered that I had mainly studied geography , history , arithmetic and grammar , and I told the little fellow ( a little crossly ) that I didn ’ t know how to draw . He replied : “ It doesn ' t matter . Draw me a sheep . ” As I ’ d never drawn a sheep , I redrew for him one of the only two drawings that I was capable of . The one of the closed boa constrictor . And I was astounded to hear the little fellow respond : “ No ! No ! I don ’ t want an elephant inside a boa constrictor . A boa constrictor is very dangerous , and an elephant is very cumbersome . Where I live everything is very small . I need a sheep . Draw me a sheep . ” So I drew . He looked carefully , then said : “ No ! This one ’ s already very sick . Make another one . ” I drew again : My friend smiled gently and indulgently : “ You can see yourself ...\",\n",
       " \"draw me a sheep ... ” When a mystery is too overpowering , one dare not disobey . Absurd as it seemed to me a thousand miles from any human habitation and in danger of death , I took out of my pocket a sheet of paper and a pen . But then I remembered that I had mainly studied geography , history , arithmetic and grammar , and I told the little fellow ( a little crossly ) that I didn ’ t know how to draw . He replied : “ It doesn ' t matter . Draw me a sheep . ” As I ’ d never drawn a sheep , I redrew for him one of the only two drawings that I was capable of . The one of the closed boa constrictor . And I was astounded to hear the little fellow respond : “ No ! No ! I don ’ t want an elephant inside a boa constrictor . A boa constrictor is very dangerous , and an elephant is very cumbersome . Where I live everything is very small . I need a sheep . Draw me a sheep . ” So I drew . He looked carefully , then said : “ No ! This one ’ s already very sick . Make another one . ” I drew again : My friend smiled gently and indulgently : “ You can see yourself ... this isn ’ t a sheep , it ' s a ram .\",\n",
       " \"When a mystery is too overpowering , one dare not disobey . Absurd as it seemed to me a thousand miles from any human habitation and in danger of death , I took out of my pocket a sheet of paper and a pen . But then I remembered that I had mainly studied geography , history , arithmetic and grammar , and I told the little fellow ( a little crossly ) that I didn ’ t know how to draw . He replied : “ It doesn ' t matter . Draw me a sheep . ” As I ’ d never drawn a sheep , I redrew for him one of the only two drawings that I was capable of . The one of the closed boa constrictor . And I was astounded to hear the little fellow respond : “ No ! No ! I don ’ t want an elephant inside a boa constrictor . A boa constrictor is very dangerous , and an elephant is very cumbersome . Where I live everything is very small . I need a sheep . Draw me a sheep . ” So I drew . He looked carefully , then said : “ No ! This one ’ s already very sick . Make another one . ” I drew again : My friend smiled gently and indulgently : “ You can see yourself ... this isn ’ t a sheep , it ' s a ram . It has horns ...\",\n",
       " \"Absurd as it seemed to me a thousand miles from any human habitation and in danger of death , I took out of my pocket a sheet of paper and a pen . But then I remembered that I had mainly studied geography , history , arithmetic and grammar , and I told the little fellow ( a little crossly ) that I didn ’ t know how to draw . He replied : “ It doesn ' t matter . Draw me a sheep . ” As I ’ d never drawn a sheep , I redrew for him one of the only two drawings that I was capable of . The one of the closed boa constrictor . And I was astounded to hear the little fellow respond : “ No ! No ! I don ’ t want an elephant inside a boa constrictor . A boa constrictor is very dangerous , and an elephant is very cumbersome . Where I live everything is very small . I need a sheep . Draw me a sheep . ” So I drew . He looked carefully , then said : “ No ! This one ’ s already very sick . Make another one . ” I drew again : My friend smiled gently and indulgently : “ You can see yourself ... this isn ’ t a sheep , it ' s a ram . It has horns ... “ So once again I redid my drawing : But it was rejected , like the previous ones : “ This one ’ s too old .\",\n",
       " \"But then I remembered that I had mainly studied geography , history , arithmetic and grammar , and I told the little fellow ( a little crossly ) that I didn ’ t know how to draw . He replied : “ It doesn ' t matter . Draw me a sheep . ” As I ’ d never drawn a sheep , I redrew for him one of the only two drawings that I was capable of . The one of the closed boa constrictor . And I was astounded to hear the little fellow respond : “ No ! No ! I don ’ t want an elephant inside a boa constrictor . A boa constrictor is very dangerous , and an elephant is very cumbersome . Where I live everything is very small . I need a sheep . Draw me a sheep . ” So I drew . He looked carefully , then said : “ No ! This one ’ s already very sick . Make another one . ” I drew again : My friend smiled gently and indulgently : “ You can see yourself ... this isn ’ t a sheep , it ' s a ram . It has horns ... “ So once again I redid my drawing : But it was rejected , like the previous ones : “ This one ’ s too old . I want a sheep that will live a long time . ”\",\n",
       " \"He replied : “ It doesn ' t matter . Draw me a sheep . ” As I ’ d never drawn a sheep , I redrew for him one of the only two drawings that I was capable of . The one of the closed boa constrictor . And I was astounded to hear the little fellow respond : “ No ! No ! I don ’ t want an elephant inside a boa constrictor . A boa constrictor is very dangerous , and an elephant is very cumbersome . Where I live everything is very small . I need a sheep . Draw me a sheep . ” So I drew . He looked carefully , then said : “ No ! This one ’ s already very sick . Make another one . ” I drew again : My friend smiled gently and indulgently : “ You can see yourself ... this isn ’ t a sheep , it ' s a ram . It has horns ... “ So once again I redid my drawing : But it was rejected , like the previous ones : “ This one ’ s too old . I want a sheep that will live a long time . ” So , getting impatient , as I was eager to start dismantling my engine , I hastily sketched this drawing : And I snapped : “ This here is the box .\",\n",
       " \"Draw me a sheep . ” As I ’ d never drawn a sheep , I redrew for him one of the only two drawings that I was capable of . The one of the closed boa constrictor . And I was astounded to hear the little fellow respond : “ No ! No ! I don ’ t want an elephant inside a boa constrictor . A boa constrictor is very dangerous , and an elephant is very cumbersome . Where I live everything is very small . I need a sheep . Draw me a sheep . ” So I drew . He looked carefully , then said : “ No ! This one ’ s already very sick . Make another one . ” I drew again : My friend smiled gently and indulgently : “ You can see yourself ... this isn ’ t a sheep , it ' s a ram . It has horns ... “ So once again I redid my drawing : But it was rejected , like the previous ones : “ This one ’ s too old . I want a sheep that will live a long time . ” So , getting impatient , as I was eager to start dismantling my engine , I hastily sketched this drawing : And I snapped : “ This here is the box . The sheep you want is inside . ”\",\n",
       " \"As I ’ d never drawn a sheep , I redrew for him one of the only two drawings that I was capable of . The one of the closed boa constrictor . And I was astounded to hear the little fellow respond : “ No ! No ! I don ’ t want an elephant inside a boa constrictor . A boa constrictor is very dangerous , and an elephant is very cumbersome . Where I live everything is very small . I need a sheep . Draw me a sheep . ” So I drew . He looked carefully , then said : “ No ! This one ’ s already very sick . Make another one . ” I drew again : My friend smiled gently and indulgently : “ You can see yourself ... this isn ’ t a sheep , it ' s a ram . It has horns ... “ So once again I redid my drawing : But it was rejected , like the previous ones : “ This one ’ s too old . I want a sheep that will live a long time . ” So , getting impatient , as I was eager to start dismantling my engine , I hastily sketched this drawing : And I snapped : “ This here is the box . The sheep you want is inside . ” But I was very surprised to see the face of my young judge light up : “ It ' s exactly the way I wanted !\",\n",
       " \"The one of the closed boa constrictor . And I was astounded to hear the little fellow respond : “ No ! No ! I don ’ t want an elephant inside a boa constrictor . A boa constrictor is very dangerous , and an elephant is very cumbersome . Where I live everything is very small . I need a sheep . Draw me a sheep . ” So I drew . He looked carefully , then said : “ No ! This one ’ s already very sick . Make another one . ” I drew again : My friend smiled gently and indulgently : “ You can see yourself ... this isn ’ t a sheep , it ' s a ram . It has horns ... “ So once again I redid my drawing : But it was rejected , like the previous ones : “ This one ’ s too old . I want a sheep that will live a long time . ” So , getting impatient , as I was eager to start dismantling my engine , I hastily sketched this drawing : And I snapped : “ This here is the box . The sheep you want is inside . ” But I was very surprised to see the face of my young judge light up : “ It ' s exactly the way I wanted ! Do you think this sheep needs a lot of grass ? ”\",\n",
       " \"And I was astounded to hear the little fellow respond : “ No ! No ! I don ’ t want an elephant inside a boa constrictor . A boa constrictor is very dangerous , and an elephant is very cumbersome . Where I live everything is very small . I need a sheep . Draw me a sheep . ” So I drew . He looked carefully , then said : “ No ! This one ’ s already very sick . Make another one . ” I drew again : My friend smiled gently and indulgently : “ You can see yourself ... this isn ’ t a sheep , it ' s a ram . It has horns ... “ So once again I redid my drawing : But it was rejected , like the previous ones : “ This one ’ s too old . I want a sheep that will live a long time . ” So , getting impatient , as I was eager to start dismantling my engine , I hastily sketched this drawing : And I snapped : “ This here is the box . The sheep you want is inside . ” But I was very surprised to see the face of my young judge light up : “ It ' s exactly the way I wanted ! Do you think this sheep needs a lot of grass ? ” “ Why ? ”\",\n",
       " \"No ! I don ’ t want an elephant inside a boa constrictor . A boa constrictor is very dangerous , and an elephant is very cumbersome . Where I live everything is very small . I need a sheep . Draw me a sheep . ” So I drew . He looked carefully , then said : “ No ! This one ’ s already very sick . Make another one . ” I drew again : My friend smiled gently and indulgently : “ You can see yourself ... this isn ’ t a sheep , it ' s a ram . It has horns ... “ So once again I redid my drawing : But it was rejected , like the previous ones : “ This one ’ s too old . I want a sheep that will live a long time . ” So , getting impatient , as I was eager to start dismantling my engine , I hastily sketched this drawing : And I snapped : “ This here is the box . The sheep you want is inside . ” But I was very surprised to see the face of my young judge light up : “ It ' s exactly the way I wanted ! Do you think this sheep needs a lot of grass ? ” “ Why ? ” “ Because where I ' m from everything is very small ... ”\",\n",
       " \"I don ’ t want an elephant inside a boa constrictor . A boa constrictor is very dangerous , and an elephant is very cumbersome . Where I live everything is very small . I need a sheep . Draw me a sheep . ” So I drew . He looked carefully , then said : “ No ! This one ’ s already very sick . Make another one . ” I drew again : My friend smiled gently and indulgently : “ You can see yourself ... this isn ’ t a sheep , it ' s a ram . It has horns ... “ So once again I redid my drawing : But it was rejected , like the previous ones : “ This one ’ s too old . I want a sheep that will live a long time . ” So , getting impatient , as I was eager to start dismantling my engine , I hastily sketched this drawing : And I snapped : “ This here is the box . The sheep you want is inside . ” But I was very surprised to see the face of my young judge light up : “ It ' s exactly the way I wanted ! Do you think this sheep needs a lot of grass ? ” “ Why ? ” “ Because where I ' m from everything is very small ... ” “ There will certainly be enough .\",\n",
       " \"A boa constrictor is very dangerous , and an elephant is very cumbersome . Where I live everything is very small . I need a sheep . Draw me a sheep . ” So I drew . He looked carefully , then said : “ No ! This one ’ s already very sick . Make another one . ” I drew again : My friend smiled gently and indulgently : “ You can see yourself ... this isn ’ t a sheep , it ' s a ram . It has horns ... “ So once again I redid my drawing : But it was rejected , like the previous ones : “ This one ’ s too old . I want a sheep that will live a long time . ” So , getting impatient , as I was eager to start dismantling my engine , I hastily sketched this drawing : And I snapped : “ This here is the box . The sheep you want is inside . ” But I was very surprised to see the face of my young judge light up : “ It ' s exactly the way I wanted ! Do you think this sheep needs a lot of grass ? ” “ Why ? ” “ Because where I ' m from everything is very small ... ” “ There will certainly be enough . I gave you a very small sheep . ”\",\n",
       " \"Where I live everything is very small . I need a sheep . Draw me a sheep . ” So I drew . He looked carefully , then said : “ No ! This one ’ s already very sick . Make another one . ” I drew again : My friend smiled gently and indulgently : “ You can see yourself ... this isn ’ t a sheep , it ' s a ram . It has horns ... “ So once again I redid my drawing : But it was rejected , like the previous ones : “ This one ’ s too old . I want a sheep that will live a long time . ” So , getting impatient , as I was eager to start dismantling my engine , I hastily sketched this drawing : And I snapped : “ This here is the box . The sheep you want is inside . ” But I was very surprised to see the face of my young judge light up : “ It ' s exactly the way I wanted ! Do you think this sheep needs a lot of grass ? ” “ Why ? ” “ Because where I ' m from everything is very small ... ” “ There will certainly be enough . I gave you a very small sheep . ” He leaned his head towards the drawing : “ Not that small ...\",\n",
       " \"I need a sheep . Draw me a sheep . ” So I drew . He looked carefully , then said : “ No ! This one ’ s already very sick . Make another one . ” I drew again : My friend smiled gently and indulgently : “ You can see yourself ... this isn ’ t a sheep , it ' s a ram . It has horns ... “ So once again I redid my drawing : But it was rejected , like the previous ones : “ This one ’ s too old . I want a sheep that will live a long time . ” So , getting impatient , as I was eager to start dismantling my engine , I hastily sketched this drawing : And I snapped : “ This here is the box . The sheep you want is inside . ” But I was very surprised to see the face of my young judge light up : “ It ' s exactly the way I wanted ! Do you think this sheep needs a lot of grass ? ” “ Why ? ” “ Because where I ' m from everything is very small ... ” “ There will certainly be enough . I gave you a very small sheep . ” He leaned his head towards the drawing : “ Not that small ... Look !\",\n",
       " \"Draw me a sheep . ” So I drew . He looked carefully , then said : “ No ! This one ’ s already very sick . Make another one . ” I drew again : My friend smiled gently and indulgently : “ You can see yourself ... this isn ’ t a sheep , it ' s a ram . It has horns ... “ So once again I redid my drawing : But it was rejected , like the previous ones : “ This one ’ s too old . I want a sheep that will live a long time . ” So , getting impatient , as I was eager to start dismantling my engine , I hastily sketched this drawing : And I snapped : “ This here is the box . The sheep you want is inside . ” But I was very surprised to see the face of my young judge light up : “ It ' s exactly the way I wanted ! Do you think this sheep needs a lot of grass ? ” “ Why ? ” “ Because where I ' m from everything is very small ... ” “ There will certainly be enough . I gave you a very small sheep . ” He leaned his head towards the drawing : “ Not that small ... Look ! He ' s fallen asleep ... ”\",\n",
       " \"So I drew . He looked carefully , then said : “ No ! This one ’ s already very sick . Make another one . ” I drew again : My friend smiled gently and indulgently : “ You can see yourself ... this isn ’ t a sheep , it ' s a ram . It has horns ... “ So once again I redid my drawing : But it was rejected , like the previous ones : “ This one ’ s too old . I want a sheep that will live a long time . ” So , getting impatient , as I was eager to start dismantling my engine , I hastily sketched this drawing : And I snapped : “ This here is the box . The sheep you want is inside . ” But I was very surprised to see the face of my young judge light up : “ It ' s exactly the way I wanted ! Do you think this sheep needs a lot of grass ? ” “ Why ? ” “ Because where I ' m from everything is very small ... ” “ There will certainly be enough . I gave you a very small sheep . ” He leaned his head towards the drawing : “ Not that small ... Look ! He ' s fallen asleep ... ” And that ' s how I met the little prince .\",\n",
       " \"He looked carefully , then said : “ No ! This one ’ s already very sick . Make another one . ” I drew again : My friend smiled gently and indulgently : “ You can see yourself ... this isn ’ t a sheep , it ' s a ram . It has horns ... “ So once again I redid my drawing : But it was rejected , like the previous ones : “ This one ’ s too old . I want a sheep that will live a long time . ” So , getting impatient , as I was eager to start dismantling my engine , I hastily sketched this drawing : And I snapped : “ This here is the box . The sheep you want is inside . ” But I was very surprised to see the face of my young judge light up : “ It ' s exactly the way I wanted ! Do you think this sheep needs a lot of grass ? ” “ Why ? ” “ Because where I ' m from everything is very small ... ” “ There will certainly be enough . I gave you a very small sheep . ” He leaned his head towards the drawing : “ Not that small ... Look ! He ' s fallen asleep ... ” And that ' s how I met the little prince . It took me a long time to find out where he came from .\",\n",
       " \"This one ’ s already very sick . Make another one . ” I drew again : My friend smiled gently and indulgently : “ You can see yourself ... this isn ’ t a sheep , it ' s a ram . It has horns ... “ So once again I redid my drawing : But it was rejected , like the previous ones : “ This one ’ s too old . I want a sheep that will live a long time . ” So , getting impatient , as I was eager to start dismantling my engine , I hastily sketched this drawing : And I snapped : “ This here is the box . The sheep you want is inside . ” But I was very surprised to see the face of my young judge light up : “ It ' s exactly the way I wanted ! Do you think this sheep needs a lot of grass ? ” “ Why ? ” “ Because where I ' m from everything is very small ... ” “ There will certainly be enough . I gave you a very small sheep . ” He leaned his head towards the drawing : “ Not that small ... Look ! He ' s fallen asleep ... ” And that ' s how I met the little prince . It took me a long time to find out where he came from . The little prince , who asked me many questions , never seemed to hear my own .\",\n",
       " \"Make another one . ” I drew again : My friend smiled gently and indulgently : “ You can see yourself ... this isn ’ t a sheep , it ' s a ram . It has horns ... “ So once again I redid my drawing : But it was rejected , like the previous ones : “ This one ’ s too old . I want a sheep that will live a long time . ” So , getting impatient , as I was eager to start dismantling my engine , I hastily sketched this drawing : And I snapped : “ This here is the box . The sheep you want is inside . ” But I was very surprised to see the face of my young judge light up : “ It ' s exactly the way I wanted ! Do you think this sheep needs a lot of grass ? ” “ Why ? ” “ Because where I ' m from everything is very small ... ” “ There will certainly be enough . I gave you a very small sheep . ” He leaned his head towards the drawing : “ Not that small ... Look ! He ' s fallen asleep ... ” And that ' s how I met the little prince . It took me a long time to find out where he came from . The little prince , who asked me many questions , never seemed to hear my own . It was the words spoken by chance that , little by little , revealed everything to me .\",\n",
       " \"I drew again : My friend smiled gently and indulgently : “ You can see yourself ... this isn ’ t a sheep , it ' s a ram . It has horns ... “ So once again I redid my drawing : But it was rejected , like the previous ones : “ This one ’ s too old . I want a sheep that will live a long time . ” So , getting impatient , as I was eager to start dismantling my engine , I hastily sketched this drawing : And I snapped : “ This here is the box . The sheep you want is inside . ” But I was very surprised to see the face of my young judge light up : “ It ' s exactly the way I wanted ! Do you think this sheep needs a lot of grass ? ” “ Why ? ” “ Because where I ' m from everything is very small ... ” “ There will certainly be enough . I gave you a very small sheep . ” He leaned his head towards the drawing : “ Not that small ... Look ! He ' s fallen asleep ... ” And that ' s how I met the little prince . It took me a long time to find out where he came from . The little prince , who asked me many questions , never seemed to hear my own . It was the words spoken by chance that , little by little , revealed everything to me . So , when he saw my airplane for the first time ( I won ’ t draw my airplane , it would be a drawing far too complicated for me ) , he asked me : “ What ' s that thing there ? ”\",\n",
       " \"this isn ’ t a sheep , it ' s a ram . It has horns ... “ So once again I redid my drawing : But it was rejected , like the previous ones : “ This one ’ s too old . I want a sheep that will live a long time . ” So , getting impatient , as I was eager to start dismantling my engine , I hastily sketched this drawing : And I snapped : “ This here is the box . The sheep you want is inside . ” But I was very surprised to see the face of my young judge light up : “ It ' s exactly the way I wanted ! Do you think this sheep needs a lot of grass ? ” “ Why ? ” “ Because where I ' m from everything is very small ... ” “ There will certainly be enough . I gave you a very small sheep . ” He leaned his head towards the drawing : “ Not that small ... Look ! He ' s fallen asleep ... ” And that ' s how I met the little prince . It took me a long time to find out where he came from . The little prince , who asked me many questions , never seemed to hear my own . It was the words spoken by chance that , little by little , revealed everything to me . So , when he saw my airplane for the first time ( I won ’ t draw my airplane , it would be a drawing far too complicated for me ) , he asked me : “ What ' s that thing there ? ” “ It ' s not a thing .\",\n",
       " \"It has horns ... “ So once again I redid my drawing : But it was rejected , like the previous ones : “ This one ’ s too old . I want a sheep that will live a long time . ” So , getting impatient , as I was eager to start dismantling my engine , I hastily sketched this drawing : And I snapped : “ This here is the box . The sheep you want is inside . ” But I was very surprised to see the face of my young judge light up : “ It ' s exactly the way I wanted ! Do you think this sheep needs a lot of grass ? ” “ Why ? ” “ Because where I ' m from everything is very small ... ” “ There will certainly be enough . I gave you a very small sheep . ” He leaned his head towards the drawing : “ Not that small ... Look ! He ' s fallen asleep ... ” And that ' s how I met the little prince . It took me a long time to find out where he came from . The little prince , who asked me many questions , never seemed to hear my own . It was the words spoken by chance that , little by little , revealed everything to me . So , when he saw my airplane for the first time ( I won ’ t draw my airplane , it would be a drawing far too complicated for me ) , he asked me : “ What ' s that thing there ? ” “ It ' s not a thing . It flies .\",\n",
       " \"“ So once again I redid my drawing : But it was rejected , like the previous ones : “ This one ’ s too old . I want a sheep that will live a long time . ” So , getting impatient , as I was eager to start dismantling my engine , I hastily sketched this drawing : And I snapped : “ This here is the box . The sheep you want is inside . ” But I was very surprised to see the face of my young judge light up : “ It ' s exactly the way I wanted ! Do you think this sheep needs a lot of grass ? ” “ Why ? ” “ Because where I ' m from everything is very small ... ” “ There will certainly be enough . I gave you a very small sheep . ” He leaned his head towards the drawing : “ Not that small ... Look ! He ' s fallen asleep ... ” And that ' s how I met the little prince . It took me a long time to find out where he came from . The little prince , who asked me many questions , never seemed to hear my own . It was the words spoken by chance that , little by little , revealed everything to me . So , when he saw my airplane for the first time ( I won ’ t draw my airplane , it would be a drawing far too complicated for me ) , he asked me : “ What ' s that thing there ? ” “ It ' s not a thing . It flies . It ' s an airplane .\",\n",
       " \"I want a sheep that will live a long time . ” So , getting impatient , as I was eager to start dismantling my engine , I hastily sketched this drawing : And I snapped : “ This here is the box . The sheep you want is inside . ” But I was very surprised to see the face of my young judge light up : “ It ' s exactly the way I wanted ! Do you think this sheep needs a lot of grass ? ” “ Why ? ” “ Because where I ' m from everything is very small ... ” “ There will certainly be enough . I gave you a very small sheep . ” He leaned his head towards the drawing : “ Not that small ... Look ! He ' s fallen asleep ... ” And that ' s how I met the little prince . It took me a long time to find out where he came from . The little prince , who asked me many questions , never seemed to hear my own . It was the words spoken by chance that , little by little , revealed everything to me . So , when he saw my airplane for the first time ( I won ’ t draw my airplane , it would be a drawing far too complicated for me ) , he asked me : “ What ' s that thing there ? ” “ It ' s not a thing . It flies . It ' s an airplane . It ’ s my airplane . ”\",\n",
       " \"So , getting impatient , as I was eager to start dismantling my engine , I hastily sketched this drawing : And I snapped : “ This here is the box . The sheep you want is inside . ” But I was very surprised to see the face of my young judge light up : “ It ' s exactly the way I wanted ! Do you think this sheep needs a lot of grass ? ” “ Why ? ” “ Because where I ' m from everything is very small ... ” “ There will certainly be enough . I gave you a very small sheep . ” He leaned his head towards the drawing : “ Not that small ... Look ! He ' s fallen asleep ... ” And that ' s how I met the little prince . It took me a long time to find out where he came from . The little prince , who asked me many questions , never seemed to hear my own . It was the words spoken by chance that , little by little , revealed everything to me . So , when he saw my airplane for the first time ( I won ’ t draw my airplane , it would be a drawing far too complicated for me ) , he asked me : “ What ' s that thing there ? ” “ It ' s not a thing . It flies . It ' s an airplane . It ’ s my airplane . ” And I was proud to have him know that I could fly .\",\n",
       " \"The sheep you want is inside . ” But I was very surprised to see the face of my young judge light up : “ It ' s exactly the way I wanted ! Do you think this sheep needs a lot of grass ? ” “ Why ? ” “ Because where I ' m from everything is very small ... ” “ There will certainly be enough . I gave you a very small sheep . ” He leaned his head towards the drawing : “ Not that small ... Look ! He ' s fallen asleep ... ” And that ' s how I met the little prince . It took me a long time to find out where he came from . The little prince , who asked me many questions , never seemed to hear my own . It was the words spoken by chance that , little by little , revealed everything to me . So , when he saw my airplane for the first time ( I won ’ t draw my airplane , it would be a drawing far too complicated for me ) , he asked me : “ What ' s that thing there ? ” “ It ' s not a thing . It flies . It ' s an airplane . It ’ s my airplane . ” And I was proud to have him know that I could fly . Then he cried : “ What ?\",\n",
       " \"But I was very surprised to see the face of my young judge light up : “ It ' s exactly the way I wanted ! Do you think this sheep needs a lot of grass ? ” “ Why ? ” “ Because where I ' m from everything is very small ... ” “ There will certainly be enough . I gave you a very small sheep . ” He leaned his head towards the drawing : “ Not that small ... Look ! He ' s fallen asleep ... ” And that ' s how I met the little prince . It took me a long time to find out where he came from . The little prince , who asked me many questions , never seemed to hear my own . It was the words spoken by chance that , little by little , revealed everything to me . So , when he saw my airplane for the first time ( I won ’ t draw my airplane , it would be a drawing far too complicated for me ) , he asked me : “ What ' s that thing there ? ” “ It ' s not a thing . It flies . It ' s an airplane . It ’ s my airplane . ” And I was proud to have him know that I could fly . Then he cried : “ What ? You fell from the sky ! ”\",\n",
       " \"Do you think this sheep needs a lot of grass ? ” “ Why ? ” “ Because where I ' m from everything is very small ... ” “ There will certainly be enough . I gave you a very small sheep . ” He leaned his head towards the drawing : “ Not that small ... Look ! He ' s fallen asleep ... ” And that ' s how I met the little prince . It took me a long time to find out where he came from . The little prince , who asked me many questions , never seemed to hear my own . It was the words spoken by chance that , little by little , revealed everything to me . So , when he saw my airplane for the first time ( I won ’ t draw my airplane , it would be a drawing far too complicated for me ) , he asked me : “ What ' s that thing there ? ” “ It ' s not a thing . It flies . It ' s an airplane . It ’ s my airplane . ” And I was proud to have him know that I could fly . Then he cried : “ What ? You fell from the sky ! ” “ Yes , ” I said modestly .\",\n",
       " \"“ Why ? ” “ Because where I ' m from everything is very small ... ” “ There will certainly be enough . I gave you a very small sheep . ” He leaned his head towards the drawing : “ Not that small ... Look ! He ' s fallen asleep ... ” And that ' s how I met the little prince . It took me a long time to find out where he came from . The little prince , who asked me many questions , never seemed to hear my own . It was the words spoken by chance that , little by little , revealed everything to me . So , when he saw my airplane for the first time ( I won ’ t draw my airplane , it would be a drawing far too complicated for me ) , he asked me : “ What ' s that thing there ? ” “ It ' s not a thing . It flies . It ' s an airplane . It ’ s my airplane . ” And I was proud to have him know that I could fly . Then he cried : “ What ? You fell from the sky ! ” “ Yes , ” I said modestly . “ Oh !\",\n",
       " \"“ Because where I ' m from everything is very small ... ” “ There will certainly be enough . I gave you a very small sheep . ” He leaned his head towards the drawing : “ Not that small ... Look ! He ' s fallen asleep ... ” And that ' s how I met the little prince . It took me a long time to find out where he came from . The little prince , who asked me many questions , never seemed to hear my own . It was the words spoken by chance that , little by little , revealed everything to me . So , when he saw my airplane for the first time ( I won ’ t draw my airplane , it would be a drawing far too complicated for me ) , he asked me : “ What ' s that thing there ? ” “ It ' s not a thing . It flies . It ' s an airplane . It ’ s my airplane . ” And I was proud to have him know that I could fly . Then he cried : “ What ? You fell from the sky ! ” “ Yes , ” I said modestly . “ Oh ! That ' s funny !\",\n",
       " \"“ There will certainly be enough . I gave you a very small sheep . ” He leaned his head towards the drawing : “ Not that small ... Look ! He ' s fallen asleep ... ” And that ' s how I met the little prince . It took me a long time to find out where he came from . The little prince , who asked me many questions , never seemed to hear my own . It was the words spoken by chance that , little by little , revealed everything to me . So , when he saw my airplane for the first time ( I won ’ t draw my airplane , it would be a drawing far too complicated for me ) , he asked me : “ What ' s that thing there ? ” “ It ' s not a thing . It flies . It ' s an airplane . It ’ s my airplane . ” And I was proud to have him know that I could fly . Then he cried : “ What ? You fell from the sky ! ” “ Yes , ” I said modestly . “ Oh ! That ' s funny ! ... ”\",\n",
       " \"I gave you a very small sheep . ” He leaned his head towards the drawing : “ Not that small ... Look ! He ' s fallen asleep ... ” And that ' s how I met the little prince . It took me a long time to find out where he came from . The little prince , who asked me many questions , never seemed to hear my own . It was the words spoken by chance that , little by little , revealed everything to me . So , when he saw my airplane for the first time ( I won ’ t draw my airplane , it would be a drawing far too complicated for me ) , he asked me : “ What ' s that thing there ? ” “ It ' s not a thing . It flies . It ' s an airplane . It ’ s my airplane . ” And I was proud to have him know that I could fly . Then he cried : “ What ? You fell from the sky ! ” “ Yes , ” I said modestly . “ Oh ! That ' s funny ! ... ” And the little prince broke into a lovely peal of laughter , which irritated me very much .\",\n",
       " \"He leaned his head towards the drawing : “ Not that small ... Look ! He ' s fallen asleep ... ” And that ' s how I met the little prince . It took me a long time to find out where he came from . The little prince , who asked me many questions , never seemed to hear my own . It was the words spoken by chance that , little by little , revealed everything to me . So , when he saw my airplane for the first time ( I won ’ t draw my airplane , it would be a drawing far too complicated for me ) , he asked me : “ What ' s that thing there ? ” “ It ' s not a thing . It flies . It ' s an airplane . It ’ s my airplane . ” And I was proud to have him know that I could fly . Then he cried : “ What ? You fell from the sky ! ” “ Yes , ” I said modestly . “ Oh ! That ' s funny ! ... ” And the little prince broke into a lovely peal of laughter , which irritated me very much . I prefer people to take my misfortunes seriously .\",\n",
       " \"Look ! He ' s fallen asleep ... ” And that ' s how I met the little prince . It took me a long time to find out where he came from . The little prince , who asked me many questions , never seemed to hear my own . It was the words spoken by chance that , little by little , revealed everything to me . So , when he saw my airplane for the first time ( I won ’ t draw my airplane , it would be a drawing far too complicated for me ) , he asked me : “ What ' s that thing there ? ” “ It ' s not a thing . It flies . It ' s an airplane . It ’ s my airplane . ” And I was proud to have him know that I could fly . Then he cried : “ What ? You fell from the sky ! ” “ Yes , ” I said modestly . “ Oh ! That ' s funny ! ... ” And the little prince broke into a lovely peal of laughter , which irritated me very much . I prefer people to take my misfortunes seriously . Then he added : “ So , you also come from the sky !\",\n",
       " \"He ' s fallen asleep ... ” And that ' s how I met the little prince . It took me a long time to find out where he came from . The little prince , who asked me many questions , never seemed to hear my own . It was the words spoken by chance that , little by little , revealed everything to me . So , when he saw my airplane for the first time ( I won ’ t draw my airplane , it would be a drawing far too complicated for me ) , he asked me : “ What ' s that thing there ? ” “ It ' s not a thing . It flies . It ' s an airplane . It ’ s my airplane . ” And I was proud to have him know that I could fly . Then he cried : “ What ? You fell from the sky ! ” “ Yes , ” I said modestly . “ Oh ! That ' s funny ! ... ” And the little prince broke into a lovely peal of laughter , which irritated me very much . I prefer people to take my misfortunes seriously . Then he added : “ So , you also come from the sky ! What planet are you from ? ”\",\n",
       " \"And that ' s how I met the little prince . It took me a long time to find out where he came from . The little prince , who asked me many questions , never seemed to hear my own . It was the words spoken by chance that , little by little , revealed everything to me . So , when he saw my airplane for the first time ( I won ’ t draw my airplane , it would be a drawing far too complicated for me ) , he asked me : “ What ' s that thing there ? ” “ It ' s not a thing . It flies . It ' s an airplane . It ’ s my airplane . ” And I was proud to have him know that I could fly . Then he cried : “ What ? You fell from the sky ! ” “ Yes , ” I said modestly . “ Oh ! That ' s funny ! ... ” And the little prince broke into a lovely peal of laughter , which irritated me very much . I prefer people to take my misfortunes seriously . Then he added : “ So , you also come from the sky ! What planet are you from ? ” I caught a glimpse into the mystery of his presence , and I asked abruptly : “ So you come from another planet then ? ”\",\n",
       " \"It took me a long time to find out where he came from . The little prince , who asked me many questions , never seemed to hear my own . It was the words spoken by chance that , little by little , revealed everything to me . So , when he saw my airplane for the first time ( I won ’ t draw my airplane , it would be a drawing far too complicated for me ) , he asked me : “ What ' s that thing there ? ” “ It ' s not a thing . It flies . It ' s an airplane . It ’ s my airplane . ” And I was proud to have him know that I could fly . Then he cried : “ What ? You fell from the sky ! ” “ Yes , ” I said modestly . “ Oh ! That ' s funny ! ... ” And the little prince broke into a lovely peal of laughter , which irritated me very much . I prefer people to take my misfortunes seriously . Then he added : “ So , you also come from the sky ! What planet are you from ? ” I caught a glimpse into the mystery of his presence , and I asked abruptly : “ So you come from another planet then ? ” But he didn ’ t answer .\",\n",
       " \"The little prince , who asked me many questions , never seemed to hear my own . It was the words spoken by chance that , little by little , revealed everything to me . So , when he saw my airplane for the first time ( I won ’ t draw my airplane , it would be a drawing far too complicated for me ) , he asked me : “ What ' s that thing there ? ” “ It ' s not a thing . It flies . It ' s an airplane . It ’ s my airplane . ” And I was proud to have him know that I could fly . Then he cried : “ What ? You fell from the sky ! ” “ Yes , ” I said modestly . “ Oh ! That ' s funny ! ... ” And the little prince broke into a lovely peal of laughter , which irritated me very much . I prefer people to take my misfortunes seriously . Then he added : “ So , you also come from the sky ! What planet are you from ? ” I caught a glimpse into the mystery of his presence , and I asked abruptly : “ So you come from another planet then ? ” But he didn ’ t answer . He shook his head slowly whilst looking at my airplane : “ It ' s true that you can ' t have come from far away in that thing ... ”\",\n",
       " \"It was the words spoken by chance that , little by little , revealed everything to me . So , when he saw my airplane for the first time ( I won ’ t draw my airplane , it would be a drawing far too complicated for me ) , he asked me : “ What ' s that thing there ? ” “ It ' s not a thing . It flies . It ' s an airplane . It ’ s my airplane . ” And I was proud to have him know that I could fly . Then he cried : “ What ? You fell from the sky ! ” “ Yes , ” I said modestly . “ Oh ! That ' s funny ! ... ” And the little prince broke into a lovely peal of laughter , which irritated me very much . I prefer people to take my misfortunes seriously . Then he added : “ So , you also come from the sky ! What planet are you from ? ” I caught a glimpse into the mystery of his presence , and I asked abruptly : “ So you come from another planet then ? ” But he didn ’ t answer . He shook his head slowly whilst looking at my airplane : “ It ' s true that you can ' t have come from far away in that thing ... ” And he drifted into a daydream which lasted a long while .\",\n",
       " \"So , when he saw my airplane for the first time ( I won ’ t draw my airplane , it would be a drawing far too complicated for me ) , he asked me : “ What ' s that thing there ? ” “ It ' s not a thing . It flies . It ' s an airplane . It ’ s my airplane . ” And I was proud to have him know that I could fly . Then he cried : “ What ? You fell from the sky ! ” “ Yes , ” I said modestly . “ Oh ! That ' s funny ! ... ” And the little prince broke into a lovely peal of laughter , which irritated me very much . I prefer people to take my misfortunes seriously . Then he added : “ So , you also come from the sky ! What planet are you from ? ” I caught a glimpse into the mystery of his presence , and I asked abruptly : “ So you come from another planet then ? ” But he didn ’ t answer . He shook his head slowly whilst looking at my airplane : “ It ' s true that you can ' t have come from far away in that thing ... ” And he drifted into a daydream which lasted a long while . Then , taking my sheep out of his pocket , he sank himself into the contemplation of his treasure .\",\n",
       " \"“ It ' s not a thing . It flies . It ' s an airplane . It ’ s my airplane . ” And I was proud to have him know that I could fly . Then he cried : “ What ? You fell from the sky ! ” “ Yes , ” I said modestly . “ Oh ! That ' s funny ! ... ” And the little prince broke into a lovely peal of laughter , which irritated me very much . I prefer people to take my misfortunes seriously . Then he added : “ So , you also come from the sky ! What planet are you from ? ” I caught a glimpse into the mystery of his presence , and I asked abruptly : “ So you come from another planet then ? ” But he didn ’ t answer . He shook his head slowly whilst looking at my airplane : “ It ' s true that you can ' t have come from far away in that thing ... ” And he drifted into a daydream which lasted a long while . Then , taking my sheep out of his pocket , he sank himself into the contemplation of his treasure . You can imagine how my curiosity was aroused by this small disclosure about ‘ the other planets . ’\",\n",
       " \"It flies . It ' s an airplane . It ’ s my airplane . ” And I was proud to have him know that I could fly . Then he cried : “ What ? You fell from the sky ! ” “ Yes , ” I said modestly . “ Oh ! That ' s funny ! ... ” And the little prince broke into a lovely peal of laughter , which irritated me very much . I prefer people to take my misfortunes seriously . Then he added : “ So , you also come from the sky ! What planet are you from ? ” I caught a glimpse into the mystery of his presence , and I asked abruptly : “ So you come from another planet then ? ” But he didn ’ t answer . He shook his head slowly whilst looking at my airplane : “ It ' s true that you can ' t have come from far away in that thing ... ” And he drifted into a daydream which lasted a long while . Then , taking my sheep out of his pocket , he sank himself into the contemplation of his treasure . You can imagine how my curiosity was aroused by this small disclosure about ‘ the other planets . ’ So I tried to find out more : “ Where are you from my little fellow ?\",\n",
       " \"It ' s an airplane . It ’ s my airplane . ” And I was proud to have him know that I could fly . Then he cried : “ What ? You fell from the sky ! ” “ Yes , ” I said modestly . “ Oh ! That ' s funny ! ... ” And the little prince broke into a lovely peal of laughter , which irritated me very much . I prefer people to take my misfortunes seriously . Then he added : “ So , you also come from the sky ! What planet are you from ? ” I caught a glimpse into the mystery of his presence , and I asked abruptly : “ So you come from another planet then ? ” But he didn ’ t answer . He shook his head slowly whilst looking at my airplane : “ It ' s true that you can ' t have come from far away in that thing ... ” And he drifted into a daydream which lasted a long while . Then , taking my sheep out of his pocket , he sank himself into the contemplation of his treasure . You can imagine how my curiosity was aroused by this small disclosure about ‘ the other planets . ’ So I tried to find out more : “ Where are you from my little fellow ? Where ’ s this ‘ where I live ’ of yours ?\",\n",
       " \"It ’ s my airplane . ” And I was proud to have him know that I could fly . Then he cried : “ What ? You fell from the sky ! ” “ Yes , ” I said modestly . “ Oh ! That ' s funny ! ... ” And the little prince broke into a lovely peal of laughter , which irritated me very much . I prefer people to take my misfortunes seriously . Then he added : “ So , you also come from the sky ! What planet are you from ? ” I caught a glimpse into the mystery of his presence , and I asked abruptly : “ So you come from another planet then ? ” But he didn ’ t answer . He shook his head slowly whilst looking at my airplane : “ It ' s true that you can ' t have come from far away in that thing ... ” And he drifted into a daydream which lasted a long while . Then , taking my sheep out of his pocket , he sank himself into the contemplation of his treasure . You can imagine how my curiosity was aroused by this small disclosure about ‘ the other planets . ’ So I tried to find out more : “ Where are you from my little fellow ? Where ’ s this ‘ where I live ’ of yours ? Where do you take my sheep off to ? ”\",\n",
       " \"And I was proud to have him know that I could fly . Then he cried : “ What ? You fell from the sky ! ” “ Yes , ” I said modestly . “ Oh ! That ' s funny ! ... ” And the little prince broke into a lovely peal of laughter , which irritated me very much . I prefer people to take my misfortunes seriously . Then he added : “ So , you also come from the sky ! What planet are you from ? ” I caught a glimpse into the mystery of his presence , and I asked abruptly : “ So you come from another planet then ? ” But he didn ’ t answer . He shook his head slowly whilst looking at my airplane : “ It ' s true that you can ' t have come from far away in that thing ... ” And he drifted into a daydream which lasted a long while . Then , taking my sheep out of his pocket , he sank himself into the contemplation of his treasure . You can imagine how my curiosity was aroused by this small disclosure about ‘ the other planets . ’ So I tried to find out more : “ Where are you from my little fellow ? Where ’ s this ‘ where I live ’ of yours ? Where do you take my sheep off to ? ” After a reflective silence he answered : “ What ' s good about the box you ’ ve given me is that at night , he can use it as a house . ”\",\n",
       " \"Then he cried : “ What ? You fell from the sky ! ” “ Yes , ” I said modestly . “ Oh ! That ' s funny ! ... ” And the little prince broke into a lovely peal of laughter , which irritated me very much . I prefer people to take my misfortunes seriously . Then he added : “ So , you also come from the sky ! What planet are you from ? ” I caught a glimpse into the mystery of his presence , and I asked abruptly : “ So you come from another planet then ? ” But he didn ’ t answer . He shook his head slowly whilst looking at my airplane : “ It ' s true that you can ' t have come from far away in that thing ... ” And he drifted into a daydream which lasted a long while . Then , taking my sheep out of his pocket , he sank himself into the contemplation of his treasure . You can imagine how my curiosity was aroused by this small disclosure about ‘ the other planets . ’ So I tried to find out more : “ Where are you from my little fellow ? Where ’ s this ‘ where I live ’ of yours ? Where do you take my sheep off to ? ” After a reflective silence he answered : “ What ' s good about the box you ’ ve given me is that at night , he can use it as a house . ” “ That ’ s right .\",\n",
       " \"You fell from the sky ! ” “ Yes , ” I said modestly . “ Oh ! That ' s funny ! ... ” And the little prince broke into a lovely peal of laughter , which irritated me very much . I prefer people to take my misfortunes seriously . Then he added : “ So , you also come from the sky ! What planet are you from ? ” I caught a glimpse into the mystery of his presence , and I asked abruptly : “ So you come from another planet then ? ” But he didn ’ t answer . He shook his head slowly whilst looking at my airplane : “ It ' s true that you can ' t have come from far away in that thing ... ” And he drifted into a daydream which lasted a long while . Then , taking my sheep out of his pocket , he sank himself into the contemplation of his treasure . You can imagine how my curiosity was aroused by this small disclosure about ‘ the other planets . ’ So I tried to find out more : “ Where are you from my little fellow ? Where ’ s this ‘ where I live ’ of yours ? Where do you take my sheep off to ? ” After a reflective silence he answered : “ What ' s good about the box you ’ ve given me is that at night , he can use it as a house . ” “ That ’ s right . And if you ’ re good , I ' ll give you a rope to tie him up with during the day .\",\n",
       " \"“ Yes , ” I said modestly . “ Oh ! That ' s funny ! ... ” And the little prince broke into a lovely peal of laughter , which irritated me very much . I prefer people to take my misfortunes seriously . Then he added : “ So , you also come from the sky ! What planet are you from ? ” I caught a glimpse into the mystery of his presence , and I asked abruptly : “ So you come from another planet then ? ” But he didn ’ t answer . He shook his head slowly whilst looking at my airplane : “ It ' s true that you can ' t have come from far away in that thing ... ” And he drifted into a daydream which lasted a long while . Then , taking my sheep out of his pocket , he sank himself into the contemplation of his treasure . You can imagine how my curiosity was aroused by this small disclosure about ‘ the other planets . ’ So I tried to find out more : “ Where are you from my little fellow ? Where ’ s this ‘ where I live ’ of yours ? Where do you take my sheep off to ? ” After a reflective silence he answered : “ What ' s good about the box you ’ ve given me is that at night , he can use it as a house . ” “ That ’ s right . And if you ’ re good , I ' ll give you a rope to tie him up with during the day . And a stake . ”\",\n",
       " \"“ Oh ! That ' s funny ! ... ” And the little prince broke into a lovely peal of laughter , which irritated me very much . I prefer people to take my misfortunes seriously . Then he added : “ So , you also come from the sky ! What planet are you from ? ” I caught a glimpse into the mystery of his presence , and I asked abruptly : “ So you come from another planet then ? ” But he didn ’ t answer . He shook his head slowly whilst looking at my airplane : “ It ' s true that you can ' t have come from far away in that thing ... ” And he drifted into a daydream which lasted a long while . Then , taking my sheep out of his pocket , he sank himself into the contemplation of his treasure . You can imagine how my curiosity was aroused by this small disclosure about ‘ the other planets . ’ So I tried to find out more : “ Where are you from my little fellow ? Where ’ s this ‘ where I live ’ of yours ? Where do you take my sheep off to ? ” After a reflective silence he answered : “ What ' s good about the box you ’ ve given me is that at night , he can use it as a house . ” “ That ’ s right . And if you ’ re good , I ' ll give you a rope to tie him up with during the day . And a stake . ” The offer seemed to shock the little prince : “ Tie him up ?\",\n",
       " \"That ' s funny ! ... ” And the little prince broke into a lovely peal of laughter , which irritated me very much . I prefer people to take my misfortunes seriously . Then he added : “ So , you also come from the sky ! What planet are you from ? ” I caught a glimpse into the mystery of his presence , and I asked abruptly : “ So you come from another planet then ? ” But he didn ’ t answer . He shook his head slowly whilst looking at my airplane : “ It ' s true that you can ' t have come from far away in that thing ... ” And he drifted into a daydream which lasted a long while . Then , taking my sheep out of his pocket , he sank himself into the contemplation of his treasure . You can imagine how my curiosity was aroused by this small disclosure about ‘ the other planets . ’ So I tried to find out more : “ Where are you from my little fellow ? Where ’ s this ‘ where I live ’ of yours ? Where do you take my sheep off to ? ” After a reflective silence he answered : “ What ' s good about the box you ’ ve given me is that at night , he can use it as a house . ” “ That ’ s right . And if you ’ re good , I ' ll give you a rope to tie him up with during the day . And a stake . ” The offer seemed to shock the little prince : “ Tie him up ? What a funny idea ! ”\",\n",
       " \"... ” And the little prince broke into a lovely peal of laughter , which irritated me very much . I prefer people to take my misfortunes seriously . Then he added : “ So , you also come from the sky ! What planet are you from ? ” I caught a glimpse into the mystery of his presence , and I asked abruptly : “ So you come from another planet then ? ” But he didn ’ t answer . He shook his head slowly whilst looking at my airplane : “ It ' s true that you can ' t have come from far away in that thing ... ” And he drifted into a daydream which lasted a long while . Then , taking my sheep out of his pocket , he sank himself into the contemplation of his treasure . You can imagine how my curiosity was aroused by this small disclosure about ‘ the other planets . ’ So I tried to find out more : “ Where are you from my little fellow ? Where ’ s this ‘ where I live ’ of yours ? Where do you take my sheep off to ? ” After a reflective silence he answered : “ What ' s good about the box you ’ ve given me is that at night , he can use it as a house . ” “ That ’ s right . And if you ’ re good , I ' ll give you a rope to tie him up with during the day . And a stake . ” The offer seemed to shock the little prince : “ Tie him up ? What a funny idea ! ” “ But if you don ' t tie him up , he ’ ll wander off , and get lost . ”\",\n",
       " \"And the little prince broke into a lovely peal of laughter , which irritated me very much . I prefer people to take my misfortunes seriously . Then he added : “ So , you also come from the sky ! What planet are you from ? ” I caught a glimpse into the mystery of his presence , and I asked abruptly : “ So you come from another planet then ? ” But he didn ’ t answer . He shook his head slowly whilst looking at my airplane : “ It ' s true that you can ' t have come from far away in that thing ... ” And he drifted into a daydream which lasted a long while . Then , taking my sheep out of his pocket , he sank himself into the contemplation of his treasure . You can imagine how my curiosity was aroused by this small disclosure about ‘ the other planets . ’ So I tried to find out more : “ Where are you from my little fellow ? Where ’ s this ‘ where I live ’ of yours ? Where do you take my sheep off to ? ” After a reflective silence he answered : “ What ' s good about the box you ’ ve given me is that at night , he can use it as a house . ” “ That ’ s right . And if you ’ re good , I ' ll give you a rope to tie him up with during the day . And a stake . ” The offer seemed to shock the little prince : “ Tie him up ? What a funny idea ! ” “ But if you don ' t tie him up , he ’ ll wander off , and get lost . ” My friend broke into another peal of laughter : “ Where do you think he ’ d go ! ”\",\n",
       " \"I prefer people to take my misfortunes seriously . Then he added : “ So , you also come from the sky ! What planet are you from ? ” I caught a glimpse into the mystery of his presence , and I asked abruptly : “ So you come from another planet then ? ” But he didn ’ t answer . He shook his head slowly whilst looking at my airplane : “ It ' s true that you can ' t have come from far away in that thing ... ” And he drifted into a daydream which lasted a long while . Then , taking my sheep out of his pocket , he sank himself into the contemplation of his treasure . You can imagine how my curiosity was aroused by this small disclosure about ‘ the other planets . ’ So I tried to find out more : “ Where are you from my little fellow ? Where ’ s this ‘ where I live ’ of yours ? Where do you take my sheep off to ? ” After a reflective silence he answered : “ What ' s good about the box you ’ ve given me is that at night , he can use it as a house . ” “ That ’ s right . And if you ’ re good , I ' ll give you a rope to tie him up with during the day . And a stake . ” The offer seemed to shock the little prince : “ Tie him up ? What a funny idea ! ” “ But if you don ' t tie him up , he ’ ll wander off , and get lost . ” My friend broke into another peal of laughter : “ Where do you think he ’ d go ! ” “ Anywhere .\",\n",
       " \"Then he added : “ So , you also come from the sky ! What planet are you from ? ” I caught a glimpse into the mystery of his presence , and I asked abruptly : “ So you come from another planet then ? ” But he didn ’ t answer . He shook his head slowly whilst looking at my airplane : “ It ' s true that you can ' t have come from far away in that thing ... ” And he drifted into a daydream which lasted a long while . Then , taking my sheep out of his pocket , he sank himself into the contemplation of his treasure . You can imagine how my curiosity was aroused by this small disclosure about ‘ the other planets . ’ So I tried to find out more : “ Where are you from my little fellow ? Where ’ s this ‘ where I live ’ of yours ? Where do you take my sheep off to ? ” After a reflective silence he answered : “ What ' s good about the box you ’ ve given me is that at night , he can use it as a house . ” “ That ’ s right . And if you ’ re good , I ' ll give you a rope to tie him up with during the day . And a stake . ” The offer seemed to shock the little prince : “ Tie him up ? What a funny idea ! ” “ But if you don ' t tie him up , he ’ ll wander off , and get lost . ” My friend broke into another peal of laughter : “ Where do you think he ’ d go ! ” “ Anywhere . Straight ahead ... ”\",\n",
       " \"What planet are you from ? ” I caught a glimpse into the mystery of his presence , and I asked abruptly : “ So you come from another planet then ? ” But he didn ’ t answer . He shook his head slowly whilst looking at my airplane : “ It ' s true that you can ' t have come from far away in that thing ... ” And he drifted into a daydream which lasted a long while . Then , taking my sheep out of his pocket , he sank himself into the contemplation of his treasure . You can imagine how my curiosity was aroused by this small disclosure about ‘ the other planets . ’ So I tried to find out more : “ Where are you from my little fellow ? Where ’ s this ‘ where I live ’ of yours ? Where do you take my sheep off to ? ” After a reflective silence he answered : “ What ' s good about the box you ’ ve given me is that at night , he can use it as a house . ” “ That ’ s right . And if you ’ re good , I ' ll give you a rope to tie him up with during the day . And a stake . ” The offer seemed to shock the little prince : “ Tie him up ? What a funny idea ! ” “ But if you don ' t tie him up , he ’ ll wander off , and get lost . ” My friend broke into another peal of laughter : “ Where do you think he ’ d go ! ” “ Anywhere . Straight ahead ... ” Then the little prince said gravely : “ That doesn ’ t matter ; where I live , everything is so small ! ”\",\n",
       " \"I caught a glimpse into the mystery of his presence , and I asked abruptly : “ So you come from another planet then ? ” But he didn ’ t answer . He shook his head slowly whilst looking at my airplane : “ It ' s true that you can ' t have come from far away in that thing ... ” And he drifted into a daydream which lasted a long while . Then , taking my sheep out of his pocket , he sank himself into the contemplation of his treasure . You can imagine how my curiosity was aroused by this small disclosure about ‘ the other planets . ’ So I tried to find out more : “ Where are you from my little fellow ? Where ’ s this ‘ where I live ’ of yours ? Where do you take my sheep off to ? ” After a reflective silence he answered : “ What ' s good about the box you ’ ve given me is that at night , he can use it as a house . ” “ That ’ s right . And if you ’ re good , I ' ll give you a rope to tie him up with during the day . And a stake . ” The offer seemed to shock the little prince : “ Tie him up ? What a funny idea ! ” “ But if you don ' t tie him up , he ’ ll wander off , and get lost . ” My friend broke into another peal of laughter : “ Where do you think he ’ d go ! ” “ Anywhere . Straight ahead ... ” Then the little prince said gravely : “ That doesn ’ t matter ; where I live , everything is so small ! ” And perhaps with a hint of sadness , he added : “ Straight ahead you can ' t go far ... ”\"]"
      ]
     },
     "execution_count": 13,
     "metadata": {},
     "output_type": "execute_result"
    }
   ],
   "source": [
    "batches\n"
   ]
  },
  {
   "cell_type": "markdown",
   "metadata": {},
   "source": [
    "## Activation extraction"
   ]
  },
  {
   "cell_type": "code",
   "execution_count": 9,
   "metadata": {},
   "outputs": [],
   "source": [
    "output_attentions = False\n",
    "output_hidden_states = True"
   ]
  },
  {
   "cell_type": "code",
   "execution_count": 10,
   "metadata": {
    "scrolled": false
   },
   "outputs": [
    {
     "name": "stderr",
     "output_type": "stream",
     "text": [
      "Some weights of GPT2Model were not initialized from the model checkpoint at gpt2 and are newly initialized: ['h.0.attn.masked_bias', 'h.1.attn.masked_bias', 'h.2.attn.masked_bias', 'h.3.attn.masked_bias', 'h.4.attn.masked_bias', 'h.5.attn.masked_bias', 'h.6.attn.masked_bias', 'h.7.attn.masked_bias', 'h.8.attn.masked_bias', 'h.9.attn.masked_bias', 'h.10.attn.masked_bias', 'h.11.attn.masked_bias']\n",
      "You should probably TRAIN this model on a down-stream task to be able to use it for predictions and inference.\n",
      "0it [00:00, ?it/s]"
     ]
    },
    {
     "name": "stdout",
     "output_type": "stream",
     "text": [
      "gpt2_pre-5_1_token-2  - Extracting activations ...\n",
      "############# Run 0 #############\n"
     ]
    },
    {
     "name": "stderr",
     "output_type": "stream",
     "text": [
      "/home/ap263679/anaconda3/lib/python3.8/site-packages/torch/cuda/__init__.py:52: UserWarning: CUDA initialization: The NVIDIA driver on your system is too old (found version 10010). Please update your GPU driver by downloading and installing a new version from the URL: http://www.nvidia.com/Download/index.aspx Alternatively, go to: https://pytorch.org to install a PyTorch version that has been compiled with your version of the CUDA driver. (Triggered internally at  /pytorch/c10/cuda/CUDAFunctions.cpp:100.)\n",
      "  return torch._C._cuda_getDeviceCount() > 0\n"
     ]
    },
    {
     "name": "stdout",
     "output_type": "stream",
     "text": [
      "torch.Size([98, 99]) tensor([[50256,  4874,   837,  ...,   251,   220, 50256],\n",
      "        [50256,  4874,   837,  ...,   251,   220, 50256],\n",
      "        [50256,  4874,   837,  ...,   251,   220, 50256],\n",
      "        ...,\n",
      "        [50256,  4874,   837,  ...,   251,   220, 50256],\n",
      "        [50256,  4874,   837,  ...,   251,   220, 50256],\n",
      "        [50256,  4874,   837,  ...,   251,   220, 50256]])\n",
      "torch.Size([98, 99])\n",
      "['ĠOnce', 'Ġ,', 'Ġwhen', 'ĠI', 'Ġwas', 'Ġsix', 'Ġyears', 'Ġold', 'Ġ,', 'ĠI', 'Ġsaw', 'Ġa', 'Ġmagnificent', 'Ġpicture', 'Ġin', 'Ġa', 'Ġbook', 'Ġabout', 'Ġthe', 'Ġprime', 'val', 'Ġforest', 'Ġcalled', 'ĠâĢ', 'ĺ', 'ĠReal', 'Ġ-', 'Ġlife', 'ĠStories', 'Ġ.', 'ĠâĢ', 'Ļ', 'ĠIt', 'Ġshowed', 'Ġa', 'Ġbo', 'a', 'Ġconst', 'rict', 'or', 'Ġswallowing', 'Ġa', 'Ġwild', 'Ġanimal', 'Ġ.', 'ĠHere', 'Ġis', 'Ġa', 'Ġcopy', 'Ġof', 'Ġthe', 'Ġdrawing', 'Ġ.', 'ĠIt', 'Ġsaid', 'Ġin', 'Ġthe', 'Ġbook', 'Ġ:', 'ĠâĢ', 'ľ', 'ĠBo', 'a', 'Ġconst', 'rict', 'ors', 'Ġswallow', 'Ġtheir', 'Ġprey', 'Ġwhole', 'Ġ,', 'Ġwithout', 'Ġchewing', 'Ġ.', 'ĠThen', 'Ġthey', 'Ġare', 'Ġnot', 'Ġable', 'Ġto', 'Ġmove', 'Ġ,', 'Ġand', 'Ġthey', 'Ġsleep', 'Ġfor', 'Ġthe', 'Ġsix', 'Ġmonths', 'Ġit', 'Ġtakes', 'Ġfor', 'Ġdigestion', 'Ġ.', 'ĠâĢ', 'Ŀ', 'Ġ', '<|endoftext|>']\n",
      "torch.Size([32, 129]) tensor([[50256,  4874,   837,  ...,   764,   220, 50256],\n",
      "        [50256,  4874,   837,  ...,   764,   220, 50256],\n",
      "        [50256,  4874,   837,  ...,   764,   220, 50256],\n",
      "        ...,\n",
      "        [50256,  4874,   837,  ...,   764,   220, 50256],\n",
      "        [50256,  4874,   837,  ...,   764,   220, 50256],\n",
      "        [50256,  4874,   837,  ...,   764,   220, 50256]])\n",
      "torch.Size([32, 129])\n",
      "['ĠSo', 'ĠI', 'Ġthought', 'Ġa', 'Ġlot', 'Ġabout', 'Ġthe', 'Ġadventures', 'Ġof', 'Ġthe', 'Ġjungle', 'Ġand', 'Ġ,', 'Ġin', 'Ġturn', 'Ġ,', 'ĠI', 'Ġmanaged', 'Ġ,', 'Ġwith', 'Ġa', 'Ġcoloured', 'Ġpencil', 'Ġ,', 'Ġto', 'Ġmake', 'Ġmy', 'Ġfirst', 'Ġdrawing', 'Ġ.', 'Ġ', '<|endoftext|>']\n",
      "torch.Size([7, 102]) tensor([[50256,   632,  3751,   257,  1489,    64,  1500,  2012,   273, 45590,\n",
      "           257,  4295,  5044,   764,  3423,   318,   257,  4866,   286,   262,\n",
      "          8263,   764,   632,   531,   287,   262,  1492,  1058,   564,   250,\n",
      "          3248,    64,  1500,  2012,   669, 26633,   511, 15974,  2187,   837,\n",
      "          1231, 36615,   764,  3244,   484,   389,   407,  1498,   284,  1445,\n",
      "           837,   290,   484,  3993,   329,   262,  2237,  1933,   340,  2753,\n",
      "           329, 44639,   764,   564,   251,  1406,   314,  1807,   257,  1256,\n",
      "           546,   262, 17545,   286,   262, 20712,   290,   837,   287,  1210,\n",
      "           837,   314,  5257,   837,   351,   257, 34746, 21613,   837,   284,\n",
      "           787,   616,   717,  8263,   764,  2011, 40027,  7913,   530,   764,\n",
      "           220, 50256],\n",
      "        [50256,   632,  3751,   257,  1489,    64,  1500,  2012,   273, 45590,\n",
      "           257,  4295,  5044,   764,  3423,   318,   257,  4866,   286,   262,\n",
      "          8263,   764,   632,   531,   287,   262,  1492,  1058,   564,   250,\n",
      "          3248,    64,  1500,  2012,   669, 26633,   511, 15974,  2187,   837,\n",
      "          1231, 36615,   764,  3244,   484,   389,   407,  1498,   284,  1445,\n",
      "           837,   290,   484,  3993,   329,   262,  2237,  1933,   340,  2753,\n",
      "           329, 44639,   764,   564,   251,  1406,   314,  1807,   257,  1256,\n",
      "           546,   262, 17545,   286,   262, 20712,   290,   837,   287,  1210,\n",
      "           837,   314,  5257,   837,   351,   257, 34746, 21613,   837,   284,\n",
      "           787,   616,   717,  8263,   764,  2011, 40027,  7913,   530,   764,\n",
      "           220, 50256],\n",
      "        [50256,   632,  3751,   257,  1489,    64,  1500,  2012,   273, 45590,\n",
      "           257,  4295,  5044,   764,  3423,   318,   257,  4866,   286,   262,\n",
      "          8263,   764,   632,   531,   287,   262,  1492,  1058,   564,   250,\n",
      "          3248,    64,  1500,  2012,   669, 26633,   511, 15974,  2187,   837,\n",
      "          1231, 36615,   764,  3244,   484,   389,   407,  1498,   284,  1445,\n",
      "           837,   290,   484,  3993,   329,   262,  2237,  1933,   340,  2753,\n",
      "           329, 44639,   764,   564,   251,  1406,   314,  1807,   257,  1256,\n",
      "           546,   262, 17545,   286,   262, 20712,   290,   837,   287,  1210,\n",
      "           837,   314,  5257,   837,   351,   257, 34746, 21613,   837,   284,\n",
      "           787,   616,   717,  8263,   764,  2011, 40027,  7913,   530,   764,\n",
      "           220, 50256],\n",
      "        [50256,   632,  3751,   257,  1489,    64,  1500,  2012,   273, 45590,\n",
      "           257,  4295,  5044,   764,  3423,   318,   257,  4866,   286,   262,\n",
      "          8263,   764,   632,   531,   287,   262,  1492,  1058,   564,   250,\n",
      "          3248,    64,  1500,  2012,   669, 26633,   511, 15974,  2187,   837,\n",
      "          1231, 36615,   764,  3244,   484,   389,   407,  1498,   284,  1445,\n",
      "           837,   290,   484,  3993,   329,   262,  2237,  1933,   340,  2753,\n",
      "           329, 44639,   764,   564,   251,  1406,   314,  1807,   257,  1256,\n",
      "           546,   262, 17545,   286,   262, 20712,   290,   837,   287,  1210,\n",
      "           837,   314,  5257,   837,   351,   257, 34746, 21613,   837,   284,\n",
      "           787,   616,   717,  8263,   764,  2011, 40027,  7913,   530,   764,\n",
      "           220, 50256],\n",
      "        [50256,   632,  3751,   257,  1489,    64,  1500,  2012,   273, 45590,\n",
      "           257,  4295,  5044,   764,  3423,   318,   257,  4866,   286,   262,\n",
      "          8263,   764,   632,   531,   287,   262,  1492,  1058,   564,   250,\n",
      "          3248,    64,  1500,  2012,   669, 26633,   511, 15974,  2187,   837,\n",
      "          1231, 36615,   764,  3244,   484,   389,   407,  1498,   284,  1445,\n",
      "           837,   290,   484,  3993,   329,   262,  2237,  1933,   340,  2753,\n",
      "           329, 44639,   764,   564,   251,  1406,   314,  1807,   257,  1256,\n",
      "           546,   262, 17545,   286,   262, 20712,   290,   837,   287,  1210,\n",
      "           837,   314,  5257,   837,   351,   257, 34746, 21613,   837,   284,\n",
      "           787,   616,   717,  8263,   764,  2011, 40027,  7913,   530,   764,\n",
      "           220, 50256],\n",
      "        [50256,   632,  3751,   257,  1489,    64,  1500,  2012,   273, 45590,\n",
      "           257,  4295,  5044,   764,  3423,   318,   257,  4866,   286,   262,\n",
      "          8263,   764,   632,   531,   287,   262,  1492,  1058,   564,   250,\n",
      "          3248,    64,  1500,  2012,   669, 26633,   511, 15974,  2187,   837,\n",
      "          1231, 36615,   764,  3244,   484,   389,   407,  1498,   284,  1445,\n",
      "           837,   290,   484,  3993,   329,   262,  2237,  1933,   340,  2753,\n",
      "           329, 44639,   764,   564,   251,  1406,   314,  1807,   257,  1256,\n",
      "           546,   262, 17545,   286,   262, 20712,   290,   837,   287,  1210,\n",
      "           837,   314,  5257,   837,   351,   257, 34746, 21613,   837,   284,\n",
      "           787,   616,   717,  8263,   764,  2011, 40027,  7913,   530,   764,\n",
      "           220, 50256],\n",
      "        [50256,   632,  3751,   257,  1489,    64,  1500,  2012,   273, 45590,\n",
      "           257,  4295,  5044,   764,  3423,   318,   257,  4866,   286,   262,\n",
      "          8263,   764,   632,   531,   287,   262,  1492,  1058,   564,   250,\n",
      "          3248,    64,  1500,  2012,   669, 26633,   511, 15974,  2187,   837,\n",
      "          1231, 36615,   764,  3244,   484,   389,   407,  1498,   284,  1445,\n",
      "           837,   290,   484,  3993,   329,   262,  2237,  1933,   340,  2753,\n",
      "           329, 44639,   764,   564,   251,  1406,   314,  1807,   257,  1256,\n",
      "           546,   262, 17545,   286,   262, 20712,   290,   837,   287,  1210,\n",
      "           837,   314,  5257,   837,   351,   257, 34746, 21613,   837,   284,\n",
      "           787,   616,   717,  8263,   764,  2011, 40027,  7913,   530,   764,\n",
      "           220, 50256]])\n",
      "torch.Size([7, 102])\n",
      "['ĠMy', 'ĠDrawing', 'ĠNumber', 'Ġone', 'Ġ.', 'Ġ', '<|endoftext|>']\n",
      "torch.Size([25, 112]) tensor([[50256,  3423,   318,  ...,   764,   220, 50256],\n",
      "        [50256,  3423,   318,  ...,   764,   220, 50256],\n",
      "        [50256,  3423,   318,  ...,   764,   220, 50256],\n",
      "        ...,\n",
      "        [50256,  3423,   318,  ...,   764,   220, 50256],\n",
      "        [50256,  3423,   318,  ...,   764,   220, 50256],\n",
      "        [50256,  3423,   318,  ...,   764,   220, 50256]])\n",
      "torch.Size([25, 112])\n",
      "['ĠIt', 'Ġlooked', 'Ġlike', 'Ġthis', 'Ġ:', 'ĠI', 'Ġshowed', 'Ġmy', 'Ġmasterpiece', 'Ġto', 'Ġthe', 'Ġgrown', 'ups', 'Ġand', 'ĠI', 'Ġasked', 'Ġthem', 'Ġif', 'Ġmy', 'Ġdrawing', 'Ġfrightened', 'Ġthem', 'Ġ.', 'Ġ', '<|endoftext|>']\n"
     ]
    },
    {
     "name": "stdout",
     "output_type": "stream",
     "text": [
      "torch.Size([19, 121]) tensor([[50256,   632,   531,  ...,   251,   220, 50256],\n",
      "        [50256,   632,   531,  ...,   251,   220, 50256],\n",
      "        [50256,   632,   531,  ...,   251,   220, 50256],\n",
      "        ...,\n",
      "        [50256,   632,   531,  ...,   251,   220, 50256],\n",
      "        [50256,   632,   531,  ...,   251,   220, 50256],\n",
      "        [50256,   632,   531,  ...,   251,   220, 50256]])\n",
      "torch.Size([19, 121])\n",
      "['ĠThey', 'Ġanswered', 'Ġme', 'Ġ:', 'ĠâĢ', 'ľ', 'ĠWhy', 'Ġwould', 'Ġanyone', 'Ġbe', 'Ġfrightened', 'Ġby', 'Ġa', 'Ġhat', 'Ġ?', 'ĠâĢ', 'Ŀ', 'Ġ', '<|endoftext|>']\n",
      "torch.Size([10, 108]) tensor([[50256,  3244,   484,  ...,   764,   220, 50256],\n",
      "        [50256,  3244,   484,  ...,   764,   220, 50256],\n",
      "        [50256,  3244,   484,  ...,   764,   220, 50256],\n",
      "        ...,\n",
      "        [50256,  3244,   484,  ...,   764,   220, 50256],\n",
      "        [50256,  3244,   484,  ...,   764,   220, 50256],\n",
      "        [50256,  3244,   484,  ...,   764,   220, 50256]])\n",
      "torch.Size([10, 108])\n",
      "['ĠMy', 'Ġdrawing', 'Ġwas', 'Ġnot', 'Ġof', 'Ġa', 'Ġhat', 'Ġ.', 'Ġ', '<|endoftext|>']\n",
      "torch.Size([15, 99]) tensor([[50256,  1406,   314,  ...,   764,   220, 50256],\n",
      "        [50256,  1406,   314,  ...,   764,   220, 50256],\n",
      "        [50256,  1406,   314,  ...,   764,   220, 50256],\n",
      "        ...,\n",
      "        [50256,  1406,   314,  ...,   764,   220, 50256],\n",
      "        [50256,  1406,   314,  ...,   764,   220, 50256],\n",
      "        [50256,  1406,   314,  ...,   764,   220, 50256]])\n",
      "torch.Size([15, 99])\n",
      "['ĠIt', 'Ġshowed', 'Ġa', 'Ġbo', 'a', 'Ġconst', 'rict', 'or', 'Ġdigest', 'ing', 'Ġan', 'Ġelephant', 'Ġ.', 'Ġ', '<|endoftext|>']\n",
      "torch.Size([23, 90]) tensor([[50256,  2011, 40027,  ...,   764,   220, 50256],\n",
      "        [50256,  2011, 40027,  ...,   764,   220, 50256],\n",
      "        [50256,  2011, 40027,  ...,   764,   220, 50256],\n",
      "        ...,\n",
      "        [50256,  2011, 40027,  ...,   764,   220, 50256],\n",
      "        [50256,  2011, 40027,  ...,   764,   220, 50256],\n",
      "        [50256,  2011, 40027,  ...,   764,   220, 50256]])\n",
      "torch.Size([23, 90])\n",
      "['ĠI', 'Ġthen', 'Ġdrew', 'Ġthe', 'Ġinside', 'Ġof', 'Ġthe', 'Ġbo', 'a', 'Ġconst', 'rict', 'or', 'Ġ,', 'Ġso', 'Ġthat', 'Ġthe', 'Ġgrown', 'ups', 'Ġcould', 'Ġunderstand', 'Ġ.', 'Ġ', '<|endoftext|>']\n",
      "torch.Size([10, 93]) tensor([[50256,   632,  3114,   588,   428,  1058,   314,  3751,   616, 30669,\n",
      "           284,   262,  7334,  4739,   290,   314,  1965,   606,   611,   616,\n",
      "          8263, 24776,   606,   764,  1119,  9373,   502,  1058,   564,   250,\n",
      "          4162,   561,  2687,   307, 24776,   416,   257,  6877,  5633,   564,\n",
      "           251,  2011,  8263,   373,   407,   286,   257,  6877,   764,   632,\n",
      "          3751,   257,  1489,    64,  1500,  2012,   273, 16274,   278,   281,\n",
      "         20950,   764,   314,   788,  9859,   262,  2641,   286,   262,  1489,\n",
      "            64,  1500,  2012,   273,   837,   523,   326,   262,  7334,  4739,\n",
      "           714,  1833,   764,  1119,  1464,   761,   284,   423,  1243,  4893,\n",
      "           764,   220, 50256],\n",
      "        [50256,   632,  3114,   588,   428,  1058,   314,  3751,   616, 30669,\n",
      "           284,   262,  7334,  4739,   290,   314,  1965,   606,   611,   616,\n",
      "          8263, 24776,   606,   764,  1119,  9373,   502,  1058,   564,   250,\n",
      "          4162,   561,  2687,   307, 24776,   416,   257,  6877,  5633,   564,\n",
      "           251,  2011,  8263,   373,   407,   286,   257,  6877,   764,   632,\n",
      "          3751,   257,  1489,    64,  1500,  2012,   273, 16274,   278,   281,\n",
      "         20950,   764,   314,   788,  9859,   262,  2641,   286,   262,  1489,\n",
      "            64,  1500,  2012,   273,   837,   523,   326,   262,  7334,  4739,\n",
      "           714,  1833,   764,  1119,  1464,   761,   284,   423,  1243,  4893,\n",
      "           764,   220, 50256],\n",
      "        [50256,   632,  3114,   588,   428,  1058,   314,  3751,   616, 30669,\n",
      "           284,   262,  7334,  4739,   290,   314,  1965,   606,   611,   616,\n",
      "          8263, 24776,   606,   764,  1119,  9373,   502,  1058,   564,   250,\n",
      "          4162,   561,  2687,   307, 24776,   416,   257,  6877,  5633,   564,\n",
      "           251,  2011,  8263,   373,   407,   286,   257,  6877,   764,   632,\n",
      "          3751,   257,  1489,    64,  1500,  2012,   273, 16274,   278,   281,\n",
      "         20950,   764,   314,   788,  9859,   262,  2641,   286,   262,  1489,\n",
      "            64,  1500,  2012,   273,   837,   523,   326,   262,  7334,  4739,\n",
      "           714,  1833,   764,  1119,  1464,   761,   284,   423,  1243,  4893,\n",
      "           764,   220, 50256],\n",
      "        [50256,   632,  3114,   588,   428,  1058,   314,  3751,   616, 30669,\n",
      "           284,   262,  7334,  4739,   290,   314,  1965,   606,   611,   616,\n",
      "          8263, 24776,   606,   764,  1119,  9373,   502,  1058,   564,   250,\n",
      "          4162,   561,  2687,   307, 24776,   416,   257,  6877,  5633,   564,\n",
      "           251,  2011,  8263,   373,   407,   286,   257,  6877,   764,   632,\n",
      "          3751,   257,  1489,    64,  1500,  2012,   273, 16274,   278,   281,\n",
      "         20950,   764,   314,   788,  9859,   262,  2641,   286,   262,  1489,\n",
      "            64,  1500,  2012,   273,   837,   523,   326,   262,  7334,  4739,\n",
      "           714,  1833,   764,  1119,  1464,   761,   284,   423,  1243,  4893,\n",
      "           764,   220, 50256],\n",
      "        [50256,   632,  3114,   588,   428,  1058,   314,  3751,   616, 30669,\n",
      "           284,   262,  7334,  4739,   290,   314,  1965,   606,   611,   616,\n",
      "          8263, 24776,   606,   764,  1119,  9373,   502,  1058,   564,   250,\n",
      "          4162,   561,  2687,   307, 24776,   416,   257,  6877,  5633,   564,\n",
      "           251,  2011,  8263,   373,   407,   286,   257,  6877,   764,   632,\n",
      "          3751,   257,  1489,    64,  1500,  2012,   273, 16274,   278,   281,\n",
      "         20950,   764,   314,   788,  9859,   262,  2641,   286,   262,  1489,\n",
      "            64,  1500,  2012,   273,   837,   523,   326,   262,  7334,  4739,\n",
      "           714,  1833,   764,  1119,  1464,   761,   284,   423,  1243,  4893,\n",
      "           764,   220, 50256],\n",
      "        [50256,   632,  3114,   588,   428,  1058,   314,  3751,   616, 30669,\n",
      "           284,   262,  7334,  4739,   290,   314,  1965,   606,   611,   616,\n",
      "          8263, 24776,   606,   764,  1119,  9373,   502,  1058,   564,   250,\n",
      "          4162,   561,  2687,   307, 24776,   416,   257,  6877,  5633,   564,\n",
      "           251,  2011,  8263,   373,   407,   286,   257,  6877,   764,   632,\n",
      "          3751,   257,  1489,    64,  1500,  2012,   273, 16274,   278,   281,\n",
      "         20950,   764,   314,   788,  9859,   262,  2641,   286,   262,  1489,\n",
      "            64,  1500,  2012,   273,   837,   523,   326,   262,  7334,  4739,\n",
      "           714,  1833,   764,  1119,  1464,   761,   284,   423,  1243,  4893,\n",
      "           764,   220, 50256],\n",
      "        [50256,   632,  3114,   588,   428,  1058,   314,  3751,   616, 30669,\n",
      "           284,   262,  7334,  4739,   290,   314,  1965,   606,   611,   616,\n",
      "          8263, 24776,   606,   764,  1119,  9373,   502,  1058,   564,   250,\n",
      "          4162,   561,  2687,   307, 24776,   416,   257,  6877,  5633,   564,\n",
      "           251,  2011,  8263,   373,   407,   286,   257,  6877,   764,   632,\n",
      "          3751,   257,  1489,    64,  1500,  2012,   273, 16274,   278,   281,\n",
      "         20950,   764,   314,   788,  9859,   262,  2641,   286,   262,  1489,\n",
      "            64,  1500,  2012,   273,   837,   523,   326,   262,  7334,  4739,\n",
      "           714,  1833,   764,  1119,  1464,   761,   284,   423,  1243,  4893,\n",
      "           764,   220, 50256],\n",
      "        [50256,   632,  3114,   588,   428,  1058,   314,  3751,   616, 30669,\n",
      "           284,   262,  7334,  4739,   290,   314,  1965,   606,   611,   616,\n",
      "          8263, 24776,   606,   764,  1119,  9373,   502,  1058,   564,   250,\n",
      "          4162,   561,  2687,   307, 24776,   416,   257,  6877,  5633,   564,\n",
      "           251,  2011,  8263,   373,   407,   286,   257,  6877,   764,   632,\n",
      "          3751,   257,  1489,    64,  1500,  2012,   273, 16274,   278,   281,\n",
      "         20950,   764,   314,   788,  9859,   262,  2641,   286,   262,  1489,\n",
      "            64,  1500,  2012,   273,   837,   523,   326,   262,  7334,  4739,\n",
      "           714,  1833,   764,  1119,  1464,   761,   284,   423,  1243,  4893,\n",
      "           764,   220, 50256],\n",
      "        [50256,   632,  3114,   588,   428,  1058,   314,  3751,   616, 30669,\n",
      "           284,   262,  7334,  4739,   290,   314,  1965,   606,   611,   616,\n",
      "          8263, 24776,   606,   764,  1119,  9373,   502,  1058,   564,   250,\n",
      "          4162,   561,  2687,   307, 24776,   416,   257,  6877,  5633,   564,\n",
      "           251,  2011,  8263,   373,   407,   286,   257,  6877,   764,   632,\n",
      "          3751,   257,  1489,    64,  1500,  2012,   273, 16274,   278,   281,\n",
      "         20950,   764,   314,   788,  9859,   262,  2641,   286,   262,  1489,\n",
      "            64,  1500,  2012,   273,   837,   523,   326,   262,  7334,  4739,\n",
      "           714,  1833,   764,  1119,  1464,   761,   284,   423,  1243,  4893,\n",
      "           764,   220, 50256],\n",
      "        [50256,   632,  3114,   588,   428,  1058,   314,  3751,   616, 30669,\n",
      "           284,   262,  7334,  4739,   290,   314,  1965,   606,   611,   616,\n",
      "          8263, 24776,   606,   764,  1119,  9373,   502,  1058,   564,   250,\n",
      "          4162,   561,  2687,   307, 24776,   416,   257,  6877,  5633,   564,\n",
      "           251,  2011,  8263,   373,   407,   286,   257,  6877,   764,   632,\n",
      "          3751,   257,  1489,    64,  1500,  2012,   273, 16274,   278,   281,\n",
      "         20950,   764,   314,   788,  9859,   262,  2641,   286,   262,  1489,\n",
      "            64,  1500,  2012,   273,   837,   523,   326,   262,  7334,  4739,\n",
      "           714,  1833,   764,  1119,  1464,   761,   284,   423,  1243,  4893,\n",
      "           764,   220, 50256]])\n",
      "torch.Size([10, 93])\n",
      "['ĠThey', 'Ġalways', 'Ġneed', 'Ġto', 'Ġhave', 'Ġthings', 'Ġexplained', 'Ġ.', 'Ġ', '<|endoftext|>']\n"
     ]
    },
    {
     "name": "stdout",
     "output_type": "stream",
     "text": [
      "torch.Size([44, 112]) tensor([[50256,  1119,  9373,  ...,   764,   220, 50256],\n",
      "        [50256,  1119,  9373,  ...,   764,   220, 50256],\n",
      "        [50256,  1119,  9373,  ...,   764,   220, 50256],\n",
      "        ...,\n",
      "        [50256,  1119,  9373,  ...,   764,   220, 50256],\n",
      "        [50256,  1119,  9373,  ...,   764,   220, 50256],\n",
      "        [50256,  1119,  9373,  ...,   764,   220, 50256]])\n",
      "torch.Size([44, 112])\n",
      "['ĠMy', 'ĠDrawing', 'ĠNumber', 'Ġtwo', 'Ġlooked', 'Ġlike', 'Ġthis', 'Ġ:', 'ĠThe', 'Ġgrown', 'ups', 'Ġadvised', 'Ġme', 'Ġto', 'Ġleave', 'Ġaside', 'Ġdrawings', 'Ġof', 'Ġbo', 'a', 'Ġconst', 'rict', 'ors', 'Ġ,', 'Ġopen', 'Ġor', 'Ġclosed', 'Ġ,', 'Ġand', 'Ġto', 'Ġapply', 'Ġmyself', 'Ġinstead', 'Ġto', 'Ġgeography', 'Ġ,', 'Ġhistory', 'Ġ,', 'Ġarithmetic', 'Ġand', 'Ġgrammar', 'Ġ.', 'Ġ', '<|endoftext|>']\n",
      "torch.Size([19, 112]) tensor([[50256,  2011,  8263,  ...,   764,   220, 50256],\n",
      "        [50256,  2011,  8263,  ...,   764,   220, 50256],\n",
      "        [50256,  2011,  8263,  ...,   764,   220, 50256],\n",
      "        ...,\n",
      "        [50256,  2011,  8263,  ...,   764,   220, 50256],\n",
      "        [50256,  2011,  8263,  ...,   764,   220, 50256],\n",
      "        [50256,  2011,  8263,  ...,   764,   220, 50256]])\n",
      "torch.Size([19, 112])\n",
      "['ĠThus', 'ĠI', 'Ġabandoned', 'Ġ,', 'Ġat', 'Ġthe', 'Ġage', 'Ġof', 'Ġsix', 'Ġ,', 'Ġa', 'Ġmagnificent', 'Ġcareer', 'Ġas', 'Ġa', 'Ġpainter', 'Ġ.', 'Ġ', '<|endoftext|>']\n",
      "torch.Size([20, 122]) tensor([[50256,   632,  3751,  ...,   764,   220, 50256],\n",
      "        [50256,   632,  3751,  ...,   764,   220, 50256],\n",
      "        [50256,   632,  3751,  ...,   764,   220, 50256],\n",
      "        ...,\n",
      "        [50256,   632,  3751,  ...,   764,   220, 50256],\n",
      "        [50256,   632,  3751,  ...,   764,   220, 50256],\n",
      "        [50256,   632,  3751,  ...,   764,   220, 50256]])\n",
      "torch.Size([20, 122])\n",
      "['ĠI', 'Ġwas', 'Ġdiscouraged', 'Ġby', 'Ġthe', 'Ġfailure', 'Ġof', 'Ġmy', 'ĠDrawing', 'ĠNumber', 'Ġone', 'Ġand', 'Ġof', 'Ġmy', 'ĠDrawing', 'ĠNumber', 'Ġtwo', 'Ġ.', 'Ġ', '<|endoftext|>']\n",
      "torch.Size([30, 137]) tensor([[50256,   314,   788,  ...,   764,   220, 50256],\n",
      "        [50256,   314,   788,  ...,   764,   220, 50256],\n",
      "        [50256,   314,   788,  ...,   764,   220, 50256],\n",
      "        ...,\n",
      "        [50256,   314,   788,  ...,   764,   220, 50256],\n",
      "        [50256,   314,   788,  ...,   764,   220, 50256],\n",
      "        [50256,   314,   788,  ...,   764,   220, 50256]])\n",
      "torch.Size([30, 137])\n",
      "['ĠG', 'rown', 'ups', 'Ġnever', 'Ġunderstand', 'Ġanything', 'Ġby', 'Ġthemselves', 'Ġ,', 'Ġand', 'Ġit', 'ĠâĢ', 'Ļ', 'Ġs', 'Ġtires', 'ome', 'Ġfor', 'Ġchildren', 'Ġto', 'Ġalways', 'Ġexplain', 'Ġthings', 'Ġfor', 'Ġthem', 'Ġagain', 'Ġand', 'Ġagain', 'Ġ.', 'Ġ', '<|endoftext|>']\n",
      "torch.Size([17, 131]) tensor([[50256,  1119,  1464,  ...,   764,   220, 50256],\n",
      "        [50256,  1119,  1464,  ...,   764,   220, 50256],\n",
      "        [50256,  1119,  1464,  ...,   764,   220, 50256],\n",
      "        ...,\n",
      "        [50256,  1119,  1464,  ...,   764,   220, 50256],\n",
      "        [50256,  1119,  1464,  ...,   764,   220, 50256],\n",
      "        [50256,  1119,  1464,  ...,   764,   220, 50256]])\n",
      "torch.Size([17, 131])\n",
      "['ĠSo', 'ĠI', 'Ġhad', 'Ġto', 'Ġchoose', 'Ġanother', 'Ġprofession', 'Ġ,', 'Ġand', 'ĠI', 'Ġlearned', 'Ġto', 'Ġfly', 'Ġairplanes', 'Ġ.', 'Ġ', '<|endoftext|>']\n",
      "torch.Size([13, 134]) tensor([[50256,  2011, 40027,  ...,   764,   220, 50256],\n",
      "        [50256,  2011, 40027,  ...,   764,   220, 50256],\n",
      "        [50256,  2011, 40027,  ...,   764,   220, 50256],\n",
      "        ...,\n",
      "        [50256,  2011, 40027,  ...,   764,   220, 50256],\n",
      "        [50256,  2011, 40027,  ...,   764,   220, 50256],\n",
      "        [50256,  2011, 40027,  ...,   764,   220, 50256]])\n",
      "torch.Size([13, 134])\n",
      "['ĠI', 'Ġflew', 'Ġa', 'Ġlittle', 'Ġin', 'Ġmany', 'Ġplaces', 'Ġaround', 'Ġthe', 'Ġworld', 'Ġ.', 'Ġ', '<|endoftext|>']\n",
      "torch.Size([15, 105]) tensor([[50256,  6660,   314,  ...,   764,   220, 50256],\n",
      "        [50256,  6660,   314,  ...,   764,   220, 50256],\n",
      "        [50256,  6660,   314,  ...,   764,   220, 50256],\n",
      "        ...,\n",
      "        [50256,  6660,   314,  ...,   764,   220, 50256],\n",
      "        [50256,  6660,   314,  ...,   764,   220, 50256],\n",
      "        [50256,  6660,   314,  ...,   764,   220, 50256]])\n",
      "torch.Size([15, 105])\n",
      "['ĠAnd', 'Ġgeography', 'Ġ,', 'Ġit', \"Ġ'\", 'Ġs', 'Ġtrue', 'Ġ,', 'Ġhas', 'Ġserved', 'Ġme', 'Ġwell', 'Ġ.', 'Ġ', '<|endoftext|>']\n",
      "torch.Size([14, 100]) tensor([[50256,   314,   373,  ...,   764,   220, 50256],\n",
      "        [50256,   314,   373,  ...,   764,   220, 50256],\n",
      "        [50256,   314,   373,  ...,   764,   220, 50256],\n",
      "        ...,\n",
      "        [50256,   314,   373,  ...,   764,   220, 50256],\n",
      "        [50256,   314,   373,  ...,   764,   220, 50256],\n",
      "        [50256,   314,   373,  ...,   764,   220, 50256]])\n",
      "torch.Size([14, 100])\n",
      "['ĠI', 'Ġcould', 'Ġrecognize', 'Ġ,', 'Ġat', 'Ġfirst', 'Ġglance', 'Ġ,', 'ĠChina', 'Ġfrom', 'ĠArizona', 'Ġ.', 'Ġ', '<|endoftext|>']\n",
      "torch.Size([15, 95]) tensor([[50256,   402,  2053,  ...,   764,   220, 50256],\n",
      "        [50256,   402,  2053,  ...,   764,   220, 50256],\n",
      "        [50256,   402,  2053,  ...,   764,   220, 50256],\n",
      "        ...,\n",
      "        [50256,   402,  2053,  ...,   764,   220, 50256],\n",
      "        [50256,   402,  2053,  ...,   764,   220, 50256],\n",
      "        [50256,   402,  2053,  ...,   764,   220, 50256]])\n",
      "torch.Size([15, 95])\n",
      "['ĠIt', 'ĠâĢ', 'Ļ', 'Ġs', 'Ġvery', 'Ġuseful', 'Ġif', 'Ġyou', 'Ġget', 'Ġlost', 'Ġat', 'Ġnight', 'Ġ.', 'Ġ', '<|endoftext|>']\n",
      "torch.Size([20, 85]) tensor([[50256,  1406,   314,  ...,   764,   220, 50256],\n",
      "        [50256,  1406,   314,  ...,   764,   220, 50256],\n",
      "        [50256,  1406,   314,  ...,   764,   220, 50256],\n",
      "        ...,\n",
      "        [50256,  1406,   314,  ...,   764,   220, 50256],\n",
      "        [50256,  1406,   314,  ...,   764,   220, 50256],\n",
      "        [50256,  1406,   314,  ...,   764,   220, 50256]])\n",
      "torch.Size([20, 85])\n",
      "['ĠI', 'Ġhave', 'Ġhad', 'Ġ,', 'Ġduring', 'Ġmy', 'Ġlife', 'Ġ,', 'Ġa', 'Ġlot', 'Ġof', 'Ġcontact', 'Ġwith', 'Ġmany', 'Ġpersons', 'Ġof', 'Ġconsequence', 'Ġ.', 'Ġ', '<|endoftext|>']\n",
      "torch.Size([12, 80]) tensor([[50256,   314, 13112,   257,  1310,   287,   867,  4113,  1088,   262,\n",
      "           995,   764,   843, 27876,   837,   340,   705,   264,  2081,   837,\n",
      "           468,  4983,   502,   880,   764,   314,   714,  7564,   837,   379,\n",
      "           717, 16086,   837,  2807,   422,  7943,   764,   632,   564,   247,\n",
      "           264,   845,  4465,   611,   345,   651,  2626,   379,  1755,   764,\n",
      "           314,   423,   550,   837,  1141,   616,  1204,   837,   257,  1256,\n",
      "           286,  2800,   351,   867,  6506,   286, 12921,   764,   314,   423,\n",
      "          5615,   257,  1256, 12077,   262,  7334,  4739,   764,   220, 50256],\n",
      "        [50256,   314, 13112,   257,  1310,   287,   867,  4113,  1088,   262,\n",
      "           995,   764,   843, 27876,   837,   340,   705,   264,  2081,   837,\n",
      "           468,  4983,   502,   880,   764,   314,   714,  7564,   837,   379,\n",
      "           717, 16086,   837,  2807,   422,  7943,   764,   632,   564,   247,\n",
      "           264,   845,  4465,   611,   345,   651,  2626,   379,  1755,   764,\n",
      "           314,   423,   550,   837,  1141,   616,  1204,   837,   257,  1256,\n",
      "           286,  2800,   351,   867,  6506,   286, 12921,   764,   314,   423,\n",
      "          5615,   257,  1256, 12077,   262,  7334,  4739,   764,   220, 50256],\n",
      "        [50256,   314, 13112,   257,  1310,   287,   867,  4113,  1088,   262,\n",
      "           995,   764,   843, 27876,   837,   340,   705,   264,  2081,   837,\n",
      "           468,  4983,   502,   880,   764,   314,   714,  7564,   837,   379,\n",
      "           717, 16086,   837,  2807,   422,  7943,   764,   632,   564,   247,\n",
      "           264,   845,  4465,   611,   345,   651,  2626,   379,  1755,   764,\n",
      "           314,   423,   550,   837,  1141,   616,  1204,   837,   257,  1256,\n",
      "           286,  2800,   351,   867,  6506,   286, 12921,   764,   314,   423,\n",
      "          5615,   257,  1256, 12077,   262,  7334,  4739,   764,   220, 50256],\n",
      "        [50256,   314, 13112,   257,  1310,   287,   867,  4113,  1088,   262,\n",
      "           995,   764,   843, 27876,   837,   340,   705,   264,  2081,   837,\n",
      "           468,  4983,   502,   880,   764,   314,   714,  7564,   837,   379,\n",
      "           717, 16086,   837,  2807,   422,  7943,   764,   632,   564,   247,\n",
      "           264,   845,  4465,   611,   345,   651,  2626,   379,  1755,   764,\n",
      "           314,   423,   550,   837,  1141,   616,  1204,   837,   257,  1256,\n",
      "           286,  2800,   351,   867,  6506,   286, 12921,   764,   314,   423,\n",
      "          5615,   257,  1256, 12077,   262,  7334,  4739,   764,   220, 50256],\n",
      "        [50256,   314, 13112,   257,  1310,   287,   867,  4113,  1088,   262,\n",
      "           995,   764,   843, 27876,   837,   340,   705,   264,  2081,   837,\n",
      "           468,  4983,   502,   880,   764,   314,   714,  7564,   837,   379,\n",
      "           717, 16086,   837,  2807,   422,  7943,   764,   632,   564,   247,\n",
      "           264,   845,  4465,   611,   345,   651,  2626,   379,  1755,   764,\n",
      "           314,   423,   550,   837,  1141,   616,  1204,   837,   257,  1256,\n",
      "           286,  2800,   351,   867,  6506,   286, 12921,   764,   314,   423,\n",
      "          5615,   257,  1256, 12077,   262,  7334,  4739,   764,   220, 50256],\n",
      "        [50256,   314, 13112,   257,  1310,   287,   867,  4113,  1088,   262,\n",
      "           995,   764,   843, 27876,   837,   340,   705,   264,  2081,   837,\n",
      "           468,  4983,   502,   880,   764,   314,   714,  7564,   837,   379,\n",
      "           717, 16086,   837,  2807,   422,  7943,   764,   632,   564,   247,\n",
      "           264,   845,  4465,   611,   345,   651,  2626,   379,  1755,   764,\n",
      "           314,   423,   550,   837,  1141,   616,  1204,   837,   257,  1256,\n",
      "           286,  2800,   351,   867,  6506,   286, 12921,   764,   314,   423,\n",
      "          5615,   257,  1256, 12077,   262,  7334,  4739,   764,   220, 50256],\n",
      "        [50256,   314, 13112,   257,  1310,   287,   867,  4113,  1088,   262,\n",
      "           995,   764,   843, 27876,   837,   340,   705,   264,  2081,   837,\n",
      "           468,  4983,   502,   880,   764,   314,   714,  7564,   837,   379,\n",
      "           717, 16086,   837,  2807,   422,  7943,   764,   632,   564,   247,\n",
      "           264,   845,  4465,   611,   345,   651,  2626,   379,  1755,   764,\n",
      "           314,   423,   550,   837,  1141,   616,  1204,   837,   257,  1256,\n",
      "           286,  2800,   351,   867,  6506,   286, 12921,   764,   314,   423,\n",
      "          5615,   257,  1256, 12077,   262,  7334,  4739,   764,   220, 50256],\n",
      "        [50256,   314, 13112,   257,  1310,   287,   867,  4113,  1088,   262,\n",
      "           995,   764,   843, 27876,   837,   340,   705,   264,  2081,   837,\n",
      "           468,  4983,   502,   880,   764,   314,   714,  7564,   837,   379,\n",
      "           717, 16086,   837,  2807,   422,  7943,   764,   632,   564,   247,\n",
      "           264,   845,  4465,   611,   345,   651,  2626,   379,  1755,   764,\n",
      "           314,   423,   550,   837,  1141,   616,  1204,   837,   257,  1256,\n",
      "           286,  2800,   351,   867,  6506,   286, 12921,   764,   314,   423,\n",
      "          5615,   257,  1256, 12077,   262,  7334,  4739,   764,   220, 50256],\n",
      "        [50256,   314, 13112,   257,  1310,   287,   867,  4113,  1088,   262,\n",
      "           995,   764,   843, 27876,   837,   340,   705,   264,  2081,   837,\n",
      "           468,  4983,   502,   880,   764,   314,   714,  7564,   837,   379,\n",
      "           717, 16086,   837,  2807,   422,  7943,   764,   632,   564,   247,\n",
      "           264,   845,  4465,   611,   345,   651,  2626,   379,  1755,   764,\n",
      "           314,   423,   550,   837,  1141,   616,  1204,   837,   257,  1256,\n",
      "           286,  2800,   351,   867,  6506,   286, 12921,   764,   314,   423,\n",
      "          5615,   257,  1256, 12077,   262,  7334,  4739,   764,   220, 50256],\n",
      "        [50256,   314, 13112,   257,  1310,   287,   867,  4113,  1088,   262,\n",
      "           995,   764,   843, 27876,   837,   340,   705,   264,  2081,   837,\n",
      "           468,  4983,   502,   880,   764,   314,   714,  7564,   837,   379,\n",
      "           717, 16086,   837,  2807,   422,  7943,   764,   632,   564,   247,\n",
      "           264,   845,  4465,   611,   345,   651,  2626,   379,  1755,   764,\n",
      "           314,   423,   550,   837,  1141,   616,  1204,   837,   257,  1256,\n",
      "           286,  2800,   351,   867,  6506,   286, 12921,   764,   314,   423,\n",
      "          5615,   257,  1256, 12077,   262,  7334,  4739,   764,   220, 50256],\n",
      "        [50256,   314, 13112,   257,  1310,   287,   867,  4113,  1088,   262,\n",
      "           995,   764,   843, 27876,   837,   340,   705,   264,  2081,   837,\n",
      "           468,  4983,   502,   880,   764,   314,   714,  7564,   837,   379,\n",
      "           717, 16086,   837,  2807,   422,  7943,   764,   632,   564,   247,\n",
      "           264,   845,  4465,   611,   345,   651,  2626,   379,  1755,   764,\n",
      "           314,   423,   550,   837,  1141,   616,  1204,   837,   257,  1256,\n",
      "           286,  2800,   351,   867,  6506,   286, 12921,   764,   314,   423,\n",
      "          5615,   257,  1256, 12077,   262,  7334,  4739,   764,   220, 50256],\n",
      "        [50256,   314, 13112,   257,  1310,   287,   867,  4113,  1088,   262,\n",
      "           995,   764,   843, 27876,   837,   340,   705,   264,  2081,   837,\n",
      "           468,  4983,   502,   880,   764,   314,   714,  7564,   837,   379,\n",
      "           717, 16086,   837,  2807,   422,  7943,   764,   632,   564,   247,\n",
      "           264,   845,  4465,   611,   345,   651,  2626,   379,  1755,   764,\n",
      "           314,   423,   550,   837,  1141,   616,  1204,   837,   257,  1256,\n",
      "           286,  2800,   351,   867,  6506,   286, 12921,   764,   314,   423,\n",
      "          5615,   257,  1256, 12077,   262,  7334,  4739,   764,   220, 50256]])\n",
      "torch.Size([12, 80])\n",
      "['ĠI', 'Ġhave', 'Ġlived', 'Ġa', 'Ġlot', 'Ġamongst', 'Ġthe', 'Ġgrown', 'ups', 'Ġ.', 'Ġ', '<|endoftext|>']\n"
     ]
    },
    {
     "name": "stdout",
     "output_type": "stream",
     "text": [
      "torch.Size([10, 77]) tensor([[50256,   843, 27876,   837,   340,   705,   264,  2081,   837,   468,\n",
      "          4983,   502,   880,   764,   314,   714,  7564,   837,   379,   717,\n",
      "         16086,   837,  2807,   422,  7943,   764,   632,   564,   247,   264,\n",
      "           845,  4465,   611,   345,   651,  2626,   379,  1755,   764,   314,\n",
      "           423,   550,   837,  1141,   616,  1204,   837,   257,  1256,   286,\n",
      "          2800,   351,   867,  6506,   286, 12921,   764,   314,   423,  5615,\n",
      "           257,  1256, 12077,   262,  7334,  4739,   764,   314,   423,  1775,\n",
      "           606,   422,  1969,   510,   764,   220, 50256],\n",
      "        [50256,   843, 27876,   837,   340,   705,   264,  2081,   837,   468,\n",
      "          4983,   502,   880,   764,   314,   714,  7564,   837,   379,   717,\n",
      "         16086,   837,  2807,   422,  7943,   764,   632,   564,   247,   264,\n",
      "           845,  4465,   611,   345,   651,  2626,   379,  1755,   764,   314,\n",
      "           423,   550,   837,  1141,   616,  1204,   837,   257,  1256,   286,\n",
      "          2800,   351,   867,  6506,   286, 12921,   764,   314,   423,  5615,\n",
      "           257,  1256, 12077,   262,  7334,  4739,   764,   314,   423,  1775,\n",
      "           606,   422,  1969,   510,   764,   220, 50256],\n",
      "        [50256,   843, 27876,   837,   340,   705,   264,  2081,   837,   468,\n",
      "          4983,   502,   880,   764,   314,   714,  7564,   837,   379,   717,\n",
      "         16086,   837,  2807,   422,  7943,   764,   632,   564,   247,   264,\n",
      "           845,  4465,   611,   345,   651,  2626,   379,  1755,   764,   314,\n",
      "           423,   550,   837,  1141,   616,  1204,   837,   257,  1256,   286,\n",
      "          2800,   351,   867,  6506,   286, 12921,   764,   314,   423,  5615,\n",
      "           257,  1256, 12077,   262,  7334,  4739,   764,   314,   423,  1775,\n",
      "           606,   422,  1969,   510,   764,   220, 50256],\n",
      "        [50256,   843, 27876,   837,   340,   705,   264,  2081,   837,   468,\n",
      "          4983,   502,   880,   764,   314,   714,  7564,   837,   379,   717,\n",
      "         16086,   837,  2807,   422,  7943,   764,   632,   564,   247,   264,\n",
      "           845,  4465,   611,   345,   651,  2626,   379,  1755,   764,   314,\n",
      "           423,   550,   837,  1141,   616,  1204,   837,   257,  1256,   286,\n",
      "          2800,   351,   867,  6506,   286, 12921,   764,   314,   423,  5615,\n",
      "           257,  1256, 12077,   262,  7334,  4739,   764,   314,   423,  1775,\n",
      "           606,   422,  1969,   510,   764,   220, 50256],\n",
      "        [50256,   843, 27876,   837,   340,   705,   264,  2081,   837,   468,\n",
      "          4983,   502,   880,   764,   314,   714,  7564,   837,   379,   717,\n",
      "         16086,   837,  2807,   422,  7943,   764,   632,   564,   247,   264,\n",
      "           845,  4465,   611,   345,   651,  2626,   379,  1755,   764,   314,\n",
      "           423,   550,   837,  1141,   616,  1204,   837,   257,  1256,   286,\n",
      "          2800,   351,   867,  6506,   286, 12921,   764,   314,   423,  5615,\n",
      "           257,  1256, 12077,   262,  7334,  4739,   764,   314,   423,  1775,\n",
      "           606,   422,  1969,   510,   764,   220, 50256],\n",
      "        [50256,   843, 27876,   837,   340,   705,   264,  2081,   837,   468,\n",
      "          4983,   502,   880,   764,   314,   714,  7564,   837,   379,   717,\n",
      "         16086,   837,  2807,   422,  7943,   764,   632,   564,   247,   264,\n",
      "           845,  4465,   611,   345,   651,  2626,   379,  1755,   764,   314,\n",
      "           423,   550,   837,  1141,   616,  1204,   837,   257,  1256,   286,\n",
      "          2800,   351,   867,  6506,   286, 12921,   764,   314,   423,  5615,\n",
      "           257,  1256, 12077,   262,  7334,  4739,   764,   314,   423,  1775,\n",
      "           606,   422,  1969,   510,   764,   220, 50256],\n",
      "        [50256,   843, 27876,   837,   340,   705,   264,  2081,   837,   468,\n",
      "          4983,   502,   880,   764,   314,   714,  7564,   837,   379,   717,\n",
      "         16086,   837,  2807,   422,  7943,   764,   632,   564,   247,   264,\n",
      "           845,  4465,   611,   345,   651,  2626,   379,  1755,   764,   314,\n",
      "           423,   550,   837,  1141,   616,  1204,   837,   257,  1256,   286,\n",
      "          2800,   351,   867,  6506,   286, 12921,   764,   314,   423,  5615,\n",
      "           257,  1256, 12077,   262,  7334,  4739,   764,   314,   423,  1775,\n",
      "           606,   422,  1969,   510,   764,   220, 50256],\n",
      "        [50256,   843, 27876,   837,   340,   705,   264,  2081,   837,   468,\n",
      "          4983,   502,   880,   764,   314,   714,  7564,   837,   379,   717,\n",
      "         16086,   837,  2807,   422,  7943,   764,   632,   564,   247,   264,\n",
      "           845,  4465,   611,   345,   651,  2626,   379,  1755,   764,   314,\n",
      "           423,   550,   837,  1141,   616,  1204,   837,   257,  1256,   286,\n",
      "          2800,   351,   867,  6506,   286, 12921,   764,   314,   423,  5615,\n",
      "           257,  1256, 12077,   262,  7334,  4739,   764,   314,   423,  1775,\n",
      "           606,   422,  1969,   510,   764,   220, 50256],\n",
      "        [50256,   843, 27876,   837,   340,   705,   264,  2081,   837,   468,\n",
      "          4983,   502,   880,   764,   314,   714,  7564,   837,   379,   717,\n",
      "         16086,   837,  2807,   422,  7943,   764,   632,   564,   247,   264,\n",
      "           845,  4465,   611,   345,   651,  2626,   379,  1755,   764,   314,\n",
      "           423,   550,   837,  1141,   616,  1204,   837,   257,  1256,   286,\n",
      "          2800,   351,   867,  6506,   286, 12921,   764,   314,   423,  5615,\n",
      "           257,  1256, 12077,   262,  7334,  4739,   764,   314,   423,  1775,\n",
      "           606,   422,  1969,   510,   764,   220, 50256],\n",
      "        [50256,   843, 27876,   837,   340,   705,   264,  2081,   837,   468,\n",
      "          4983,   502,   880,   764,   314,   714,  7564,   837,   379,   717,\n",
      "         16086,   837,  2807,   422,  7943,   764,   632,   564,   247,   264,\n",
      "           845,  4465,   611,   345,   651,  2626,   379,  1755,   764,   314,\n",
      "           423,   550,   837,  1141,   616,  1204,   837,   257,  1256,   286,\n",
      "          2800,   351,   867,  6506,   286, 12921,   764,   314,   423,  5615,\n",
      "           257,  1256, 12077,   262,  7334,  4739,   764,   314,   423,  1775,\n",
      "           606,   422,  1969,   510,   764,   220, 50256]])\n",
      "torch.Size([10, 77])\n",
      "['ĠI', 'Ġhave', 'Ġseen', 'Ġthem', 'Ġfrom', 'Ġclose', 'Ġup', 'Ġ.', 'Ġ', '<|endoftext|>']\n",
      "torch.Size([12, 74]) tensor([[50256,   314,   714,  7564,   837,   379,   717, 16086,   837,  2807,\n",
      "           422,  7943,   764,   632,   564,   247,   264,   845,  4465,   611,\n",
      "           345,   651,  2626,   379,  1755,   764,   314,   423,   550,   837,\n",
      "          1141,   616,  1204,   837,   257,  1256,   286,  2800,   351,   867,\n",
      "          6506,   286, 12921,   764,   314,   423,  5615,   257,  1256, 12077,\n",
      "           262,  7334,  4739,   764,   314,   423,  1775,   606,   422,  1969,\n",
      "           510,   764,   632,   468,   429,   881,  6596,   616,  4459,   286,\n",
      "           606,   764,   220, 50256],\n",
      "        [50256,   314,   714,  7564,   837,   379,   717, 16086,   837,  2807,\n",
      "           422,  7943,   764,   632,   564,   247,   264,   845,  4465,   611,\n",
      "           345,   651,  2626,   379,  1755,   764,   314,   423,   550,   837,\n",
      "          1141,   616,  1204,   837,   257,  1256,   286,  2800,   351,   867,\n",
      "          6506,   286, 12921,   764,   314,   423,  5615,   257,  1256, 12077,\n",
      "           262,  7334,  4739,   764,   314,   423,  1775,   606,   422,  1969,\n",
      "           510,   764,   632,   468,   429,   881,  6596,   616,  4459,   286,\n",
      "           606,   764,   220, 50256],\n",
      "        [50256,   314,   714,  7564,   837,   379,   717, 16086,   837,  2807,\n",
      "           422,  7943,   764,   632,   564,   247,   264,   845,  4465,   611,\n",
      "           345,   651,  2626,   379,  1755,   764,   314,   423,   550,   837,\n",
      "          1141,   616,  1204,   837,   257,  1256,   286,  2800,   351,   867,\n",
      "          6506,   286, 12921,   764,   314,   423,  5615,   257,  1256, 12077,\n",
      "           262,  7334,  4739,   764,   314,   423,  1775,   606,   422,  1969,\n",
      "           510,   764,   632,   468,   429,   881,  6596,   616,  4459,   286,\n",
      "           606,   764,   220, 50256],\n",
      "        [50256,   314,   714,  7564,   837,   379,   717, 16086,   837,  2807,\n",
      "           422,  7943,   764,   632,   564,   247,   264,   845,  4465,   611,\n",
      "           345,   651,  2626,   379,  1755,   764,   314,   423,   550,   837,\n",
      "          1141,   616,  1204,   837,   257,  1256,   286,  2800,   351,   867,\n",
      "          6506,   286, 12921,   764,   314,   423,  5615,   257,  1256, 12077,\n",
      "           262,  7334,  4739,   764,   314,   423,  1775,   606,   422,  1969,\n",
      "           510,   764,   632,   468,   429,   881,  6596,   616,  4459,   286,\n",
      "           606,   764,   220, 50256],\n",
      "        [50256,   314,   714,  7564,   837,   379,   717, 16086,   837,  2807,\n",
      "           422,  7943,   764,   632,   564,   247,   264,   845,  4465,   611,\n",
      "           345,   651,  2626,   379,  1755,   764,   314,   423,   550,   837,\n",
      "          1141,   616,  1204,   837,   257,  1256,   286,  2800,   351,   867,\n",
      "          6506,   286, 12921,   764,   314,   423,  5615,   257,  1256, 12077,\n",
      "           262,  7334,  4739,   764,   314,   423,  1775,   606,   422,  1969,\n",
      "           510,   764,   632,   468,   429,   881,  6596,   616,  4459,   286,\n",
      "           606,   764,   220, 50256],\n",
      "        [50256,   314,   714,  7564,   837,   379,   717, 16086,   837,  2807,\n",
      "           422,  7943,   764,   632,   564,   247,   264,   845,  4465,   611,\n",
      "           345,   651,  2626,   379,  1755,   764,   314,   423,   550,   837,\n",
      "          1141,   616,  1204,   837,   257,  1256,   286,  2800,   351,   867,\n",
      "          6506,   286, 12921,   764,   314,   423,  5615,   257,  1256, 12077,\n",
      "           262,  7334,  4739,   764,   314,   423,  1775,   606,   422,  1969,\n",
      "           510,   764,   632,   468,   429,   881,  6596,   616,  4459,   286,\n",
      "           606,   764,   220, 50256],\n",
      "        [50256,   314,   714,  7564,   837,   379,   717, 16086,   837,  2807,\n",
      "           422,  7943,   764,   632,   564,   247,   264,   845,  4465,   611,\n",
      "           345,   651,  2626,   379,  1755,   764,   314,   423,   550,   837,\n",
      "          1141,   616,  1204,   837,   257,  1256,   286,  2800,   351,   867,\n",
      "          6506,   286, 12921,   764,   314,   423,  5615,   257,  1256, 12077,\n",
      "           262,  7334,  4739,   764,   314,   423,  1775,   606,   422,  1969,\n",
      "           510,   764,   632,   468,   429,   881,  6596,   616,  4459,   286,\n",
      "           606,   764,   220, 50256],\n",
      "        [50256,   314,   714,  7564,   837,   379,   717, 16086,   837,  2807,\n",
      "           422,  7943,   764,   632,   564,   247,   264,   845,  4465,   611,\n",
      "           345,   651,  2626,   379,  1755,   764,   314,   423,   550,   837,\n",
      "          1141,   616,  1204,   837,   257,  1256,   286,  2800,   351,   867,\n",
      "          6506,   286, 12921,   764,   314,   423,  5615,   257,  1256, 12077,\n",
      "           262,  7334,  4739,   764,   314,   423,  1775,   606,   422,  1969,\n",
      "           510,   764,   632,   468,   429,   881,  6596,   616,  4459,   286,\n",
      "           606,   764,   220, 50256],\n",
      "        [50256,   314,   714,  7564,   837,   379,   717, 16086,   837,  2807,\n",
      "           422,  7943,   764,   632,   564,   247,   264,   845,  4465,   611,\n",
      "           345,   651,  2626,   379,  1755,   764,   314,   423,   550,   837,\n",
      "          1141,   616,  1204,   837,   257,  1256,   286,  2800,   351,   867,\n",
      "          6506,   286, 12921,   764,   314,   423,  5615,   257,  1256, 12077,\n",
      "           262,  7334,  4739,   764,   314,   423,  1775,   606,   422,  1969,\n",
      "           510,   764,   632,   468,   429,   881,  6596,   616,  4459,   286,\n",
      "           606,   764,   220, 50256],\n",
      "        [50256,   314,   714,  7564,   837,   379,   717, 16086,   837,  2807,\n",
      "           422,  7943,   764,   632,   564,   247,   264,   845,  4465,   611,\n",
      "           345,   651,  2626,   379,  1755,   764,   314,   423,   550,   837,\n",
      "          1141,   616,  1204,   837,   257,  1256,   286,  2800,   351,   867,\n",
      "          6506,   286, 12921,   764,   314,   423,  5615,   257,  1256, 12077,\n",
      "           262,  7334,  4739,   764,   314,   423,  1775,   606,   422,  1969,\n",
      "           510,   764,   632,   468,   429,   881,  6596,   616,  4459,   286,\n",
      "           606,   764,   220, 50256],\n",
      "        [50256,   314,   714,  7564,   837,   379,   717, 16086,   837,  2807,\n",
      "           422,  7943,   764,   632,   564,   247,   264,   845,  4465,   611,\n",
      "           345,   651,  2626,   379,  1755,   764,   314,   423,   550,   837,\n",
      "          1141,   616,  1204,   837,   257,  1256,   286,  2800,   351,   867,\n",
      "          6506,   286, 12921,   764,   314,   423,  5615,   257,  1256, 12077,\n",
      "           262,  7334,  4739,   764,   314,   423,  1775,   606,   422,  1969,\n",
      "           510,   764,   632,   468,   429,   881,  6596,   616,  4459,   286,\n",
      "           606,   764,   220, 50256],\n",
      "        [50256,   314,   714,  7564,   837,   379,   717, 16086,   837,  2807,\n",
      "           422,  7943,   764,   632,   564,   247,   264,   845,  4465,   611,\n",
      "           345,   651,  2626,   379,  1755,   764,   314,   423,   550,   837,\n",
      "          1141,   616,  1204,   837,   257,  1256,   286,  2800,   351,   867,\n",
      "          6506,   286, 12921,   764,   314,   423,  5615,   257,  1256, 12077,\n",
      "           262,  7334,  4739,   764,   314,   423,  1775,   606,   422,  1969,\n",
      "           510,   764,   632,   468,   429,   881,  6596,   616,  4459,   286,\n",
      "           606,   764,   220, 50256]])\n",
      "torch.Size([12, 74])\n",
      "['ĠIt', 'Ġhas', 'nt', 'Ġmuch', 'Ġimproved', 'Ġmy', 'Ġopinion', 'Ġof', 'Ġthem', 'Ġ.', 'Ġ', '<|endoftext|>']\n"
     ]
    },
    {
     "name": "stdout",
     "output_type": "stream",
     "text": [
      "torch.Size([37, 97]) tensor([[50256,   632,   564,  ...,   764,   220, 50256],\n",
      "        [50256,   632,   564,  ...,   764,   220, 50256],\n",
      "        [50256,   632,   564,  ...,   764,   220, 50256],\n",
      "        ...,\n",
      "        [50256,   632,   564,  ...,   764,   220, 50256],\n",
      "        [50256,   632,   564,  ...,   764,   220, 50256],\n",
      "        [50256,   632,   564,  ...,   764,   220, 50256]])\n",
      "torch.Size([37, 97])\n",
      "['ĠWhenever', 'ĠI', 'Ġmet', 'Ġone', 'Ġof', 'Ġthem', 'Ġthat', 'Ġseemed', 'Ġa', 'Ġbit', 'Ġmore', 'Ġclear', 'Ġ-', 'Ġsight', 'ed', 'Ġ,', 'ĠI', 'Ġtried', 'Ġthe', 'Ġexperiment', 'Ġof', 'Ġshowing', 'Ġthem', 'Ġmy', 'ĠDrawing', 'ĠNumber', 'Ġone', 'Ġ,', 'Ġthat', 'ĠI', \"Ġ'\", 'Ġve', 'Ġalways', 'Ġkept', 'Ġ.', 'Ġ', '<|endoftext|>']\n",
      "torch.Size([16, 98]) tensor([[50256,   314,   423,  ...,   764,   220, 50256],\n",
      "        [50256,   314,   423,  ...,   764,   220, 50256],\n",
      "        [50256,   314,   423,  ...,   764,   220, 50256],\n",
      "        ...,\n",
      "        [50256,   314,   423,  ...,   764,   220, 50256],\n",
      "        [50256,   314,   423,  ...,   764,   220, 50256],\n",
      "        [50256,   314,   423,  ...,   764,   220, 50256]])\n",
      "torch.Size([16, 98])\n",
      "['ĠI', 'Ġwanted', 'Ġto', 'Ġknow', 'Ġif', 'Ġthey', 'Ġwere', 'Ġreally', 'Ġa', 'Ġperson', 'Ġof', 'Ġtrue', 'Ġunderstanding', 'Ġ.', 'Ġ', '<|endoftext|>']\n",
      "torch.Size([17, 95]) tensor([[50256,   314,   423,  ...,   251,   220, 50256],\n",
      "        [50256,   314,   423,  ...,   251,   220, 50256],\n",
      "        [50256,   314,   423,  ...,   251,   220, 50256],\n",
      "        ...,\n",
      "        [50256,   314,   423,  ...,   251,   220, 50256],\n",
      "        [50256,   314,   423,  ...,   251,   220, 50256],\n",
      "        [50256,   314,   423,  ...,   251,   220, 50256]])\n",
      "torch.Size([17, 95])\n",
      "['ĠBut', 'Ġthey', 'Ġalways', 'Ġresponded', 'Ġ:', 'ĠâĢ', 'ľ', 'ĠIt', \"Ġ'\", 'Ġs', 'Ġa', 'Ġhat', 'Ġ.', 'ĠâĢ', 'Ŀ', 'Ġ', '<|endoftext|>']\n",
      "torch.Size([27, 110]) tensor([[50256,   314,   423,  ...,   764,   220, 50256],\n",
      "        [50256,   314,   423,  ...,   764,   220, 50256],\n",
      "        [50256,   314,   423,  ...,   764,   220, 50256],\n",
      "        ...,\n",
      "        [50256,   314,   423,  ...,   764,   220, 50256],\n",
      "        [50256,   314,   423,  ...,   764,   220, 50256],\n",
      "        [50256,   314,   423,  ...,   764,   220, 50256]])\n",
      "torch.Size([27, 110])\n",
      "['ĠSo', 'ĠI', 'Ġwould', 'Ġnever', 'Ġspeak', 'Ġto', 'Ġthem', 'Ġof', 'Ġbo', 'a', 'Ġconst', 'rict', 'ors', 'Ġ,', 'Ġnor', 'Ġof', 'Ġprime', 'val', 'Ġforests', 'Ġ,', 'Ġnor', 'Ġof', 'Ġthe', 'Ġstars', 'Ġ.', 'Ġ', '<|endoftext|>']\n",
      "torch.Size([9, 109]) tensor([[50256,   632,   468,   429,   881,  6596,   616,  4459,   286,   606,\n",
      "           764, 21326,   314,  1138,   530,   286,   606,   326,  3947,   257,\n",
      "          1643,   517,  1598,   532,  6504,   276,   837,   314,  3088,   262,\n",
      "          6306,   286,  4478,   606,   616, 40027,  7913,   530,   837,   326,\n",
      "           314,   705,  1569,  1464,  4030,   764,   314,  2227,   284,   760,\n",
      "           611,   484,   547,  1107,   257,  1048,   286,  2081,  4547,   764,\n",
      "           887,   484,  1464,  7082,  1058,   564,   250,   632,   705,   264,\n",
      "           257,  6877,   764,   564,   251,  1406,   314,   561,  1239,  2740,\n",
      "           284,   606,   286,  1489,    64,  1500,  2012,   669,   837,  4249,\n",
      "           286,  6994,  2100, 17039,   837,  4249,   286,   262,  5788,   764,\n",
      "           314,  1234,  3589,   379,   511,  1241,   764,   220, 50256],\n",
      "        [50256,   632,   468,   429,   881,  6596,   616,  4459,   286,   606,\n",
      "           764, 21326,   314,  1138,   530,   286,   606,   326,  3947,   257,\n",
      "          1643,   517,  1598,   532,  6504,   276,   837,   314,  3088,   262,\n",
      "          6306,   286,  4478,   606,   616, 40027,  7913,   530,   837,   326,\n",
      "           314,   705,  1569,  1464,  4030,   764,   314,  2227,   284,   760,\n",
      "           611,   484,   547,  1107,   257,  1048,   286,  2081,  4547,   764,\n",
      "           887,   484,  1464,  7082,  1058,   564,   250,   632,   705,   264,\n",
      "           257,  6877,   764,   564,   251,  1406,   314,   561,  1239,  2740,\n",
      "           284,   606,   286,  1489,    64,  1500,  2012,   669,   837,  4249,\n",
      "           286,  6994,  2100, 17039,   837,  4249,   286,   262,  5788,   764,\n",
      "           314,  1234,  3589,   379,   511,  1241,   764,   220, 50256],\n",
      "        [50256,   632,   468,   429,   881,  6596,   616,  4459,   286,   606,\n",
      "           764, 21326,   314,  1138,   530,   286,   606,   326,  3947,   257,\n",
      "          1643,   517,  1598,   532,  6504,   276,   837,   314,  3088,   262,\n",
      "          6306,   286,  4478,   606,   616, 40027,  7913,   530,   837,   326,\n",
      "           314,   705,  1569,  1464,  4030,   764,   314,  2227,   284,   760,\n",
      "           611,   484,   547,  1107,   257,  1048,   286,  2081,  4547,   764,\n",
      "           887,   484,  1464,  7082,  1058,   564,   250,   632,   705,   264,\n",
      "           257,  6877,   764,   564,   251,  1406,   314,   561,  1239,  2740,\n",
      "           284,   606,   286,  1489,    64,  1500,  2012,   669,   837,  4249,\n",
      "           286,  6994,  2100, 17039,   837,  4249,   286,   262,  5788,   764,\n",
      "           314,  1234,  3589,   379,   511,  1241,   764,   220, 50256],\n",
      "        [50256,   632,   468,   429,   881,  6596,   616,  4459,   286,   606,\n",
      "           764, 21326,   314,  1138,   530,   286,   606,   326,  3947,   257,\n",
      "          1643,   517,  1598,   532,  6504,   276,   837,   314,  3088,   262,\n",
      "          6306,   286,  4478,   606,   616, 40027,  7913,   530,   837,   326,\n",
      "           314,   705,  1569,  1464,  4030,   764,   314,  2227,   284,   760,\n",
      "           611,   484,   547,  1107,   257,  1048,   286,  2081,  4547,   764,\n",
      "           887,   484,  1464,  7082,  1058,   564,   250,   632,   705,   264,\n",
      "           257,  6877,   764,   564,   251,  1406,   314,   561,  1239,  2740,\n",
      "           284,   606,   286,  1489,    64,  1500,  2012,   669,   837,  4249,\n",
      "           286,  6994,  2100, 17039,   837,  4249,   286,   262,  5788,   764,\n",
      "           314,  1234,  3589,   379,   511,  1241,   764,   220, 50256],\n",
      "        [50256,   632,   468,   429,   881,  6596,   616,  4459,   286,   606,\n",
      "           764, 21326,   314,  1138,   530,   286,   606,   326,  3947,   257,\n",
      "          1643,   517,  1598,   532,  6504,   276,   837,   314,  3088,   262,\n",
      "          6306,   286,  4478,   606,   616, 40027,  7913,   530,   837,   326,\n",
      "           314,   705,  1569,  1464,  4030,   764,   314,  2227,   284,   760,\n",
      "           611,   484,   547,  1107,   257,  1048,   286,  2081,  4547,   764,\n",
      "           887,   484,  1464,  7082,  1058,   564,   250,   632,   705,   264,\n",
      "           257,  6877,   764,   564,   251,  1406,   314,   561,  1239,  2740,\n",
      "           284,   606,   286,  1489,    64,  1500,  2012,   669,   837,  4249,\n",
      "           286,  6994,  2100, 17039,   837,  4249,   286,   262,  5788,   764,\n",
      "           314,  1234,  3589,   379,   511,  1241,   764,   220, 50256],\n",
      "        [50256,   632,   468,   429,   881,  6596,   616,  4459,   286,   606,\n",
      "           764, 21326,   314,  1138,   530,   286,   606,   326,  3947,   257,\n",
      "          1643,   517,  1598,   532,  6504,   276,   837,   314,  3088,   262,\n",
      "          6306,   286,  4478,   606,   616, 40027,  7913,   530,   837,   326,\n",
      "           314,   705,  1569,  1464,  4030,   764,   314,  2227,   284,   760,\n",
      "           611,   484,   547,  1107,   257,  1048,   286,  2081,  4547,   764,\n",
      "           887,   484,  1464,  7082,  1058,   564,   250,   632,   705,   264,\n",
      "           257,  6877,   764,   564,   251,  1406,   314,   561,  1239,  2740,\n",
      "           284,   606,   286,  1489,    64,  1500,  2012,   669,   837,  4249,\n",
      "           286,  6994,  2100, 17039,   837,  4249,   286,   262,  5788,   764,\n",
      "           314,  1234,  3589,   379,   511,  1241,   764,   220, 50256],\n",
      "        [50256,   632,   468,   429,   881,  6596,   616,  4459,   286,   606,\n",
      "           764, 21326,   314,  1138,   530,   286,   606,   326,  3947,   257,\n",
      "          1643,   517,  1598,   532,  6504,   276,   837,   314,  3088,   262,\n",
      "          6306,   286,  4478,   606,   616, 40027,  7913,   530,   837,   326,\n",
      "           314,   705,  1569,  1464,  4030,   764,   314,  2227,   284,   760,\n",
      "           611,   484,   547,  1107,   257,  1048,   286,  2081,  4547,   764,\n",
      "           887,   484,  1464,  7082,  1058,   564,   250,   632,   705,   264,\n",
      "           257,  6877,   764,   564,   251,  1406,   314,   561,  1239,  2740,\n",
      "           284,   606,   286,  1489,    64,  1500,  2012,   669,   837,  4249,\n",
      "           286,  6994,  2100, 17039,   837,  4249,   286,   262,  5788,   764,\n",
      "           314,  1234,  3589,   379,   511,  1241,   764,   220, 50256],\n",
      "        [50256,   632,   468,   429,   881,  6596,   616,  4459,   286,   606,\n",
      "           764, 21326,   314,  1138,   530,   286,   606,   326,  3947,   257,\n",
      "          1643,   517,  1598,   532,  6504,   276,   837,   314,  3088,   262,\n",
      "          6306,   286,  4478,   606,   616, 40027,  7913,   530,   837,   326,\n",
      "           314,   705,  1569,  1464,  4030,   764,   314,  2227,   284,   760,\n",
      "           611,   484,   547,  1107,   257,  1048,   286,  2081,  4547,   764,\n",
      "           887,   484,  1464,  7082,  1058,   564,   250,   632,   705,   264,\n",
      "           257,  6877,   764,   564,   251,  1406,   314,   561,  1239,  2740,\n",
      "           284,   606,   286,  1489,    64,  1500,  2012,   669,   837,  4249,\n",
      "           286,  6994,  2100, 17039,   837,  4249,   286,   262,  5788,   764,\n",
      "           314,  1234,  3589,   379,   511,  1241,   764,   220, 50256],\n",
      "        [50256,   632,   468,   429,   881,  6596,   616,  4459,   286,   606,\n",
      "           764, 21326,   314,  1138,   530,   286,   606,   326,  3947,   257,\n",
      "          1643,   517,  1598,   532,  6504,   276,   837,   314,  3088,   262,\n",
      "          6306,   286,  4478,   606,   616, 40027,  7913,   530,   837,   326,\n",
      "           314,   705,  1569,  1464,  4030,   764,   314,  2227,   284,   760,\n",
      "           611,   484,   547,  1107,   257,  1048,   286,  2081,  4547,   764,\n",
      "           887,   484,  1464,  7082,  1058,   564,   250,   632,   705,   264,\n",
      "           257,  6877,   764,   564,   251,  1406,   314,   561,  1239,  2740,\n",
      "           284,   606,   286,  1489,    64,  1500,  2012,   669,   837,  4249,\n",
      "           286,  6994,  2100, 17039,   837,  4249,   286,   262,  5788,   764,\n",
      "           314,  1234,  3589,   379,   511,  1241,   764,   220, 50256]])\n",
      "torch.Size([9, 109])\n",
      "['ĠI', 'Ġput', 'Ġmyself', 'Ġat', 'Ġtheir', 'Ġlevel', 'Ġ.', 'Ġ', '<|endoftext|>']\n"
     ]
    },
    {
     "name": "stdout",
     "output_type": "stream",
     "text": [
      "torch.Size([16, 113]) tensor([[50256, 21326,   314,  ...,   764,   220, 50256],\n",
      "        [50256, 21326,   314,  ...,   764,   220, 50256],\n",
      "        [50256, 21326,   314,  ...,   764,   220, 50256],\n",
      "        ...,\n",
      "        [50256, 21326,   314,  ...,   764,   220, 50256],\n",
      "        [50256, 21326,   314,  ...,   764,   220, 50256],\n",
      "        [50256, 21326,   314,  ...,   764,   220, 50256]])\n",
      "torch.Size([16, 113])\n",
      "['ĠI', 'Ġtalked', 'Ġto', 'Ġthem', 'Ġabout', 'Ġbridge', 'Ġ,', 'Ġgolf', 'Ġ,', 'Ġpolitics', 'Ġand', 'Ġneck', 'ties', 'Ġ.', 'Ġ', '<|endoftext|>']\n",
      "torch.Size([15, 91]) tensor([[50256,   314,  2227,  ...,   764,   220, 50256],\n",
      "        [50256,   314,  2227,  ...,   764,   220, 50256],\n",
      "        [50256,   314,  2227,  ...,   764,   220, 50256],\n",
      "        ...,\n",
      "        [50256,   314,  2227,  ...,   764,   220, 50256],\n",
      "        [50256,   314,  2227,  ...,   764,   220, 50256],\n",
      "        [50256,   314,  2227,  ...,   764,   220, 50256]])\n",
      "torch.Size([15, 91])\n",
      "['ĠAnd', 'Ġthe', 'Ġgrown', 'up', 'Ġwas', 'Ġglad', 'Ġto', 'Ġknow', 'Ġsuch', 'Ġa', 'Ġsensible', 'Ġman', 'Ġ.', 'Ġ', '<|endoftext|>']\n",
      "torch.Size([27, 102]) tensor([[50256,   887,   484,  ...,   764,   220, 50256],\n",
      "        [50256,   887,   484,  ...,   764,   220, 50256],\n",
      "        [50256,   887,   484,  ...,   764,   220, 50256],\n",
      "        ...,\n",
      "        [50256,   887,   484,  ...,   764,   220, 50256],\n",
      "        [50256,   887,   484,  ...,   764,   220, 50256],\n",
      "        [50256,   887,   484,  ...,   764,   220, 50256]])\n",
      "torch.Size([27, 102])\n",
      "['ĠSo', 'ĠI', 'Ġlived', 'Ġalone', 'Ġ,', 'Ġwithout', 'Ġanyone', 'ĠI', 'Ġcould', 'Ġreally', 'Ġtalk', 'Ġto', 'Ġ,', 'Ġuntil', 'Ġa', 'Ġbreakdown', 'Ġin', 'Ġthe', 'ĠSahara', 'Ġdesert', 'Ġ,', 'Ġsix', 'Ġyears', 'Ġago', 'Ġ.', 'Ġ', '<|endoftext|>']\n",
      "torch.Size([9, 94]) tensor([[50256,  1406,   314,   561,  1239,  2740,   284,   606,   286,  1489,\n",
      "            64,  1500,  2012,   669,   837,  4249,   286,  6994,  2100, 17039,\n",
      "           837,  4249,   286,   262,  5788,   764,   314,  1234,  3589,   379,\n",
      "           511,  1241,   764,   314,  6619,   284,   606,   546,  7696,   837,\n",
      "         13126,   837,  4819,   290,  7393,  4278,   764,   843,   262,  7334,\n",
      "           929,   373,  9675,   284,   760,   884,   257, 20586,   582,   764,\n",
      "          1406,   314,  5615,  3436,   837,  1231,  2687,   314,   714,  1107,\n",
      "          1561,   284,   837,  1566,   257, 14608,   287,   262, 46882, 10326,\n",
      "           837,  2237,   812,  2084,   764, 13742,   550,  5445,   287,   616,\n",
      "          3113,   764,   220, 50256],\n",
      "        [50256,  1406,   314,   561,  1239,  2740,   284,   606,   286,  1489,\n",
      "            64,  1500,  2012,   669,   837,  4249,   286,  6994,  2100, 17039,\n",
      "           837,  4249,   286,   262,  5788,   764,   314,  1234,  3589,   379,\n",
      "           511,  1241,   764,   314,  6619,   284,   606,   546,  7696,   837,\n",
      "         13126,   837,  4819,   290,  7393,  4278,   764,   843,   262,  7334,\n",
      "           929,   373,  9675,   284,   760,   884,   257, 20586,   582,   764,\n",
      "          1406,   314,  5615,  3436,   837,  1231,  2687,   314,   714,  1107,\n",
      "          1561,   284,   837,  1566,   257, 14608,   287,   262, 46882, 10326,\n",
      "           837,  2237,   812,  2084,   764, 13742,   550,  5445,   287,   616,\n",
      "          3113,   764,   220, 50256],\n",
      "        [50256,  1406,   314,   561,  1239,  2740,   284,   606,   286,  1489,\n",
      "            64,  1500,  2012,   669,   837,  4249,   286,  6994,  2100, 17039,\n",
      "           837,  4249,   286,   262,  5788,   764,   314,  1234,  3589,   379,\n",
      "           511,  1241,   764,   314,  6619,   284,   606,   546,  7696,   837,\n",
      "         13126,   837,  4819,   290,  7393,  4278,   764,   843,   262,  7334,\n",
      "           929,   373,  9675,   284,   760,   884,   257, 20586,   582,   764,\n",
      "          1406,   314,  5615,  3436,   837,  1231,  2687,   314,   714,  1107,\n",
      "          1561,   284,   837,  1566,   257, 14608,   287,   262, 46882, 10326,\n",
      "           837,  2237,   812,  2084,   764, 13742,   550,  5445,   287,   616,\n",
      "          3113,   764,   220, 50256],\n",
      "        [50256,  1406,   314,   561,  1239,  2740,   284,   606,   286,  1489,\n",
      "            64,  1500,  2012,   669,   837,  4249,   286,  6994,  2100, 17039,\n",
      "           837,  4249,   286,   262,  5788,   764,   314,  1234,  3589,   379,\n",
      "           511,  1241,   764,   314,  6619,   284,   606,   546,  7696,   837,\n",
      "         13126,   837,  4819,   290,  7393,  4278,   764,   843,   262,  7334,\n",
      "           929,   373,  9675,   284,   760,   884,   257, 20586,   582,   764,\n",
      "          1406,   314,  5615,  3436,   837,  1231,  2687,   314,   714,  1107,\n",
      "          1561,   284,   837,  1566,   257, 14608,   287,   262, 46882, 10326,\n",
      "           837,  2237,   812,  2084,   764, 13742,   550,  5445,   287,   616,\n",
      "          3113,   764,   220, 50256],\n",
      "        [50256,  1406,   314,   561,  1239,  2740,   284,   606,   286,  1489,\n",
      "            64,  1500,  2012,   669,   837,  4249,   286,  6994,  2100, 17039,\n",
      "           837,  4249,   286,   262,  5788,   764,   314,  1234,  3589,   379,\n",
      "           511,  1241,   764,   314,  6619,   284,   606,   546,  7696,   837,\n",
      "         13126,   837,  4819,   290,  7393,  4278,   764,   843,   262,  7334,\n",
      "           929,   373,  9675,   284,   760,   884,   257, 20586,   582,   764,\n",
      "          1406,   314,  5615,  3436,   837,  1231,  2687,   314,   714,  1107,\n",
      "          1561,   284,   837,  1566,   257, 14608,   287,   262, 46882, 10326,\n",
      "           837,  2237,   812,  2084,   764, 13742,   550,  5445,   287,   616,\n",
      "          3113,   764,   220, 50256],\n",
      "        [50256,  1406,   314,   561,  1239,  2740,   284,   606,   286,  1489,\n",
      "            64,  1500,  2012,   669,   837,  4249,   286,  6994,  2100, 17039,\n",
      "           837,  4249,   286,   262,  5788,   764,   314,  1234,  3589,   379,\n",
      "           511,  1241,   764,   314,  6619,   284,   606,   546,  7696,   837,\n",
      "         13126,   837,  4819,   290,  7393,  4278,   764,   843,   262,  7334,\n",
      "           929,   373,  9675,   284,   760,   884,   257, 20586,   582,   764,\n",
      "          1406,   314,  5615,  3436,   837,  1231,  2687,   314,   714,  1107,\n",
      "          1561,   284,   837,  1566,   257, 14608,   287,   262, 46882, 10326,\n",
      "           837,  2237,   812,  2084,   764, 13742,   550,  5445,   287,   616,\n",
      "          3113,   764,   220, 50256],\n",
      "        [50256,  1406,   314,   561,  1239,  2740,   284,   606,   286,  1489,\n",
      "            64,  1500,  2012,   669,   837,  4249,   286,  6994,  2100, 17039,\n",
      "           837,  4249,   286,   262,  5788,   764,   314,  1234,  3589,   379,\n",
      "           511,  1241,   764,   314,  6619,   284,   606,   546,  7696,   837,\n",
      "         13126,   837,  4819,   290,  7393,  4278,   764,   843,   262,  7334,\n",
      "           929,   373,  9675,   284,   760,   884,   257, 20586,   582,   764,\n",
      "          1406,   314,  5615,  3436,   837,  1231,  2687,   314,   714,  1107,\n",
      "          1561,   284,   837,  1566,   257, 14608,   287,   262, 46882, 10326,\n",
      "           837,  2237,   812,  2084,   764, 13742,   550,  5445,   287,   616,\n",
      "          3113,   764,   220, 50256],\n",
      "        [50256,  1406,   314,   561,  1239,  2740,   284,   606,   286,  1489,\n",
      "            64,  1500,  2012,   669,   837,  4249,   286,  6994,  2100, 17039,\n",
      "           837,  4249,   286,   262,  5788,   764,   314,  1234,  3589,   379,\n",
      "           511,  1241,   764,   314,  6619,   284,   606,   546,  7696,   837,\n",
      "         13126,   837,  4819,   290,  7393,  4278,   764,   843,   262,  7334,\n",
      "           929,   373,  9675,   284,   760,   884,   257, 20586,   582,   764,\n",
      "          1406,   314,  5615,  3436,   837,  1231,  2687,   314,   714,  1107,\n",
      "          1561,   284,   837,  1566,   257, 14608,   287,   262, 46882, 10326,\n",
      "           837,  2237,   812,  2084,   764, 13742,   550,  5445,   287,   616,\n",
      "          3113,   764,   220, 50256],\n",
      "        [50256,  1406,   314,   561,  1239,  2740,   284,   606,   286,  1489,\n",
      "            64,  1500,  2012,   669,   837,  4249,   286,  6994,  2100, 17039,\n",
      "           837,  4249,   286,   262,  5788,   764,   314,  1234,  3589,   379,\n",
      "           511,  1241,   764,   314,  6619,   284,   606,   546,  7696,   837,\n",
      "         13126,   837,  4819,   290,  7393,  4278,   764,   843,   262,  7334,\n",
      "           929,   373,  9675,   284,   760,   884,   257, 20586,   582,   764,\n",
      "          1406,   314,  5615,  3436,   837,  1231,  2687,   314,   714,  1107,\n",
      "          1561,   284,   837,  1566,   257, 14608,   287,   262, 46882, 10326,\n",
      "           837,  2237,   812,  2084,   764, 13742,   550,  5445,   287,   616,\n",
      "          3113,   764,   220, 50256]])\n",
      "torch.Size([9, 94])\n",
      "['ĠSomething', 'Ġhad', 'Ġbroken', 'Ġin', 'Ġmy', 'Ġengine', 'Ġ.', 'Ġ', '<|endoftext|>']\n"
     ]
    },
    {
     "name": "stdout",
     "output_type": "stream",
     "text": [
      "torch.Size([32, 99]) tensor([[50256,   314,  1234,  ...,   764,   220, 50256],\n",
      "        [50256,   314,  1234,  ...,   764,   220, 50256],\n",
      "        [50256,   314,  1234,  ...,   764,   220, 50256],\n",
      "        ...,\n",
      "        [50256,   314,  1234,  ...,   764,   220, 50256],\n",
      "        [50256,   314,  1234,  ...,   764,   220, 50256],\n",
      "        [50256,   314,  1234,  ...,   764,   220, 50256]])\n",
      "torch.Size([32, 99])\n",
      "['ĠAnd', 'Ġas', 'ĠI', 'Ġhad', 'Ġwith', 'Ġme', 'Ġneither', 'Ġa', 'Ġmechanic', 'Ġnor', 'Ġany', 'Ġpassengers', 'Ġ,', 'ĠI', 'Ġread', 'ied', 'Ġmyself', 'Ġto', 'Ġtry', 'Ġand', 'Ġcarry', 'Ġout', 'Ġ,', 'Ġall', 'Ġalone', 'Ġ,', 'Ġthe', 'Ġdifficult', 'Ġrepairs', 'Ġ.', 'Ġ', '<|endoftext|>']\n",
      "torch.Size([13, 103]) tensor([[50256,   314,  6619,  ...,   764,   220, 50256],\n",
      "        [50256,   314,  6619,  ...,   764,   220, 50256],\n",
      "        [50256,   314,  6619,  ...,   764,   220, 50256],\n",
      "        ...,\n",
      "        [50256,   314,  6619,  ...,   764,   220, 50256],\n",
      "        [50256,   314,  6619,  ...,   764,   220, 50256],\n",
      "        [50256,   314,  6619,  ...,   764,   220, 50256]])\n",
      "torch.Size([13, 103])\n",
      "['ĠFor', 'Ġme', 'Ġit', 'Ġwas', 'Ġa', 'Ġmatter', 'Ġof', 'Ġlife', 'Ġor', 'Ġdeath', 'Ġ.', 'Ġ', '<|endoftext|>']\n",
      "torch.Size([13, 100]) tensor([[50256,   843,   262,  ...,   764,   220, 50256],\n",
      "        [50256,   843,   262,  ...,   764,   220, 50256],\n",
      "        [50256,   843,   262,  ...,   764,   220, 50256],\n",
      "        ...,\n",
      "        [50256,   843,   262,  ...,   764,   220, 50256],\n",
      "        [50256,   843,   262,  ...,   764,   220, 50256],\n",
      "        [50256,   843,   262,  ...,   764,   220, 50256]])\n",
      "torch.Size([13, 100])\n",
      "['ĠI', 'Ġhad', 'Ġhardly', 'Ġenough', 'Ġwater', 'Ġto', 'Ġdrink', 'Ġfor', 'Ġa', 'Ġweek', 'Ġ.', 'Ġ', '<|endoftext|>']\n",
      "torch.Size([22, 107]) tensor([[50256,  1406,   314,  ...,   764,   220, 50256],\n",
      "        [50256,  1406,   314,  ...,   764,   220, 50256],\n",
      "        [50256,  1406,   314,  ...,   764,   220, 50256],\n",
      "        ...,\n",
      "        [50256,  1406,   314,  ...,   764,   220, 50256],\n",
      "        [50256,  1406,   314,  ...,   764,   220, 50256],\n",
      "        [50256,  1406,   314,  ...,   764,   220, 50256]])\n",
      "torch.Size([22, 107])\n",
      "['ĠThe', 'Ġfirst', 'Ġnight', 'ĠI', 'Ġwent', 'Ġto', 'Ġsleep', 'Ġon', 'Ġthe', 'Ġsand', 'Ġ,', 'Ġa', 'Ġthousand', 'Ġmiles', 'Ġfrom', 'Ġany', 'Ġhuman', 'Ġhabit', 'ation', 'Ġ.', 'Ġ', '<|endoftext|>']\n",
      "torch.Size([22, 102]) tensor([[50256, 13742,   550,  ...,   764,   220, 50256],\n",
      "        [50256, 13742,   550,  ...,   764,   220, 50256],\n",
      "        [50256, 13742,   550,  ...,   764,   220, 50256],\n",
      "        ...,\n",
      "        [50256, 13742,   550,  ...,   764,   220, 50256],\n",
      "        [50256, 13742,   550,  ...,   764,   220, 50256],\n",
      "        [50256, 13742,   550,  ...,   764,   220, 50256]])\n",
      "torch.Size([22, 102])\n",
      "['ĠI', 'Ġwas', 'Ġmore', 'Ġisolated', 'Ġthan', 'Ġa', 'Ġship', 'wreck', 'ed', 'Ġsailor', 'Ġon', 'Ġa', 'Ġraft', 'Ġin', 'Ġthe', 'Ġmiddle', 'Ġof', 'Ġthe', 'Ġocean', 'Ġ.', 'Ġ', '<|endoftext|>']\n",
      "torch.Size([21, 114]) tensor([[50256,   843,   355,  ...,   764,   220, 50256],\n",
      "        [50256,   843,   355,  ...,   764,   220, 50256],\n",
      "        [50256,   843,   355,  ...,   764,   220, 50256],\n",
      "        ...,\n",
      "        [50256,   843,   355,  ...,   764,   220, 50256],\n",
      "        [50256,   843,   355,  ...,   764,   220, 50256],\n",
      "        [50256,   843,   355,  ...,   764,   220, 50256]])\n",
      "torch.Size([21, 114])\n",
      "['ĠSo', 'Ġyou', 'Ġcan', 'Ġimagine', 'Ġmy', 'Ġsurprise', 'Ġwhen', 'Ġat', 'Ġday', 'break', 'Ġ,', 'Ġa', 'Ġfunny', 'Ġlittle', 'Ġvoice', 'Ġwoke', 'Ġme', 'Ġup', 'Ġ.', 'Ġ', '<|endoftext|>']\n",
      "torch.Size([9, 91]) tensor([[50256,  1114,   502,   340,   373,   257,  2300,   286,  1204,   393,\n",
      "          1918,   764,   314,   550,  8941,  1576,  1660,   284,  4144,   329,\n",
      "           257,  1285,   764,   383,   717,  1755,   314,  1816,   284,  3993,\n",
      "           319,   262,  6450,   837,   257,  7319,  4608,   422,   597,  1692,\n",
      "          7947,   341,   764,   314,   373,   517, 11557,   621,   257,  4074,\n",
      "         39238,   276, 43272,   319,   257, 31812,   287,   262,  3504,   286,\n",
      "           262,  9151,   764,  1406,   345,   460,  5967,   616,  5975,   618,\n",
      "           379,  1110,  9032,   837,   257,  8258,  1310,  3809, 19092,   502,\n",
      "           510,   764,   632,   531,  1058,   564,   250,  4222,  2644,   220,\n",
      "         50256],\n",
      "        [50256,  1114,   502,   340,   373,   257,  2300,   286,  1204,   393,\n",
      "          1918,   764,   314,   550,  8941,  1576,  1660,   284,  4144,   329,\n",
      "           257,  1285,   764,   383,   717,  1755,   314,  1816,   284,  3993,\n",
      "           319,   262,  6450,   837,   257,  7319,  4608,   422,   597,  1692,\n",
      "          7947,   341,   764,   314,   373,   517, 11557,   621,   257,  4074,\n",
      "         39238,   276, 43272,   319,   257, 31812,   287,   262,  3504,   286,\n",
      "           262,  9151,   764,  1406,   345,   460,  5967,   616,  5975,   618,\n",
      "           379,  1110,  9032,   837,   257,  8258,  1310,  3809, 19092,   502,\n",
      "           510,   764,   632,   531,  1058,   564,   250,  4222,  2644,   220,\n",
      "         50256],\n",
      "        [50256,  1114,   502,   340,   373,   257,  2300,   286,  1204,   393,\n",
      "          1918,   764,   314,   550,  8941,  1576,  1660,   284,  4144,   329,\n",
      "           257,  1285,   764,   383,   717,  1755,   314,  1816,   284,  3993,\n",
      "           319,   262,  6450,   837,   257,  7319,  4608,   422,   597,  1692,\n",
      "          7947,   341,   764,   314,   373,   517, 11557,   621,   257,  4074,\n",
      "         39238,   276, 43272,   319,   257, 31812,   287,   262,  3504,   286,\n",
      "           262,  9151,   764,  1406,   345,   460,  5967,   616,  5975,   618,\n",
      "           379,  1110,  9032,   837,   257,  8258,  1310,  3809, 19092,   502,\n",
      "           510,   764,   632,   531,  1058,   564,   250,  4222,  2644,   220,\n",
      "         50256],\n",
      "        [50256,  1114,   502,   340,   373,   257,  2300,   286,  1204,   393,\n",
      "          1918,   764,   314,   550,  8941,  1576,  1660,   284,  4144,   329,\n",
      "           257,  1285,   764,   383,   717,  1755,   314,  1816,   284,  3993,\n",
      "           319,   262,  6450,   837,   257,  7319,  4608,   422,   597,  1692,\n",
      "          7947,   341,   764,   314,   373,   517, 11557,   621,   257,  4074,\n",
      "         39238,   276, 43272,   319,   257, 31812,   287,   262,  3504,   286,\n",
      "           262,  9151,   764,  1406,   345,   460,  5967,   616,  5975,   618,\n",
      "           379,  1110,  9032,   837,   257,  8258,  1310,  3809, 19092,   502,\n",
      "           510,   764,   632,   531,  1058,   564,   250,  4222,  2644,   220,\n",
      "         50256],\n",
      "        [50256,  1114,   502,   340,   373,   257,  2300,   286,  1204,   393,\n",
      "          1918,   764,   314,   550,  8941,  1576,  1660,   284,  4144,   329,\n",
      "           257,  1285,   764,   383,   717,  1755,   314,  1816,   284,  3993,\n",
      "           319,   262,  6450,   837,   257,  7319,  4608,   422,   597,  1692,\n",
      "          7947,   341,   764,   314,   373,   517, 11557,   621,   257,  4074,\n",
      "         39238,   276, 43272,   319,   257, 31812,   287,   262,  3504,   286,\n",
      "           262,  9151,   764,  1406,   345,   460,  5967,   616,  5975,   618,\n",
      "           379,  1110,  9032,   837,   257,  8258,  1310,  3809, 19092,   502,\n",
      "           510,   764,   632,   531,  1058,   564,   250,  4222,  2644,   220,\n",
      "         50256],\n",
      "        [50256,  1114,   502,   340,   373,   257,  2300,   286,  1204,   393,\n",
      "          1918,   764,   314,   550,  8941,  1576,  1660,   284,  4144,   329,\n",
      "           257,  1285,   764,   383,   717,  1755,   314,  1816,   284,  3993,\n",
      "           319,   262,  6450,   837,   257,  7319,  4608,   422,   597,  1692,\n",
      "          7947,   341,   764,   314,   373,   517, 11557,   621,   257,  4074,\n",
      "         39238,   276, 43272,   319,   257, 31812,   287,   262,  3504,   286,\n",
      "           262,  9151,   764,  1406,   345,   460,  5967,   616,  5975,   618,\n",
      "           379,  1110,  9032,   837,   257,  8258,  1310,  3809, 19092,   502,\n",
      "           510,   764,   632,   531,  1058,   564,   250,  4222,  2644,   220,\n",
      "         50256],\n",
      "        [50256,  1114,   502,   340,   373,   257,  2300,   286,  1204,   393,\n",
      "          1918,   764,   314,   550,  8941,  1576,  1660,   284,  4144,   329,\n",
      "           257,  1285,   764,   383,   717,  1755,   314,  1816,   284,  3993,\n",
      "           319,   262,  6450,   837,   257,  7319,  4608,   422,   597,  1692,\n",
      "          7947,   341,   764,   314,   373,   517, 11557,   621,   257,  4074,\n",
      "         39238,   276, 43272,   319,   257, 31812,   287,   262,  3504,   286,\n",
      "           262,  9151,   764,  1406,   345,   460,  5967,   616,  5975,   618,\n",
      "           379,  1110,  9032,   837,   257,  8258,  1310,  3809, 19092,   502,\n",
      "           510,   764,   632,   531,  1058,   564,   250,  4222,  2644,   220,\n",
      "         50256],\n",
      "        [50256,  1114,   502,   340,   373,   257,  2300,   286,  1204,   393,\n",
      "          1918,   764,   314,   550,  8941,  1576,  1660,   284,  4144,   329,\n",
      "           257,  1285,   764,   383,   717,  1755,   314,  1816,   284,  3993,\n",
      "           319,   262,  6450,   837,   257,  7319,  4608,   422,   597,  1692,\n",
      "          7947,   341,   764,   314,   373,   517, 11557,   621,   257,  4074,\n",
      "         39238,   276, 43272,   319,   257, 31812,   287,   262,  3504,   286,\n",
      "           262,  9151,   764,  1406,   345,   460,  5967,   616,  5975,   618,\n",
      "           379,  1110,  9032,   837,   257,  8258,  1310,  3809, 19092,   502,\n",
      "           510,   764,   632,   531,  1058,   564,   250,  4222,  2644,   220,\n",
      "         50256],\n",
      "        [50256,  1114,   502,   340,   373,   257,  2300,   286,  1204,   393,\n",
      "          1918,   764,   314,   550,  8941,  1576,  1660,   284,  4144,   329,\n",
      "           257,  1285,   764,   383,   717,  1755,   314,  1816,   284,  3993,\n",
      "           319,   262,  6450,   837,   257,  7319,  4608,   422,   597,  1692,\n",
      "          7947,   341,   764,   314,   373,   517, 11557,   621,   257,  4074,\n",
      "         39238,   276, 43272,   319,   257, 31812,   287,   262,  3504,   286,\n",
      "           262,  9151,   764,  1406,   345,   460,  5967,   616,  5975,   618,\n",
      "           379,  1110,  9032,   837,   257,  8258,  1310,  3809, 19092,   502,\n",
      "           510,   764,   632,   531,  1058,   564,   250,  4222,  2644,   220,\n",
      "         50256]])\n",
      "torch.Size([9, 91])\n",
      "['ĠIt', 'Ġsaid', 'Ġ:', 'ĠâĢ', 'ľ', 'ĠPlease', 'Ġ...', 'Ġ', '<|endoftext|>']\n"
     ]
    },
    {
     "name": "stdout",
     "output_type": "stream",
     "text": [
      "torch.Size([9, 87]) tensor([[50256,   314,   550,  8941,  1576,  1660,   284,  4144,   329,   257,\n",
      "          1285,   764,   383,   717,  1755,   314,  1816,   284,  3993,   319,\n",
      "           262,  6450,   837,   257,  7319,  4608,   422,   597,  1692,  7947,\n",
      "           341,   764,   314,   373,   517, 11557,   621,   257,  4074, 39238,\n",
      "           276, 43272,   319,   257, 31812,   287,   262,  3504,   286,   262,\n",
      "          9151,   764,  1406,   345,   460,  5967,   616,  5975,   618,   379,\n",
      "          1110,  9032,   837,   257,  8258,  1310,  3809, 19092,   502,   510,\n",
      "           764,   632,   531,  1058,   564,   250,  4222,  2644,  3197,   502,\n",
      "           257, 15900,  5145,   564,   251,   220, 50256],\n",
      "        [50256,   314,   550,  8941,  1576,  1660,   284,  4144,   329,   257,\n",
      "          1285,   764,   383,   717,  1755,   314,  1816,   284,  3993,   319,\n",
      "           262,  6450,   837,   257,  7319,  4608,   422,   597,  1692,  7947,\n",
      "           341,   764,   314,   373,   517, 11557,   621,   257,  4074, 39238,\n",
      "           276, 43272,   319,   257, 31812,   287,   262,  3504,   286,   262,\n",
      "          9151,   764,  1406,   345,   460,  5967,   616,  5975,   618,   379,\n",
      "          1110,  9032,   837,   257,  8258,  1310,  3809, 19092,   502,   510,\n",
      "           764,   632,   531,  1058,   564,   250,  4222,  2644,  3197,   502,\n",
      "           257, 15900,  5145,   564,   251,   220, 50256],\n",
      "        [50256,   314,   550,  8941,  1576,  1660,   284,  4144,   329,   257,\n",
      "          1285,   764,   383,   717,  1755,   314,  1816,   284,  3993,   319,\n",
      "           262,  6450,   837,   257,  7319,  4608,   422,   597,  1692,  7947,\n",
      "           341,   764,   314,   373,   517, 11557,   621,   257,  4074, 39238,\n",
      "           276, 43272,   319,   257, 31812,   287,   262,  3504,   286,   262,\n",
      "          9151,   764,  1406,   345,   460,  5967,   616,  5975,   618,   379,\n",
      "          1110,  9032,   837,   257,  8258,  1310,  3809, 19092,   502,   510,\n",
      "           764,   632,   531,  1058,   564,   250,  4222,  2644,  3197,   502,\n",
      "           257, 15900,  5145,   564,   251,   220, 50256],\n",
      "        [50256,   314,   550,  8941,  1576,  1660,   284,  4144,   329,   257,\n",
      "          1285,   764,   383,   717,  1755,   314,  1816,   284,  3993,   319,\n",
      "           262,  6450,   837,   257,  7319,  4608,   422,   597,  1692,  7947,\n",
      "           341,   764,   314,   373,   517, 11557,   621,   257,  4074, 39238,\n",
      "           276, 43272,   319,   257, 31812,   287,   262,  3504,   286,   262,\n",
      "          9151,   764,  1406,   345,   460,  5967,   616,  5975,   618,   379,\n",
      "          1110,  9032,   837,   257,  8258,  1310,  3809, 19092,   502,   510,\n",
      "           764,   632,   531,  1058,   564,   250,  4222,  2644,  3197,   502,\n",
      "           257, 15900,  5145,   564,   251,   220, 50256],\n",
      "        [50256,   314,   550,  8941,  1576,  1660,   284,  4144,   329,   257,\n",
      "          1285,   764,   383,   717,  1755,   314,  1816,   284,  3993,   319,\n",
      "           262,  6450,   837,   257,  7319,  4608,   422,   597,  1692,  7947,\n",
      "           341,   764,   314,   373,   517, 11557,   621,   257,  4074, 39238,\n",
      "           276, 43272,   319,   257, 31812,   287,   262,  3504,   286,   262,\n",
      "          9151,   764,  1406,   345,   460,  5967,   616,  5975,   618,   379,\n",
      "          1110,  9032,   837,   257,  8258,  1310,  3809, 19092,   502,   510,\n",
      "           764,   632,   531,  1058,   564,   250,  4222,  2644,  3197,   502,\n",
      "           257, 15900,  5145,   564,   251,   220, 50256],\n",
      "        [50256,   314,   550,  8941,  1576,  1660,   284,  4144,   329,   257,\n",
      "          1285,   764,   383,   717,  1755,   314,  1816,   284,  3993,   319,\n",
      "           262,  6450,   837,   257,  7319,  4608,   422,   597,  1692,  7947,\n",
      "           341,   764,   314,   373,   517, 11557,   621,   257,  4074, 39238,\n",
      "           276, 43272,   319,   257, 31812,   287,   262,  3504,   286,   262,\n",
      "          9151,   764,  1406,   345,   460,  5967,   616,  5975,   618,   379,\n",
      "          1110,  9032,   837,   257,  8258,  1310,  3809, 19092,   502,   510,\n",
      "           764,   632,   531,  1058,   564,   250,  4222,  2644,  3197,   502,\n",
      "           257, 15900,  5145,   564,   251,   220, 50256],\n",
      "        [50256,   314,   550,  8941,  1576,  1660,   284,  4144,   329,   257,\n",
      "          1285,   764,   383,   717,  1755,   314,  1816,   284,  3993,   319,\n",
      "           262,  6450,   837,   257,  7319,  4608,   422,   597,  1692,  7947,\n",
      "           341,   764,   314,   373,   517, 11557,   621,   257,  4074, 39238,\n",
      "           276, 43272,   319,   257, 31812,   287,   262,  3504,   286,   262,\n",
      "          9151,   764,  1406,   345,   460,  5967,   616,  5975,   618,   379,\n",
      "          1110,  9032,   837,   257,  8258,  1310,  3809, 19092,   502,   510,\n",
      "           764,   632,   531,  1058,   564,   250,  4222,  2644,  3197,   502,\n",
      "           257, 15900,  5145,   564,   251,   220, 50256],\n",
      "        [50256,   314,   550,  8941,  1576,  1660,   284,  4144,   329,   257,\n",
      "          1285,   764,   383,   717,  1755,   314,  1816,   284,  3993,   319,\n",
      "           262,  6450,   837,   257,  7319,  4608,   422,   597,  1692,  7947,\n",
      "           341,   764,   314,   373,   517, 11557,   621,   257,  4074, 39238,\n",
      "           276, 43272,   319,   257, 31812,   287,   262,  3504,   286,   262,\n",
      "          9151,   764,  1406,   345,   460,  5967,   616,  5975,   618,   379,\n",
      "          1110,  9032,   837,   257,  8258,  1310,  3809, 19092,   502,   510,\n",
      "           764,   632,   531,  1058,   564,   250,  4222,  2644,  3197,   502,\n",
      "           257, 15900,  5145,   564,   251,   220, 50256],\n",
      "        [50256,   314,   550,  8941,  1576,  1660,   284,  4144,   329,   257,\n",
      "          1285,   764,   383,   717,  1755,   314,  1816,   284,  3993,   319,\n",
      "           262,  6450,   837,   257,  7319,  4608,   422,   597,  1692,  7947,\n",
      "           341,   764,   314,   373,   517, 11557,   621,   257,  4074, 39238,\n",
      "           276, 43272,   319,   257, 31812,   287,   262,  3504,   286,   262,\n",
      "          9151,   764,  1406,   345,   460,  5967,   616,  5975,   618,   379,\n",
      "          1110,  9032,   837,   257,  8258,  1310,  3809, 19092,   502,   510,\n",
      "           764,   632,   531,  1058,   564,   250,  4222,  2644,  3197,   502,\n",
      "           257, 15900,  5145,   564,   251,   220, 50256]])\n",
      "torch.Size([9, 87])\n",
      "['Ġdraw', 'Ġme', 'Ġa', 'Ġsheep', 'Ġ!', 'ĠâĢ', 'Ŀ', 'Ġ', '<|endoftext|>']\n",
      "torch.Size([8, 82]) tensor([[50256,   383,   717,  1755,   314,  1816,   284,  3993,   319,   262,\n",
      "          6450,   837,   257,  7319,  4608,   422,   597,  1692,  7947,   341,\n",
      "           764,   314,   373,   517, 11557,   621,   257,  4074, 39238,   276,\n",
      "         43272,   319,   257, 31812,   287,   262,  3504,   286,   262,  9151,\n",
      "           764,  1406,   345,   460,  5967,   616,  5975,   618,   379,  1110,\n",
      "          9032,   837,   257,  8258,  1310,  3809, 19092,   502,   510,   764,\n",
      "           632,   531,  1058,   564,   250,  4222,  2644,  3197,   502,   257,\n",
      "         15900,  5145,   564,   251,   564,   250,  1867,  5633,   564,   251,\n",
      "           220, 50256],\n",
      "        [50256,   383,   717,  1755,   314,  1816,   284,  3993,   319,   262,\n",
      "          6450,   837,   257,  7319,  4608,   422,   597,  1692,  7947,   341,\n",
      "           764,   314,   373,   517, 11557,   621,   257,  4074, 39238,   276,\n",
      "         43272,   319,   257, 31812,   287,   262,  3504,   286,   262,  9151,\n",
      "           764,  1406,   345,   460,  5967,   616,  5975,   618,   379,  1110,\n",
      "          9032,   837,   257,  8258,  1310,  3809, 19092,   502,   510,   764,\n",
      "           632,   531,  1058,   564,   250,  4222,  2644,  3197,   502,   257,\n",
      "         15900,  5145,   564,   251,   564,   250,  1867,  5633,   564,   251,\n",
      "           220, 50256],\n",
      "        [50256,   383,   717,  1755,   314,  1816,   284,  3993,   319,   262,\n",
      "          6450,   837,   257,  7319,  4608,   422,   597,  1692,  7947,   341,\n",
      "           764,   314,   373,   517, 11557,   621,   257,  4074, 39238,   276,\n",
      "         43272,   319,   257, 31812,   287,   262,  3504,   286,   262,  9151,\n",
      "           764,  1406,   345,   460,  5967,   616,  5975,   618,   379,  1110,\n",
      "          9032,   837,   257,  8258,  1310,  3809, 19092,   502,   510,   764,\n",
      "           632,   531,  1058,   564,   250,  4222,  2644,  3197,   502,   257,\n",
      "         15900,  5145,   564,   251,   564,   250,  1867,  5633,   564,   251,\n",
      "           220, 50256],\n",
      "        [50256,   383,   717,  1755,   314,  1816,   284,  3993,   319,   262,\n",
      "          6450,   837,   257,  7319,  4608,   422,   597,  1692,  7947,   341,\n",
      "           764,   314,   373,   517, 11557,   621,   257,  4074, 39238,   276,\n",
      "         43272,   319,   257, 31812,   287,   262,  3504,   286,   262,  9151,\n",
      "           764,  1406,   345,   460,  5967,   616,  5975,   618,   379,  1110,\n",
      "          9032,   837,   257,  8258,  1310,  3809, 19092,   502,   510,   764,\n",
      "           632,   531,  1058,   564,   250,  4222,  2644,  3197,   502,   257,\n",
      "         15900,  5145,   564,   251,   564,   250,  1867,  5633,   564,   251,\n",
      "           220, 50256],\n",
      "        [50256,   383,   717,  1755,   314,  1816,   284,  3993,   319,   262,\n",
      "          6450,   837,   257,  7319,  4608,   422,   597,  1692,  7947,   341,\n",
      "           764,   314,   373,   517, 11557,   621,   257,  4074, 39238,   276,\n",
      "         43272,   319,   257, 31812,   287,   262,  3504,   286,   262,  9151,\n",
      "           764,  1406,   345,   460,  5967,   616,  5975,   618,   379,  1110,\n",
      "          9032,   837,   257,  8258,  1310,  3809, 19092,   502,   510,   764,\n",
      "           632,   531,  1058,   564,   250,  4222,  2644,  3197,   502,   257,\n",
      "         15900,  5145,   564,   251,   564,   250,  1867,  5633,   564,   251,\n",
      "           220, 50256],\n",
      "        [50256,   383,   717,  1755,   314,  1816,   284,  3993,   319,   262,\n",
      "          6450,   837,   257,  7319,  4608,   422,   597,  1692,  7947,   341,\n",
      "           764,   314,   373,   517, 11557,   621,   257,  4074, 39238,   276,\n",
      "         43272,   319,   257, 31812,   287,   262,  3504,   286,   262,  9151,\n",
      "           764,  1406,   345,   460,  5967,   616,  5975,   618,   379,  1110,\n",
      "          9032,   837,   257,  8258,  1310,  3809, 19092,   502,   510,   764,\n",
      "           632,   531,  1058,   564,   250,  4222,  2644,  3197,   502,   257,\n",
      "         15900,  5145,   564,   251,   564,   250,  1867,  5633,   564,   251,\n",
      "           220, 50256],\n",
      "        [50256,   383,   717,  1755,   314,  1816,   284,  3993,   319,   262,\n",
      "          6450,   837,   257,  7319,  4608,   422,   597,  1692,  7947,   341,\n",
      "           764,   314,   373,   517, 11557,   621,   257,  4074, 39238,   276,\n",
      "         43272,   319,   257, 31812,   287,   262,  3504,   286,   262,  9151,\n",
      "           764,  1406,   345,   460,  5967,   616,  5975,   618,   379,  1110,\n",
      "          9032,   837,   257,  8258,  1310,  3809, 19092,   502,   510,   764,\n",
      "           632,   531,  1058,   564,   250,  4222,  2644,  3197,   502,   257,\n",
      "         15900,  5145,   564,   251,   564,   250,  1867,  5633,   564,   251,\n",
      "           220, 50256],\n",
      "        [50256,   383,   717,  1755,   314,  1816,   284,  3993,   319,   262,\n",
      "          6450,   837,   257,  7319,  4608,   422,   597,  1692,  7947,   341,\n",
      "           764,   314,   373,   517, 11557,   621,   257,  4074, 39238,   276,\n",
      "         43272,   319,   257, 31812,   287,   262,  3504,   286,   262,  9151,\n",
      "           764,  1406,   345,   460,  5967,   616,  5975,   618,   379,  1110,\n",
      "          9032,   837,   257,  8258,  1310,  3809, 19092,   502,   510,   764,\n",
      "           632,   531,  1058,   564,   250,  4222,  2644,  3197,   502,   257,\n",
      "         15900,  5145,   564,   251,   564,   250,  1867,  5633,   564,   251,\n",
      "           220, 50256]])\n",
      "torch.Size([8, 82])\n",
      "['ĠâĢ', 'ľ', 'ĠWhat', 'Ġ?', 'ĠâĢ', 'Ŀ', 'Ġ', '<|endoftext|>']\n"
     ]
    },
    {
     "name": "stdout",
     "output_type": "stream",
     "text": [
      "torch.Size([11, 71]) tensor([[50256,   314,   373,   517, 11557,   621,   257,  4074, 39238,   276,\n",
      "         43272,   319,   257, 31812,   287,   262,  3504,   286,   262,  9151,\n",
      "           764,  1406,   345,   460,  5967,   616,  5975,   618,   379,  1110,\n",
      "          9032,   837,   257,  8258,  1310,  3809, 19092,   502,   510,   764,\n",
      "           632,   531,  1058,   564,   250,  4222,  2644,  3197,   502,   257,\n",
      "         15900,  5145,   564,   251,   564,   250,  1867,  5633,   564,   251,\n",
      "           564,   250, 15315,   502,   257, 15900,  5145,   564,   251,   220,\n",
      "         50256],\n",
      "        [50256,   314,   373,   517, 11557,   621,   257,  4074, 39238,   276,\n",
      "         43272,   319,   257, 31812,   287,   262,  3504,   286,   262,  9151,\n",
      "           764,  1406,   345,   460,  5967,   616,  5975,   618,   379,  1110,\n",
      "          9032,   837,   257,  8258,  1310,  3809, 19092,   502,   510,   764,\n",
      "           632,   531,  1058,   564,   250,  4222,  2644,  3197,   502,   257,\n",
      "         15900,  5145,   564,   251,   564,   250,  1867,  5633,   564,   251,\n",
      "           564,   250, 15315,   502,   257, 15900,  5145,   564,   251,   220,\n",
      "         50256],\n",
      "        [50256,   314,   373,   517, 11557,   621,   257,  4074, 39238,   276,\n",
      "         43272,   319,   257, 31812,   287,   262,  3504,   286,   262,  9151,\n",
      "           764,  1406,   345,   460,  5967,   616,  5975,   618,   379,  1110,\n",
      "          9032,   837,   257,  8258,  1310,  3809, 19092,   502,   510,   764,\n",
      "           632,   531,  1058,   564,   250,  4222,  2644,  3197,   502,   257,\n",
      "         15900,  5145,   564,   251,   564,   250,  1867,  5633,   564,   251,\n",
      "           564,   250, 15315,   502,   257, 15900,  5145,   564,   251,   220,\n",
      "         50256],\n",
      "        [50256,   314,   373,   517, 11557,   621,   257,  4074, 39238,   276,\n",
      "         43272,   319,   257, 31812,   287,   262,  3504,   286,   262,  9151,\n",
      "           764,  1406,   345,   460,  5967,   616,  5975,   618,   379,  1110,\n",
      "          9032,   837,   257,  8258,  1310,  3809, 19092,   502,   510,   764,\n",
      "           632,   531,  1058,   564,   250,  4222,  2644,  3197,   502,   257,\n",
      "         15900,  5145,   564,   251,   564,   250,  1867,  5633,   564,   251,\n",
      "           564,   250, 15315,   502,   257, 15900,  5145,   564,   251,   220,\n",
      "         50256],\n",
      "        [50256,   314,   373,   517, 11557,   621,   257,  4074, 39238,   276,\n",
      "         43272,   319,   257, 31812,   287,   262,  3504,   286,   262,  9151,\n",
      "           764,  1406,   345,   460,  5967,   616,  5975,   618,   379,  1110,\n",
      "          9032,   837,   257,  8258,  1310,  3809, 19092,   502,   510,   764,\n",
      "           632,   531,  1058,   564,   250,  4222,  2644,  3197,   502,   257,\n",
      "         15900,  5145,   564,   251,   564,   250,  1867,  5633,   564,   251,\n",
      "           564,   250, 15315,   502,   257, 15900,  5145,   564,   251,   220,\n",
      "         50256],\n",
      "        [50256,   314,   373,   517, 11557,   621,   257,  4074, 39238,   276,\n",
      "         43272,   319,   257, 31812,   287,   262,  3504,   286,   262,  9151,\n",
      "           764,  1406,   345,   460,  5967,   616,  5975,   618,   379,  1110,\n",
      "          9032,   837,   257,  8258,  1310,  3809, 19092,   502,   510,   764,\n",
      "           632,   531,  1058,   564,   250,  4222,  2644,  3197,   502,   257,\n",
      "         15900,  5145,   564,   251,   564,   250,  1867,  5633,   564,   251,\n",
      "           564,   250, 15315,   502,   257, 15900,  5145,   564,   251,   220,\n",
      "         50256],\n",
      "        [50256,   314,   373,   517, 11557,   621,   257,  4074, 39238,   276,\n",
      "         43272,   319,   257, 31812,   287,   262,  3504,   286,   262,  9151,\n",
      "           764,  1406,   345,   460,  5967,   616,  5975,   618,   379,  1110,\n",
      "          9032,   837,   257,  8258,  1310,  3809, 19092,   502,   510,   764,\n",
      "           632,   531,  1058,   564,   250,  4222,  2644,  3197,   502,   257,\n",
      "         15900,  5145,   564,   251,   564,   250,  1867,  5633,   564,   251,\n",
      "           564,   250, 15315,   502,   257, 15900,  5145,   564,   251,   220,\n",
      "         50256],\n",
      "        [50256,   314,   373,   517, 11557,   621,   257,  4074, 39238,   276,\n",
      "         43272,   319,   257, 31812,   287,   262,  3504,   286,   262,  9151,\n",
      "           764,  1406,   345,   460,  5967,   616,  5975,   618,   379,  1110,\n",
      "          9032,   837,   257,  8258,  1310,  3809, 19092,   502,   510,   764,\n",
      "           632,   531,  1058,   564,   250,  4222,  2644,  3197,   502,   257,\n",
      "         15900,  5145,   564,   251,   564,   250,  1867,  5633,   564,   251,\n",
      "           564,   250, 15315,   502,   257, 15900,  5145,   564,   251,   220,\n",
      "         50256],\n",
      "        [50256,   314,   373,   517, 11557,   621,   257,  4074, 39238,   276,\n",
      "         43272,   319,   257, 31812,   287,   262,  3504,   286,   262,  9151,\n",
      "           764,  1406,   345,   460,  5967,   616,  5975,   618,   379,  1110,\n",
      "          9032,   837,   257,  8258,  1310,  3809, 19092,   502,   510,   764,\n",
      "           632,   531,  1058,   564,   250,  4222,  2644,  3197,   502,   257,\n",
      "         15900,  5145,   564,   251,   564,   250,  1867,  5633,   564,   251,\n",
      "           564,   250, 15315,   502,   257, 15900,  5145,   564,   251,   220,\n",
      "         50256],\n",
      "        [50256,   314,   373,   517, 11557,   621,   257,  4074, 39238,   276,\n",
      "         43272,   319,   257, 31812,   287,   262,  3504,   286,   262,  9151,\n",
      "           764,  1406,   345,   460,  5967,   616,  5975,   618,   379,  1110,\n",
      "          9032,   837,   257,  8258,  1310,  3809, 19092,   502,   510,   764,\n",
      "           632,   531,  1058,   564,   250,  4222,  2644,  3197,   502,   257,\n",
      "         15900,  5145,   564,   251,   564,   250,  1867,  5633,   564,   251,\n",
      "           564,   250, 15315,   502,   257, 15900,  5145,   564,   251,   220,\n",
      "         50256],\n",
      "        [50256,   314,   373,   517, 11557,   621,   257,  4074, 39238,   276,\n",
      "         43272,   319,   257, 31812,   287,   262,  3504,   286,   262,  9151,\n",
      "           764,  1406,   345,   460,  5967,   616,  5975,   618,   379,  1110,\n",
      "          9032,   837,   257,  8258,  1310,  3809, 19092,   502,   510,   764,\n",
      "           632,   531,  1058,   564,   250,  4222,  2644,  3197,   502,   257,\n",
      "         15900,  5145,   564,   251,   564,   250,  1867,  5633,   564,   251,\n",
      "           564,   250, 15315,   502,   257, 15900,  5145,   564,   251,   220,\n",
      "         50256]])\n",
      "torch.Size([11, 71])\n",
      "['ĠâĢ', 'ľ', 'ĠDraw', 'Ġme', 'Ġa', 'Ġsheep', 'Ġ!', 'ĠâĢ', 'Ŀ', 'Ġ', '<|endoftext|>']\n",
      "torch.Size([18, 67]) tensor([[50256,  1406,   345,  ...,   764,   220, 50256],\n",
      "        [50256,  1406,   345,  ...,   764,   220, 50256],\n",
      "        [50256,  1406,   345,  ...,   764,   220, 50256],\n",
      "        ...,\n",
      "        [50256,  1406,   345,  ...,   764,   220, 50256],\n",
      "        [50256,  1406,   345,  ...,   764,   220, 50256],\n",
      "        [50256,  1406,   345,  ...,   764,   220, 50256]])\n",
      "torch.Size([18, 67])\n",
      "['ĠI', 'Ġjumped', 'Ġto', 'Ġmy', 'Ġfeet', 'Ġas', 'Ġif', 'ĠI', 'ĠâĢ', 'Ļ', 'Ġd', 'Ġbeen', 'Ġstruck', 'Ġby', 'Ġlightning', 'Ġ.', 'Ġ', '<|endoftext|>']\n",
      "torch.Size([7, 53]) tensor([[50256,   632,   531,  1058,   564,   250,  4222,  2644,  3197,   502,\n",
      "           257, 15900,  5145,   564,   251,   564,   250,  1867,  5633,   564,\n",
      "           251,   564,   250, 15315,   502,   257, 15900,  5145,   564,   251,\n",
      "           314, 11687,   284,   616,  3625,   355,   611,   314,   564,   247,\n",
      "           288,   587,  7425,   416, 14357,   764,   314, 31862,   616,  2951,\n",
      "           764,   220, 50256],\n",
      "        [50256,   632,   531,  1058,   564,   250,  4222,  2644,  3197,   502,\n",
      "           257, 15900,  5145,   564,   251,   564,   250,  1867,  5633,   564,\n",
      "           251,   564,   250, 15315,   502,   257, 15900,  5145,   564,   251,\n",
      "           314, 11687,   284,   616,  3625,   355,   611,   314,   564,   247,\n",
      "           288,   587,  7425,   416, 14357,   764,   314, 31862,   616,  2951,\n",
      "           764,   220, 50256],\n",
      "        [50256,   632,   531,  1058,   564,   250,  4222,  2644,  3197,   502,\n",
      "           257, 15900,  5145,   564,   251,   564,   250,  1867,  5633,   564,\n",
      "           251,   564,   250, 15315,   502,   257, 15900,  5145,   564,   251,\n",
      "           314, 11687,   284,   616,  3625,   355,   611,   314,   564,   247,\n",
      "           288,   587,  7425,   416, 14357,   764,   314, 31862,   616,  2951,\n",
      "           764,   220, 50256],\n",
      "        [50256,   632,   531,  1058,   564,   250,  4222,  2644,  3197,   502,\n",
      "           257, 15900,  5145,   564,   251,   564,   250,  1867,  5633,   564,\n",
      "           251,   564,   250, 15315,   502,   257, 15900,  5145,   564,   251,\n",
      "           314, 11687,   284,   616,  3625,   355,   611,   314,   564,   247,\n",
      "           288,   587,  7425,   416, 14357,   764,   314, 31862,   616,  2951,\n",
      "           764,   220, 50256],\n",
      "        [50256,   632,   531,  1058,   564,   250,  4222,  2644,  3197,   502,\n",
      "           257, 15900,  5145,   564,   251,   564,   250,  1867,  5633,   564,\n",
      "           251,   564,   250, 15315,   502,   257, 15900,  5145,   564,   251,\n",
      "           314, 11687,   284,   616,  3625,   355,   611,   314,   564,   247,\n",
      "           288,   587,  7425,   416, 14357,   764,   314, 31862,   616,  2951,\n",
      "           764,   220, 50256],\n",
      "        [50256,   632,   531,  1058,   564,   250,  4222,  2644,  3197,   502,\n",
      "           257, 15900,  5145,   564,   251,   564,   250,  1867,  5633,   564,\n",
      "           251,   564,   250, 15315,   502,   257, 15900,  5145,   564,   251,\n",
      "           314, 11687,   284,   616,  3625,   355,   611,   314,   564,   247,\n",
      "           288,   587,  7425,   416, 14357,   764,   314, 31862,   616,  2951,\n",
      "           764,   220, 50256],\n",
      "        [50256,   632,   531,  1058,   564,   250,  4222,  2644,  3197,   502,\n",
      "           257, 15900,  5145,   564,   251,   564,   250,  1867,  5633,   564,\n",
      "           251,   564,   250, 15315,   502,   257, 15900,  5145,   564,   251,\n",
      "           314, 11687,   284,   616,  3625,   355,   611,   314,   564,   247,\n",
      "           288,   587,  7425,   416, 14357,   764,   314, 31862,   616,  2951,\n",
      "           764,   220, 50256]])\n",
      "torch.Size([7, 53])\n",
      "['ĠI', 'Ġrubbed', 'Ġmy', 'Ġeyes', 'Ġ.', 'Ġ', '<|endoftext|>']\n"
     ]
    },
    {
     "name": "stdout",
     "output_type": "stream",
     "text": [
      "torch.Size([10, 54]) tensor([[50256,  3197,   502,   257, 15900,  5145,   564,   251,   564,   250,\n",
      "          1867,  5633,   564,   251,   564,   250, 15315,   502,   257, 15900,\n",
      "          5145,   564,   251,   314, 11687,   284,   616,  3625,   355,   611,\n",
      "           314,   564,   247,   288,   587,  7425,   416, 14357,   764,   314,\n",
      "         31862,   616,  2951,   764,   314,  1718,   257,   922,   804,  1088,\n",
      "           502,   764,   220, 50256],\n",
      "        [50256,  3197,   502,   257, 15900,  5145,   564,   251,   564,   250,\n",
      "          1867,  5633,   564,   251,   564,   250, 15315,   502,   257, 15900,\n",
      "          5145,   564,   251,   314, 11687,   284,   616,  3625,   355,   611,\n",
      "           314,   564,   247,   288,   587,  7425,   416, 14357,   764,   314,\n",
      "         31862,   616,  2951,   764,   314,  1718,   257,   922,   804,  1088,\n",
      "           502,   764,   220, 50256],\n",
      "        [50256,  3197,   502,   257, 15900,  5145,   564,   251,   564,   250,\n",
      "          1867,  5633,   564,   251,   564,   250, 15315,   502,   257, 15900,\n",
      "          5145,   564,   251,   314, 11687,   284,   616,  3625,   355,   611,\n",
      "           314,   564,   247,   288,   587,  7425,   416, 14357,   764,   314,\n",
      "         31862,   616,  2951,   764,   314,  1718,   257,   922,   804,  1088,\n",
      "           502,   764,   220, 50256],\n",
      "        [50256,  3197,   502,   257, 15900,  5145,   564,   251,   564,   250,\n",
      "          1867,  5633,   564,   251,   564,   250, 15315,   502,   257, 15900,\n",
      "          5145,   564,   251,   314, 11687,   284,   616,  3625,   355,   611,\n",
      "           314,   564,   247,   288,   587,  7425,   416, 14357,   764,   314,\n",
      "         31862,   616,  2951,   764,   314,  1718,   257,   922,   804,  1088,\n",
      "           502,   764,   220, 50256],\n",
      "        [50256,  3197,   502,   257, 15900,  5145,   564,   251,   564,   250,\n",
      "          1867,  5633,   564,   251,   564,   250, 15315,   502,   257, 15900,\n",
      "          5145,   564,   251,   314, 11687,   284,   616,  3625,   355,   611,\n",
      "           314,   564,   247,   288,   587,  7425,   416, 14357,   764,   314,\n",
      "         31862,   616,  2951,   764,   314,  1718,   257,   922,   804,  1088,\n",
      "           502,   764,   220, 50256],\n",
      "        [50256,  3197,   502,   257, 15900,  5145,   564,   251,   564,   250,\n",
      "          1867,  5633,   564,   251,   564,   250, 15315,   502,   257, 15900,\n",
      "          5145,   564,   251,   314, 11687,   284,   616,  3625,   355,   611,\n",
      "           314,   564,   247,   288,   587,  7425,   416, 14357,   764,   314,\n",
      "         31862,   616,  2951,   764,   314,  1718,   257,   922,   804,  1088,\n",
      "           502,   764,   220, 50256],\n",
      "        [50256,  3197,   502,   257, 15900,  5145,   564,   251,   564,   250,\n",
      "          1867,  5633,   564,   251,   564,   250, 15315,   502,   257, 15900,\n",
      "          5145,   564,   251,   314, 11687,   284,   616,  3625,   355,   611,\n",
      "           314,   564,   247,   288,   587,  7425,   416, 14357,   764,   314,\n",
      "         31862,   616,  2951,   764,   314,  1718,   257,   922,   804,  1088,\n",
      "           502,   764,   220, 50256],\n",
      "        [50256,  3197,   502,   257, 15900,  5145,   564,   251,   564,   250,\n",
      "          1867,  5633,   564,   251,   564,   250, 15315,   502,   257, 15900,\n",
      "          5145,   564,   251,   314, 11687,   284,   616,  3625,   355,   611,\n",
      "           314,   564,   247,   288,   587,  7425,   416, 14357,   764,   314,\n",
      "         31862,   616,  2951,   764,   314,  1718,   257,   922,   804,  1088,\n",
      "           502,   764,   220, 50256],\n",
      "        [50256,  3197,   502,   257, 15900,  5145,   564,   251,   564,   250,\n",
      "          1867,  5633,   564,   251,   564,   250, 15315,   502,   257, 15900,\n",
      "          5145,   564,   251,   314, 11687,   284,   616,  3625,   355,   611,\n",
      "           314,   564,   247,   288,   587,  7425,   416, 14357,   764,   314,\n",
      "         31862,   616,  2951,   764,   314,  1718,   257,   922,   804,  1088,\n",
      "           502,   764,   220, 50256],\n",
      "        [50256,  3197,   502,   257, 15900,  5145,   564,   251,   564,   250,\n",
      "          1867,  5633,   564,   251,   564,   250, 15315,   502,   257, 15900,\n",
      "          5145,   564,   251,   314, 11687,   284,   616,  3625,   355,   611,\n",
      "           314,   564,   247,   288,   587,  7425,   416, 14357,   764,   314,\n",
      "         31862,   616,  2951,   764,   314,  1718,   257,   922,   804,  1088,\n",
      "           502,   764,   220, 50256]])\n",
      "torch.Size([10, 54])\n",
      "['ĠI', 'Ġtook', 'Ġa', 'Ġgood', 'Ġlook', 'Ġaround', 'Ġme', 'Ġ.', 'Ġ', '<|endoftext|>']\n",
      "torch.Size([17, 62]) tensor([[50256,   564,   250,  ...,   764,   220, 50256],\n",
      "        [50256,   564,   250,  ...,   764,   220, 50256],\n",
      "        [50256,   564,   250,  ...,   764,   220, 50256],\n",
      "        ...,\n",
      "        [50256,   564,   250,  ...,   764,   220, 50256],\n",
      "        [50256,   564,   250,  ...,   764,   220, 50256],\n",
      "        [50256,   564,   250,  ...,   764,   220, 50256]])\n",
      "torch.Size([17, 62])\n",
      "['ĠAnd', 'ĠI', 'Ġsaw', 'Ġa', 'Ġquite', 'Ġextraordinary', 'Ġlittle', 'Ġman', 'Ġ,', 'Ġwho', 'Ġwas', 'Ġexamining', 'Ġme', 'Ġseriously', 'Ġ.', 'Ġ', '<|endoftext|>']\n",
      "torch.Size([18, 72]) tensor([[50256,   564,   250,  ...,   764,   220, 50256],\n",
      "        [50256,   564,   250,  ...,   764,   220, 50256],\n",
      "        [50256,   564,   250,  ...,   764,   220, 50256],\n",
      "        ...,\n",
      "        [50256,   564,   250,  ...,   764,   220, 50256],\n",
      "        [50256,   564,   250,  ...,   764,   220, 50256],\n",
      "        [50256,   564,   250,  ...,   764,   220, 50256]])\n",
      "torch.Size([18, 72])\n",
      "['ĠHere', 'Ġis', 'Ġthe', 'Ġbest', 'Ġportrait', 'Ġthat', 'Ġ,', 'Ġlater', 'Ġ,', 'ĠI', 'Ġmanaged', 'Ġto', 'Ġdo', 'Ġof', 'Ġhim', 'Ġ.', 'Ġ', '<|endoftext|>']\n",
      "torch.Size([17, 78]) tensor([[50256,   314, 11687,  ...,   764,   220, 50256],\n",
      "        [50256,   314, 11687,  ...,   764,   220, 50256],\n",
      "        [50256,   314, 11687,  ...,   764,   220, 50256],\n",
      "        ...,\n",
      "        [50256,   314, 11687,  ...,   764,   220, 50256],\n",
      "        [50256,   314, 11687,  ...,   764,   220, 50256],\n",
      "        [50256,   314, 11687,  ...,   764,   220, 50256]])\n",
      "torch.Size([17, 78])\n",
      "['ĠBut', 'Ġmy', 'Ġdrawing', 'Ġ,', 'Ġof', 'Ġcourse', 'Ġ,', 'Ġis', 'Ġmuch', 'Ġless', 'Ġcharming', 'Ġthan', 'Ġits', 'Ġmodel', 'Ġ.', 'Ġ', '<|endoftext|>']\n",
      "torch.Size([9, 69]) tensor([[50256,   314, 31862,   616,  2951,   764,   314,  1718,   257,   922,\n",
      "           804,  1088,   502,   764,   843,   314,  2497,   257,  2407, 11359,\n",
      "          1310,   582,   837,   508,   373, 17247,   502,  6411,   764,  3423,\n",
      "           318,   262,  1266, 18560,   326,   837,  1568,   837,   314,  5257,\n",
      "           284,   466,   286,   683,   764,   887,   616,  8263,   837,   286,\n",
      "          1781,   837,   318,   881,  1342, 23332,   621,   663,  2746,   764,\n",
      "           632,   705,   264,   407,   616,  8046,   764,   220, 50256],\n",
      "        [50256,   314, 31862,   616,  2951,   764,   314,  1718,   257,   922,\n",
      "           804,  1088,   502,   764,   843,   314,  2497,   257,  2407, 11359,\n",
      "          1310,   582,   837,   508,   373, 17247,   502,  6411,   764,  3423,\n",
      "           318,   262,  1266, 18560,   326,   837,  1568,   837,   314,  5257,\n",
      "           284,   466,   286,   683,   764,   887,   616,  8263,   837,   286,\n",
      "          1781,   837,   318,   881,  1342, 23332,   621,   663,  2746,   764,\n",
      "           632,   705,   264,   407,   616,  8046,   764,   220, 50256],\n",
      "        [50256,   314, 31862,   616,  2951,   764,   314,  1718,   257,   922,\n",
      "           804,  1088,   502,   764,   843,   314,  2497,   257,  2407, 11359,\n",
      "          1310,   582,   837,   508,   373, 17247,   502,  6411,   764,  3423,\n",
      "           318,   262,  1266, 18560,   326,   837,  1568,   837,   314,  5257,\n",
      "           284,   466,   286,   683,   764,   887,   616,  8263,   837,   286,\n",
      "          1781,   837,   318,   881,  1342, 23332,   621,   663,  2746,   764,\n",
      "           632,   705,   264,   407,   616,  8046,   764,   220, 50256],\n",
      "        [50256,   314, 31862,   616,  2951,   764,   314,  1718,   257,   922,\n",
      "           804,  1088,   502,   764,   843,   314,  2497,   257,  2407, 11359,\n",
      "          1310,   582,   837,   508,   373, 17247,   502,  6411,   764,  3423,\n",
      "           318,   262,  1266, 18560,   326,   837,  1568,   837,   314,  5257,\n",
      "           284,   466,   286,   683,   764,   887,   616,  8263,   837,   286,\n",
      "          1781,   837,   318,   881,  1342, 23332,   621,   663,  2746,   764,\n",
      "           632,   705,   264,   407,   616,  8046,   764,   220, 50256],\n",
      "        [50256,   314, 31862,   616,  2951,   764,   314,  1718,   257,   922,\n",
      "           804,  1088,   502,   764,   843,   314,  2497,   257,  2407, 11359,\n",
      "          1310,   582,   837,   508,   373, 17247,   502,  6411,   764,  3423,\n",
      "           318,   262,  1266, 18560,   326,   837,  1568,   837,   314,  5257,\n",
      "           284,   466,   286,   683,   764,   887,   616,  8263,   837,   286,\n",
      "          1781,   837,   318,   881,  1342, 23332,   621,   663,  2746,   764,\n",
      "           632,   705,   264,   407,   616,  8046,   764,   220, 50256],\n",
      "        [50256,   314, 31862,   616,  2951,   764,   314,  1718,   257,   922,\n",
      "           804,  1088,   502,   764,   843,   314,  2497,   257,  2407, 11359,\n",
      "          1310,   582,   837,   508,   373, 17247,   502,  6411,   764,  3423,\n",
      "           318,   262,  1266, 18560,   326,   837,  1568,   837,   314,  5257,\n",
      "           284,   466,   286,   683,   764,   887,   616,  8263,   837,   286,\n",
      "          1781,   837,   318,   881,  1342, 23332,   621,   663,  2746,   764,\n",
      "           632,   705,   264,   407,   616,  8046,   764,   220, 50256],\n",
      "        [50256,   314, 31862,   616,  2951,   764,   314,  1718,   257,   922,\n",
      "           804,  1088,   502,   764,   843,   314,  2497,   257,  2407, 11359,\n",
      "          1310,   582,   837,   508,   373, 17247,   502,  6411,   764,  3423,\n",
      "           318,   262,  1266, 18560,   326,   837,  1568,   837,   314,  5257,\n",
      "           284,   466,   286,   683,   764,   887,   616,  8263,   837,   286,\n",
      "          1781,   837,   318,   881,  1342, 23332,   621,   663,  2746,   764,\n",
      "           632,   705,   264,   407,   616,  8046,   764,   220, 50256],\n",
      "        [50256,   314, 31862,   616,  2951,   764,   314,  1718,   257,   922,\n",
      "           804,  1088,   502,   764,   843,   314,  2497,   257,  2407, 11359,\n",
      "          1310,   582,   837,   508,   373, 17247,   502,  6411,   764,  3423,\n",
      "           318,   262,  1266, 18560,   326,   837,  1568,   837,   314,  5257,\n",
      "           284,   466,   286,   683,   764,   887,   616,  8263,   837,   286,\n",
      "          1781,   837,   318,   881,  1342, 23332,   621,   663,  2746,   764,\n",
      "           632,   705,   264,   407,   616,  8046,   764,   220, 50256],\n",
      "        [50256,   314, 31862,   616,  2951,   764,   314,  1718,   257,   922,\n",
      "           804,  1088,   502,   764,   843,   314,  2497,   257,  2407, 11359,\n",
      "          1310,   582,   837,   508,   373, 17247,   502,  6411,   764,  3423,\n",
      "           318,   262,  1266, 18560,   326,   837,  1568,   837,   314,  5257,\n",
      "           284,   466,   286,   683,   764,   887,   616,  8263,   837,   286,\n",
      "          1781,   837,   318,   881,  1342, 23332,   621,   663,  2746,   764,\n",
      "           632,   705,   264,   407,   616,  8046,   764,   220, 50256]])\n",
      "torch.Size([9, 69])\n",
      "['ĠIt', \"Ġ'\", 'Ġs', 'Ġnot', 'Ġmy', 'Ġfault', 'Ġ.', 'Ġ', '<|endoftext|>']\n"
     ]
    },
    {
     "name": "stdout",
     "output_type": "stream",
     "text": [
      "torch.Size([42, 104]) tensor([[50256,   314,  1718,  ...,   764,   220, 50256],\n",
      "        [50256,   314,  1718,  ...,   764,   220, 50256],\n",
      "        [50256,   314,  1718,  ...,   764,   220, 50256],\n",
      "        ...,\n",
      "        [50256,   314,  1718,  ...,   764,   220, 50256],\n",
      "        [50256,   314,  1718,  ...,   764,   220, 50256],\n",
      "        [50256,   314,  1718,  ...,   764,   220, 50256]])\n",
      "torch.Size([42, 104])\n",
      "['ĠI', 'Ġwas', 'Ġdiscouraged', 'Ġin', 'Ġmy', 'Ġcareer', 'Ġas', 'Ġa', 'Ġpainter', 'Ġby', 'Ġthe', 'Ġgrown', 'ups', 'Ġ,', 'Ġat', 'Ġthe', 'Ġage', 'Ġof', 'Ġsix', 'Ġ,', 'Ġand', 'ĠI', 'Ġhadn', \"Ġ'\", 'Ġt', 'Ġlearned', 'Ġto', 'Ġdraw', 'Ġanything', 'Ġexcept', 'Ġbo', 'a', 'Ġconst', 'rict', 'ors', 'Ġ,', 'Ġclosed', 'Ġand', 'Ġopen', 'Ġ.', 'Ġ', '<|endoftext|>']\n",
      "torch.Size([15, 109]) tensor([[50256,   843,   314,  ...,   764,   220, 50256],\n",
      "        [50256,   843,   314,  ...,   764,   220, 50256],\n",
      "        [50256,   843,   314,  ...,   764,   220, 50256],\n",
      "        ...,\n",
      "        [50256,   843,   314,  ...,   764,   220, 50256],\n",
      "        [50256,   843,   314,  ...,   764,   220, 50256],\n",
      "        [50256,   843,   314,  ...,   764,   220, 50256]])\n",
      "torch.Size([15, 109])\n",
      "['ĠI', 'Ġstared', 'Ġat', 'Ġthis', 'Ġsudden', 'Ġappar', 'ition', 'Ġwide', 'Ġeyed', 'Ġwith', 'Ġaston', 'ishment', 'Ġ.', 'Ġ', '<|endoftext|>']\n",
      "torch.Size([14, 106]) tensor([[50256,  3423,   318,  ...,   764,   220, 50256],\n",
      "        [50256,  3423,   318,  ...,   764,   220, 50256],\n",
      "        [50256,  3423,   318,  ...,   764,   220, 50256],\n",
      "        ...,\n",
      "        [50256,  3423,   318,  ...,   764,   220, 50256],\n",
      "        [50256,  3423,   318,  ...,   764,   220, 50256],\n",
      "        [50256,  3423,   318,  ...,   764,   220, 50256]])\n",
      "torch.Size([14, 106])\n",
      "['ĠRemember', 'Ġthat', 'ĠI', 'Ġwas', 'Ġa', 'Ġthousand', 'Ġmiles', 'Ġfrom', 'Ġany', 'Ġinhabited', 'Ġregion', 'Ġ.', 'Ġ', '<|endoftext|>']\n",
      "torch.Size([27, 115]) tensor([[50256,   887,   616,  ...,   764,   220, 50256],\n",
      "        [50256,   887,   616,  ...,   764,   220, 50256],\n",
      "        [50256,   887,   616,  ...,   764,   220, 50256],\n",
      "        ...,\n",
      "        [50256,   887,   616,  ...,   764,   220, 50256],\n",
      "        [50256,   887,   616,  ...,   764,   220, 50256],\n",
      "        [50256,   887,   616,  ...,   764,   220, 50256]])\n",
      "torch.Size([27, 115])\n",
      "['ĠAnd', 'Ġyet', 'Ġthis', 'Ġlittle', 'Ġfellow', 'Ġseemed', 'Ġneither', 'Ġlost', 'Ġ,', 'Ġnor', 'Ġhalf', 'Ġ-', 'Ġdead', 'Ġwith', 'Ġfatigue', 'Ġ,', 'Ġnor', 'Ġstarved', 'Ġor', 'Ġdying', 'Ġof', 'Ġthirst', 'Ġor', 'Ġfear', 'Ġ.', 'Ġ', '<|endoftext|>']\n",
      "torch.Size([24, 122]) tensor([[50256,   632,   705,  ...,   764,   220, 50256],\n",
      "        [50256,   632,   705,  ...,   764,   220, 50256],\n",
      "        [50256,   632,   705,  ...,   764,   220, 50256],\n",
      "        ...,\n",
      "        [50256,   632,   705,  ...,   764,   220, 50256],\n",
      "        [50256,   632,   705,  ...,   764,   220, 50256],\n",
      "        [50256,   632,   705,  ...,   764,   220, 50256]])\n",
      "torch.Size([24, 122])\n",
      "['ĠHe', 'Ġlooked', 'Ġnothing', 'Ġlike', 'Ġa', 'Ġchild', 'Ġlost', 'Ġin', 'Ġthe', 'Ġmiddle', 'Ġof', 'Ġthe', 'Ġdesert', 'Ġ,', 'Ġa', 'Ġthousand', 'Ġmiles', 'Ġfrom', 'Ġany', 'Ġinhabited', 'Ġregion', 'Ġ.', 'Ġ', '<|endoftext|>']\n"
     ]
    },
    {
     "name": "stderr",
     "output_type": "stream",
     "text": [
      "0it [01:00, ?it/s]\n"
     ]
    },
    {
     "ename": "KeyboardInterrupt",
     "evalue": "",
     "output_type": "error",
     "traceback": [
      "\u001b[0;31m---------------------------------------------------------------------------\u001b[0m",
      "\u001b[0;31mKeyboardInterrupt\u001b[0m                         Traceback (most recent call last)",
      "\u001b[0;32m<ipython-input-10-4643ac9c894b>\u001b[0m in \u001b[0;36m<module>\u001b[0;34m\u001b[0m\n\u001b[1;32m     18\u001b[0m         \u001b[0mgc\u001b[0m\u001b[0;34m.\u001b[0m\u001b[0mcollect\u001b[0m\u001b[0;34m(\u001b[0m\u001b[0;34m)\u001b[0m\u001b[0;34m\u001b[0m\u001b[0;34m\u001b[0m\u001b[0m\n\u001b[1;32m     19\u001b[0m         \u001b[0mprint\u001b[0m\u001b[0;34m(\u001b[0m\u001b[0;34m\"############# Run {} #############\"\u001b[0m\u001b[0;34m.\u001b[0m\u001b[0mformat\u001b[0m\u001b[0;34m(\u001b[0m\u001b[0mrun_index\u001b[0m\u001b[0;34m)\u001b[0m\u001b[0;34m)\u001b[0m\u001b[0;34m\u001b[0m\u001b[0;34m\u001b[0m\u001b[0m\n\u001b[0;32m---> 20\u001b[0;31m         \u001b[0mactivations\u001b[0m  \u001b[0;34m=\u001b[0m \u001b[0mextractor\u001b[0m\u001b[0;34m.\u001b[0m\u001b[0mextract_activations\u001b[0m\u001b[0;34m(\u001b[0m\u001b[0miterator\u001b[0m\u001b[0;34m,\u001b[0m \u001b[0mlanguage\u001b[0m\u001b[0;34m)\u001b[0m\u001b[0;34m\u001b[0m\u001b[0;34m\u001b[0m\u001b[0m\n\u001b[0m\u001b[1;32m     21\u001b[0m         \u001b[0mhidden_states_activations\u001b[0m \u001b[0;34m=\u001b[0m \u001b[0mactivations\u001b[0m\u001b[0;34m[\u001b[0m\u001b[0;36m0\u001b[0m\u001b[0;34m]\u001b[0m\u001b[0;34m\u001b[0m\u001b[0;34m\u001b[0m\u001b[0m\n\u001b[1;32m     22\u001b[0m         \u001b[0mattention_heads_activations\u001b[0m \u001b[0;34m=\u001b[0m \u001b[0mactivations\u001b[0m\u001b[0;34m[\u001b[0m\u001b[0;36m1\u001b[0m\u001b[0;34m]\u001b[0m\u001b[0;34m\u001b[0m\u001b[0;34m\u001b[0m\u001b[0m\n",
      "\u001b[0;32m/neurospin/unicog/protocols/IRMf/LePetitPrince_Pallier_2018/LePetitPrince/models/GPT2/model.py\u001b[0m in \u001b[0;36mextract_activations\u001b[0;34m(self, iterator, language)\u001b[0m\n\u001b[1;32m     90\u001b[0m \u001b[0;34m\u001b[0m\u001b[0m\n\u001b[1;32m     91\u001b[0m         \u001b[0;32melif\u001b[0m \u001b[0;34m'control-context'\u001b[0m \u001b[0;32min\u001b[0m \u001b[0mself\u001b[0m\u001b[0;34m.\u001b[0m\u001b[0mprediction_type\u001b[0m\u001b[0;34m:\u001b[0m\u001b[0;34m\u001b[0m\u001b[0;34m\u001b[0m\u001b[0m\n\u001b[0;32m---> 92\u001b[0;31m             \u001b[0mactivations\u001b[0m \u001b[0;34m=\u001b[0m \u001b[0mself\u001b[0m\u001b[0;34m.\u001b[0m\u001b[0mget_token_level_activations\u001b[0m\u001b[0;34m(\u001b[0m\u001b[0miterator\u001b[0m\u001b[0;34m,\u001b[0m \u001b[0mlanguage\u001b[0m\u001b[0;34m)\u001b[0m\u001b[0;34m\u001b[0m\u001b[0;34m\u001b[0m\u001b[0m\n\u001b[0m\u001b[1;32m     93\u001b[0m             \u001b[0mhidden_states_activations\u001b[0m \u001b[0;34m=\u001b[0m \u001b[0mactivations\u001b[0m\u001b[0;34m[\u001b[0m\u001b[0;36m0\u001b[0m\u001b[0;34m]\u001b[0m\u001b[0;34m\u001b[0m\u001b[0;34m\u001b[0m\u001b[0m\n\u001b[1;32m     94\u001b[0m             \u001b[0mattention_heads_activations\u001b[0m \u001b[0;34m=\u001b[0m \u001b[0mactivations\u001b[0m\u001b[0;34m[\u001b[0m\u001b[0;36m1\u001b[0m\u001b[0;34m]\u001b[0m\u001b[0;34m\u001b[0m\u001b[0;34m\u001b[0m\u001b[0m\n",
      "\u001b[0;32m/neurospin/unicog/protocols/IRMf/LePetitPrince_Pallier_2018/LePetitPrince/models/GPT2/model.py\u001b[0m in \u001b[0;36mget_token_level_activations\u001b[0;34m(self, iterator, language)\u001b[0m\n\u001b[1;32m    226\u001b[0m \u001b[0;34m\u001b[0m\u001b[0m\n\u001b[1;32m    227\u001b[0m             \u001b[0;32mwith\u001b[0m \u001b[0mtorch\u001b[0m\u001b[0;34m.\u001b[0m\u001b[0mno_grad\u001b[0m\u001b[0;34m(\u001b[0m\u001b[0;34m)\u001b[0m\u001b[0;34m:\u001b[0m\u001b[0;34m\u001b[0m\u001b[0;34m\u001b[0m\u001b[0m\n\u001b[0;32m--> 228\u001b[0;31m                 \u001b[0mencoded_layers\u001b[0m \u001b[0;34m=\u001b[0m \u001b[0mself\u001b[0m\u001b[0;34m.\u001b[0m\u001b[0mmodel\u001b[0m\u001b[0;34m(\u001b[0m\u001b[0minputs_ids\u001b[0m\u001b[0;34m,\u001b[0m \u001b[0mattention_mask\u001b[0m\u001b[0;34m=\u001b[0m\u001b[0mattention_mask\u001b[0m\u001b[0;34m)\u001b[0m \u001b[0;31m# last_hidden_state, pooler_output, hidden_states, attentions\u001b[0m\u001b[0;34m\u001b[0m\u001b[0;34m\u001b[0m\u001b[0m\n\u001b[0m\u001b[1;32m    229\u001b[0m                 \u001b[0;31m# last_hidden_state dimension: (batch_size, sequence_length, hidden_size)\u001b[0m\u001b[0;34m\u001b[0m\u001b[0;34m\u001b[0m\u001b[0;34m\u001b[0m\u001b[0m\n\u001b[1;32m    230\u001b[0m                 \u001b[0;31m# pooler_output dimension: (batch_size, hidden_size)\u001b[0m\u001b[0;34m\u001b[0m\u001b[0;34m\u001b[0m\u001b[0;34m\u001b[0m\u001b[0m\n",
      "\u001b[0;32m~/anaconda3/lib/python3.8/site-packages/torch/nn/modules/module.py\u001b[0m in \u001b[0;36m_call_impl\u001b[0;34m(self, *input, **kwargs)\u001b[0m\n\u001b[1;32m    725\u001b[0m             \u001b[0mresult\u001b[0m \u001b[0;34m=\u001b[0m \u001b[0mself\u001b[0m\u001b[0;34m.\u001b[0m\u001b[0m_slow_forward\u001b[0m\u001b[0;34m(\u001b[0m\u001b[0;34m*\u001b[0m\u001b[0minput\u001b[0m\u001b[0;34m,\u001b[0m \u001b[0;34m**\u001b[0m\u001b[0mkwargs\u001b[0m\u001b[0;34m)\u001b[0m\u001b[0;34m\u001b[0m\u001b[0;34m\u001b[0m\u001b[0m\n\u001b[1;32m    726\u001b[0m         \u001b[0;32melse\u001b[0m\u001b[0;34m:\u001b[0m\u001b[0;34m\u001b[0m\u001b[0;34m\u001b[0m\u001b[0m\n\u001b[0;32m--> 727\u001b[0;31m             \u001b[0mresult\u001b[0m \u001b[0;34m=\u001b[0m \u001b[0mself\u001b[0m\u001b[0;34m.\u001b[0m\u001b[0mforward\u001b[0m\u001b[0;34m(\u001b[0m\u001b[0;34m*\u001b[0m\u001b[0minput\u001b[0m\u001b[0;34m,\u001b[0m \u001b[0;34m**\u001b[0m\u001b[0mkwargs\u001b[0m\u001b[0;34m)\u001b[0m\u001b[0;34m\u001b[0m\u001b[0;34m\u001b[0m\u001b[0m\n\u001b[0m\u001b[1;32m    728\u001b[0m         for hook in itertools.chain(\n\u001b[1;32m    729\u001b[0m                 \u001b[0m_global_forward_hooks\u001b[0m\u001b[0;34m.\u001b[0m\u001b[0mvalues\u001b[0m\u001b[0;34m(\u001b[0m\u001b[0;34m)\u001b[0m\u001b[0;34m,\u001b[0m\u001b[0;34m\u001b[0m\u001b[0;34m\u001b[0m\u001b[0m\n",
      "\u001b[0;32m/neurospin/unicog/protocols/IRMf/LePetitPrince_Pallier_2018/LePetitPrince/models/GPT2/modeling_hacked_gpt2.py\u001b[0m in \u001b[0;36mforward\u001b[0;34m(self, input_ids, past, attention_mask, token_type_ids, position_ids, head_mask, inputs_embeds, use_cache)\u001b[0m\n\u001b[1;32m    512\u001b[0m                 \u001b[0mall_hidden_states\u001b[0m \u001b[0;34m=\u001b[0m \u001b[0mall_hidden_states\u001b[0m \u001b[0;34m+\u001b[0m \u001b[0;34m(\u001b[0m\u001b[0mhidden_states\u001b[0m\u001b[0;34m.\u001b[0m\u001b[0mview\u001b[0m\u001b[0;34m(\u001b[0m\u001b[0;34m*\u001b[0m\u001b[0moutput_shape\u001b[0m\u001b[0;34m)\u001b[0m\u001b[0;34m,\u001b[0m\u001b[0;34m)\u001b[0m\u001b[0;34m\u001b[0m\u001b[0;34m\u001b[0m\u001b[0m\n\u001b[1;32m    513\u001b[0m \u001b[0;34m\u001b[0m\u001b[0m\n\u001b[0;32m--> 514\u001b[0;31m             outputs = block(\n\u001b[0m\u001b[1;32m    515\u001b[0m                 \u001b[0mhidden_states\u001b[0m\u001b[0;34m,\u001b[0m\u001b[0;34m\u001b[0m\u001b[0;34m\u001b[0m\u001b[0m\n\u001b[1;32m    516\u001b[0m                 \u001b[0mlayer_past\u001b[0m\u001b[0;34m=\u001b[0m\u001b[0mlayer_past\u001b[0m\u001b[0;34m,\u001b[0m\u001b[0;34m\u001b[0m\u001b[0;34m\u001b[0m\u001b[0m\n",
      "\u001b[0;32m~/anaconda3/lib/python3.8/site-packages/torch/nn/modules/module.py\u001b[0m in \u001b[0;36m_call_impl\u001b[0;34m(self, *input, **kwargs)\u001b[0m\n\u001b[1;32m    725\u001b[0m             \u001b[0mresult\u001b[0m \u001b[0;34m=\u001b[0m \u001b[0mself\u001b[0m\u001b[0;34m.\u001b[0m\u001b[0m_slow_forward\u001b[0m\u001b[0;34m(\u001b[0m\u001b[0;34m*\u001b[0m\u001b[0minput\u001b[0m\u001b[0;34m,\u001b[0m \u001b[0;34m**\u001b[0m\u001b[0mkwargs\u001b[0m\u001b[0;34m)\u001b[0m\u001b[0;34m\u001b[0m\u001b[0;34m\u001b[0m\u001b[0m\n\u001b[1;32m    726\u001b[0m         \u001b[0;32melse\u001b[0m\u001b[0;34m:\u001b[0m\u001b[0;34m\u001b[0m\u001b[0;34m\u001b[0m\u001b[0m\n\u001b[0;32m--> 727\u001b[0;31m             \u001b[0mresult\u001b[0m \u001b[0;34m=\u001b[0m \u001b[0mself\u001b[0m\u001b[0;34m.\u001b[0m\u001b[0mforward\u001b[0m\u001b[0;34m(\u001b[0m\u001b[0;34m*\u001b[0m\u001b[0minput\u001b[0m\u001b[0;34m,\u001b[0m \u001b[0;34m**\u001b[0m\u001b[0mkwargs\u001b[0m\u001b[0;34m)\u001b[0m\u001b[0;34m\u001b[0m\u001b[0;34m\u001b[0m\u001b[0m\n\u001b[0m\u001b[1;32m    728\u001b[0m         for hook in itertools.chain(\n\u001b[1;32m    729\u001b[0m                 \u001b[0m_global_forward_hooks\u001b[0m\u001b[0;34m.\u001b[0m\u001b[0mvalues\u001b[0m\u001b[0;34m(\u001b[0m\u001b[0;34m)\u001b[0m\u001b[0;34m,\u001b[0m\u001b[0;34m\u001b[0m\u001b[0;34m\u001b[0m\u001b[0m\n",
      "\u001b[0;32m/neurospin/unicog/protocols/IRMf/LePetitPrince_Pallier_2018/LePetitPrince/models/GPT2/modeling_hacked_gpt2.py\u001b[0m in \u001b[0;36mforward\u001b[0;34m(self, x, layer_past, attention_mask, head_mask, use_cache)\u001b[0m\n\u001b[1;32m    231\u001b[0m \u001b[0;34m\u001b[0m\u001b[0m\n\u001b[1;32m    232\u001b[0m     \u001b[0;32mdef\u001b[0m \u001b[0mforward\u001b[0m\u001b[0;34m(\u001b[0m\u001b[0mself\u001b[0m\u001b[0;34m,\u001b[0m \u001b[0mx\u001b[0m\u001b[0;34m,\u001b[0m \u001b[0mlayer_past\u001b[0m\u001b[0;34m=\u001b[0m\u001b[0;32mNone\u001b[0m\u001b[0;34m,\u001b[0m \u001b[0mattention_mask\u001b[0m\u001b[0;34m=\u001b[0m\u001b[0;32mNone\u001b[0m\u001b[0;34m,\u001b[0m \u001b[0mhead_mask\u001b[0m\u001b[0;34m=\u001b[0m\u001b[0;32mNone\u001b[0m\u001b[0;34m,\u001b[0m \u001b[0muse_cache\u001b[0m\u001b[0;34m=\u001b[0m\u001b[0;32mFalse\u001b[0m\u001b[0;34m)\u001b[0m\u001b[0;34m:\u001b[0m\u001b[0;34m\u001b[0m\u001b[0;34m\u001b[0m\u001b[0m\n\u001b[0;32m--> 233\u001b[0;31m         output_attn = self.attn(\n\u001b[0m\u001b[1;32m    234\u001b[0m             \u001b[0mself\u001b[0m\u001b[0;34m.\u001b[0m\u001b[0mln_1\u001b[0m\u001b[0;34m(\u001b[0m\u001b[0mx\u001b[0m\u001b[0;34m)\u001b[0m\u001b[0;34m,\u001b[0m\u001b[0;34m\u001b[0m\u001b[0;34m\u001b[0m\u001b[0m\n\u001b[1;32m    235\u001b[0m             \u001b[0mlayer_past\u001b[0m\u001b[0;34m=\u001b[0m\u001b[0mlayer_past\u001b[0m\u001b[0;34m,\u001b[0m\u001b[0;34m\u001b[0m\u001b[0;34m\u001b[0m\u001b[0m\n",
      "\u001b[0;32m~/anaconda3/lib/python3.8/site-packages/torch/nn/modules/module.py\u001b[0m in \u001b[0;36m_call_impl\u001b[0;34m(self, *input, **kwargs)\u001b[0m\n\u001b[1;32m    725\u001b[0m             \u001b[0mresult\u001b[0m \u001b[0;34m=\u001b[0m \u001b[0mself\u001b[0m\u001b[0;34m.\u001b[0m\u001b[0m_slow_forward\u001b[0m\u001b[0;34m(\u001b[0m\u001b[0;34m*\u001b[0m\u001b[0minput\u001b[0m\u001b[0;34m,\u001b[0m \u001b[0;34m**\u001b[0m\u001b[0mkwargs\u001b[0m\u001b[0;34m)\u001b[0m\u001b[0;34m\u001b[0m\u001b[0;34m\u001b[0m\u001b[0m\n\u001b[1;32m    726\u001b[0m         \u001b[0;32melse\u001b[0m\u001b[0;34m:\u001b[0m\u001b[0;34m\u001b[0m\u001b[0;34m\u001b[0m\u001b[0m\n\u001b[0;32m--> 727\u001b[0;31m             \u001b[0mresult\u001b[0m \u001b[0;34m=\u001b[0m \u001b[0mself\u001b[0m\u001b[0;34m.\u001b[0m\u001b[0mforward\u001b[0m\u001b[0;34m(\u001b[0m\u001b[0;34m*\u001b[0m\u001b[0minput\u001b[0m\u001b[0;34m,\u001b[0m \u001b[0;34m**\u001b[0m\u001b[0mkwargs\u001b[0m\u001b[0;34m)\u001b[0m\u001b[0;34m\u001b[0m\u001b[0;34m\u001b[0m\u001b[0m\n\u001b[0m\u001b[1;32m    728\u001b[0m         for hook in itertools.chain(\n\u001b[1;32m    729\u001b[0m                 \u001b[0m_global_forward_hooks\u001b[0m\u001b[0;34m.\u001b[0m\u001b[0mvalues\u001b[0m\u001b[0;34m(\u001b[0m\u001b[0;34m)\u001b[0m\u001b[0;34m,\u001b[0m\u001b[0;34m\u001b[0m\u001b[0;34m\u001b[0m\u001b[0m\n",
      "\u001b[0;32m/neurospin/unicog/protocols/IRMf/LePetitPrince_Pallier_2018/LePetitPrince/models/GPT2/modeling_hacked_gpt2.py\u001b[0m in \u001b[0;36mforward\u001b[0;34m(self, x, layer_past, attention_mask, head_mask, use_cache)\u001b[0m\n\u001b[1;32m    178\u001b[0m \u001b[0;34m\u001b[0m\u001b[0m\n\u001b[1;32m    179\u001b[0m     \u001b[0;32mdef\u001b[0m \u001b[0mforward\u001b[0m\u001b[0;34m(\u001b[0m\u001b[0mself\u001b[0m\u001b[0;34m,\u001b[0m \u001b[0mx\u001b[0m\u001b[0;34m,\u001b[0m \u001b[0mlayer_past\u001b[0m\u001b[0;34m=\u001b[0m\u001b[0;32mNone\u001b[0m\u001b[0;34m,\u001b[0m \u001b[0mattention_mask\u001b[0m\u001b[0;34m=\u001b[0m\u001b[0;32mNone\u001b[0m\u001b[0;34m,\u001b[0m \u001b[0mhead_mask\u001b[0m\u001b[0;34m=\u001b[0m\u001b[0;32mNone\u001b[0m\u001b[0;34m,\u001b[0m \u001b[0muse_cache\u001b[0m\u001b[0;34m=\u001b[0m\u001b[0;32mFalse\u001b[0m\u001b[0;34m)\u001b[0m\u001b[0;34m:\u001b[0m\u001b[0;34m\u001b[0m\u001b[0;34m\u001b[0m\u001b[0m\n\u001b[0;32m--> 180\u001b[0;31m         \u001b[0mx\u001b[0m \u001b[0;34m=\u001b[0m \u001b[0mself\u001b[0m\u001b[0;34m.\u001b[0m\u001b[0mc_attn\u001b[0m\u001b[0;34m(\u001b[0m\u001b[0mx\u001b[0m\u001b[0;34m)\u001b[0m\u001b[0;34m\u001b[0m\u001b[0;34m\u001b[0m\u001b[0m\n\u001b[0m\u001b[1;32m    181\u001b[0m         \u001b[0mquery\u001b[0m\u001b[0;34m,\u001b[0m \u001b[0mkey\u001b[0m\u001b[0;34m,\u001b[0m \u001b[0mvalue\u001b[0m \u001b[0;34m=\u001b[0m \u001b[0mx\u001b[0m\u001b[0;34m.\u001b[0m\u001b[0msplit\u001b[0m\u001b[0;34m(\u001b[0m\u001b[0mself\u001b[0m\u001b[0;34m.\u001b[0m\u001b[0msplit_size\u001b[0m\u001b[0;34m,\u001b[0m \u001b[0mdim\u001b[0m\u001b[0;34m=\u001b[0m\u001b[0;36m2\u001b[0m\u001b[0;34m)\u001b[0m\u001b[0;34m\u001b[0m\u001b[0;34m\u001b[0m\u001b[0m\n\u001b[1;32m    182\u001b[0m         \u001b[0mquery\u001b[0m \u001b[0;34m=\u001b[0m \u001b[0mself\u001b[0m\u001b[0;34m.\u001b[0m\u001b[0msplit_heads\u001b[0m\u001b[0;34m(\u001b[0m\u001b[0mquery\u001b[0m\u001b[0;34m)\u001b[0m\u001b[0;34m\u001b[0m\u001b[0;34m\u001b[0m\u001b[0m\n",
      "\u001b[0;32m~/anaconda3/lib/python3.8/site-packages/torch/nn/modules/module.py\u001b[0m in \u001b[0;36m_call_impl\u001b[0;34m(self, *input, **kwargs)\u001b[0m\n\u001b[1;32m    725\u001b[0m             \u001b[0mresult\u001b[0m \u001b[0;34m=\u001b[0m \u001b[0mself\u001b[0m\u001b[0;34m.\u001b[0m\u001b[0m_slow_forward\u001b[0m\u001b[0;34m(\u001b[0m\u001b[0;34m*\u001b[0m\u001b[0minput\u001b[0m\u001b[0;34m,\u001b[0m \u001b[0;34m**\u001b[0m\u001b[0mkwargs\u001b[0m\u001b[0;34m)\u001b[0m\u001b[0;34m\u001b[0m\u001b[0;34m\u001b[0m\u001b[0m\n\u001b[1;32m    726\u001b[0m         \u001b[0;32melse\u001b[0m\u001b[0;34m:\u001b[0m\u001b[0;34m\u001b[0m\u001b[0;34m\u001b[0m\u001b[0m\n\u001b[0;32m--> 727\u001b[0;31m             \u001b[0mresult\u001b[0m \u001b[0;34m=\u001b[0m \u001b[0mself\u001b[0m\u001b[0;34m.\u001b[0m\u001b[0mforward\u001b[0m\u001b[0;34m(\u001b[0m\u001b[0;34m*\u001b[0m\u001b[0minput\u001b[0m\u001b[0;34m,\u001b[0m \u001b[0;34m**\u001b[0m\u001b[0mkwargs\u001b[0m\u001b[0;34m)\u001b[0m\u001b[0;34m\u001b[0m\u001b[0;34m\u001b[0m\u001b[0m\n\u001b[0m\u001b[1;32m    728\u001b[0m         for hook in itertools.chain(\n\u001b[1;32m    729\u001b[0m                 \u001b[0m_global_forward_hooks\u001b[0m\u001b[0;34m.\u001b[0m\u001b[0mvalues\u001b[0m\u001b[0;34m(\u001b[0m\u001b[0;34m)\u001b[0m\u001b[0;34m,\u001b[0m\u001b[0;34m\u001b[0m\u001b[0;34m\u001b[0m\u001b[0m\n",
      "\u001b[0;32m~/anaconda3/lib/python3.8/site-packages/transformers/modeling_utils.py\u001b[0m in \u001b[0;36mforward\u001b[0;34m(self, x)\u001b[0m\n\u001b[1;32m   1017\u001b[0m     \u001b[0;32mdef\u001b[0m \u001b[0mforward\u001b[0m\u001b[0;34m(\u001b[0m\u001b[0mself\u001b[0m\u001b[0;34m,\u001b[0m \u001b[0mx\u001b[0m\u001b[0;34m)\u001b[0m\u001b[0;34m:\u001b[0m\u001b[0;34m\u001b[0m\u001b[0;34m\u001b[0m\u001b[0m\n\u001b[1;32m   1018\u001b[0m         \u001b[0msize_out\u001b[0m \u001b[0;34m=\u001b[0m \u001b[0mx\u001b[0m\u001b[0;34m.\u001b[0m\u001b[0msize\u001b[0m\u001b[0;34m(\u001b[0m\u001b[0;34m)\u001b[0m\u001b[0;34m[\u001b[0m\u001b[0;34m:\u001b[0m\u001b[0;34m-\u001b[0m\u001b[0;36m1\u001b[0m\u001b[0;34m]\u001b[0m \u001b[0;34m+\u001b[0m \u001b[0;34m(\u001b[0m\u001b[0mself\u001b[0m\u001b[0;34m.\u001b[0m\u001b[0mnf\u001b[0m\u001b[0;34m,\u001b[0m\u001b[0;34m)\u001b[0m\u001b[0;34m\u001b[0m\u001b[0;34m\u001b[0m\u001b[0m\n\u001b[0;32m-> 1019\u001b[0;31m         \u001b[0mx\u001b[0m \u001b[0;34m=\u001b[0m \u001b[0mtorch\u001b[0m\u001b[0;34m.\u001b[0m\u001b[0maddmm\u001b[0m\u001b[0;34m(\u001b[0m\u001b[0mself\u001b[0m\u001b[0;34m.\u001b[0m\u001b[0mbias\u001b[0m\u001b[0;34m,\u001b[0m \u001b[0mx\u001b[0m\u001b[0;34m.\u001b[0m\u001b[0mview\u001b[0m\u001b[0;34m(\u001b[0m\u001b[0;34m-\u001b[0m\u001b[0;36m1\u001b[0m\u001b[0;34m,\u001b[0m \u001b[0mx\u001b[0m\u001b[0;34m.\u001b[0m\u001b[0msize\u001b[0m\u001b[0;34m(\u001b[0m\u001b[0;34m-\u001b[0m\u001b[0;36m1\u001b[0m\u001b[0;34m)\u001b[0m\u001b[0;34m)\u001b[0m\u001b[0;34m,\u001b[0m \u001b[0mself\u001b[0m\u001b[0;34m.\u001b[0m\u001b[0mweight\u001b[0m\u001b[0;34m)\u001b[0m\u001b[0;34m\u001b[0m\u001b[0;34m\u001b[0m\u001b[0m\n\u001b[0m\u001b[1;32m   1020\u001b[0m         \u001b[0mx\u001b[0m \u001b[0;34m=\u001b[0m \u001b[0mx\u001b[0m\u001b[0;34m.\u001b[0m\u001b[0mview\u001b[0m\u001b[0;34m(\u001b[0m\u001b[0;34m*\u001b[0m\u001b[0msize_out\u001b[0m\u001b[0;34m)\u001b[0m\u001b[0;34m\u001b[0m\u001b[0;34m\u001b[0m\u001b[0m\n\u001b[1;32m   1021\u001b[0m         \u001b[0;32mreturn\u001b[0m \u001b[0mx\u001b[0m\u001b[0;34m\u001b[0m\u001b[0;34m\u001b[0m\u001b[0m\n",
      "\u001b[0;31mKeyboardInterrupt\u001b[0m: "
     ]
    }
   ],
   "source": [
    "for index, gpt2_model in enumerate(pretrained_gpt2_models):\n",
    "    extractor = GPT2Extractor(gpt2_model, \n",
    "                              language, \n",
    "                              names[index], \n",
    "                              prediction_types[index],\n",
    "                              output_hidden_states=output_hidden_states, \n",
    "                              output_attentions=output_attentions,\n",
    "                              attention_length_before=attention_length_before_list[index],\n",
    "                              config_path=config_paths[index],\n",
    "                              max_length=512, \n",
    "                              number_of_sentence=number_of_sentence_list[index], \n",
    "                              number_of_sentence_before=number_of_sentence_before_list[index],\n",
    "                              stop_attention_at_sent=stop_attention_at_sent_list[index],\n",
    "                              stop_attention_before_sent=stop_attention_before_sent_list[index]\n",
    "                             )\n",
    "    print(extractor.name, ' - Extracting activations ...')\n",
    "    for run_index, iterator in tqdm(enumerate(iterator_list)):\n",
    "        gc.collect()\n",
    "        print(\"############# Run {} #############\".format(run_index))\n",
    "        activations  = extractor.extract_activations(iterator, language)\n",
    "        hidden_states_activations = activations[0]\n",
    "        attention_heads_activations = activations[1]\n",
    "        #activations = pd.concat([hidden_states_activations, attention_heads_activations], axis=1)\n",
    "        \n",
    "        #transform(\n",
    "        #    hidden_states_activations, \n",
    "        #    saving_path_folders[index], \n",
    "        #    'activations', \n",
    "        #    run_index=run_index,\n",
    "        #    n_layers_hidden=13,\n",
    "        #    n_layers_attention=0, \n",
    "        #    hidden_size=768)\n",
    "        \n",
    "        #transform(cls_activations, saving_path_folders[index], 'cls')\n",
    "        #transform(sep_activations, saving_path_folders[index], 'sep')\n",
    "        \n",
    "        #check_folder(saving_path_folders[index])\n",
    "        #hidden_states_activations.to_csv(os.path.join(saving_path_folders[index], 'activations_run{}.csv'.format(run_index + 1)), index=False)\n",
    "        #activations.to_csv(os.path.join(saving_path_folders[index], 'activations_run{}.csv'.format(run_index + 1)), index=False)\n",
    "        #cls_activations.to_csv(os.path.join(saving_path_folders[index], 'cls_run{}.csv'.format(run_index + 1)), index=False)\n",
    "        #sep_activations.to_csv(os.path.join(saving_path_folders[index], 'sep_run{}.csv'.format(run_index + 1)), index=False)\n",
    "        del activations\n",
    "        del hidden_states_activations\n",
    "        #del attention_heads_activations"
   ]
  },
  {
   "cell_type": "code",
   "execution_count": null,
   "metadata": {},
   "outputs": [],
   "source": []
  },
  {
   "cell_type": "code",
   "execution_count": null,
   "metadata": {},
   "outputs": [],
   "source": [
    "for index, bert_model in enumerate(pretrained_bert_models):\n",
    "    extractor = BertExtractor(bert_model, \n",
    "                              language, \n",
    "                              names[index], \n",
    "                              prediction_types[index], \n",
    "                              output_hidden_states=True, \n",
    "                              output_attentions=True, \n",
    "                              config_path=config_paths[index], \n",
    "                              max_length=512, \n",
    "                              number_of_sentence=number_of_sentence_list[index], \n",
    "                              number_of_sentence_before=number_of_sentence_before_list[index], \n",
    "                              number_of_sentence_after=number_of_sentence_after_list[index])\n",
    "    print(extractor.name, ' - Extracting activations ...')\n",
    "    for run_index, iterator in tqdm(enumerate(iterator_list)):\n",
    "        print(\"############# Run {} #############\".format(run_index))\n",
    "        activations  = extractor.extract_activations(iterator, language)\n",
    "        hidden_states_activations = activations[0]\n",
    "        attention_heads_activations = activations[1]\n",
    "        (cls_hidden_states_activations, cls_attention_activations) = activations[2]\n",
    "        (sep_hidden_states_activations, sep_attention_activations) = activations[3]\n",
    "        activations = pd.concat([hidden_states_activations, attention_heads_activations], axis=1)\n",
    "        cls_activations = pd.concat([cls_hidden_states_activations, cls_attention_activations], axis=1)\n",
    "        sep_activations = pd.concat([sep_hidden_states_activations, sep_attention_activations], axis=1)\n",
    "        \n",
    "        transform(activations, saving_path_folders[index], 'activations', run_index=run_index)\n",
    "        #transform(cls_activations, saving_path_folders[index], 'cls')\n",
    "        #transform(sep_activations, saving_path_folders[index], 'sep')\n",
    "        \n",
    "        #activations.to_csv(os.path.join(saving_path_folders[index], 'activations_run{}.csv'.format(run_index + 1)), index=False)\n",
    "        #cls_activations.to_csv(os.path.join(saving_path_folders[index], 'cls_run{}.csv'.format(run_index + 1)), index=False)\n",
    "        #sep_activations.to_csv(os.path.join(saving_path_folders[index], 'sep_run{}.csv'.format(run_index + 1)), index=False)\n",
    "        del activations\n",
    "        del cls_activations\n",
    "        del sep_activations\n",
    "        del hidden_states_activations\n",
    "        del attention_heads_activations\n",
    "        del cls_hidden_states_activations\n",
    "        del cls_attention_activations\n",
    "        del sep_hidden_states_activations\n",
    "        del sep_attention_activations"
   ]
  },
  {
   "cell_type": "code",
   "execution_count": 20,
   "metadata": {},
   "outputs": [
    {
     "data": {
      "text/plain": [
       "GPT2Model(\n",
       "  (wte): Embedding(50257, 768)\n",
       "  (wpe): Embedding(1024, 768)\n",
       "  (drop): Dropout(p=0.1, inplace=False)\n",
       "  (h): ModuleList(\n",
       "    (0): Block(\n",
       "      (ln_1): LayerNorm((768,), eps=1e-05, elementwise_affine=True)\n",
       "      (attn): Attention(\n",
       "        (c_attn): Conv1D()\n",
       "        (c_proj): Conv1D()\n",
       "        (attn_dropout): Dropout(p=0.1, inplace=False)\n",
       "        (resid_dropout): Dropout(p=0.1, inplace=False)\n",
       "      )\n",
       "      (ln_2): LayerNorm((768,), eps=1e-05, elementwise_affine=True)\n",
       "      (mlp): MLP(\n",
       "        (c_fc): Conv1D()\n",
       "        (c_proj): Conv1D()\n",
       "        (dropout): Dropout(p=0.1, inplace=False)\n",
       "      )\n",
       "    )\n",
       "    (1): Block(\n",
       "      (ln_1): LayerNorm((768,), eps=1e-05, elementwise_affine=True)\n",
       "      (attn): Attention(\n",
       "        (c_attn): Conv1D()\n",
       "        (c_proj): Conv1D()\n",
       "        (attn_dropout): Dropout(p=0.1, inplace=False)\n",
       "        (resid_dropout): Dropout(p=0.1, inplace=False)\n",
       "      )\n",
       "      (ln_2): LayerNorm((768,), eps=1e-05, elementwise_affine=True)\n",
       "      (mlp): MLP(\n",
       "        (c_fc): Conv1D()\n",
       "        (c_proj): Conv1D()\n",
       "        (dropout): Dropout(p=0.1, inplace=False)\n",
       "      )\n",
       "    )\n",
       "    (2): Block(\n",
       "      (ln_1): LayerNorm((768,), eps=1e-05, elementwise_affine=True)\n",
       "      (attn): Attention(\n",
       "        (c_attn): Conv1D()\n",
       "        (c_proj): Conv1D()\n",
       "        (attn_dropout): Dropout(p=0.1, inplace=False)\n",
       "        (resid_dropout): Dropout(p=0.1, inplace=False)\n",
       "      )\n",
       "      (ln_2): LayerNorm((768,), eps=1e-05, elementwise_affine=True)\n",
       "      (mlp): MLP(\n",
       "        (c_fc): Conv1D()\n",
       "        (c_proj): Conv1D()\n",
       "        (dropout): Dropout(p=0.1, inplace=False)\n",
       "      )\n",
       "    )\n",
       "    (3): Block(\n",
       "      (ln_1): LayerNorm((768,), eps=1e-05, elementwise_affine=True)\n",
       "      (attn): Attention(\n",
       "        (c_attn): Conv1D()\n",
       "        (c_proj): Conv1D()\n",
       "        (attn_dropout): Dropout(p=0.1, inplace=False)\n",
       "        (resid_dropout): Dropout(p=0.1, inplace=False)\n",
       "      )\n",
       "      (ln_2): LayerNorm((768,), eps=1e-05, elementwise_affine=True)\n",
       "      (mlp): MLP(\n",
       "        (c_fc): Conv1D()\n",
       "        (c_proj): Conv1D()\n",
       "        (dropout): Dropout(p=0.1, inplace=False)\n",
       "      )\n",
       "    )\n",
       "    (4): Block(\n",
       "      (ln_1): LayerNorm((768,), eps=1e-05, elementwise_affine=True)\n",
       "      (attn): Attention(\n",
       "        (c_attn): Conv1D()\n",
       "        (c_proj): Conv1D()\n",
       "        (attn_dropout): Dropout(p=0.1, inplace=False)\n",
       "        (resid_dropout): Dropout(p=0.1, inplace=False)\n",
       "      )\n",
       "      (ln_2): LayerNorm((768,), eps=1e-05, elementwise_affine=True)\n",
       "      (mlp): MLP(\n",
       "        (c_fc): Conv1D()\n",
       "        (c_proj): Conv1D()\n",
       "        (dropout): Dropout(p=0.1, inplace=False)\n",
       "      )\n",
       "    )\n",
       "    (5): Block(\n",
       "      (ln_1): LayerNorm((768,), eps=1e-05, elementwise_affine=True)\n",
       "      (attn): Attention(\n",
       "        (c_attn): Conv1D()\n",
       "        (c_proj): Conv1D()\n",
       "        (attn_dropout): Dropout(p=0.1, inplace=False)\n",
       "        (resid_dropout): Dropout(p=0.1, inplace=False)\n",
       "      )\n",
       "      (ln_2): LayerNorm((768,), eps=1e-05, elementwise_affine=True)\n",
       "      (mlp): MLP(\n",
       "        (c_fc): Conv1D()\n",
       "        (c_proj): Conv1D()\n",
       "        (dropout): Dropout(p=0.1, inplace=False)\n",
       "      )\n",
       "    )\n",
       "  )\n",
       "  (ln_f): LayerNorm((768,), eps=1e-05, elementwise_affine=True)\n",
       ")"
      ]
     },
     "execution_count": 20,
     "metadata": {},
     "output_type": "execute_result"
    }
   ],
   "source": [
    "extractor.model"
   ]
  },
  {
   "cell_type": "code",
   "execution_count": 10,
   "metadata": {
    "scrolled": true
   },
   "outputs": [
    {
     "name": "stdout",
     "output_type": "stream",
     "text": [
      "wte.weight\n",
      "wpe.weight\n",
      "h.0.ln_1.weight\n",
      "h.0.ln_1.bias\n",
      "h.0.attn.c_attn.weight\n",
      "h.0.attn.c_attn.bias\n",
      "h.0.attn.c_proj.weight\n",
      "h.0.attn.c_proj.bias\n",
      "h.0.ln_2.weight\n",
      "h.0.ln_2.bias\n",
      "h.0.mlp.c_fc.weight\n",
      "h.0.mlp.c_fc.bias\n",
      "h.0.mlp.c_proj.weight\n",
      "h.0.mlp.c_proj.bias\n",
      "h.1.ln_1.weight\n",
      "h.1.ln_1.bias\n",
      "h.1.attn.c_attn.weight\n",
      "h.1.attn.c_attn.bias\n",
      "h.1.attn.c_proj.weight\n",
      "h.1.attn.c_proj.bias\n",
      "h.1.ln_2.weight\n",
      "h.1.ln_2.bias\n",
      "h.1.mlp.c_fc.weight\n",
      "h.1.mlp.c_fc.bias\n",
      "h.1.mlp.c_proj.weight\n",
      "h.1.mlp.c_proj.bias\n",
      "h.2.ln_1.weight\n",
      "h.2.ln_1.bias\n",
      "h.2.attn.c_attn.weight\n",
      "h.2.attn.c_attn.bias\n",
      "h.2.attn.c_proj.weight\n",
      "h.2.attn.c_proj.bias\n",
      "h.2.ln_2.weight\n",
      "h.2.ln_2.bias\n",
      "h.2.mlp.c_fc.weight\n",
      "h.2.mlp.c_fc.bias\n",
      "h.2.mlp.c_proj.weight\n",
      "h.2.mlp.c_proj.bias\n",
      "h.3.ln_1.weight\n",
      "h.3.ln_1.bias\n",
      "h.3.attn.c_attn.weight\n",
      "h.3.attn.c_attn.bias\n",
      "h.3.attn.c_proj.weight\n",
      "h.3.attn.c_proj.bias\n",
      "h.3.ln_2.weight\n",
      "h.3.ln_2.bias\n",
      "h.3.mlp.c_fc.weight\n",
      "h.3.mlp.c_fc.bias\n",
      "h.3.mlp.c_proj.weight\n",
      "h.3.mlp.c_proj.bias\n",
      "h.4.ln_1.weight\n",
      "h.4.ln_1.bias\n",
      "h.4.attn.c_attn.weight\n",
      "h.4.attn.c_attn.bias\n",
      "h.4.attn.c_proj.weight\n",
      "h.4.attn.c_proj.bias\n",
      "h.4.ln_2.weight\n",
      "h.4.ln_2.bias\n",
      "h.4.mlp.c_fc.weight\n",
      "h.4.mlp.c_fc.bias\n",
      "h.4.mlp.c_proj.weight\n",
      "h.4.mlp.c_proj.bias\n",
      "h.5.ln_1.weight\n",
      "h.5.ln_1.bias\n",
      "h.5.attn.c_attn.weight\n",
      "h.5.attn.c_attn.bias\n",
      "h.5.attn.c_proj.weight\n",
      "h.5.attn.c_proj.bias\n",
      "h.5.ln_2.weight\n",
      "h.5.ln_2.bias\n",
      "h.5.mlp.c_fc.weight\n",
      "h.5.mlp.c_fc.bias\n",
      "h.5.mlp.c_proj.weight\n",
      "h.5.mlp.c_proj.bias\n",
      "h.6.ln_1.weight\n",
      "h.6.ln_1.bias\n",
      "h.6.attn.c_attn.weight\n",
      "h.6.attn.c_attn.bias\n",
      "h.6.attn.c_proj.weight\n",
      "h.6.attn.c_proj.bias\n",
      "h.6.ln_2.weight\n",
      "h.6.ln_2.bias\n",
      "h.6.mlp.c_fc.weight\n",
      "h.6.mlp.c_fc.bias\n",
      "h.6.mlp.c_proj.weight\n",
      "h.6.mlp.c_proj.bias\n",
      "h.7.ln_1.weight\n",
      "h.7.ln_1.bias\n",
      "h.7.attn.c_attn.weight\n",
      "h.7.attn.c_attn.bias\n",
      "h.7.attn.c_proj.weight\n",
      "h.7.attn.c_proj.bias\n",
      "h.7.ln_2.weight\n",
      "h.7.ln_2.bias\n",
      "h.7.mlp.c_fc.weight\n",
      "h.7.mlp.c_fc.bias\n",
      "h.7.mlp.c_proj.weight\n",
      "h.7.mlp.c_proj.bias\n",
      "h.8.ln_1.weight\n",
      "h.8.ln_1.bias\n",
      "h.8.attn.c_attn.weight\n",
      "h.8.attn.c_attn.bias\n",
      "h.8.attn.c_proj.weight\n",
      "h.8.attn.c_proj.bias\n",
      "h.8.ln_2.weight\n",
      "h.8.ln_2.bias\n",
      "h.8.mlp.c_fc.weight\n",
      "h.8.mlp.c_fc.bias\n",
      "h.8.mlp.c_proj.weight\n",
      "h.8.mlp.c_proj.bias\n",
      "h.9.ln_1.weight\n",
      "h.9.ln_1.bias\n",
      "h.9.attn.c_attn.weight\n",
      "h.9.attn.c_attn.bias\n",
      "h.9.attn.c_proj.weight\n",
      "h.9.attn.c_proj.bias\n",
      "h.9.ln_2.weight\n",
      "h.9.ln_2.bias\n",
      "h.9.mlp.c_fc.weight\n",
      "h.9.mlp.c_fc.bias\n",
      "h.9.mlp.c_proj.weight\n",
      "h.9.mlp.c_proj.bias\n",
      "h.10.ln_1.weight\n",
      "h.10.ln_1.bias\n",
      "h.10.attn.c_attn.weight\n",
      "h.10.attn.c_attn.bias\n",
      "h.10.attn.c_proj.weight\n",
      "h.10.attn.c_proj.bias\n",
      "h.10.ln_2.weight\n",
      "h.10.ln_2.bias\n",
      "h.10.mlp.c_fc.weight\n",
      "h.10.mlp.c_fc.bias\n",
      "h.10.mlp.c_proj.weight\n",
      "h.10.mlp.c_proj.bias\n",
      "h.11.ln_1.weight\n",
      "h.11.ln_1.bias\n",
      "h.11.attn.c_attn.weight\n",
      "h.11.attn.c_attn.bias\n",
      "h.11.attn.c_proj.weight\n",
      "h.11.attn.c_proj.bias\n",
      "h.11.ln_2.weight\n",
      "h.11.ln_2.bias\n",
      "h.11.mlp.c_fc.weight\n",
      "h.11.mlp.c_fc.bias\n",
      "h.11.mlp.c_proj.weight\n",
      "h.11.mlp.c_proj.bias\n",
      "ln_f.weight\n",
      "ln_f.bias\n"
     ]
    }
   ],
   "source": [
    "for p in list(extractor.model.named_parameters()):\n",
    "    print(p[0])"
   ]
  },
  {
   "cell_type": "markdown",
   "metadata": {},
   "source": [
    "### Generate control activations"
   ]
  },
  {
   "cell_type": "code",
   "execution_count": 11,
   "metadata": {},
   "outputs": [],
   "source": [
    "bert_model = 'gpt2'\n",
    "language = 'english'\n",
    "name = 'gpt2_control_'\n",
    "prediction_type = 'sentence'\n",
    "saving_path_folder = '/neurospin/unicog/protocols/IRMf/LePetitPrince_Pallier_2018/LePetitPrince/data/stimuli-representations/{}'.format(language)\n",
    "seeds = [24, 213, 1111, 61, 183]"
   ]
  },
  {
   "cell_type": "code",
   "execution_count": 12,
   "metadata": {},
   "outputs": [],
   "source": [
    "def randomize_layer(model, layer_nb):\n",
    "    \"\"\"Randomize layer weights and put bias to zero.\n",
    "    The input \"layer_nb\" goes from 1 to 12 to be coherent with the rest of the analysis.\n",
    "    It is then transfomed in the function.\n",
    "    \"\"\"\n",
    "    layer_nb = layer_nb - 1\n",
    "    model.h[layer_nb].ln_1.weight = torch.nn.parameter.Parameter(torch.rand_like(model.h[layer_nb].ln_1.weight))\n",
    "    model.h[layer_nb].ln_1.bias = torch.nn.parameter.Parameter(torch.zeros_like(model.h[layer_nb].ln_1.bias))\n",
    "    model.h[layer_nb].attn.c_attn.weight = torch.nn.parameter.Parameter(torch.rand_like(model.h[layer_nb].attn.c_attn.weight))\n",
    "    model.h[layer_nb].attn.c_attn.bias = torch.nn.parameter.Parameter(torch.zeros_like(model.h[layer_nb].attn.c_attn.bias))\n",
    "    model.h[layer_nb].attn.c_proj.weight = torch.nn.parameter.Parameter(torch.rand_like(model.h[layer_nb].attn.c_proj.weight))\n",
    "    model.h[layer_nb].attn.c_proj.bias = torch.nn.parameter.Parameter(torch.zeros_like(model.h[layer_nb].attn.c_proj.bias))\n",
    "    model.h[layer_nb].ln_2.weight = torch.nn.parameter.Parameter(torch.rand_like(model.h[layer_nb].ln_2.weight))\n",
    "    model.h[layer_nb].ln_2.bias = torch.nn.parameter.Parameter(torch.zeros_like(model.h[layer_nb].ln_2.bias))\n",
    "    model.h[layer_nb].mlp.c_fc.weight = torch.nn.parameter.Parameter(torch.rand_like(model.h[layer_nb].mlp.c_fc.weight))\n",
    "    model.h[layer_nb].mlp.c_fc.bias = torch.nn.parameter.Parameter(torch.zeros_like(model.h[layer_nb].mlp.c_fc.bias))\n",
    "    model.h[layer_nb].mlp.c_proj.weight = torch.nn.parameter.Parameter(torch.rand_like(model.h[layer_nb].mlp.c_proj.weight))\n",
    "    model.h[layer_nb].mlp.c_proj.bias = torch.nn.parameter.Parameter(torch.zeros_like(model.h[layer_nb].mlp.c_proj.bias))\n",
    "    return model"
   ]
  },
  {
   "cell_type": "code",
   "execution_count": 13,
   "metadata": {},
   "outputs": [],
   "source": [
    "def randomize_ln_1(model, layer_nb):\n",
    "    \"\"\"Randomize attention query weights of a given layer and put bias to zero.\n",
    "    \"\"\"\n",
    "    layer_nb = layer_nb - 1\n",
    "    model.h[layer_nb].ln_1.weight = torch.nn.parameter.Parameter(torch.rand_like(model.h[layer_nb].ln_1.weight))\n",
    "    model.h[layer_nb].ln_1.bias = torch.nn.parameter.Parameter(torch.zeros_like(model.h[layer_nb].ln_1.bias))\n",
    "    return model\n",
    "\n",
    "def randomize_attention_c_attn(model, layer_nb):\n",
    "    \"\"\"Randomize attention key weights of a given layer and put bias to zero.\n",
    "    \"\"\"\n",
    "    layer_nb = layer_nb - 1\n",
    "    model.h[layer_nb].attn.c_attn.weight = torch.nn.parameter.Parameter(torch.rand_like(model.h[layer_nb].attn.c_attn.weight))\n",
    "    model.h[layer_nb].attn.c_attn.bias = torch.nn.parameter.Parameter(torch.zeros_like(model.h[layer_nb].attn.c_attn.bias))\n",
    "    return model\n",
    "\n",
    "def randomize_attention_c_proj(model, layer_nb):\n",
    "    \"\"\"Randomize attention value weights of a given layer and put bias to zero.\n",
    "    \"\"\"\n",
    "    layer_nb = layer_nb - 1\n",
    "    model.h[layer_nb].attn.c_proj.weight = torch.nn.parameter.Parameter(torch.rand_like(model.h[layer_nb].attn.c_proj.weight))\n",
    "    model.h[layer_nb].attn.c_proj.bias = torch.nn.parameter.Parameter(torch.zeros_like(model.h[layer_nb].attn.c_proj.bias))\n",
    "    return model\n",
    "\n",
    "def randomize_ln_2(model, layer_nb):\n",
    "    \"\"\"Randomize attention dense network weights of a given layer and put bias to zero.\n",
    "    \"\"\"\n",
    "    layer_nb = layer_nb - 1\n",
    "    model.h[layer_nb].ln_2.weight = torch.nn.parameter.Parameter(torch.rand_like(model.h[layer_nb].ln_2.weight))\n",
    "    model.h[layer_nb].ln_2.bias = torch.nn.parameter.Parameter(torch.zeros_like(model.h[layer_nb].ln_2.bias))\n",
    "    return model\n",
    "\n",
    "\n",
    "def randomize_mlp_c_fc(model, layer_nb):\n",
    "    \"\"\"Randomize intermediate dense network weights of a given layer and put bias to zero.\n",
    "    \"\"\"\n",
    "    layer_nb = layer_nb - 1\n",
    "    model.h[layer_nb].mlp.c_fc.weight = torch.nn.parameter.Parameter(torch.rand_like(model.h[layer_nb].mlp.c_fc.weight))\n",
    "    model.h[layer_nb].mlp.c_fc.bias = torch.nn.parameter.Parameter(torch.zeros_like(model.h[layer_nb].mlp.c_fc.bias))\n",
    "    return model\n",
    "\n",
    "def randomize_mlp_c_proj(model, layer_nb):\n",
    "    \"\"\"Randomize output dense network weights of a given layer and put bias to zero.\n",
    "    \"\"\"\n",
    "    layer_nb = layer_nb - 1\n",
    "    model.h[layer_nb].mlp.c_proj.weight = torch.nn.parameter.Parameter(torch.rand_like(model.h[layer_nb].mlp.c_proj.weight))\n",
    "    model.h[layer_nb].mlp.c_proj.bias = torch.nn.parameter.Parameter(torch.zeros_like(model.h[layer_nb].mlp.c_proj.bias))\n",
    "    return model\n"
   ]
  },
  {
   "cell_type": "code",
   "execution_count": 14,
   "metadata": {},
   "outputs": [],
   "source": [
    "def randomize_embeddings(model):\n",
    "    \"\"\"Randomize embeddings weights and put bias to zero.\n",
    "    \"\"\"\n",
    "    model.wte.weight = torch.nn.parameter.Parameter(torch.rand_like(model.wte.weight))\n",
    "    model.wpe.weight = torch.nn.parameter.Parameter(torch.rand_like(model.wpe.weight))\n",
    "    return model"
   ]
  },
  {
   "cell_type": "code",
   "execution_count": 18,
   "metadata": {},
   "outputs": [
    {
     "name": "stderr",
     "output_type": "stream",
     "text": [
      "\r",
      "0it [00:00, ?it/s]"
     ]
    },
    {
     "name": "stdout",
     "output_type": "stream",
     "text": [
      "gpt2_control_24  - Extracting activations for layer 0...\n",
      "############# Run 0 #############\n",
      "\tSaving in /neurospin/unicog/protocols/IRMf/LePetitPrince_Pallier_2018/LePetitPrince/data/stimuli-representations/english/gpt2_control_24_layer-0.\n"
     ]
    },
    {
     "name": "stderr",
     "output_type": "stream",
     "text": [
      "\r",
      "1it [00:07,  7.92s/it]"
     ]
    },
    {
     "name": "stdout",
     "output_type": "stream",
     "text": [
      "############# Run 1 #############\n",
      "\tSaving in /neurospin/unicog/protocols/IRMf/LePetitPrince_Pallier_2018/LePetitPrince/data/stimuli-representations/english/gpt2_control_24_layer-0.\n"
     ]
    },
    {
     "name": "stderr",
     "output_type": "stream",
     "text": [
      "\r",
      "2it [00:16,  8.21s/it]"
     ]
    },
    {
     "name": "stdout",
     "output_type": "stream",
     "text": [
      "############# Run 2 #############\n",
      "\tSaving in /neurospin/unicog/protocols/IRMf/LePetitPrince_Pallier_2018/LePetitPrince/data/stimuli-representations/english/gpt2_control_24_layer-0.\n"
     ]
    },
    {
     "name": "stderr",
     "output_type": "stream",
     "text": [
      "\r",
      "3it [00:27,  9.04s/it]"
     ]
    },
    {
     "name": "stdout",
     "output_type": "stream",
     "text": [
      "############# Run 3 #############\n",
      "\tSaving in /neurospin/unicog/protocols/IRMf/LePetitPrince_Pallier_2018/LePetitPrince/data/stimuli-representations/english/gpt2_control_24_layer-0.\n"
     ]
    },
    {
     "name": "stderr",
     "output_type": "stream",
     "text": [
      "\r",
      "4it [00:37,  9.13s/it]"
     ]
    },
    {
     "name": "stdout",
     "output_type": "stream",
     "text": [
      "############# Run 4 #############\n",
      "\tSaving in /neurospin/unicog/protocols/IRMf/LePetitPrince_Pallier_2018/LePetitPrince/data/stimuli-representations/english/gpt2_control_24_layer-0.\n"
     ]
    },
    {
     "name": "stderr",
     "output_type": "stream",
     "text": [
      "\r",
      "5it [00:47,  9.41s/it]"
     ]
    },
    {
     "name": "stdout",
     "output_type": "stream",
     "text": [
      "############# Run 5 #############\n",
      "\tSaving in /neurospin/unicog/protocols/IRMf/LePetitPrince_Pallier_2018/LePetitPrince/data/stimuli-representations/english/gpt2_control_24_layer-0.\n"
     ]
    },
    {
     "name": "stderr",
     "output_type": "stream",
     "text": [
      "\r",
      "6it [00:58, 10.10s/it]"
     ]
    },
    {
     "name": "stdout",
     "output_type": "stream",
     "text": [
      "############# Run 6 #############\n",
      "\tSaving in /neurospin/unicog/protocols/IRMf/LePetitPrince_Pallier_2018/LePetitPrince/data/stimuli-representations/english/gpt2_control_24_layer-0.\n"
     ]
    },
    {
     "name": "stderr",
     "output_type": "stream",
     "text": [
      "\r",
      "7it [01:09, 10.39s/it]"
     ]
    },
    {
     "name": "stdout",
     "output_type": "stream",
     "text": [
      "############# Run 7 #############\n",
      "\tSaving in /neurospin/unicog/protocols/IRMf/LePetitPrince_Pallier_2018/LePetitPrince/data/stimuli-representations/english/gpt2_control_24_layer-0.\n"
     ]
    },
    {
     "name": "stderr",
     "output_type": "stream",
     "text": [
      "\r",
      "8it [01:18,  9.93s/it]"
     ]
    },
    {
     "name": "stdout",
     "output_type": "stream",
     "text": [
      "############# Run 8 #############\n",
      "\tSaving in /neurospin/unicog/protocols/IRMf/LePetitPrince_Pallier_2018/LePetitPrince/data/stimuli-representations/english/gpt2_control_24_layer-0.\n"
     ]
    },
    {
     "name": "stderr",
     "output_type": "stream",
     "text": [
      "9it [01:30, 10.02s/it]\n",
      "0it [00:00, ?it/s]"
     ]
    },
    {
     "name": "stdout",
     "output_type": "stream",
     "text": [
      "gpt2_control_24  - Extracting activations for layer 1...\n",
      "############# Run 0 #############\n",
      "\tSaving in /neurospin/unicog/protocols/IRMf/LePetitPrince_Pallier_2018/LePetitPrince/data/stimuli-representations/english/gpt2_control_24_layer-1.\n"
     ]
    },
    {
     "name": "stderr",
     "output_type": "stream",
     "text": [
      "\r",
      "1it [00:09,  9.86s/it]"
     ]
    },
    {
     "name": "stdout",
     "output_type": "stream",
     "text": [
      "############# Run 1 #############\n",
      "\tSaving in /neurospin/unicog/protocols/IRMf/LePetitPrince_Pallier_2018/LePetitPrince/data/stimuli-representations/english/gpt2_control_24_layer-1.\n"
     ]
    },
    {
     "name": "stderr",
     "output_type": "stream",
     "text": [
      "\r",
      "2it [00:20,  9.97s/it]"
     ]
    },
    {
     "name": "stdout",
     "output_type": "stream",
     "text": [
      "############# Run 2 #############\n",
      "\tSaving in /neurospin/unicog/protocols/IRMf/LePetitPrince_Pallier_2018/LePetitPrince/data/stimuli-representations/english/gpt2_control_24_layer-1.\n"
     ]
    },
    {
     "name": "stderr",
     "output_type": "stream",
     "text": [
      "\r",
      "3it [00:38, 12.40s/it]"
     ]
    },
    {
     "name": "stdout",
     "output_type": "stream",
     "text": [
      "############# Run 3 #############\n",
      "\tSaving in /neurospin/unicog/protocols/IRMf/LePetitPrince_Pallier_2018/LePetitPrince/data/stimuli-representations/english/gpt2_control_24_layer-1.\n"
     ]
    },
    {
     "name": "stderr",
     "output_type": "stream",
     "text": [
      "\r",
      "4it [00:59, 15.01s/it]"
     ]
    },
    {
     "name": "stdout",
     "output_type": "stream",
     "text": [
      "############# Run 4 #############\n",
      "\tSaving in /neurospin/unicog/protocols/IRMf/LePetitPrince_Pallier_2018/LePetitPrince/data/stimuli-representations/english/gpt2_control_24_layer-1.\n"
     ]
    },
    {
     "name": "stderr",
     "output_type": "stream",
     "text": [
      "\r",
      "5it [01:11, 14.13s/it]"
     ]
    },
    {
     "name": "stdout",
     "output_type": "stream",
     "text": [
      "############# Run 5 #############\n",
      "\tSaving in /neurospin/unicog/protocols/IRMf/LePetitPrince_Pallier_2018/LePetitPrince/data/stimuli-representations/english/gpt2_control_24_layer-1.\n"
     ]
    },
    {
     "name": "stderr",
     "output_type": "stream",
     "text": [
      "\r",
      "6it [01:24, 13.89s/it]"
     ]
    },
    {
     "name": "stdout",
     "output_type": "stream",
     "text": [
      "############# Run 6 #############\n",
      "\tSaving in /neurospin/unicog/protocols/IRMf/LePetitPrince_Pallier_2018/LePetitPrince/data/stimuli-representations/english/gpt2_control_24_layer-1.\n"
     ]
    },
    {
     "name": "stderr",
     "output_type": "stream",
     "text": [
      "\r",
      "7it [01:37, 13.62s/it]"
     ]
    },
    {
     "name": "stdout",
     "output_type": "stream",
     "text": [
      "############# Run 7 #############\n",
      "\tSaving in /neurospin/unicog/protocols/IRMf/LePetitPrince_Pallier_2018/LePetitPrince/data/stimuli-representations/english/gpt2_control_24_layer-1.\n"
     ]
    },
    {
     "name": "stderr",
     "output_type": "stream",
     "text": [
      "\r",
      "8it [01:48, 12.66s/it]"
     ]
    },
    {
     "name": "stdout",
     "output_type": "stream",
     "text": [
      "############# Run 8 #############\n",
      "\tSaving in /neurospin/unicog/protocols/IRMf/LePetitPrince_Pallier_2018/LePetitPrince/data/stimuli-representations/english/gpt2_control_24_layer-1.\n"
     ]
    },
    {
     "name": "stderr",
     "output_type": "stream",
     "text": [
      "9it [02:03, 13.67s/it]\n",
      "0it [00:00, ?it/s]"
     ]
    },
    {
     "name": "stdout",
     "output_type": "stream",
     "text": [
      "gpt2_control_24  - Extracting activations for layer 2...\n",
      "############# Run 0 #############\n",
      "\tSaving in /neurospin/unicog/protocols/IRMf/LePetitPrince_Pallier_2018/LePetitPrince/data/stimuli-representations/english/gpt2_control_24_layer-2.\n"
     ]
    },
    {
     "name": "stderr",
     "output_type": "stream",
     "text": [
      "\r",
      "1it [00:10, 10.49s/it]"
     ]
    },
    {
     "name": "stdout",
     "output_type": "stream",
     "text": [
      "############# Run 1 #############\n",
      "\tSaving in /neurospin/unicog/protocols/IRMf/LePetitPrince_Pallier_2018/LePetitPrince/data/stimuli-representations/english/gpt2_control_24_layer-2.\n"
     ]
    },
    {
     "name": "stderr",
     "output_type": "stream",
     "text": [
      "\r",
      "2it [00:29, 13.07s/it]"
     ]
    },
    {
     "name": "stdout",
     "output_type": "stream",
     "text": [
      "############# Run 2 #############\n",
      "\tSaving in /neurospin/unicog/protocols/IRMf/LePetitPrince_Pallier_2018/LePetitPrince/data/stimuli-representations/english/gpt2_control_24_layer-2.\n"
     ]
    },
    {
     "name": "stderr",
     "output_type": "stream",
     "text": [
      "\r",
      "3it [01:11, 21.85s/it]"
     ]
    },
    {
     "name": "stdout",
     "output_type": "stream",
     "text": [
      "############# Run 3 #############\n",
      "\tSaving in /neurospin/unicog/protocols/IRMf/LePetitPrince_Pallier_2018/LePetitPrince/data/stimuli-representations/english/gpt2_control_24_layer-2.\n"
     ]
    },
    {
     "name": "stderr",
     "output_type": "stream",
     "text": [
      "\r",
      "4it [01:24, 18.98s/it]"
     ]
    },
    {
     "name": "stdout",
     "output_type": "stream",
     "text": [
      "############# Run 4 #############\n",
      "\tSaving in /neurospin/unicog/protocols/IRMf/LePetitPrince_Pallier_2018/LePetitPrince/data/stimuli-representations/english/gpt2_control_24_layer-2.\n"
     ]
    },
    {
     "name": "stderr",
     "output_type": "stream",
     "text": [
      "\r",
      "5it [01:35, 16.76s/it]"
     ]
    },
    {
     "name": "stdout",
     "output_type": "stream",
     "text": [
      "############# Run 5 #############\n",
      "\tSaving in /neurospin/unicog/protocols/IRMf/LePetitPrince_Pallier_2018/LePetitPrince/data/stimuli-representations/english/gpt2_control_24_layer-2.\n"
     ]
    },
    {
     "name": "stderr",
     "output_type": "stream",
     "text": [
      "\r",
      "6it [01:49, 15.82s/it]"
     ]
    },
    {
     "name": "stdout",
     "output_type": "stream",
     "text": [
      "############# Run 6 #############\n",
      "\tSaving in /neurospin/unicog/protocols/IRMf/LePetitPrince_Pallier_2018/LePetitPrince/data/stimuli-representations/english/gpt2_control_24_layer-2.\n"
     ]
    },
    {
     "name": "stderr",
     "output_type": "stream",
     "text": [
      "\r",
      "7it [02:02, 15.08s/it]"
     ]
    },
    {
     "name": "stdout",
     "output_type": "stream",
     "text": [
      "############# Run 7 #############\n",
      "\tSaving in /neurospin/unicog/protocols/IRMf/LePetitPrince_Pallier_2018/LePetitPrince/data/stimuli-representations/english/gpt2_control_24_layer-2.\n"
     ]
    },
    {
     "name": "stderr",
     "output_type": "stream",
     "text": [
      "\r",
      "8it [02:12, 13.61s/it]"
     ]
    },
    {
     "name": "stdout",
     "output_type": "stream",
     "text": [
      "############# Run 8 #############\n",
      "\tSaving in /neurospin/unicog/protocols/IRMf/LePetitPrince_Pallier_2018/LePetitPrince/data/stimuli-representations/english/gpt2_control_24_layer-2.\n"
     ]
    },
    {
     "name": "stderr",
     "output_type": "stream",
     "text": [
      "9it [02:27, 16.43s/it]\n",
      "0it [00:00, ?it/s]"
     ]
    },
    {
     "name": "stdout",
     "output_type": "stream",
     "text": [
      "gpt2_control_24  - Extracting activations for layer 3...\n",
      "############# Run 0 #############\n",
      "\tSaving in /neurospin/unicog/protocols/IRMf/LePetitPrince_Pallier_2018/LePetitPrince/data/stimuli-representations/english/gpt2_control_24_layer-3.\n"
     ]
    },
    {
     "name": "stderr",
     "output_type": "stream",
     "text": [
      "\r",
      "1it [00:10, 10.58s/it]"
     ]
    },
    {
     "name": "stdout",
     "output_type": "stream",
     "text": [
      "############# Run 1 #############\n",
      "\tSaving in /neurospin/unicog/protocols/IRMf/LePetitPrince_Pallier_2018/LePetitPrince/data/stimuli-representations/english/gpt2_control_24_layer-3.\n"
     ]
    },
    {
     "name": "stderr",
     "output_type": "stream",
     "text": [
      "\r",
      "2it [00:21, 10.58s/it]"
     ]
    },
    {
     "name": "stdout",
     "output_type": "stream",
     "text": [
      "############# Run 2 #############\n",
      "\tSaving in /neurospin/unicog/protocols/IRMf/LePetitPrince_Pallier_2018/LePetitPrince/data/stimuli-representations/english/gpt2_control_24_layer-3.\n"
     ]
    },
    {
     "name": "stderr",
     "output_type": "stream",
     "text": [
      "\r",
      "3it [00:34, 11.32s/it]"
     ]
    },
    {
     "name": "stdout",
     "output_type": "stream",
     "text": [
      "############# Run 3 #############\n",
      "\tSaving in /neurospin/unicog/protocols/IRMf/LePetitPrince_Pallier_2018/LePetitPrince/data/stimuli-representations/english/gpt2_control_24_layer-3.\n"
     ]
    },
    {
     "name": "stderr",
     "output_type": "stream",
     "text": [
      "\r",
      "4it [00:46, 11.65s/it]"
     ]
    },
    {
     "name": "stdout",
     "output_type": "stream",
     "text": [
      "############# Run 4 #############\n",
      "\tSaving in /neurospin/unicog/protocols/IRMf/LePetitPrince_Pallier_2018/LePetitPrince/data/stimuli-representations/english/gpt2_control_24_layer-3.\n"
     ]
    },
    {
     "name": "stderr",
     "output_type": "stream",
     "text": [
      "\r",
      "5it [00:58, 11.70s/it]"
     ]
    },
    {
     "name": "stdout",
     "output_type": "stream",
     "text": [
      "############# Run 5 #############\n",
      "\tSaving in /neurospin/unicog/protocols/IRMf/LePetitPrince_Pallier_2018/LePetitPrince/data/stimuli-representations/english/gpt2_control_24_layer-3.\n"
     ]
    },
    {
     "name": "stderr",
     "output_type": "stream",
     "text": [
      "\r",
      "6it [01:13, 12.60s/it]"
     ]
    },
    {
     "name": "stdout",
     "output_type": "stream",
     "text": [
      "############# Run 6 #############\n",
      "\tSaving in /neurospin/unicog/protocols/IRMf/LePetitPrince_Pallier_2018/LePetitPrince/data/stimuli-representations/english/gpt2_control_24_layer-3.\n"
     ]
    },
    {
     "name": "stderr",
     "output_type": "stream",
     "text": [
      "\r",
      "7it [01:26, 12.79s/it]"
     ]
    },
    {
     "name": "stdout",
     "output_type": "stream",
     "text": [
      "############# Run 7 #############\n",
      "\tSaving in /neurospin/unicog/protocols/IRMf/LePetitPrince_Pallier_2018/LePetitPrince/data/stimuli-representations/english/gpt2_control_24_layer-3.\n"
     ]
    },
    {
     "name": "stderr",
     "output_type": "stream",
     "text": [
      "\r",
      "8it [01:37, 12.16s/it]"
     ]
    },
    {
     "name": "stdout",
     "output_type": "stream",
     "text": [
      "############# Run 8 #############\n",
      "\tSaving in /neurospin/unicog/protocols/IRMf/LePetitPrince_Pallier_2018/LePetitPrince/data/stimuli-representations/english/gpt2_control_24_layer-3.\n"
     ]
    },
    {
     "name": "stderr",
     "output_type": "stream",
     "text": [
      "9it [01:51, 12.35s/it]\n",
      "0it [00:00, ?it/s]"
     ]
    },
    {
     "name": "stdout",
     "output_type": "stream",
     "text": [
      "gpt2_control_24  - Extracting activations for layer 4...\n",
      "############# Run 0 #############\n",
      "\tSaving in /neurospin/unicog/protocols/IRMf/LePetitPrince_Pallier_2018/LePetitPrince/data/stimuli-representations/english/gpt2_control_24_layer-4.\n"
     ]
    },
    {
     "name": "stderr",
     "output_type": "stream",
     "text": [
      "\r",
      "1it [00:10, 10.63s/it]"
     ]
    },
    {
     "name": "stdout",
     "output_type": "stream",
     "text": [
      "############# Run 1 #############\n",
      "\tSaving in /neurospin/unicog/protocols/IRMf/LePetitPrince_Pallier_2018/LePetitPrince/data/stimuli-representations/english/gpt2_control_24_layer-4.\n"
     ]
    },
    {
     "name": "stderr",
     "output_type": "stream",
     "text": [
      "\r",
      "2it [00:21, 10.79s/it]"
     ]
    },
    {
     "name": "stdout",
     "output_type": "stream",
     "text": [
      "############# Run 2 #############\n",
      "\tSaving in /neurospin/unicog/protocols/IRMf/LePetitPrince_Pallier_2018/LePetitPrince/data/stimuli-representations/english/gpt2_control_24_layer-4.\n"
     ]
    },
    {
     "name": "stderr",
     "output_type": "stream",
     "text": [
      "\r",
      "3it [00:34, 11.28s/it]"
     ]
    },
    {
     "name": "stdout",
     "output_type": "stream",
     "text": [
      "############# Run 3 #############\n",
      "\tSaving in /neurospin/unicog/protocols/IRMf/LePetitPrince_Pallier_2018/LePetitPrince/data/stimuli-representations/english/gpt2_control_24_layer-4.\n"
     ]
    },
    {
     "name": "stderr",
     "output_type": "stream",
     "text": [
      "\r",
      "4it [00:47, 11.94s/it]"
     ]
    },
    {
     "name": "stdout",
     "output_type": "stream",
     "text": [
      "############# Run 4 #############\n",
      "\tSaving in /neurospin/unicog/protocols/IRMf/LePetitPrince_Pallier_2018/LePetitPrince/data/stimuli-representations/english/gpt2_control_24_layer-4.\n"
     ]
    },
    {
     "name": "stderr",
     "output_type": "stream",
     "text": [
      "\r",
      "5it [01:29, 20.83s/it]"
     ]
    },
    {
     "name": "stdout",
     "output_type": "stream",
     "text": [
      "############# Run 5 #############\n",
      "\tSaving in /neurospin/unicog/protocols/IRMf/LePetitPrince_Pallier_2018/LePetitPrince/data/stimuli-representations/english/gpt2_control_24_layer-4.\n"
     ]
    },
    {
     "name": "stderr",
     "output_type": "stream",
     "text": [
      "\r",
      "6it [01:50, 20.93s/it]"
     ]
    },
    {
     "name": "stdout",
     "output_type": "stream",
     "text": [
      "############# Run 6 #############\n",
      "\tSaving in /neurospin/unicog/protocols/IRMf/LePetitPrince_Pallier_2018/LePetitPrince/data/stimuli-representations/english/gpt2_control_24_layer-4.\n"
     ]
    },
    {
     "name": "stderr",
     "output_type": "stream",
     "text": [
      "\r",
      "7it [02:03, 18.62s/it]"
     ]
    },
    {
     "name": "stdout",
     "output_type": "stream",
     "text": [
      "############# Run 7 #############\n",
      "\tSaving in /neurospin/unicog/protocols/IRMf/LePetitPrince_Pallier_2018/LePetitPrince/data/stimuli-representations/english/gpt2_control_24_layer-4.\n"
     ]
    },
    {
     "name": "stderr",
     "output_type": "stream",
     "text": [
      "\r",
      "8it [02:14, 16.38s/it]"
     ]
    },
    {
     "name": "stdout",
     "output_type": "stream",
     "text": [
      "############# Run 8 #############\n",
      "\tSaving in /neurospin/unicog/protocols/IRMf/LePetitPrince_Pallier_2018/LePetitPrince/data/stimuli-representations/english/gpt2_control_24_layer-4.\n"
     ]
    },
    {
     "name": "stderr",
     "output_type": "stream",
     "text": [
      "9it [02:29, 16.60s/it]\n",
      "0it [00:00, ?it/s]"
     ]
    },
    {
     "name": "stdout",
     "output_type": "stream",
     "text": [
      "gpt2_control_24  - Extracting activations for layer 5...\n",
      "############# Run 0 #############\n",
      "\tSaving in /neurospin/unicog/protocols/IRMf/LePetitPrince_Pallier_2018/LePetitPrince/data/stimuli-representations/english/gpt2_control_24_layer-5.\n"
     ]
    },
    {
     "name": "stderr",
     "output_type": "stream",
     "text": [
      "\r",
      "1it [00:10, 10.40s/it]"
     ]
    },
    {
     "name": "stdout",
     "output_type": "stream",
     "text": [
      "############# Run 1 #############\n",
      "\tSaving in /neurospin/unicog/protocols/IRMf/LePetitPrince_Pallier_2018/LePetitPrince/data/stimuli-representations/english/gpt2_control_24_layer-5.\n"
     ]
    },
    {
     "name": "stderr",
     "output_type": "stream",
     "text": [
      "\r",
      "2it [00:21, 10.62s/it]"
     ]
    },
    {
     "name": "stdout",
     "output_type": "stream",
     "text": [
      "############# Run 2 #############\n",
      "\tSaving in /neurospin/unicog/protocols/IRMf/LePetitPrince_Pallier_2018/LePetitPrince/data/stimuli-representations/english/gpt2_control_24_layer-5.\n"
     ]
    },
    {
     "name": "stderr",
     "output_type": "stream",
     "text": [
      "\r",
      "3it [00:34, 11.30s/it]"
     ]
    },
    {
     "name": "stdout",
     "output_type": "stream",
     "text": [
      "############# Run 3 #############\n",
      "\tSaving in /neurospin/unicog/protocols/IRMf/LePetitPrince_Pallier_2018/LePetitPrince/data/stimuli-representations/english/gpt2_control_24_layer-5.\n"
     ]
    },
    {
     "name": "stderr",
     "output_type": "stream",
     "text": [
      "\r",
      "4it [00:46, 11.62s/it]"
     ]
    },
    {
     "name": "stdout",
     "output_type": "stream",
     "text": [
      "############# Run 4 #############\n",
      "\tSaving in /neurospin/unicog/protocols/IRMf/LePetitPrince_Pallier_2018/LePetitPrince/data/stimuli-representations/english/gpt2_control_24_layer-5.\n"
     ]
    },
    {
     "name": "stderr",
     "output_type": "stream",
     "text": [
      "\r",
      "5it [00:58, 11.67s/it]"
     ]
    },
    {
     "name": "stdout",
     "output_type": "stream",
     "text": [
      "############# Run 5 #############\n",
      "\tSaving in /neurospin/unicog/protocols/IRMf/LePetitPrince_Pallier_2018/LePetitPrince/data/stimuli-representations/english/gpt2_control_24_layer-5.\n"
     ]
    },
    {
     "name": "stderr",
     "output_type": "stream",
     "text": [
      "\r",
      "6it [01:13, 12.70s/it]"
     ]
    },
    {
     "name": "stdout",
     "output_type": "stream",
     "text": [
      "############# Run 6 #############\n",
      "\tSaving in /neurospin/unicog/protocols/IRMf/LePetitPrince_Pallier_2018/LePetitPrince/data/stimuli-representations/english/gpt2_control_24_layer-5.\n"
     ]
    },
    {
     "name": "stderr",
     "output_type": "stream",
     "text": [
      "\r",
      "7it [01:27, 12.93s/it]"
     ]
    },
    {
     "name": "stdout",
     "output_type": "stream",
     "text": [
      "############# Run 7 #############\n",
      "\tSaving in /neurospin/unicog/protocols/IRMf/LePetitPrince_Pallier_2018/LePetitPrince/data/stimuli-representations/english/gpt2_control_24_layer-5.\n"
     ]
    },
    {
     "name": "stderr",
     "output_type": "stream",
     "text": [
      "\r",
      "8it [01:37, 12.25s/it]"
     ]
    },
    {
     "name": "stdout",
     "output_type": "stream",
     "text": [
      "############# Run 8 #############\n",
      "\tSaving in /neurospin/unicog/protocols/IRMf/LePetitPrince_Pallier_2018/LePetitPrince/data/stimuli-representations/english/gpt2_control_24_layer-5.\n"
     ]
    },
    {
     "name": "stderr",
     "output_type": "stream",
     "text": [
      "9it [01:51, 12.40s/it]\n",
      "0it [00:00, ?it/s]"
     ]
    },
    {
     "name": "stdout",
     "output_type": "stream",
     "text": [
      "gpt2_control_24  - Extracting activations for layer 6...\n",
      "############# Run 0 #############\n",
      "\tSaving in /neurospin/unicog/protocols/IRMf/LePetitPrince_Pallier_2018/LePetitPrince/data/stimuli-representations/english/gpt2_control_24_layer-6.\n"
     ]
    },
    {
     "name": "stderr",
     "output_type": "stream",
     "text": [
      "\r",
      "1it [00:09,  9.81s/it]"
     ]
    },
    {
     "name": "stdout",
     "output_type": "stream",
     "text": [
      "############# Run 1 #############\n",
      "\tSaving in /neurospin/unicog/protocols/IRMf/LePetitPrince_Pallier_2018/LePetitPrince/data/stimuli-representations/english/gpt2_control_24_layer-6.\n"
     ]
    },
    {
     "name": "stderr",
     "output_type": "stream",
     "text": [
      "\r",
      "2it [00:20,  9.93s/it]"
     ]
    },
    {
     "name": "stdout",
     "output_type": "stream",
     "text": [
      "############# Run 2 #############\n",
      "\tSaving in /neurospin/unicog/protocols/IRMf/LePetitPrince_Pallier_2018/LePetitPrince/data/stimuli-representations/english/gpt2_control_24_layer-6.\n"
     ]
    },
    {
     "name": "stderr",
     "output_type": "stream",
     "text": [
      "\r",
      "3it [00:33, 10.92s/it]"
     ]
    },
    {
     "name": "stdout",
     "output_type": "stream",
     "text": [
      "############# Run 3 #############\n",
      "\tSaving in /neurospin/unicog/protocols/IRMf/LePetitPrince_Pallier_2018/LePetitPrince/data/stimuli-representations/english/gpt2_control_24_layer-6.\n"
     ]
    },
    {
     "name": "stderr",
     "output_type": "stream",
     "text": [
      "\r",
      "4it [00:45, 11.35s/it]"
     ]
    },
    {
     "name": "stdout",
     "output_type": "stream",
     "text": [
      "############# Run 4 #############\n",
      "\tSaving in /neurospin/unicog/protocols/IRMf/LePetitPrince_Pallier_2018/LePetitPrince/data/stimuli-representations/english/gpt2_control_24_layer-6.\n"
     ]
    },
    {
     "name": "stderr",
     "output_type": "stream",
     "text": [
      "\r",
      "5it [00:57, 11.37s/it]"
     ]
    },
    {
     "name": "stdout",
     "output_type": "stream",
     "text": [
      "############# Run 5 #############\n",
      "\tSaving in /neurospin/unicog/protocols/IRMf/LePetitPrince_Pallier_2018/LePetitPrince/data/stimuli-representations/english/gpt2_control_24_layer-6.\n"
     ]
    },
    {
     "name": "stderr",
     "output_type": "stream",
     "text": [
      "\r",
      "6it [01:10, 12.12s/it]"
     ]
    },
    {
     "name": "stdout",
     "output_type": "stream",
     "text": [
      "############# Run 6 #############\n",
      "\tSaving in /neurospin/unicog/protocols/IRMf/LePetitPrince_Pallier_2018/LePetitPrince/data/stimuli-representations/english/gpt2_control_24_layer-6.\n"
     ]
    },
    {
     "name": "stderr",
     "output_type": "stream",
     "text": [
      "\r",
      "7it [01:44, 18.53s/it]"
     ]
    },
    {
     "name": "stdout",
     "output_type": "stream",
     "text": [
      "############# Run 7 #############\n",
      "\tSaving in /neurospin/unicog/protocols/IRMf/LePetitPrince_Pallier_2018/LePetitPrince/data/stimuli-representations/english/gpt2_control_24_layer-6.\n"
     ]
    },
    {
     "name": "stderr",
     "output_type": "stream",
     "text": [
      "\r",
      "8it [02:12, 21.41s/it]"
     ]
    },
    {
     "name": "stdout",
     "output_type": "stream",
     "text": [
      "############# Run 8 #############\n",
      "\tSaving in /neurospin/unicog/protocols/IRMf/LePetitPrince_Pallier_2018/LePetitPrince/data/stimuli-representations/english/gpt2_control_24_layer-6.\n"
     ]
    },
    {
     "name": "stderr",
     "output_type": "stream",
     "text": [
      "9it [02:27, 16.33s/it]\n",
      "0it [00:00, ?it/s]"
     ]
    },
    {
     "name": "stdout",
     "output_type": "stream",
     "text": [
      "gpt2_control_24  - Extracting activations for layer 7...\n",
      "############# Run 0 #############\n",
      "\tSaving in /neurospin/unicog/protocols/IRMf/LePetitPrince_Pallier_2018/LePetitPrince/data/stimuli-representations/english/gpt2_control_24_layer-7.\n"
     ]
    },
    {
     "name": "stderr",
     "output_type": "stream",
     "text": [
      "\r",
      "1it [00:10, 10.98s/it]"
     ]
    },
    {
     "name": "stdout",
     "output_type": "stream",
     "text": [
      "############# Run 1 #############\n",
      "\tSaving in /neurospin/unicog/protocols/IRMf/LePetitPrince_Pallier_2018/LePetitPrince/data/stimuli-representations/english/gpt2_control_24_layer-7.\n"
     ]
    },
    {
     "name": "stderr",
     "output_type": "stream",
     "text": [
      "\r",
      "2it [00:22, 11.05s/it]"
     ]
    },
    {
     "name": "stdout",
     "output_type": "stream",
     "text": [
      "############# Run 2 #############\n",
      "\tSaving in /neurospin/unicog/protocols/IRMf/LePetitPrince_Pallier_2018/LePetitPrince/data/stimuli-representations/english/gpt2_control_24_layer-7.\n"
     ]
    },
    {
     "name": "stderr",
     "output_type": "stream",
     "text": [
      "\r",
      "3it [00:34, 11.54s/it]"
     ]
    },
    {
     "name": "stdout",
     "output_type": "stream",
     "text": [
      "############# Run 3 #############\n",
      "\tSaving in /neurospin/unicog/protocols/IRMf/LePetitPrince_Pallier_2018/LePetitPrince/data/stimuli-representations/english/gpt2_control_24_layer-7.\n"
     ]
    },
    {
     "name": "stderr",
     "output_type": "stream",
     "text": [
      "\r",
      "4it [00:46, 11.68s/it]"
     ]
    },
    {
     "name": "stdout",
     "output_type": "stream",
     "text": [
      "############# Run 4 #############\n",
      "\tSaving in /neurospin/unicog/protocols/IRMf/LePetitPrince_Pallier_2018/LePetitPrince/data/stimuli-representations/english/gpt2_control_24_layer-7.\n"
     ]
    },
    {
     "name": "stderr",
     "output_type": "stream",
     "text": [
      "\r",
      "5it [00:59, 11.94s/it]"
     ]
    },
    {
     "name": "stdout",
     "output_type": "stream",
     "text": [
      "############# Run 5 #############\n",
      "\tSaving in /neurospin/unicog/protocols/IRMf/LePetitPrince_Pallier_2018/LePetitPrince/data/stimuli-representations/english/gpt2_control_24_layer-7.\n"
     ]
    },
    {
     "name": "stderr",
     "output_type": "stream",
     "text": [
      "\r",
      "6it [01:14, 12.83s/it]"
     ]
    },
    {
     "name": "stdout",
     "output_type": "stream",
     "text": [
      "############# Run 6 #############\n",
      "\tSaving in /neurospin/unicog/protocols/IRMf/LePetitPrince_Pallier_2018/LePetitPrince/data/stimuli-representations/english/gpt2_control_24_layer-7.\n"
     ]
    },
    {
     "name": "stderr",
     "output_type": "stream",
     "text": [
      "\r",
      "7it [01:27, 13.04s/it]"
     ]
    },
    {
     "name": "stdout",
     "output_type": "stream",
     "text": [
      "############# Run 7 #############\n",
      "\tSaving in /neurospin/unicog/protocols/IRMf/LePetitPrince_Pallier_2018/LePetitPrince/data/stimuli-representations/english/gpt2_control_24_layer-7.\n"
     ]
    },
    {
     "name": "stderr",
     "output_type": "stream",
     "text": [
      "\r",
      "8it [01:39, 12.66s/it]"
     ]
    },
    {
     "name": "stdout",
     "output_type": "stream",
     "text": [
      "############# Run 8 #############\n",
      "\tSaving in /neurospin/unicog/protocols/IRMf/LePetitPrince_Pallier_2018/LePetitPrince/data/stimuli-representations/english/gpt2_control_24_layer-7.\n"
     ]
    },
    {
     "name": "stderr",
     "output_type": "stream",
     "text": [
      "9it [01:54, 12.78s/it]\n",
      "0it [00:00, ?it/s]"
     ]
    },
    {
     "name": "stdout",
     "output_type": "stream",
     "text": [
      "gpt2_control_24  - Extracting activations for layer 8...\n",
      "############# Run 0 #############\n",
      "\tSaving in /neurospin/unicog/protocols/IRMf/LePetitPrince_Pallier_2018/LePetitPrince/data/stimuli-representations/english/gpt2_control_24_layer-8.\n"
     ]
    },
    {
     "name": "stderr",
     "output_type": "stream",
     "text": [
      "\r",
      "1it [00:11, 11.10s/it]"
     ]
    },
    {
     "name": "stdout",
     "output_type": "stream",
     "text": [
      "############# Run 1 #############\n",
      "\tSaving in /neurospin/unicog/protocols/IRMf/LePetitPrince_Pallier_2018/LePetitPrince/data/stimuli-representations/english/gpt2_control_24_layer-8.\n"
     ]
    },
    {
     "name": "stderr",
     "output_type": "stream",
     "text": [
      "\r",
      "2it [00:21, 11.01s/it]"
     ]
    },
    {
     "name": "stdout",
     "output_type": "stream",
     "text": [
      "############# Run 2 #############\n",
      "\tSaving in /neurospin/unicog/protocols/IRMf/LePetitPrince_Pallier_2018/LePetitPrince/data/stimuli-representations/english/gpt2_control_24_layer-8.\n"
     ]
    },
    {
     "name": "stderr",
     "output_type": "stream",
     "text": [
      "\r",
      "3it [00:34, 11.39s/it]"
     ]
    },
    {
     "name": "stdout",
     "output_type": "stream",
     "text": [
      "############# Run 3 #############\n",
      "\tSaving in /neurospin/unicog/protocols/IRMf/LePetitPrince_Pallier_2018/LePetitPrince/data/stimuli-representations/english/gpt2_control_24_layer-8.\n"
     ]
    },
    {
     "name": "stderr",
     "output_type": "stream",
     "text": [
      "\r",
      "4it [00:46, 11.61s/it]"
     ]
    },
    {
     "name": "stdout",
     "output_type": "stream",
     "text": [
      "############# Run 4 #############\n",
      "\tSaving in /neurospin/unicog/protocols/IRMf/LePetitPrince_Pallier_2018/LePetitPrince/data/stimuli-representations/english/gpt2_control_24_layer-8.\n"
     ]
    },
    {
     "name": "stderr",
     "output_type": "stream",
     "text": [
      "\r",
      "5it [00:57, 11.61s/it]"
     ]
    },
    {
     "name": "stdout",
     "output_type": "stream",
     "text": [
      "############# Run 5 #############\n",
      "\tSaving in /neurospin/unicog/protocols/IRMf/LePetitPrince_Pallier_2018/LePetitPrince/data/stimuli-representations/english/gpt2_control_24_layer-8.\n"
     ]
    },
    {
     "name": "stderr",
     "output_type": "stream",
     "text": [
      "\r",
      "6it [01:12, 12.61s/it]"
     ]
    },
    {
     "name": "stdout",
     "output_type": "stream",
     "text": [
      "############# Run 6 #############\n",
      "\tSaving in /neurospin/unicog/protocols/IRMf/LePetitPrince_Pallier_2018/LePetitPrince/data/stimuli-representations/english/gpt2_control_24_layer-8.\n"
     ]
    },
    {
     "name": "stderr",
     "output_type": "stream",
     "text": [
      "\r",
      "7it [01:27, 13.27s/it]"
     ]
    },
    {
     "name": "stdout",
     "output_type": "stream",
     "text": [
      "############# Run 7 #############\n",
      "\tSaving in /neurospin/unicog/protocols/IRMf/LePetitPrince_Pallier_2018/LePetitPrince/data/stimuli-representations/english/gpt2_control_24_layer-8.\n"
     ]
    },
    {
     "name": "stderr",
     "output_type": "stream",
     "text": [
      "\r",
      "8it [01:38, 12.53s/it]"
     ]
    },
    {
     "name": "stdout",
     "output_type": "stream",
     "text": [
      "############# Run 8 #############\n",
      "\tSaving in /neurospin/unicog/protocols/IRMf/LePetitPrince_Pallier_2018/LePetitPrince/data/stimuli-representations/english/gpt2_control_24_layer-8.\n"
     ]
    },
    {
     "name": "stderr",
     "output_type": "stream",
     "text": [
      "9it [02:14, 14.94s/it]\n",
      "0it [00:00, ?it/s]"
     ]
    },
    {
     "name": "stdout",
     "output_type": "stream",
     "text": [
      "gpt2_control_24  - Extracting activations for layer 9...\n",
      "############# Run 0 #############\n",
      "\tSaving in /neurospin/unicog/protocols/IRMf/LePetitPrince_Pallier_2018/LePetitPrince/data/stimuli-representations/english/gpt2_control_24_layer-9.\n"
     ]
    },
    {
     "name": "stderr",
     "output_type": "stream",
     "text": [
      "\r",
      "1it [00:21, 21.39s/it]"
     ]
    },
    {
     "name": "stdout",
     "output_type": "stream",
     "text": [
      "############# Run 1 #############\n",
      "\tSaving in /neurospin/unicog/protocols/IRMf/LePetitPrince_Pallier_2018/LePetitPrince/data/stimuli-representations/english/gpt2_control_24_layer-9.\n"
     ]
    },
    {
     "name": "stderr",
     "output_type": "stream",
     "text": [
      "\r",
      "2it [00:31, 17.91s/it]"
     ]
    },
    {
     "name": "stdout",
     "output_type": "stream",
     "text": [
      "############# Run 2 #############\n",
      "\tSaving in /neurospin/unicog/protocols/IRMf/LePetitPrince_Pallier_2018/LePetitPrince/data/stimuli-representations/english/gpt2_control_24_layer-9.\n"
     ]
    },
    {
     "name": "stderr",
     "output_type": "stream",
     "text": [
      "\r",
      "3it [00:44, 16.39s/it]"
     ]
    },
    {
     "name": "stdout",
     "output_type": "stream",
     "text": [
      "############# Run 3 #############\n",
      "\tSaving in /neurospin/unicog/protocols/IRMf/LePetitPrince_Pallier_2018/LePetitPrince/data/stimuli-representations/english/gpt2_control_24_layer-9.\n"
     ]
    },
    {
     "name": "stderr",
     "output_type": "stream",
     "text": [
      "\r",
      "4it [00:56, 15.10s/it]"
     ]
    },
    {
     "name": "stdout",
     "output_type": "stream",
     "text": [
      "############# Run 4 #############\n",
      "\tSaving in /neurospin/unicog/protocols/IRMf/LePetitPrince_Pallier_2018/LePetitPrince/data/stimuli-representations/english/gpt2_control_24_layer-9.\n"
     ]
    },
    {
     "name": "stderr",
     "output_type": "stream",
     "text": [
      "\r",
      "5it [01:07, 13.96s/it]"
     ]
    },
    {
     "name": "stdout",
     "output_type": "stream",
     "text": [
      "############# Run 5 #############\n",
      "\tSaving in /neurospin/unicog/protocols/IRMf/LePetitPrince_Pallier_2018/LePetitPrince/data/stimuli-representations/english/gpt2_control_24_layer-9.\n"
     ]
    },
    {
     "name": "stderr",
     "output_type": "stream",
     "text": [
      "\r",
      "6it [01:21, 13.99s/it]"
     ]
    },
    {
     "name": "stdout",
     "output_type": "stream",
     "text": [
      "############# Run 6 #############\n",
      "\tSaving in /neurospin/unicog/protocols/IRMf/LePetitPrince_Pallier_2018/LePetitPrince/data/stimuli-representations/english/gpt2_control_24_layer-9.\n"
     ]
    },
    {
     "name": "stderr",
     "output_type": "stream",
     "text": [
      "\r",
      "7it [01:34, 13.57s/it]"
     ]
    },
    {
     "name": "stdout",
     "output_type": "stream",
     "text": [
      "############# Run 7 #############\n",
      "\tSaving in /neurospin/unicog/protocols/IRMf/LePetitPrince_Pallier_2018/LePetitPrince/data/stimuli-representations/english/gpt2_control_24_layer-9.\n"
     ]
    },
    {
     "name": "stderr",
     "output_type": "stream",
     "text": [
      "\r",
      "8it [01:45, 12.79s/it]"
     ]
    },
    {
     "name": "stdout",
     "output_type": "stream",
     "text": [
      "############# Run 8 #############\n",
      "\tSaving in /neurospin/unicog/protocols/IRMf/LePetitPrince_Pallier_2018/LePetitPrince/data/stimuli-representations/english/gpt2_control_24_layer-9.\n"
     ]
    },
    {
     "name": "stderr",
     "output_type": "stream",
     "text": [
      "9it [01:59, 13.26s/it]\n",
      "0it [00:00, ?it/s]"
     ]
    },
    {
     "name": "stdout",
     "output_type": "stream",
     "text": [
      "gpt2_control_24  - Extracting activations for layer 10...\n",
      "############# Run 0 #############\n",
      "\tSaving in /neurospin/unicog/protocols/IRMf/LePetitPrince_Pallier_2018/LePetitPrince/data/stimuli-representations/english/gpt2_control_24_layer-10.\n"
     ]
    },
    {
     "name": "stderr",
     "output_type": "stream",
     "text": [
      "\r",
      "1it [00:09,  9.55s/it]"
     ]
    },
    {
     "name": "stdout",
     "output_type": "stream",
     "text": [
      "############# Run 1 #############\n",
      "\tSaving in /neurospin/unicog/protocols/IRMf/LePetitPrince_Pallier_2018/LePetitPrince/data/stimuli-representations/english/gpt2_control_24_layer-10.\n"
     ]
    },
    {
     "name": "stderr",
     "output_type": "stream",
     "text": [
      "\r",
      "2it [00:19,  9.76s/it]"
     ]
    },
    {
     "name": "stdout",
     "output_type": "stream",
     "text": [
      "############# Run 2 #############\n",
      "\tSaving in /neurospin/unicog/protocols/IRMf/LePetitPrince_Pallier_2018/LePetitPrince/data/stimuli-representations/english/gpt2_control_24_layer-10.\n"
     ]
    },
    {
     "name": "stderr",
     "output_type": "stream",
     "text": [
      "\r",
      "3it [00:33, 10.81s/it]"
     ]
    },
    {
     "name": "stdout",
     "output_type": "stream",
     "text": [
      "############# Run 3 #############\n",
      "\tSaving in /neurospin/unicog/protocols/IRMf/LePetitPrince_Pallier_2018/LePetitPrince/data/stimuli-representations/english/gpt2_control_24_layer-10.\n"
     ]
    },
    {
     "name": "stderr",
     "output_type": "stream",
     "text": [
      "\r",
      "4it [00:45, 11.32s/it]"
     ]
    },
    {
     "name": "stdout",
     "output_type": "stream",
     "text": [
      "############# Run 4 #############\n",
      "\tSaving in /neurospin/unicog/protocols/IRMf/LePetitPrince_Pallier_2018/LePetitPrince/data/stimuli-representations/english/gpt2_control_24_layer-10.\n"
     ]
    },
    {
     "name": "stderr",
     "output_type": "stream",
     "text": [
      "\r",
      "5it [00:57, 11.58s/it]"
     ]
    },
    {
     "name": "stdout",
     "output_type": "stream",
     "text": [
      "############# Run 5 #############\n",
      "\tSaving in /neurospin/unicog/protocols/IRMf/LePetitPrince_Pallier_2018/LePetitPrince/data/stimuli-representations/english/gpt2_control_24_layer-10.\n"
     ]
    },
    {
     "name": "stderr",
     "output_type": "stream",
     "text": [
      "\r",
      "6it [01:11, 12.32s/it]"
     ]
    },
    {
     "name": "stdout",
     "output_type": "stream",
     "text": [
      "############# Run 6 #############\n",
      "\tSaving in /neurospin/unicog/protocols/IRMf/LePetitPrince_Pallier_2018/LePetitPrince/data/stimuli-representations/english/gpt2_control_24_layer-10.\n"
     ]
    },
    {
     "name": "stderr",
     "output_type": "stream",
     "text": [
      "\r",
      "7it [01:24, 12.42s/it]"
     ]
    },
    {
     "name": "stdout",
     "output_type": "stream",
     "text": [
      "############# Run 7 #############\n",
      "\tSaving in /neurospin/unicog/protocols/IRMf/LePetitPrince_Pallier_2018/LePetitPrince/data/stimuli-representations/english/gpt2_control_24_layer-10.\n"
     ]
    },
    {
     "name": "stderr",
     "output_type": "stream",
     "text": [
      "\r",
      "8it [01:35, 11.88s/it]"
     ]
    },
    {
     "name": "stdout",
     "output_type": "stream",
     "text": [
      "############# Run 8 #############\n",
      "\tSaving in /neurospin/unicog/protocols/IRMf/LePetitPrince_Pallier_2018/LePetitPrince/data/stimuli-representations/english/gpt2_control_24_layer-10.\n"
     ]
    },
    {
     "name": "stderr",
     "output_type": "stream",
     "text": [
      "9it [01:49, 12.12s/it]\n",
      "0it [00:00, ?it/s]"
     ]
    },
    {
     "name": "stdout",
     "output_type": "stream",
     "text": [
      "gpt2_control_24  - Extracting activations for layer 11...\n",
      "############# Run 0 #############\n",
      "\tSaving in /neurospin/unicog/protocols/IRMf/LePetitPrince_Pallier_2018/LePetitPrince/data/stimuli-representations/english/gpt2_control_24_layer-11.\n"
     ]
    },
    {
     "name": "stderr",
     "output_type": "stream",
     "text": [
      "\r",
      "1it [00:09,  9.89s/it]"
     ]
    },
    {
     "name": "stdout",
     "output_type": "stream",
     "text": [
      "############# Run 1 #############\n",
      "\tSaving in /neurospin/unicog/protocols/IRMf/LePetitPrince_Pallier_2018/LePetitPrince/data/stimuli-representations/english/gpt2_control_24_layer-11.\n"
     ]
    },
    {
     "name": "stderr",
     "output_type": "stream",
     "text": [
      "\r",
      "2it [00:20, 10.13s/it]"
     ]
    },
    {
     "name": "stdout",
     "output_type": "stream",
     "text": [
      "############# Run 2 #############\n",
      "\tSaving in /neurospin/unicog/protocols/IRMf/LePetitPrince_Pallier_2018/LePetitPrince/data/stimuli-representations/english/gpt2_control_24_layer-11.\n"
     ]
    },
    {
     "name": "stderr",
     "output_type": "stream",
     "text": [
      "\r",
      "3it [00:49, 15.89s/it]"
     ]
    },
    {
     "name": "stdout",
     "output_type": "stream",
     "text": [
      "############# Run 3 #############\n",
      "\tSaving in /neurospin/unicog/protocols/IRMf/LePetitPrince_Pallier_2018/LePetitPrince/data/stimuli-representations/english/gpt2_control_24_layer-11.\n"
     ]
    },
    {
     "name": "stderr",
     "output_type": "stream",
     "text": [
      "\r",
      "4it [01:27, 22.38s/it]"
     ]
    },
    {
     "name": "stdout",
     "output_type": "stream",
     "text": [
      "############# Run 4 #############\n",
      "\tSaving in /neurospin/unicog/protocols/IRMf/LePetitPrince_Pallier_2018/LePetitPrince/data/stimuli-representations/english/gpt2_control_24_layer-11.\n"
     ]
    },
    {
     "name": "stderr",
     "output_type": "stream",
     "text": [
      "\r",
      "5it [01:39, 19.24s/it]"
     ]
    },
    {
     "name": "stdout",
     "output_type": "stream",
     "text": [
      "############# Run 5 #############\n",
      "\tSaving in /neurospin/unicog/protocols/IRMf/LePetitPrince_Pallier_2018/LePetitPrince/data/stimuli-representations/english/gpt2_control_24_layer-11.\n"
     ]
    },
    {
     "name": "stderr",
     "output_type": "stream",
     "text": [
      "\r",
      "6it [01:53, 17.85s/it]"
     ]
    },
    {
     "name": "stdout",
     "output_type": "stream",
     "text": [
      "############# Run 6 #############\n",
      "\tSaving in /neurospin/unicog/protocols/IRMf/LePetitPrince_Pallier_2018/LePetitPrince/data/stimuli-representations/english/gpt2_control_24_layer-11.\n"
     ]
    },
    {
     "name": "stderr",
     "output_type": "stream",
     "text": [
      "\r",
      "7it [02:06, 16.31s/it]"
     ]
    },
    {
     "name": "stdout",
     "output_type": "stream",
     "text": [
      "############# Run 7 #############\n",
      "\tSaving in /neurospin/unicog/protocols/IRMf/LePetitPrince_Pallier_2018/LePetitPrince/data/stimuli-representations/english/gpt2_control_24_layer-11.\n"
     ]
    },
    {
     "name": "stderr",
     "output_type": "stream",
     "text": [
      "\r",
      "8it [02:17, 14.54s/it]"
     ]
    },
    {
     "name": "stdout",
     "output_type": "stream",
     "text": [
      "############# Run 8 #############\n",
      "\tSaving in /neurospin/unicog/protocols/IRMf/LePetitPrince_Pallier_2018/LePetitPrince/data/stimuli-representations/english/gpt2_control_24_layer-11.\n"
     ]
    },
    {
     "name": "stderr",
     "output_type": "stream",
     "text": [
      "9it [02:31, 16.84s/it]\n",
      "0it [00:00, ?it/s]"
     ]
    },
    {
     "name": "stdout",
     "output_type": "stream",
     "text": [
      "gpt2_control_24  - Extracting activations for layer 12...\n",
      "############# Run 0 #############\n",
      "\tSaving in /neurospin/unicog/protocols/IRMf/LePetitPrince_Pallier_2018/LePetitPrince/data/stimuli-representations/english/gpt2_control_24_layer-12.\n"
     ]
    },
    {
     "name": "stderr",
     "output_type": "stream",
     "text": [
      "\r",
      "1it [00:09,  9.54s/it]"
     ]
    },
    {
     "name": "stdout",
     "output_type": "stream",
     "text": [
      "############# Run 1 #############\n",
      "\tSaving in /neurospin/unicog/protocols/IRMf/LePetitPrince_Pallier_2018/LePetitPrince/data/stimuli-representations/english/gpt2_control_24_layer-12.\n"
     ]
    },
    {
     "name": "stderr",
     "output_type": "stream",
     "text": [
      "\r",
      "2it [00:19,  9.72s/it]"
     ]
    },
    {
     "name": "stdout",
     "output_type": "stream",
     "text": [
      "############# Run 2 #############\n",
      "\tSaving in /neurospin/unicog/protocols/IRMf/LePetitPrince_Pallier_2018/LePetitPrince/data/stimuli-representations/english/gpt2_control_24_layer-12.\n"
     ]
    },
    {
     "name": "stderr",
     "output_type": "stream",
     "text": [
      "\r",
      "3it [00:32, 10.62s/it]"
     ]
    },
    {
     "name": "stdout",
     "output_type": "stream",
     "text": [
      "############# Run 3 #############\n",
      "\tSaving in /neurospin/unicog/protocols/IRMf/LePetitPrince_Pallier_2018/LePetitPrince/data/stimuli-representations/english/gpt2_control_24_layer-12.\n"
     ]
    },
    {
     "name": "stderr",
     "output_type": "stream",
     "text": [
      "\r",
      "4it [00:44, 10.95s/it]"
     ]
    },
    {
     "name": "stdout",
     "output_type": "stream",
     "text": [
      "############# Run 4 #############\n",
      "\tSaving in /neurospin/unicog/protocols/IRMf/LePetitPrince_Pallier_2018/LePetitPrince/data/stimuli-representations/english/gpt2_control_24_layer-12.\n"
     ]
    },
    {
     "name": "stderr",
     "output_type": "stream",
     "text": [
      "\r",
      "5it [00:56, 11.27s/it]"
     ]
    },
    {
     "name": "stdout",
     "output_type": "stream",
     "text": [
      "############# Run 5 #############\n",
      "\tSaving in /neurospin/unicog/protocols/IRMf/LePetitPrince_Pallier_2018/LePetitPrince/data/stimuli-representations/english/gpt2_control_24_layer-12.\n"
     ]
    },
    {
     "name": "stderr",
     "output_type": "stream",
     "text": [
      "\r",
      "6it [01:10, 12.29s/it]"
     ]
    },
    {
     "name": "stdout",
     "output_type": "stream",
     "text": [
      "############# Run 6 #############\n",
      "\tSaving in /neurospin/unicog/protocols/IRMf/LePetitPrince_Pallier_2018/LePetitPrince/data/stimuli-representations/english/gpt2_control_24_layer-12.\n"
     ]
    },
    {
     "name": "stderr",
     "output_type": "stream",
     "text": [
      "\r",
      "7it [01:23, 12.40s/it]"
     ]
    },
    {
     "name": "stdout",
     "output_type": "stream",
     "text": [
      "############# Run 7 #############\n",
      "\tSaving in /neurospin/unicog/protocols/IRMf/LePetitPrince_Pallier_2018/LePetitPrince/data/stimuli-representations/english/gpt2_control_24_layer-12.\n"
     ]
    },
    {
     "name": "stderr",
     "output_type": "stream",
     "text": [
      "\r",
      "8it [01:33, 11.68s/it]"
     ]
    },
    {
     "name": "stdout",
     "output_type": "stream",
     "text": [
      "############# Run 8 #############\n",
      "\tSaving in /neurospin/unicog/protocols/IRMf/LePetitPrince_Pallier_2018/LePetitPrince/data/stimuli-representations/english/gpt2_control_24_layer-12.\n"
     ]
    },
    {
     "name": "stderr",
     "output_type": "stream",
     "text": [
      "9it [01:47, 11.98s/it]\n",
      "0it [00:00, ?it/s]"
     ]
    },
    {
     "name": "stdout",
     "output_type": "stream",
     "text": [
      "gpt2_control_213  - Extracting activations for layer 0...\n",
      "############# Run 0 #############\n",
      "\tSaving in /neurospin/unicog/protocols/IRMf/LePetitPrince_Pallier_2018/LePetitPrince/data/stimuli-representations/english/gpt2_control_213_layer-0.\n"
     ]
    },
    {
     "name": "stderr",
     "output_type": "stream",
     "text": [
      "\r",
      "1it [00:07,  7.98s/it]"
     ]
    },
    {
     "name": "stdout",
     "output_type": "stream",
     "text": [
      "############# Run 1 #############\n",
      "\tSaving in /neurospin/unicog/protocols/IRMf/LePetitPrince_Pallier_2018/LePetitPrince/data/stimuli-representations/english/gpt2_control_213_layer-0.\n"
     ]
    },
    {
     "name": "stderr",
     "output_type": "stream",
     "text": [
      "\r",
      "2it [00:16,  8.01s/it]"
     ]
    },
    {
     "name": "stdout",
     "output_type": "stream",
     "text": [
      "############# Run 2 #############\n",
      "\tSaving in /neurospin/unicog/protocols/IRMf/LePetitPrince_Pallier_2018/LePetitPrince/data/stimuli-representations/english/gpt2_control_213_layer-0.\n"
     ]
    },
    {
     "name": "stderr",
     "output_type": "stream",
     "text": [
      "\r",
      "3it [00:26,  8.86s/it]"
     ]
    },
    {
     "name": "stdout",
     "output_type": "stream",
     "text": [
      "############# Run 3 #############\n",
      "\tSaving in /neurospin/unicog/protocols/IRMf/LePetitPrince_Pallier_2018/LePetitPrince/data/stimuli-representations/english/gpt2_control_213_layer-0.\n"
     ]
    },
    {
     "name": "stderr",
     "output_type": "stream",
     "text": [
      "\r",
      "4it [00:36,  9.22s/it]"
     ]
    },
    {
     "name": "stdout",
     "output_type": "stream",
     "text": [
      "############# Run 4 #############\n",
      "\tSaving in /neurospin/unicog/protocols/IRMf/LePetitPrince_Pallier_2018/LePetitPrince/data/stimuli-representations/english/gpt2_control_213_layer-0.\n"
     ]
    },
    {
     "name": "stderr",
     "output_type": "stream",
     "text": [
      "\r",
      "5it [00:46,  9.41s/it]"
     ]
    },
    {
     "name": "stdout",
     "output_type": "stream",
     "text": [
      "############# Run 5 #############\n",
      "\tSaving in /neurospin/unicog/protocols/IRMf/LePetitPrince_Pallier_2018/LePetitPrince/data/stimuli-representations/english/gpt2_control_213_layer-0.\n"
     ]
    },
    {
     "name": "stderr",
     "output_type": "stream",
     "text": [
      "\r",
      "6it [01:10, 13.79s/it]"
     ]
    },
    {
     "name": "stdout",
     "output_type": "stream",
     "text": [
      "############# Run 6 #############\n",
      "\tSaving in /neurospin/unicog/protocols/IRMf/LePetitPrince_Pallier_2018/LePetitPrince/data/stimuli-representations/english/gpt2_control_213_layer-0.\n"
     ]
    },
    {
     "name": "stderr",
     "output_type": "stream",
     "text": [
      "\r",
      "7it [01:49, 21.12s/it]"
     ]
    },
    {
     "name": "stdout",
     "output_type": "stream",
     "text": [
      "############# Run 7 #############\n",
      "\tSaving in /neurospin/unicog/protocols/IRMf/LePetitPrince_Pallier_2018/LePetitPrince/data/stimuli-representations/english/gpt2_control_213_layer-0.\n"
     ]
    },
    {
     "name": "stderr",
     "output_type": "stream",
     "text": [
      "\r",
      "8it [01:57, 17.42s/it]"
     ]
    },
    {
     "name": "stdout",
     "output_type": "stream",
     "text": [
      "############# Run 8 #############\n",
      "\tSaving in /neurospin/unicog/protocols/IRMf/LePetitPrince_Pallier_2018/LePetitPrince/data/stimuli-representations/english/gpt2_control_213_layer-0.\n"
     ]
    },
    {
     "name": "stderr",
     "output_type": "stream",
     "text": [
      "9it [02:09, 14.38s/it]\n",
      "0it [00:00, ?it/s]"
     ]
    },
    {
     "name": "stdout",
     "output_type": "stream",
     "text": [
      "gpt2_control_213  - Extracting activations for layer 1...\n",
      "############# Run 0 #############\n",
      "\tSaving in /neurospin/unicog/protocols/IRMf/LePetitPrince_Pallier_2018/LePetitPrince/data/stimuli-representations/english/gpt2_control_213_layer-1.\n"
     ]
    },
    {
     "name": "stderr",
     "output_type": "stream",
     "text": [
      "\r",
      "1it [00:09,  9.55s/it]"
     ]
    },
    {
     "name": "stdout",
     "output_type": "stream",
     "text": [
      "############# Run 1 #############\n",
      "\tSaving in /neurospin/unicog/protocols/IRMf/LePetitPrince_Pallier_2018/LePetitPrince/data/stimuli-representations/english/gpt2_control_213_layer-1.\n"
     ]
    },
    {
     "name": "stderr",
     "output_type": "stream",
     "text": [
      "\r",
      "2it [00:20,  9.92s/it]"
     ]
    },
    {
     "name": "stdout",
     "output_type": "stream",
     "text": [
      "############# Run 2 #############\n",
      "\tSaving in /neurospin/unicog/protocols/IRMf/LePetitPrince_Pallier_2018/LePetitPrince/data/stimuli-representations/english/gpt2_control_213_layer-1.\n"
     ]
    },
    {
     "name": "stderr",
     "output_type": "stream",
     "text": [
      "\r",
      "3it [00:32, 10.51s/it]"
     ]
    },
    {
     "name": "stdout",
     "output_type": "stream",
     "text": [
      "############# Run 3 #############\n",
      "\tSaving in /neurospin/unicog/protocols/IRMf/LePetitPrince_Pallier_2018/LePetitPrince/data/stimuli-representations/english/gpt2_control_213_layer-1.\n"
     ]
    },
    {
     "name": "stderr",
     "output_type": "stream",
     "text": [
      "\r",
      "4it [00:44, 11.00s/it]"
     ]
    },
    {
     "name": "stdout",
     "output_type": "stream",
     "text": [
      "############# Run 4 #############\n",
      "\tSaving in /neurospin/unicog/protocols/IRMf/LePetitPrince_Pallier_2018/LePetitPrince/data/stimuli-representations/english/gpt2_control_213_layer-1.\n"
     ]
    },
    {
     "name": "stderr",
     "output_type": "stream",
     "text": [
      "\r",
      "5it [00:56, 11.30s/it]"
     ]
    },
    {
     "name": "stdout",
     "output_type": "stream",
     "text": [
      "############# Run 5 #############\n",
      "\tSaving in /neurospin/unicog/protocols/IRMf/LePetitPrince_Pallier_2018/LePetitPrince/data/stimuli-representations/english/gpt2_control_213_layer-1.\n"
     ]
    },
    {
     "name": "stderr",
     "output_type": "stream",
     "text": [
      "\r",
      "6it [01:10, 12.06s/it]"
     ]
    },
    {
     "name": "stdout",
     "output_type": "stream",
     "text": [
      "############# Run 6 #############\n",
      "\tSaving in /neurospin/unicog/protocols/IRMf/LePetitPrince_Pallier_2018/LePetitPrince/data/stimuli-representations/english/gpt2_control_213_layer-1.\n"
     ]
    },
    {
     "name": "stderr",
     "output_type": "stream",
     "text": [
      "\r",
      "7it [01:23, 12.32s/it]"
     ]
    },
    {
     "name": "stdout",
     "output_type": "stream",
     "text": [
      "############# Run 7 #############\n",
      "\tSaving in /neurospin/unicog/protocols/IRMf/LePetitPrince_Pallier_2018/LePetitPrince/data/stimuli-representations/english/gpt2_control_213_layer-1.\n"
     ]
    },
    {
     "name": "stderr",
     "output_type": "stream",
     "text": [
      "\r",
      "8it [01:33, 11.86s/it]"
     ]
    },
    {
     "name": "stdout",
     "output_type": "stream",
     "text": [
      "############# Run 8 #############\n",
      "\tSaving in /neurospin/unicog/protocols/IRMf/LePetitPrince_Pallier_2018/LePetitPrince/data/stimuli-representations/english/gpt2_control_213_layer-1.\n"
     ]
    },
    {
     "name": "stderr",
     "output_type": "stream",
     "text": [
      "9it [01:47, 11.93s/it]\n",
      "0it [00:00, ?it/s]"
     ]
    },
    {
     "name": "stdout",
     "output_type": "stream",
     "text": [
      "gpt2_control_213  - Extracting activations for layer 2...\n",
      "############# Run 0 #############\n",
      "\tSaving in /neurospin/unicog/protocols/IRMf/LePetitPrince_Pallier_2018/LePetitPrince/data/stimuli-representations/english/gpt2_control_213_layer-2.\n"
     ]
    },
    {
     "name": "stderr",
     "output_type": "stream",
     "text": [
      "\r",
      "1it [00:09,  9.96s/it]"
     ]
    },
    {
     "name": "stdout",
     "output_type": "stream",
     "text": [
      "############# Run 1 #############\n",
      "\tSaving in /neurospin/unicog/protocols/IRMf/LePetitPrince_Pallier_2018/LePetitPrince/data/stimuli-representations/english/gpt2_control_213_layer-2.\n"
     ]
    },
    {
     "name": "stderr",
     "output_type": "stream",
     "text": [
      "\r",
      "2it [00:20, 10.05s/it]"
     ]
    },
    {
     "name": "stdout",
     "output_type": "stream",
     "text": [
      "############# Run 2 #############\n",
      "\tSaving in /neurospin/unicog/protocols/IRMf/LePetitPrince_Pallier_2018/LePetitPrince/data/stimuli-representations/english/gpt2_control_213_layer-2.\n"
     ]
    },
    {
     "name": "stderr",
     "output_type": "stream",
     "text": [
      "\r",
      "3it [00:32, 10.66s/it]"
     ]
    },
    {
     "name": "stdout",
     "output_type": "stream",
     "text": [
      "############# Run 3 #############\n",
      "\tSaving in /neurospin/unicog/protocols/IRMf/LePetitPrince_Pallier_2018/LePetitPrince/data/stimuli-representations/english/gpt2_control_213_layer-2.\n"
     ]
    },
    {
     "name": "stderr",
     "output_type": "stream",
     "text": [
      "\r",
      "4it [00:44, 11.17s/it]"
     ]
    },
    {
     "name": "stdout",
     "output_type": "stream",
     "text": [
      "############# Run 4 #############\n",
      "\tSaving in /neurospin/unicog/protocols/IRMf/LePetitPrince_Pallier_2018/LePetitPrince/data/stimuli-representations/english/gpt2_control_213_layer-2.\n"
     ]
    },
    {
     "name": "stderr",
     "output_type": "stream",
     "text": [
      "\r",
      "5it [00:56, 11.38s/it]"
     ]
    },
    {
     "name": "stdout",
     "output_type": "stream",
     "text": [
      "############# Run 5 #############\n",
      "\tSaving in /neurospin/unicog/protocols/IRMf/LePetitPrince_Pallier_2018/LePetitPrince/data/stimuli-representations/english/gpt2_control_213_layer-2.\n"
     ]
    },
    {
     "name": "stderr",
     "output_type": "stream",
     "text": [
      "\r",
      "6it [01:10, 12.05s/it]"
     ]
    },
    {
     "name": "stdout",
     "output_type": "stream",
     "text": [
      "############# Run 6 #############\n",
      "\tSaving in /neurospin/unicog/protocols/IRMf/LePetitPrince_Pallier_2018/LePetitPrince/data/stimuli-representations/english/gpt2_control_213_layer-2.\n"
     ]
    },
    {
     "name": "stderr",
     "output_type": "stream",
     "text": [
      "\r",
      "7it [01:22, 12.27s/it]"
     ]
    },
    {
     "name": "stdout",
     "output_type": "stream",
     "text": [
      "############# Run 7 #############\n",
      "\tSaving in /neurospin/unicog/protocols/IRMf/LePetitPrince_Pallier_2018/LePetitPrince/data/stimuli-representations/english/gpt2_control_213_layer-2.\n"
     ]
    },
    {
     "name": "stderr",
     "output_type": "stream",
     "text": [
      "\r",
      "8it [01:33, 11.77s/it]"
     ]
    },
    {
     "name": "stdout",
     "output_type": "stream",
     "text": [
      "############# Run 8 #############\n",
      "\tSaving in /neurospin/unicog/protocols/IRMf/LePetitPrince_Pallier_2018/LePetitPrince/data/stimuli-representations/english/gpt2_control_213_layer-2.\n"
     ]
    },
    {
     "name": "stderr",
     "output_type": "stream",
     "text": [
      "9it [01:47, 11.97s/it]\n",
      "0it [00:00, ?it/s]"
     ]
    },
    {
     "name": "stdout",
     "output_type": "stream",
     "text": [
      "gpt2_control_213  - Extracting activations for layer 3...\n",
      "############# Run 0 #############\n",
      "\tSaving in /neurospin/unicog/protocols/IRMf/LePetitPrince_Pallier_2018/LePetitPrince/data/stimuli-representations/english/gpt2_control_213_layer-3.\n"
     ]
    },
    {
     "name": "stderr",
     "output_type": "stream",
     "text": [
      "\r",
      "1it [00:30, 30.83s/it]"
     ]
    },
    {
     "name": "stdout",
     "output_type": "stream",
     "text": [
      "############# Run 1 #############\n",
      "\tSaving in /neurospin/unicog/protocols/IRMf/LePetitPrince_Pallier_2018/LePetitPrince/data/stimuli-representations/english/gpt2_control_213_layer-3.\n"
     ]
    },
    {
     "name": "stderr",
     "output_type": "stream",
     "text": [
      "\r",
      "2it [00:51, 27.88s/it]"
     ]
    },
    {
     "name": "stdout",
     "output_type": "stream",
     "text": [
      "############# Run 2 #############\n",
      "\tSaving in /neurospin/unicog/protocols/IRMf/LePetitPrince_Pallier_2018/LePetitPrince/data/stimuli-representations/english/gpt2_control_213_layer-3.\n"
     ]
    },
    {
     "name": "stderr",
     "output_type": "stream",
     "text": [
      "\r",
      "3it [01:04, 23.36s/it]"
     ]
    },
    {
     "name": "stdout",
     "output_type": "stream",
     "text": [
      "############# Run 3 #############\n",
      "\tSaving in /neurospin/unicog/protocols/IRMf/LePetitPrince_Pallier_2018/LePetitPrince/data/stimuli-representations/english/gpt2_control_213_layer-3.\n"
     ]
    },
    {
     "name": "stderr",
     "output_type": "stream",
     "text": [
      "\r",
      "4it [01:16, 19.81s/it]"
     ]
    },
    {
     "name": "stdout",
     "output_type": "stream",
     "text": [
      "############# Run 4 #############\n",
      "\tSaving in /neurospin/unicog/protocols/IRMf/LePetitPrince_Pallier_2018/LePetitPrince/data/stimuli-representations/english/gpt2_control_213_layer-3.\n"
     ]
    },
    {
     "name": "stderr",
     "output_type": "stream",
     "text": [
      "\r",
      "5it [01:28, 17.42s/it]"
     ]
    },
    {
     "name": "stdout",
     "output_type": "stream",
     "text": [
      "############# Run 5 #############\n",
      "\tSaving in /neurospin/unicog/protocols/IRMf/LePetitPrince_Pallier_2018/LePetitPrince/data/stimuli-representations/english/gpt2_control_213_layer-3.\n"
     ]
    },
    {
     "name": "stderr",
     "output_type": "stream",
     "text": [
      "\r",
      "6it [01:42, 16.44s/it]"
     ]
    },
    {
     "name": "stdout",
     "output_type": "stream",
     "text": [
      "############# Run 6 #############\n",
      "\tSaving in /neurospin/unicog/protocols/IRMf/LePetitPrince_Pallier_2018/LePetitPrince/data/stimuli-representations/english/gpt2_control_213_layer-3.\n"
     ]
    },
    {
     "name": "stderr",
     "output_type": "stream",
     "text": [
      "\r",
      "7it [01:54, 15.28s/it]"
     ]
    },
    {
     "name": "stdout",
     "output_type": "stream",
     "text": [
      "############# Run 7 #############\n",
      "\tSaving in /neurospin/unicog/protocols/IRMf/LePetitPrince_Pallier_2018/LePetitPrince/data/stimuli-representations/english/gpt2_control_213_layer-3.\n"
     ]
    },
    {
     "name": "stderr",
     "output_type": "stream",
     "text": [
      "\r",
      "8it [02:05, 13.98s/it]"
     ]
    },
    {
     "name": "stdout",
     "output_type": "stream",
     "text": [
      "############# Run 8 #############\n",
      "\tSaving in /neurospin/unicog/protocols/IRMf/LePetitPrince_Pallier_2018/LePetitPrince/data/stimuli-representations/english/gpt2_control_213_layer-3.\n"
     ]
    },
    {
     "name": "stderr",
     "output_type": "stream",
     "text": [
      "9it [02:19, 15.53s/it]\n",
      "0it [00:00, ?it/s]"
     ]
    },
    {
     "name": "stdout",
     "output_type": "stream",
     "text": [
      "gpt2_control_213  - Extracting activations for layer 4...\n",
      "############# Run 0 #############\n",
      "\tSaving in /neurospin/unicog/protocols/IRMf/LePetitPrince_Pallier_2018/LePetitPrince/data/stimuli-representations/english/gpt2_control_213_layer-4.\n"
     ]
    },
    {
     "name": "stderr",
     "output_type": "stream",
     "text": [
      "\r",
      "1it [00:09,  9.72s/it]"
     ]
    },
    {
     "name": "stdout",
     "output_type": "stream",
     "text": [
      "############# Run 1 #############\n",
      "\tSaving in /neurospin/unicog/protocols/IRMf/LePetitPrince_Pallier_2018/LePetitPrince/data/stimuli-representations/english/gpt2_control_213_layer-4.\n"
     ]
    },
    {
     "name": "stderr",
     "output_type": "stream",
     "text": [
      "\r",
      "2it [00:19,  9.68s/it]"
     ]
    },
    {
     "name": "stdout",
     "output_type": "stream",
     "text": [
      "############# Run 2 #############\n",
      "\tSaving in /neurospin/unicog/protocols/IRMf/LePetitPrince_Pallier_2018/LePetitPrince/data/stimuli-representations/english/gpt2_control_213_layer-4.\n"
     ]
    },
    {
     "name": "stderr",
     "output_type": "stream",
     "text": [
      "\r",
      "3it [00:32, 10.67s/it]"
     ]
    },
    {
     "name": "stdout",
     "output_type": "stream",
     "text": [
      "############# Run 3 #############\n",
      "\tSaving in /neurospin/unicog/protocols/IRMf/LePetitPrince_Pallier_2018/LePetitPrince/data/stimuli-representations/english/gpt2_control_213_layer-4.\n"
     ]
    },
    {
     "name": "stderr",
     "output_type": "stream",
     "text": [
      "\r",
      "4it [00:43, 10.80s/it]"
     ]
    },
    {
     "name": "stdout",
     "output_type": "stream",
     "text": [
      "############# Run 4 #############\n",
      "\tSaving in /neurospin/unicog/protocols/IRMf/LePetitPrince_Pallier_2018/LePetitPrince/data/stimuli-representations/english/gpt2_control_213_layer-4.\n"
     ]
    },
    {
     "name": "stderr",
     "output_type": "stream",
     "text": [
      "\r",
      "5it [00:55, 11.16s/it]"
     ]
    },
    {
     "name": "stdout",
     "output_type": "stream",
     "text": [
      "############# Run 5 #############\n",
      "\tSaving in /neurospin/unicog/protocols/IRMf/LePetitPrince_Pallier_2018/LePetitPrince/data/stimuli-representations/english/gpt2_control_213_layer-4.\n"
     ]
    },
    {
     "name": "stderr",
     "output_type": "stream",
     "text": [
      "\r",
      "6it [01:09, 11.92s/it]"
     ]
    },
    {
     "name": "stdout",
     "output_type": "stream",
     "text": [
      "############# Run 6 #############\n",
      "\tSaving in /neurospin/unicog/protocols/IRMf/LePetitPrince_Pallier_2018/LePetitPrince/data/stimuli-representations/english/gpt2_control_213_layer-4.\n"
     ]
    },
    {
     "name": "stderr",
     "output_type": "stream",
     "text": [
      "\r",
      "7it [01:22, 12.34s/it]"
     ]
    },
    {
     "name": "stdout",
     "output_type": "stream",
     "text": [
      "############# Run 7 #############\n",
      "\tSaving in /neurospin/unicog/protocols/IRMf/LePetitPrince_Pallier_2018/LePetitPrince/data/stimuli-representations/english/gpt2_control_213_layer-4.\n"
     ]
    },
    {
     "name": "stderr",
     "output_type": "stream",
     "text": [
      "\r",
      "8it [01:32, 11.74s/it]"
     ]
    },
    {
     "name": "stdout",
     "output_type": "stream",
     "text": [
      "############# Run 8 #############\n",
      "\tSaving in /neurospin/unicog/protocols/IRMf/LePetitPrince_Pallier_2018/LePetitPrince/data/stimuli-representations/english/gpt2_control_213_layer-4.\n"
     ]
    },
    {
     "name": "stderr",
     "output_type": "stream",
     "text": [
      "9it [01:46, 11.88s/it]\n",
      "0it [00:00, ?it/s]"
     ]
    },
    {
     "name": "stdout",
     "output_type": "stream",
     "text": [
      "gpt2_control_213  - Extracting activations for layer 5...\n",
      "############# Run 0 #############\n",
      "\tSaving in /neurospin/unicog/protocols/IRMf/LePetitPrince_Pallier_2018/LePetitPrince/data/stimuli-representations/english/gpt2_control_213_layer-5.\n"
     ]
    },
    {
     "name": "stderr",
     "output_type": "stream",
     "text": [
      "\r",
      "1it [00:10, 10.19s/it]"
     ]
    },
    {
     "name": "stdout",
     "output_type": "stream",
     "text": [
      "############# Run 1 #############\n",
      "\tSaving in /neurospin/unicog/protocols/IRMf/LePetitPrince_Pallier_2018/LePetitPrince/data/stimuli-representations/english/gpt2_control_213_layer-5.\n"
     ]
    },
    {
     "name": "stderr",
     "output_type": "stream",
     "text": [
      "\r",
      "2it [00:20, 10.23s/it]"
     ]
    },
    {
     "name": "stdout",
     "output_type": "stream",
     "text": [
      "############# Run 2 #############\n",
      "\tSaving in /neurospin/unicog/protocols/IRMf/LePetitPrince_Pallier_2018/LePetitPrince/data/stimuli-representations/english/gpt2_control_213_layer-5.\n"
     ]
    },
    {
     "name": "stderr",
     "output_type": "stream",
     "text": [
      "\r",
      "3it [00:32, 10.74s/it]"
     ]
    },
    {
     "name": "stdout",
     "output_type": "stream",
     "text": [
      "############# Run 3 #############\n",
      "\tSaving in /neurospin/unicog/protocols/IRMf/LePetitPrince_Pallier_2018/LePetitPrince/data/stimuli-representations/english/gpt2_control_213_layer-5.\n"
     ]
    },
    {
     "name": "stderr",
     "output_type": "stream",
     "text": [
      "\r",
      "4it [01:02, 16.67s/it]"
     ]
    },
    {
     "name": "stdout",
     "output_type": "stream",
     "text": [
      "############# Run 4 #############\n",
      "\tSaving in /neurospin/unicog/protocols/IRMf/LePetitPrince_Pallier_2018/LePetitPrince/data/stimuli-representations/english/gpt2_control_213_layer-5.\n"
     ]
    },
    {
     "name": "stderr",
     "output_type": "stream",
     "text": [
      "\r",
      "5it [01:35, 21.39s/it]"
     ]
    },
    {
     "name": "stdout",
     "output_type": "stream",
     "text": [
      "############# Run 5 #############\n",
      "\tSaving in /neurospin/unicog/protocols/IRMf/LePetitPrince_Pallier_2018/LePetitPrince/data/stimuli-representations/english/gpt2_control_213_layer-5.\n"
     ]
    },
    {
     "name": "stderr",
     "output_type": "stream",
     "text": [
      "\r",
      "6it [01:50, 19.59s/it]"
     ]
    },
    {
     "name": "stdout",
     "output_type": "stream",
     "text": [
      "############# Run 6 #############\n",
      "\tSaving in /neurospin/unicog/protocols/IRMf/LePetitPrince_Pallier_2018/LePetitPrince/data/stimuli-representations/english/gpt2_control_213_layer-5.\n"
     ]
    },
    {
     "name": "stderr",
     "output_type": "stream",
     "text": [
      "\r",
      "7it [02:04, 17.99s/it]"
     ]
    },
    {
     "name": "stdout",
     "output_type": "stream",
     "text": [
      "############# Run 7 #############\n",
      "\tSaving in /neurospin/unicog/protocols/IRMf/LePetitPrince_Pallier_2018/LePetitPrince/data/stimuli-representations/english/gpt2_control_213_layer-5.\n"
     ]
    },
    {
     "name": "stderr",
     "output_type": "stream",
     "text": [
      "\r",
      "8it [02:15, 15.64s/it]"
     ]
    },
    {
     "name": "stdout",
     "output_type": "stream",
     "text": [
      "############# Run 8 #############\n",
      "\tSaving in /neurospin/unicog/protocols/IRMf/LePetitPrince_Pallier_2018/LePetitPrince/data/stimuli-representations/english/gpt2_control_213_layer-5.\n"
     ]
    },
    {
     "name": "stderr",
     "output_type": "stream",
     "text": [
      "9it [02:30, 16.73s/it]\n",
      "0it [00:00, ?it/s]"
     ]
    },
    {
     "name": "stdout",
     "output_type": "stream",
     "text": [
      "gpt2_control_213  - Extracting activations for layer 6...\n",
      "############# Run 0 #############\n",
      "\tSaving in /neurospin/unicog/protocols/IRMf/LePetitPrince_Pallier_2018/LePetitPrince/data/stimuli-representations/english/gpt2_control_213_layer-6.\n"
     ]
    },
    {
     "name": "stderr",
     "output_type": "stream",
     "text": [
      "\r",
      "1it [00:10, 10.72s/it]"
     ]
    },
    {
     "name": "stdout",
     "output_type": "stream",
     "text": [
      "############# Run 1 #############\n",
      "\tSaving in /neurospin/unicog/protocols/IRMf/LePetitPrince_Pallier_2018/LePetitPrince/data/stimuli-representations/english/gpt2_control_213_layer-6.\n"
     ]
    },
    {
     "name": "stderr",
     "output_type": "stream",
     "text": [
      "\r",
      "2it [00:21, 10.63s/it]"
     ]
    },
    {
     "name": "stdout",
     "output_type": "stream",
     "text": [
      "############# Run 2 #############\n",
      "\tSaving in /neurospin/unicog/protocols/IRMf/LePetitPrince_Pallier_2018/LePetitPrince/data/stimuli-representations/english/gpt2_control_213_layer-6.\n"
     ]
    },
    {
     "name": "stderr",
     "output_type": "stream",
     "text": [
      "\r",
      "3it [00:33, 11.25s/it]"
     ]
    },
    {
     "name": "stdout",
     "output_type": "stream",
     "text": [
      "############# Run 3 #############\n",
      "\tSaving in /neurospin/unicog/protocols/IRMf/LePetitPrince_Pallier_2018/LePetitPrince/data/stimuli-representations/english/gpt2_control_213_layer-6.\n"
     ]
    },
    {
     "name": "stderr",
     "output_type": "stream",
     "text": [
      "\r",
      "4it [00:46, 11.58s/it]"
     ]
    },
    {
     "name": "stdout",
     "output_type": "stream",
     "text": [
      "############# Run 4 #############\n",
      "\tSaving in /neurospin/unicog/protocols/IRMf/LePetitPrince_Pallier_2018/LePetitPrince/data/stimuli-representations/english/gpt2_control_213_layer-6.\n"
     ]
    },
    {
     "name": "stderr",
     "output_type": "stream",
     "text": [
      "\r",
      "5it [00:57, 11.62s/it]"
     ]
    },
    {
     "name": "stdout",
     "output_type": "stream",
     "text": [
      "############# Run 5 #############\n",
      "\tSaving in /neurospin/unicog/protocols/IRMf/LePetitPrince_Pallier_2018/LePetitPrince/data/stimuli-representations/english/gpt2_control_213_layer-6.\n"
     ]
    },
    {
     "name": "stderr",
     "output_type": "stream",
     "text": [
      "\r",
      "6it [01:12, 12.39s/it]"
     ]
    },
    {
     "name": "stdout",
     "output_type": "stream",
     "text": [
      "############# Run 6 #############\n",
      "\tSaving in /neurospin/unicog/protocols/IRMf/LePetitPrince_Pallier_2018/LePetitPrince/data/stimuli-representations/english/gpt2_control_213_layer-6.\n"
     ]
    },
    {
     "name": "stderr",
     "output_type": "stream",
     "text": [
      "\r",
      "7it [01:24, 12.53s/it]"
     ]
    },
    {
     "name": "stdout",
     "output_type": "stream",
     "text": [
      "############# Run 7 #############\n",
      "\tSaving in /neurospin/unicog/protocols/IRMf/LePetitPrince_Pallier_2018/LePetitPrince/data/stimuli-representations/english/gpt2_control_213_layer-6.\n"
     ]
    },
    {
     "name": "stderr",
     "output_type": "stream",
     "text": [
      "\r",
      "8it [01:35, 12.04s/it]"
     ]
    },
    {
     "name": "stdout",
     "output_type": "stream",
     "text": [
      "############# Run 8 #############\n",
      "\tSaving in /neurospin/unicog/protocols/IRMf/LePetitPrince_Pallier_2018/LePetitPrince/data/stimuli-representations/english/gpt2_control_213_layer-6.\n"
     ]
    },
    {
     "name": "stderr",
     "output_type": "stream",
     "text": [
      "9it [01:50, 12.24s/it]\n",
      "0it [00:00, ?it/s]"
     ]
    },
    {
     "name": "stdout",
     "output_type": "stream",
     "text": [
      "gpt2_control_213  - Extracting activations for layer 7...\n",
      "############# Run 0 #############\n",
      "\tSaving in /neurospin/unicog/protocols/IRMf/LePetitPrince_Pallier_2018/LePetitPrince/data/stimuli-representations/english/gpt2_control_213_layer-7.\n"
     ]
    },
    {
     "name": "stderr",
     "output_type": "stream",
     "text": [
      "\r",
      "1it [00:09,  9.94s/it]"
     ]
    },
    {
     "name": "stdout",
     "output_type": "stream",
     "text": [
      "############# Run 1 #############\n",
      "\tSaving in /neurospin/unicog/protocols/IRMf/LePetitPrince_Pallier_2018/LePetitPrince/data/stimuli-representations/english/gpt2_control_213_layer-7.\n"
     ]
    },
    {
     "name": "stderr",
     "output_type": "stream",
     "text": [
      "\r",
      "2it [00:20, 10.04s/it]"
     ]
    },
    {
     "name": "stdout",
     "output_type": "stream",
     "text": [
      "############# Run 2 #############\n",
      "\tSaving in /neurospin/unicog/protocols/IRMf/LePetitPrince_Pallier_2018/LePetitPrince/data/stimuli-representations/english/gpt2_control_213_layer-7.\n"
     ]
    },
    {
     "name": "stderr",
     "output_type": "stream",
     "text": [
      "\r",
      "3it [00:33, 11.16s/it]"
     ]
    },
    {
     "name": "stdout",
     "output_type": "stream",
     "text": [
      "############# Run 3 #############\n",
      "\tSaving in /neurospin/unicog/protocols/IRMf/LePetitPrince_Pallier_2018/LePetitPrince/data/stimuli-representations/english/gpt2_control_213_layer-7.\n"
     ]
    },
    {
     "name": "stderr",
     "output_type": "stream",
     "text": [
      "\r",
      "4it [00:46, 11.64s/it]"
     ]
    },
    {
     "name": "stdout",
     "output_type": "stream",
     "text": [
      "############# Run 4 #############\n",
      "\tSaving in /neurospin/unicog/protocols/IRMf/LePetitPrince_Pallier_2018/LePetitPrince/data/stimuli-representations/english/gpt2_control_213_layer-7.\n"
     ]
    },
    {
     "name": "stderr",
     "output_type": "stream",
     "text": [
      "\r",
      "5it [00:58, 11.66s/it]"
     ]
    },
    {
     "name": "stdout",
     "output_type": "stream",
     "text": [
      "############# Run 5 #############\n",
      "\tSaving in /neurospin/unicog/protocols/IRMf/LePetitPrince_Pallier_2018/LePetitPrince/data/stimuli-representations/english/gpt2_control_213_layer-7.\n"
     ]
    },
    {
     "name": "stderr",
     "output_type": "stream",
     "text": [
      "\r",
      "6it [01:25, 16.39s/it]"
     ]
    },
    {
     "name": "stdout",
     "output_type": "stream",
     "text": [
      "############# Run 6 #############\n",
      "\tSaving in /neurospin/unicog/protocols/IRMf/LePetitPrince_Pallier_2018/LePetitPrince/data/stimuli-representations/english/gpt2_control_213_layer-7.\n"
     ]
    },
    {
     "name": "stderr",
     "output_type": "stream",
     "text": [
      "\r",
      "7it [02:04, 23.01s/it]"
     ]
    },
    {
     "name": "stdout",
     "output_type": "stream",
     "text": [
      "############# Run 7 #############\n",
      "\tSaving in /neurospin/unicog/protocols/IRMf/LePetitPrince_Pallier_2018/LePetitPrince/data/stimuli-representations/english/gpt2_control_213_layer-7.\n"
     ]
    },
    {
     "name": "stderr",
     "output_type": "stream",
     "text": [
      "\r",
      "8it [02:15, 19.32s/it]"
     ]
    },
    {
     "name": "stdout",
     "output_type": "stream",
     "text": [
      "############# Run 8 #############\n",
      "\tSaving in /neurospin/unicog/protocols/IRMf/LePetitPrince_Pallier_2018/LePetitPrince/data/stimuli-representations/english/gpt2_control_213_layer-7.\n"
     ]
    },
    {
     "name": "stderr",
     "output_type": "stream",
     "text": [
      "9it [02:28, 16.52s/it]\n",
      "0it [00:00, ?it/s]"
     ]
    },
    {
     "name": "stdout",
     "output_type": "stream",
     "text": [
      "gpt2_control_213  - Extracting activations for layer 8...\n",
      "############# Run 0 #############\n",
      "\tSaving in /neurospin/unicog/protocols/IRMf/LePetitPrince_Pallier_2018/LePetitPrince/data/stimuli-representations/english/gpt2_control_213_layer-8.\n"
     ]
    },
    {
     "name": "stderr",
     "output_type": "stream",
     "text": [
      "\r",
      "1it [00:10, 10.04s/it]"
     ]
    },
    {
     "name": "stdout",
     "output_type": "stream",
     "text": [
      "############# Run 1 #############\n",
      "\tSaving in /neurospin/unicog/protocols/IRMf/LePetitPrince_Pallier_2018/LePetitPrince/data/stimuli-representations/english/gpt2_control_213_layer-8.\n"
     ]
    },
    {
     "name": "stderr",
     "output_type": "stream",
     "text": [
      "\r",
      "2it [00:19, 10.01s/it]"
     ]
    },
    {
     "name": "stdout",
     "output_type": "stream",
     "text": [
      "############# Run 2 #############\n",
      "\tSaving in /neurospin/unicog/protocols/IRMf/LePetitPrince_Pallier_2018/LePetitPrince/data/stimuli-representations/english/gpt2_control_213_layer-8.\n"
     ]
    },
    {
     "name": "stderr",
     "output_type": "stream",
     "text": [
      "\r",
      "3it [00:32, 10.90s/it]"
     ]
    },
    {
     "name": "stdout",
     "output_type": "stream",
     "text": [
      "############# Run 3 #############\n",
      "\tSaving in /neurospin/unicog/protocols/IRMf/LePetitPrince_Pallier_2018/LePetitPrince/data/stimuli-representations/english/gpt2_control_213_layer-8.\n"
     ]
    },
    {
     "name": "stderr",
     "output_type": "stream",
     "text": [
      "\r",
      "4it [00:45, 11.29s/it]"
     ]
    },
    {
     "name": "stdout",
     "output_type": "stream",
     "text": [
      "############# Run 4 #############\n",
      "\tSaving in /neurospin/unicog/protocols/IRMf/LePetitPrince_Pallier_2018/LePetitPrince/data/stimuli-representations/english/gpt2_control_213_layer-8.\n"
     ]
    },
    {
     "name": "stderr",
     "output_type": "stream",
     "text": [
      "\r",
      "5it [00:57, 11.51s/it]"
     ]
    },
    {
     "name": "stdout",
     "output_type": "stream",
     "text": [
      "############# Run 5 #############\n",
      "\tSaving in /neurospin/unicog/protocols/IRMf/LePetitPrince_Pallier_2018/LePetitPrince/data/stimuli-representations/english/gpt2_control_213_layer-8.\n"
     ]
    },
    {
     "name": "stderr",
     "output_type": "stream",
     "text": [
      "\r",
      "6it [01:11, 12.34s/it]"
     ]
    },
    {
     "name": "stdout",
     "output_type": "stream",
     "text": [
      "############# Run 6 #############\n",
      "\tSaving in /neurospin/unicog/protocols/IRMf/LePetitPrince_Pallier_2018/LePetitPrince/data/stimuli-representations/english/gpt2_control_213_layer-8.\n"
     ]
    },
    {
     "name": "stderr",
     "output_type": "stream",
     "text": [
      "\r",
      "7it [01:25, 12.76s/it]"
     ]
    },
    {
     "name": "stdout",
     "output_type": "stream",
     "text": [
      "############# Run 7 #############\n",
      "\tSaving in /neurospin/unicog/protocols/IRMf/LePetitPrince_Pallier_2018/LePetitPrince/data/stimuli-representations/english/gpt2_control_213_layer-8.\n"
     ]
    },
    {
     "name": "stderr",
     "output_type": "stream",
     "text": [
      "\r",
      "8it [01:35, 12.07s/it]"
     ]
    },
    {
     "name": "stdout",
     "output_type": "stream",
     "text": [
      "############# Run 8 #############\n",
      "\tSaving in /neurospin/unicog/protocols/IRMf/LePetitPrince_Pallier_2018/LePetitPrince/data/stimuli-representations/english/gpt2_control_213_layer-8.\n"
     ]
    },
    {
     "name": "stderr",
     "output_type": "stream",
     "text": [
      "9it [01:50, 12.23s/it]\n",
      "0it [00:00, ?it/s]"
     ]
    },
    {
     "name": "stdout",
     "output_type": "stream",
     "text": [
      "gpt2_control_213  - Extracting activations for layer 9...\n",
      "############# Run 0 #############\n",
      "\tSaving in /neurospin/unicog/protocols/IRMf/LePetitPrince_Pallier_2018/LePetitPrince/data/stimuli-representations/english/gpt2_control_213_layer-9.\n"
     ]
    },
    {
     "name": "stderr",
     "output_type": "stream",
     "text": [
      "\r",
      "1it [00:10, 10.27s/it]"
     ]
    },
    {
     "name": "stdout",
     "output_type": "stream",
     "text": [
      "############# Run 1 #############\n",
      "\tSaving in /neurospin/unicog/protocols/IRMf/LePetitPrince_Pallier_2018/LePetitPrince/data/stimuli-representations/english/gpt2_control_213_layer-9.\n"
     ]
    },
    {
     "name": "stderr",
     "output_type": "stream",
     "text": [
      "\r",
      "2it [00:20, 10.31s/it]"
     ]
    },
    {
     "name": "stdout",
     "output_type": "stream",
     "text": [
      "############# Run 2 #############\n",
      "\tSaving in /neurospin/unicog/protocols/IRMf/LePetitPrince_Pallier_2018/LePetitPrince/data/stimuli-representations/english/gpt2_control_213_layer-9.\n"
     ]
    },
    {
     "name": "stderr",
     "output_type": "stream",
     "text": [
      "\r",
      "3it [00:33, 11.01s/it]"
     ]
    },
    {
     "name": "stdout",
     "output_type": "stream",
     "text": [
      "############# Run 3 #############\n",
      "\tSaving in /neurospin/unicog/protocols/IRMf/LePetitPrince_Pallier_2018/LePetitPrince/data/stimuli-representations/english/gpt2_control_213_layer-9.\n"
     ]
    },
    {
     "name": "stderr",
     "output_type": "stream",
     "text": [
      "\r",
      "4it [00:45, 11.33s/it]"
     ]
    },
    {
     "name": "stdout",
     "output_type": "stream",
     "text": [
      "############# Run 4 #############\n",
      "\tSaving in /neurospin/unicog/protocols/IRMf/LePetitPrince_Pallier_2018/LePetitPrince/data/stimuli-representations/english/gpt2_control_213_layer-9.\n"
     ]
    },
    {
     "name": "stderr",
     "output_type": "stream",
     "text": [
      "\r",
      "5it [00:57, 11.45s/it]"
     ]
    },
    {
     "name": "stdout",
     "output_type": "stream",
     "text": [
      "############# Run 5 #############\n",
      "\tSaving in /neurospin/unicog/protocols/IRMf/LePetitPrince_Pallier_2018/LePetitPrince/data/stimuli-representations/english/gpt2_control_213_layer-9.\n"
     ]
    },
    {
     "name": "stderr",
     "output_type": "stream",
     "text": [
      "\r",
      "6it [01:11, 12.46s/it]"
     ]
    },
    {
     "name": "stdout",
     "output_type": "stream",
     "text": [
      "############# Run 6 #############\n",
      "\tSaving in /neurospin/unicog/protocols/IRMf/LePetitPrince_Pallier_2018/LePetitPrince/data/stimuli-representations/english/gpt2_control_213_layer-9.\n"
     ]
    },
    {
     "name": "stderr",
     "output_type": "stream",
     "text": [
      "\r",
      "7it [01:24, 12.64s/it]"
     ]
    },
    {
     "name": "stdout",
     "output_type": "stream",
     "text": [
      "############# Run 7 #############\n",
      "\tSaving in /neurospin/unicog/protocols/IRMf/LePetitPrince_Pallier_2018/LePetitPrince/data/stimuli-representations/english/gpt2_control_213_layer-9.\n"
     ]
    },
    {
     "name": "stderr",
     "output_type": "stream",
     "text": [
      "\r",
      "8it [01:35, 12.05s/it]"
     ]
    },
    {
     "name": "stdout",
     "output_type": "stream",
     "text": [
      "############# Run 8 #############\n",
      "\tSaving in /neurospin/unicog/protocols/IRMf/LePetitPrince_Pallier_2018/LePetitPrince/data/stimuli-representations/english/gpt2_control_213_layer-9.\n"
     ]
    },
    {
     "name": "stderr",
     "output_type": "stream",
     "text": [
      "9it [02:19, 15.54s/it]\n",
      "0it [00:00, ?it/s]"
     ]
    },
    {
     "name": "stdout",
     "output_type": "stream",
     "text": [
      "gpt2_control_213  - Extracting activations for layer 10...\n",
      "############# Run 0 #############\n",
      "\tSaving in /neurospin/unicog/protocols/IRMf/LePetitPrince_Pallier_2018/LePetitPrince/data/stimuli-representations/english/gpt2_control_213_layer-10.\n"
     ]
    },
    {
     "name": "stderr",
     "output_type": "stream",
     "text": [
      "\r",
      "1it [00:12, 12.70s/it]"
     ]
    },
    {
     "name": "stdout",
     "output_type": "stream",
     "text": [
      "############# Run 1 #############\n",
      "\tSaving in /neurospin/unicog/protocols/IRMf/LePetitPrince_Pallier_2018/LePetitPrince/data/stimuli-representations/english/gpt2_control_213_layer-10.\n"
     ]
    },
    {
     "name": "stderr",
     "output_type": "stream",
     "text": [
      "\r",
      "2it [00:22, 11.90s/it]"
     ]
    },
    {
     "name": "stdout",
     "output_type": "stream",
     "text": [
      "############# Run 2 #############\n",
      "\tSaving in /neurospin/unicog/protocols/IRMf/LePetitPrince_Pallier_2018/LePetitPrince/data/stimuli-representations/english/gpt2_control_213_layer-10.\n"
     ]
    },
    {
     "name": "stderr",
     "output_type": "stream",
     "text": [
      "\r",
      "3it [00:35, 12.05s/it]"
     ]
    },
    {
     "name": "stdout",
     "output_type": "stream",
     "text": [
      "############# Run 3 #############\n",
      "\tSaving in /neurospin/unicog/protocols/IRMf/LePetitPrince_Pallier_2018/LePetitPrince/data/stimuli-representations/english/gpt2_control_213_layer-10.\n"
     ]
    },
    {
     "name": "stderr",
     "output_type": "stream",
     "text": [
      "\r",
      "4it [00:47, 12.04s/it]"
     ]
    },
    {
     "name": "stdout",
     "output_type": "stream",
     "text": [
      "############# Run 4 #############\n",
      "\tSaving in /neurospin/unicog/protocols/IRMf/LePetitPrince_Pallier_2018/LePetitPrince/data/stimuli-representations/english/gpt2_control_213_layer-10.\n"
     ]
    },
    {
     "name": "stderr",
     "output_type": "stream",
     "text": [
      "\r",
      "5it [00:59, 12.11s/it]"
     ]
    },
    {
     "name": "stdout",
     "output_type": "stream",
     "text": [
      "############# Run 5 #############\n",
      "\tSaving in /neurospin/unicog/protocols/IRMf/LePetitPrince_Pallier_2018/LePetitPrince/data/stimuli-representations/english/gpt2_control_213_layer-10.\n"
     ]
    },
    {
     "name": "stderr",
     "output_type": "stream",
     "text": [
      "\r",
      "6it [01:13, 12.61s/it]"
     ]
    },
    {
     "name": "stdout",
     "output_type": "stream",
     "text": [
      "############# Run 6 #############\n",
      "\tSaving in /neurospin/unicog/protocols/IRMf/LePetitPrince_Pallier_2018/LePetitPrince/data/stimuli-representations/english/gpt2_control_213_layer-10.\n"
     ]
    },
    {
     "name": "stderr",
     "output_type": "stream",
     "text": [
      "\r",
      "7it [01:25, 12.58s/it]"
     ]
    },
    {
     "name": "stdout",
     "output_type": "stream",
     "text": [
      "############# Run 7 #############\n",
      "\tSaving in /neurospin/unicog/protocols/IRMf/LePetitPrince_Pallier_2018/LePetitPrince/data/stimuli-representations/english/gpt2_control_213_layer-10.\n"
     ]
    },
    {
     "name": "stderr",
     "output_type": "stream",
     "text": [
      "\r",
      "8it [01:35, 11.81s/it]"
     ]
    },
    {
     "name": "stdout",
     "output_type": "stream",
     "text": [
      "############# Run 8 #############\n",
      "\tSaving in /neurospin/unicog/protocols/IRMf/LePetitPrince_Pallier_2018/LePetitPrince/data/stimuli-representations/english/gpt2_control_213_layer-10.\n"
     ]
    },
    {
     "name": "stderr",
     "output_type": "stream",
     "text": [
      "9it [01:50, 12.23s/it]\n",
      "0it [00:00, ?it/s]"
     ]
    },
    {
     "name": "stdout",
     "output_type": "stream",
     "text": [
      "gpt2_control_213  - Extracting activations for layer 11...\n",
      "############# Run 0 #############\n",
      "\tSaving in /neurospin/unicog/protocols/IRMf/LePetitPrince_Pallier_2018/LePetitPrince/data/stimuli-representations/english/gpt2_control_213_layer-11.\n"
     ]
    },
    {
     "name": "stderr",
     "output_type": "stream",
     "text": [
      "\r",
      "1it [00:10, 10.81s/it]"
     ]
    },
    {
     "name": "stdout",
     "output_type": "stream",
     "text": [
      "############# Run 1 #############\n",
      "\tSaving in /neurospin/unicog/protocols/IRMf/LePetitPrince_Pallier_2018/LePetitPrince/data/stimuli-representations/english/gpt2_control_213_layer-11.\n"
     ]
    },
    {
     "name": "stderr",
     "output_type": "stream",
     "text": [
      "\r",
      "2it [00:21, 10.81s/it]"
     ]
    },
    {
     "name": "stdout",
     "output_type": "stream",
     "text": [
      "############# Run 2 #############\n",
      "\tSaving in /neurospin/unicog/protocols/IRMf/LePetitPrince_Pallier_2018/LePetitPrince/data/stimuli-representations/english/gpt2_control_213_layer-11.\n"
     ]
    },
    {
     "name": "stderr",
     "output_type": "stream",
     "text": [
      "\r",
      "3it [00:34, 11.29s/it]"
     ]
    },
    {
     "name": "stdout",
     "output_type": "stream",
     "text": [
      "############# Run 3 #############\n",
      "\tSaving in /neurospin/unicog/protocols/IRMf/LePetitPrince_Pallier_2018/LePetitPrince/data/stimuli-representations/english/gpt2_control_213_layer-11.\n"
     ]
    },
    {
     "name": "stderr",
     "output_type": "stream",
     "text": [
      "\r",
      "4it [00:46, 11.78s/it]"
     ]
    },
    {
     "name": "stdout",
     "output_type": "stream",
     "text": [
      "############# Run 4 #############\n",
      "\tSaving in /neurospin/unicog/protocols/IRMf/LePetitPrince_Pallier_2018/LePetitPrince/data/stimuli-representations/english/gpt2_control_213_layer-11.\n"
     ]
    },
    {
     "name": "stderr",
     "output_type": "stream",
     "text": [
      "\r",
      "5it [00:59, 12.05s/it]"
     ]
    },
    {
     "name": "stdout",
     "output_type": "stream",
     "text": [
      "############# Run 5 #############\n",
      "\tSaving in /neurospin/unicog/protocols/IRMf/LePetitPrince_Pallier_2018/LePetitPrince/data/stimuli-representations/english/gpt2_control_213_layer-11.\n"
     ]
    },
    {
     "name": "stderr",
     "output_type": "stream",
     "text": [
      "\r",
      "6it [01:13, 12.69s/it]"
     ]
    },
    {
     "name": "stdout",
     "output_type": "stream",
     "text": [
      "############# Run 6 #############\n",
      "\tSaving in /neurospin/unicog/protocols/IRMf/LePetitPrince_Pallier_2018/LePetitPrince/data/stimuli-representations/english/gpt2_control_213_layer-11.\n"
     ]
    },
    {
     "name": "stderr",
     "output_type": "stream",
     "text": [
      "\r",
      "7it [01:27, 13.06s/it]"
     ]
    },
    {
     "name": "stdout",
     "output_type": "stream",
     "text": [
      "############# Run 7 #############\n",
      "\tSaving in /neurospin/unicog/protocols/IRMf/LePetitPrince_Pallier_2018/LePetitPrince/data/stimuli-representations/english/gpt2_control_213_layer-11.\n"
     ]
    },
    {
     "name": "stderr",
     "output_type": "stream",
     "text": [
      "\r",
      "8it [01:37, 12.21s/it]"
     ]
    },
    {
     "name": "stdout",
     "output_type": "stream",
     "text": [
      "############# Run 8 #############\n",
      "\tSaving in /neurospin/unicog/protocols/IRMf/LePetitPrince_Pallier_2018/LePetitPrince/data/stimuli-representations/english/gpt2_control_213_layer-11.\n"
     ]
    },
    {
     "name": "stderr",
     "output_type": "stream",
     "text": [
      "9it [01:51, 12.44s/it]\n",
      "0it [00:00, ?it/s]"
     ]
    },
    {
     "name": "stdout",
     "output_type": "stream",
     "text": [
      "gpt2_control_213  - Extracting activations for layer 12...\n",
      "############# Run 0 #############\n",
      "\tSaving in /neurospin/unicog/protocols/IRMf/LePetitPrince_Pallier_2018/LePetitPrince/data/stimuli-representations/english/gpt2_control_213_layer-12.\n"
     ]
    },
    {
     "name": "stderr",
     "output_type": "stream",
     "text": [
      "\r",
      "1it [00:10, 10.51s/it]"
     ]
    },
    {
     "name": "stdout",
     "output_type": "stream",
     "text": [
      "############# Run 1 #############\n",
      "\tSaving in /neurospin/unicog/protocols/IRMf/LePetitPrince_Pallier_2018/LePetitPrince/data/stimuli-representations/english/gpt2_control_213_layer-12.\n"
     ]
    },
    {
     "name": "stderr",
     "output_type": "stream",
     "text": [
      "\r",
      "2it [00:22, 11.00s/it]"
     ]
    },
    {
     "name": "stdout",
     "output_type": "stream",
     "text": [
      "############# Run 2 #############\n",
      "\tSaving in /neurospin/unicog/protocols/IRMf/LePetitPrince_Pallier_2018/LePetitPrince/data/stimuli-representations/english/gpt2_control_213_layer-12.\n"
     ]
    },
    {
     "name": "stderr",
     "output_type": "stream",
     "text": [
      "\r",
      "3it [01:05, 20.45s/it]"
     ]
    },
    {
     "name": "stdout",
     "output_type": "stream",
     "text": [
      "############# Run 3 #############\n",
      "\tSaving in /neurospin/unicog/protocols/IRMf/LePetitPrince_Pallier_2018/LePetitPrince/data/stimuli-representations/english/gpt2_control_213_layer-12.\n"
     ]
    },
    {
     "name": "stderr",
     "output_type": "stream",
     "text": [
      "\r",
      "4it [01:23, 19.91s/it]"
     ]
    },
    {
     "name": "stdout",
     "output_type": "stream",
     "text": [
      "############# Run 4 #############\n",
      "\tSaving in /neurospin/unicog/protocols/IRMf/LePetitPrince_Pallier_2018/LePetitPrince/data/stimuli-representations/english/gpt2_control_213_layer-12.\n"
     ]
    },
    {
     "name": "stderr",
     "output_type": "stream",
     "text": [
      "\r",
      "5it [01:36, 17.86s/it]"
     ]
    },
    {
     "name": "stdout",
     "output_type": "stream",
     "text": [
      "############# Run 5 #############\n",
      "\tSaving in /neurospin/unicog/protocols/IRMf/LePetitPrince_Pallier_2018/LePetitPrince/data/stimuli-representations/english/gpt2_control_213_layer-12.\n"
     ]
    },
    {
     "name": "stderr",
     "output_type": "stream",
     "text": [
      "\r",
      "6it [01:53, 17.35s/it]"
     ]
    },
    {
     "name": "stdout",
     "output_type": "stream",
     "text": [
      "############# Run 6 #############\n",
      "\tSaving in /neurospin/unicog/protocols/IRMf/LePetitPrince_Pallier_2018/LePetitPrince/data/stimuli-representations/english/gpt2_control_213_layer-12.\n"
     ]
    },
    {
     "name": "stderr",
     "output_type": "stream",
     "text": [
      "\r",
      "7it [02:07, 16.41s/it]"
     ]
    },
    {
     "name": "stdout",
     "output_type": "stream",
     "text": [
      "############# Run 7 #############\n",
      "\tSaving in /neurospin/unicog/protocols/IRMf/LePetitPrince_Pallier_2018/LePetitPrince/data/stimuli-representations/english/gpt2_control_213_layer-12.\n"
     ]
    },
    {
     "name": "stderr",
     "output_type": "stream",
     "text": [
      "\r",
      "8it [02:18, 14.76s/it]"
     ]
    },
    {
     "name": "stdout",
     "output_type": "stream",
     "text": [
      "############# Run 8 #############\n",
      "\tSaving in /neurospin/unicog/protocols/IRMf/LePetitPrince_Pallier_2018/LePetitPrince/data/stimuli-representations/english/gpt2_control_213_layer-12.\n"
     ]
    },
    {
     "name": "stderr",
     "output_type": "stream",
     "text": [
      "9it [02:32, 16.97s/it]\n",
      "0it [00:00, ?it/s]"
     ]
    },
    {
     "name": "stdout",
     "output_type": "stream",
     "text": [
      "gpt2_control_1111  - Extracting activations for layer 0...\n",
      "############# Run 0 #############\n",
      "\tSaving in /neurospin/unicog/protocols/IRMf/LePetitPrince_Pallier_2018/LePetitPrince/data/stimuli-representations/english/gpt2_control_1111_layer-0.\n"
     ]
    },
    {
     "name": "stderr",
     "output_type": "stream",
     "text": [
      "\r",
      "1it [00:08,  8.78s/it]"
     ]
    },
    {
     "name": "stdout",
     "output_type": "stream",
     "text": [
      "############# Run 1 #############\n",
      "\tSaving in /neurospin/unicog/protocols/IRMf/LePetitPrince_Pallier_2018/LePetitPrince/data/stimuli-representations/english/gpt2_control_1111_layer-0.\n"
     ]
    },
    {
     "name": "stderr",
     "output_type": "stream",
     "text": [
      "\r",
      "2it [00:16,  8.52s/it]"
     ]
    },
    {
     "name": "stdout",
     "output_type": "stream",
     "text": [
      "############# Run 2 #############\n",
      "\tSaving in /neurospin/unicog/protocols/IRMf/LePetitPrince_Pallier_2018/LePetitPrince/data/stimuli-representations/english/gpt2_control_1111_layer-0.\n"
     ]
    },
    {
     "name": "stderr",
     "output_type": "stream",
     "text": [
      "\r",
      "3it [00:27,  9.23s/it]"
     ]
    },
    {
     "name": "stdout",
     "output_type": "stream",
     "text": [
      "############# Run 3 #############\n",
      "\tSaving in /neurospin/unicog/protocols/IRMf/LePetitPrince_Pallier_2018/LePetitPrince/data/stimuli-representations/english/gpt2_control_1111_layer-0.\n"
     ]
    },
    {
     "name": "stderr",
     "output_type": "stream",
     "text": [
      "\r",
      "4it [00:37,  9.57s/it]"
     ]
    },
    {
     "name": "stdout",
     "output_type": "stream",
     "text": [
      "############# Run 4 #############\n",
      "\tSaving in /neurospin/unicog/protocols/IRMf/LePetitPrince_Pallier_2018/LePetitPrince/data/stimuli-representations/english/gpt2_control_1111_layer-0.\n"
     ]
    },
    {
     "name": "stderr",
     "output_type": "stream",
     "text": [
      "\r",
      "5it [00:49, 10.07s/it]"
     ]
    },
    {
     "name": "stdout",
     "output_type": "stream",
     "text": [
      "############# Run 5 #############\n",
      "\tSaving in /neurospin/unicog/protocols/IRMf/LePetitPrince_Pallier_2018/LePetitPrince/data/stimuli-representations/english/gpt2_control_1111_layer-0.\n"
     ]
    },
    {
     "name": "stderr",
     "output_type": "stream",
     "text": [
      "\r",
      "6it [01:01, 10.73s/it]"
     ]
    },
    {
     "name": "stdout",
     "output_type": "stream",
     "text": [
      "############# Run 6 #############\n",
      "\tSaving in /neurospin/unicog/protocols/IRMf/LePetitPrince_Pallier_2018/LePetitPrince/data/stimuli-representations/english/gpt2_control_1111_layer-0.\n"
     ]
    },
    {
     "name": "stderr",
     "output_type": "stream",
     "text": [
      "\r",
      "7it [01:12, 10.80s/it]"
     ]
    },
    {
     "name": "stdout",
     "output_type": "stream",
     "text": [
      "############# Run 7 #############\n",
      "\tSaving in /neurospin/unicog/protocols/IRMf/LePetitPrince_Pallier_2018/LePetitPrince/data/stimuli-representations/english/gpt2_control_1111_layer-0.\n"
     ]
    },
    {
     "name": "stderr",
     "output_type": "stream",
     "text": [
      "\r",
      "8it [01:21, 10.14s/it]"
     ]
    },
    {
     "name": "stdout",
     "output_type": "stream",
     "text": [
      "############# Run 8 #############\n",
      "\tSaving in /neurospin/unicog/protocols/IRMf/LePetitPrince_Pallier_2018/LePetitPrince/data/stimuli-representations/english/gpt2_control_1111_layer-0.\n"
     ]
    },
    {
     "name": "stderr",
     "output_type": "stream",
     "text": [
      "9it [01:33, 10.35s/it]\n",
      "0it [00:00, ?it/s]"
     ]
    },
    {
     "name": "stdout",
     "output_type": "stream",
     "text": [
      "gpt2_control_1111  - Extracting activations for layer 1...\n",
      "############# Run 0 #############\n",
      "\tSaving in /neurospin/unicog/protocols/IRMf/LePetitPrince_Pallier_2018/LePetitPrince/data/stimuli-representations/english/gpt2_control_1111_layer-1.\n"
     ]
    },
    {
     "name": "stderr",
     "output_type": "stream",
     "text": [
      "\r",
      "1it [00:10, 10.91s/it]"
     ]
    },
    {
     "name": "stdout",
     "output_type": "stream",
     "text": [
      "############# Run 1 #############\n",
      "\tSaving in /neurospin/unicog/protocols/IRMf/LePetitPrince_Pallier_2018/LePetitPrince/data/stimuli-representations/english/gpt2_control_1111_layer-1.\n"
     ]
    },
    {
     "name": "stderr",
     "output_type": "stream",
     "text": [
      "\r",
      "2it [00:22, 11.02s/it]"
     ]
    },
    {
     "name": "stdout",
     "output_type": "stream",
     "text": [
      "############# Run 2 #############\n",
      "\tSaving in /neurospin/unicog/protocols/IRMf/LePetitPrince_Pallier_2018/LePetitPrince/data/stimuli-representations/english/gpt2_control_1111_layer-1.\n"
     ]
    },
    {
     "name": "stderr",
     "output_type": "stream",
     "text": [
      "\r",
      "3it [00:35, 11.61s/it]"
     ]
    },
    {
     "name": "stdout",
     "output_type": "stream",
     "text": [
      "############# Run 3 #############\n",
      "\tSaving in /neurospin/unicog/protocols/IRMf/LePetitPrince_Pallier_2018/LePetitPrince/data/stimuli-representations/english/gpt2_control_1111_layer-1.\n"
     ]
    },
    {
     "name": "stderr",
     "output_type": "stream",
     "text": [
      "\r",
      "4it [00:48, 12.01s/it]"
     ]
    },
    {
     "name": "stdout",
     "output_type": "stream",
     "text": [
      "############# Run 4 #############\n",
      "\tSaving in /neurospin/unicog/protocols/IRMf/LePetitPrince_Pallier_2018/LePetitPrince/data/stimuli-representations/english/gpt2_control_1111_layer-1.\n"
     ]
    },
    {
     "name": "stderr",
     "output_type": "stream",
     "text": [
      "\r",
      "5it [01:00, 12.25s/it]"
     ]
    },
    {
     "name": "stdout",
     "output_type": "stream",
     "text": [
      "############# Run 5 #############\n",
      "\tSaving in /neurospin/unicog/protocols/IRMf/LePetitPrince_Pallier_2018/LePetitPrince/data/stimuli-representations/english/gpt2_control_1111_layer-1.\n"
     ]
    },
    {
     "name": "stderr",
     "output_type": "stream",
     "text": [
      "\r",
      "6it [01:42, 21.08s/it]"
     ]
    },
    {
     "name": "stdout",
     "output_type": "stream",
     "text": [
      "############# Run 6 #############\n",
      "\tSaving in /neurospin/unicog/protocols/IRMf/LePetitPrince_Pallier_2018/LePetitPrince/data/stimuli-representations/english/gpt2_control_1111_layer-1.\n"
     ]
    },
    {
     "name": "stderr",
     "output_type": "stream",
     "text": [
      "\r",
      "7it [02:05, 21.76s/it]"
     ]
    },
    {
     "name": "stdout",
     "output_type": "stream",
     "text": [
      "############# Run 7 #############\n",
      "\tSaving in /neurospin/unicog/protocols/IRMf/LePetitPrince_Pallier_2018/LePetitPrince/data/stimuli-representations/english/gpt2_control_1111_layer-1.\n"
     ]
    },
    {
     "name": "stderr",
     "output_type": "stream",
     "text": [
      "\r",
      "8it [02:17, 18.54s/it]"
     ]
    },
    {
     "name": "stdout",
     "output_type": "stream",
     "text": [
      "############# Run 8 #############\n",
      "\tSaving in /neurospin/unicog/protocols/IRMf/LePetitPrince_Pallier_2018/LePetitPrince/data/stimuli-representations/english/gpt2_control_1111_layer-1.\n"
     ]
    },
    {
     "name": "stderr",
     "output_type": "stream",
     "text": [
      "9it [02:31, 16.88s/it]\n",
      "0it [00:00, ?it/s]"
     ]
    },
    {
     "name": "stdout",
     "output_type": "stream",
     "text": [
      "gpt2_control_1111  - Extracting activations for layer 2...\n",
      "############# Run 0 #############\n",
      "\tSaving in /neurospin/unicog/protocols/IRMf/LePetitPrince_Pallier_2018/LePetitPrince/data/stimuli-representations/english/gpt2_control_1111_layer-2.\n"
     ]
    },
    {
     "name": "stderr",
     "output_type": "stream",
     "text": [
      "\r",
      "1it [00:10, 10.22s/it]"
     ]
    },
    {
     "name": "stdout",
     "output_type": "stream",
     "text": [
      "############# Run 1 #############\n",
      "\tSaving in /neurospin/unicog/protocols/IRMf/LePetitPrince_Pallier_2018/LePetitPrince/data/stimuli-representations/english/gpt2_control_1111_layer-2.\n"
     ]
    },
    {
     "name": "stderr",
     "output_type": "stream",
     "text": [
      "\r",
      "2it [00:20, 10.18s/it]"
     ]
    },
    {
     "name": "stdout",
     "output_type": "stream",
     "text": [
      "############# Run 2 #############\n",
      "\tSaving in /neurospin/unicog/protocols/IRMf/LePetitPrince_Pallier_2018/LePetitPrince/data/stimuli-representations/english/gpt2_control_1111_layer-2.\n"
     ]
    },
    {
     "name": "stderr",
     "output_type": "stream",
     "text": [
      "\r",
      "3it [00:33, 10.98s/it]"
     ]
    },
    {
     "name": "stdout",
     "output_type": "stream",
     "text": [
      "############# Run 3 #############\n",
      "\tSaving in /neurospin/unicog/protocols/IRMf/LePetitPrince_Pallier_2018/LePetitPrince/data/stimuli-representations/english/gpt2_control_1111_layer-2.\n"
     ]
    },
    {
     "name": "stderr",
     "output_type": "stream",
     "text": [
      "\r",
      "4it [00:45, 11.30s/it]"
     ]
    },
    {
     "name": "stdout",
     "output_type": "stream",
     "text": [
      "############# Run 4 #############\n",
      "\tSaving in /neurospin/unicog/protocols/IRMf/LePetitPrince_Pallier_2018/LePetitPrince/data/stimuli-representations/english/gpt2_control_1111_layer-2.\n"
     ]
    },
    {
     "name": "stderr",
     "output_type": "stream",
     "text": [
      "\r",
      "5it [00:56, 11.35s/it]"
     ]
    },
    {
     "name": "stdout",
     "output_type": "stream",
     "text": [
      "############# Run 5 #############\n",
      "\tSaving in /neurospin/unicog/protocols/IRMf/LePetitPrince_Pallier_2018/LePetitPrince/data/stimuli-representations/english/gpt2_control_1111_layer-2.\n"
     ]
    },
    {
     "name": "stderr",
     "output_type": "stream",
     "text": [
      "\r",
      "6it [01:10, 12.18s/it]"
     ]
    },
    {
     "name": "stdout",
     "output_type": "stream",
     "text": [
      "############# Run 6 #############\n",
      "\tSaving in /neurospin/unicog/protocols/IRMf/LePetitPrince_Pallier_2018/LePetitPrince/data/stimuli-representations/english/gpt2_control_1111_layer-2.\n"
     ]
    },
    {
     "name": "stderr",
     "output_type": "stream",
     "text": [
      "\r",
      "7it [01:23, 12.46s/it]"
     ]
    },
    {
     "name": "stdout",
     "output_type": "stream",
     "text": [
      "############# Run 7 #############\n",
      "\tSaving in /neurospin/unicog/protocols/IRMf/LePetitPrince_Pallier_2018/LePetitPrince/data/stimuli-representations/english/gpt2_control_1111_layer-2.\n"
     ]
    },
    {
     "name": "stderr",
     "output_type": "stream",
     "text": [
      "\r",
      "8it [01:34, 11.80s/it]"
     ]
    },
    {
     "name": "stdout",
     "output_type": "stream",
     "text": [
      "############# Run 8 #############\n",
      "\tSaving in /neurospin/unicog/protocols/IRMf/LePetitPrince_Pallier_2018/LePetitPrince/data/stimuli-representations/english/gpt2_control_1111_layer-2.\n"
     ]
    },
    {
     "name": "stderr",
     "output_type": "stream",
     "text": [
      "9it [01:47, 11.96s/it]\n",
      "0it [00:00, ?it/s]"
     ]
    },
    {
     "name": "stdout",
     "output_type": "stream",
     "text": [
      "gpt2_control_1111  - Extracting activations for layer 3...\n",
      "############# Run 0 #############\n",
      "\tSaving in /neurospin/unicog/protocols/IRMf/LePetitPrince_Pallier_2018/LePetitPrince/data/stimuli-representations/english/gpt2_control_1111_layer-3.\n"
     ]
    },
    {
     "name": "stderr",
     "output_type": "stream",
     "text": [
      "\r",
      "1it [00:10, 10.11s/it]"
     ]
    },
    {
     "name": "stdout",
     "output_type": "stream",
     "text": [
      "############# Run 1 #############\n",
      "\tSaving in /neurospin/unicog/protocols/IRMf/LePetitPrince_Pallier_2018/LePetitPrince/data/stimuli-representations/english/gpt2_control_1111_layer-3.\n"
     ]
    },
    {
     "name": "stderr",
     "output_type": "stream",
     "text": [
      "\r",
      "2it [00:20, 10.21s/it]"
     ]
    },
    {
     "name": "stdout",
     "output_type": "stream",
     "text": [
      "############# Run 2 #############\n",
      "\tSaving in /neurospin/unicog/protocols/IRMf/LePetitPrince_Pallier_2018/LePetitPrince/data/stimuli-representations/english/gpt2_control_1111_layer-3.\n"
     ]
    },
    {
     "name": "stderr",
     "output_type": "stream",
     "text": [
      "\r",
      "3it [00:33, 10.88s/it]"
     ]
    },
    {
     "name": "stdout",
     "output_type": "stream",
     "text": [
      "############# Run 3 #############\n",
      "\tSaving in /neurospin/unicog/protocols/IRMf/LePetitPrince_Pallier_2018/LePetitPrince/data/stimuli-representations/english/gpt2_control_1111_layer-3.\n"
     ]
    },
    {
     "name": "stderr",
     "output_type": "stream",
     "text": [
      "\r",
      "4it [00:45, 11.23s/it]"
     ]
    },
    {
     "name": "stdout",
     "output_type": "stream",
     "text": [
      "############# Run 4 #############\n",
      "\tSaving in /neurospin/unicog/protocols/IRMf/LePetitPrince_Pallier_2018/LePetitPrince/data/stimuli-representations/english/gpt2_control_1111_layer-3.\n"
     ]
    },
    {
     "name": "stderr",
     "output_type": "stream",
     "text": [
      "\r",
      "5it [00:56, 11.33s/it]"
     ]
    },
    {
     "name": "stdout",
     "output_type": "stream",
     "text": [
      "############# Run 5 #############\n",
      "\tSaving in /neurospin/unicog/protocols/IRMf/LePetitPrince_Pallier_2018/LePetitPrince/data/stimuli-representations/english/gpt2_control_1111_layer-3.\n"
     ]
    },
    {
     "name": "stderr",
     "output_type": "stream",
     "text": [
      "\r",
      "6it [01:10, 12.22s/it]"
     ]
    },
    {
     "name": "stdout",
     "output_type": "stream",
     "text": [
      "############# Run 6 #############\n",
      "\tSaving in /neurospin/unicog/protocols/IRMf/LePetitPrince_Pallier_2018/LePetitPrince/data/stimuli-representations/english/gpt2_control_1111_layer-3.\n"
     ]
    },
    {
     "name": "stderr",
     "output_type": "stream",
     "text": [
      "\r",
      "7it [01:23, 12.40s/it]"
     ]
    },
    {
     "name": "stdout",
     "output_type": "stream",
     "text": [
      "############# Run 7 #############\n",
      "\tSaving in /neurospin/unicog/protocols/IRMf/LePetitPrince_Pallier_2018/LePetitPrince/data/stimuli-representations/english/gpt2_control_1111_layer-3.\n"
     ]
    },
    {
     "name": "stderr",
     "output_type": "stream",
     "text": [
      "\r",
      "8it [01:35, 12.32s/it]"
     ]
    },
    {
     "name": "stdout",
     "output_type": "stream",
     "text": [
      "############# Run 8 #############\n",
      "\tSaving in /neurospin/unicog/protocols/IRMf/LePetitPrince_Pallier_2018/LePetitPrince/data/stimuli-representations/english/gpt2_control_1111_layer-3.\n"
     ]
    },
    {
     "name": "stderr",
     "output_type": "stream",
     "text": [
      "9it [02:23, 15.96s/it]\n",
      "0it [00:00, ?it/s]"
     ]
    },
    {
     "name": "stdout",
     "output_type": "stream",
     "text": [
      "gpt2_control_1111  - Extracting activations for layer 4...\n",
      "############# Run 0 #############\n",
      "\tSaving in /neurospin/unicog/protocols/IRMf/LePetitPrince_Pallier_2018/LePetitPrince/data/stimuli-representations/english/gpt2_control_1111_layer-4.\n"
     ]
    },
    {
     "name": "stderr",
     "output_type": "stream",
     "text": [
      "\r",
      "1it [00:10, 10.07s/it]"
     ]
    },
    {
     "name": "stdout",
     "output_type": "stream",
     "text": [
      "############# Run 1 #############\n",
      "\tSaving in /neurospin/unicog/protocols/IRMf/LePetitPrince_Pallier_2018/LePetitPrince/data/stimuli-representations/english/gpt2_control_1111_layer-4.\n"
     ]
    },
    {
     "name": "stderr",
     "output_type": "stream",
     "text": [
      "\r",
      "2it [00:20, 10.08s/it]"
     ]
    },
    {
     "name": "stdout",
     "output_type": "stream",
     "text": [
      "############# Run 2 #############\n",
      "\tSaving in /neurospin/unicog/protocols/IRMf/LePetitPrince_Pallier_2018/LePetitPrince/data/stimuli-representations/english/gpt2_control_1111_layer-4.\n"
     ]
    },
    {
     "name": "stderr",
     "output_type": "stream",
     "text": [
      "\r",
      "3it [00:32, 10.66s/it]"
     ]
    },
    {
     "name": "stdout",
     "output_type": "stream",
     "text": [
      "############# Run 3 #############\n",
      "\tSaving in /neurospin/unicog/protocols/IRMf/LePetitPrince_Pallier_2018/LePetitPrince/data/stimuli-representations/english/gpt2_control_1111_layer-4.\n"
     ]
    },
    {
     "name": "stderr",
     "output_type": "stream",
     "text": [
      "\r",
      "4it [00:43, 10.83s/it]"
     ]
    },
    {
     "name": "stdout",
     "output_type": "stream",
     "text": [
      "############# Run 4 #############\n",
      "\tSaving in /neurospin/unicog/protocols/IRMf/LePetitPrince_Pallier_2018/LePetitPrince/data/stimuli-representations/english/gpt2_control_1111_layer-4.\n"
     ]
    },
    {
     "name": "stderr",
     "output_type": "stream",
     "text": [
      "\r",
      "5it [00:55, 11.24s/it]"
     ]
    },
    {
     "name": "stdout",
     "output_type": "stream",
     "text": [
      "############# Run 5 #############\n",
      "\tSaving in /neurospin/unicog/protocols/IRMf/LePetitPrince_Pallier_2018/LePetitPrince/data/stimuli-representations/english/gpt2_control_1111_layer-4.\n"
     ]
    },
    {
     "name": "stderr",
     "output_type": "stream",
     "text": [
      "\r",
      "6it [01:09, 12.15s/it]"
     ]
    },
    {
     "name": "stdout",
     "output_type": "stream",
     "text": [
      "############# Run 6 #############\n",
      "\tSaving in /neurospin/unicog/protocols/IRMf/LePetitPrince_Pallier_2018/LePetitPrince/data/stimuli-representations/english/gpt2_control_1111_layer-4.\n"
     ]
    },
    {
     "name": "stderr",
     "output_type": "stream",
     "text": [
      "\r",
      "7it [01:22, 12.43s/it]"
     ]
    },
    {
     "name": "stdout",
     "output_type": "stream",
     "text": [
      "############# Run 7 #############\n",
      "\tSaving in /neurospin/unicog/protocols/IRMf/LePetitPrince_Pallier_2018/LePetitPrince/data/stimuli-representations/english/gpt2_control_1111_layer-4.\n"
     ]
    },
    {
     "name": "stderr",
     "output_type": "stream",
     "text": [
      "\r",
      "8it [01:33, 11.80s/it]"
     ]
    },
    {
     "name": "stdout",
     "output_type": "stream",
     "text": [
      "############# Run 8 #############\n",
      "\tSaving in /neurospin/unicog/protocols/IRMf/LePetitPrince_Pallier_2018/LePetitPrince/data/stimuli-representations/english/gpt2_control_1111_layer-4.\n"
     ]
    },
    {
     "name": "stderr",
     "output_type": "stream",
     "text": [
      "9it [01:47, 11.89s/it]\n",
      "0it [00:00, ?it/s]"
     ]
    },
    {
     "name": "stdout",
     "output_type": "stream",
     "text": [
      "gpt2_control_1111  - Extracting activations for layer 5...\n",
      "############# Run 0 #############\n",
      "\tSaving in /neurospin/unicog/protocols/IRMf/LePetitPrince_Pallier_2018/LePetitPrince/data/stimuli-representations/english/gpt2_control_1111_layer-5.\n"
     ]
    },
    {
     "name": "stderr",
     "output_type": "stream",
     "text": [
      "\r",
      "1it [00:09,  9.87s/it]"
     ]
    },
    {
     "name": "stdout",
     "output_type": "stream",
     "text": [
      "############# Run 1 #############\n",
      "\tSaving in /neurospin/unicog/protocols/IRMf/LePetitPrince_Pallier_2018/LePetitPrince/data/stimuli-representations/english/gpt2_control_1111_layer-5.\n"
     ]
    },
    {
     "name": "stderr",
     "output_type": "stream",
     "text": [
      "\r",
      "2it [00:19,  9.91s/it]"
     ]
    },
    {
     "name": "stdout",
     "output_type": "stream",
     "text": [
      "############# Run 2 #############\n",
      "\tSaving in /neurospin/unicog/protocols/IRMf/LePetitPrince_Pallier_2018/LePetitPrince/data/stimuli-representations/english/gpt2_control_1111_layer-5.\n"
     ]
    },
    {
     "name": "stderr",
     "output_type": "stream",
     "text": [
      "\r",
      "3it [00:31, 10.38s/it]"
     ]
    },
    {
     "name": "stdout",
     "output_type": "stream",
     "text": [
      "############# Run 3 #############\n",
      "\tSaving in /neurospin/unicog/protocols/IRMf/LePetitPrince_Pallier_2018/LePetitPrince/data/stimuli-representations/english/gpt2_control_1111_layer-5.\n"
     ]
    },
    {
     "name": "stderr",
     "output_type": "stream",
     "text": [
      "\r",
      "4it [00:43, 11.04s/it]"
     ]
    },
    {
     "name": "stdout",
     "output_type": "stream",
     "text": [
      "############# Run 4 #############\n",
      "\tSaving in /neurospin/unicog/protocols/IRMf/LePetitPrince_Pallier_2018/LePetitPrince/data/stimuli-representations/english/gpt2_control_1111_layer-5.\n"
     ]
    },
    {
     "name": "stderr",
     "output_type": "stream",
     "text": [
      "\r",
      "5it [00:55, 11.19s/it]"
     ]
    },
    {
     "name": "stdout",
     "output_type": "stream",
     "text": [
      "############# Run 5 #############\n",
      "\tSaving in /neurospin/unicog/protocols/IRMf/LePetitPrince_Pallier_2018/LePetitPrince/data/stimuli-representations/english/gpt2_control_1111_layer-5.\n"
     ]
    },
    {
     "name": "stderr",
     "output_type": "stream",
     "text": [
      "\r",
      "6it [01:09, 12.18s/it]"
     ]
    },
    {
     "name": "stdout",
     "output_type": "stream",
     "text": [
      "############# Run 6 #############\n",
      "\tSaving in /neurospin/unicog/protocols/IRMf/LePetitPrince_Pallier_2018/LePetitPrince/data/stimuli-representations/english/gpt2_control_1111_layer-5.\n"
     ]
    },
    {
     "name": "stderr",
     "output_type": "stream",
     "text": [
      "\r",
      "7it [01:23, 12.46s/it]"
     ]
    },
    {
     "name": "stdout",
     "output_type": "stream",
     "text": [
      "############# Run 7 #############\n",
      "\tSaving in /neurospin/unicog/protocols/IRMf/LePetitPrince_Pallier_2018/LePetitPrince/data/stimuli-representations/english/gpt2_control_1111_layer-5.\n"
     ]
    },
    {
     "name": "stderr",
     "output_type": "stream",
     "text": [
      "\r",
      "8it [01:33, 11.75s/it]"
     ]
    },
    {
     "name": "stdout",
     "output_type": "stream",
     "text": [
      "############# Run 8 #############\n",
      "\tSaving in /neurospin/unicog/protocols/IRMf/LePetitPrince_Pallier_2018/LePetitPrince/data/stimuli-representations/english/gpt2_control_1111_layer-5.\n"
     ]
    },
    {
     "name": "stderr",
     "output_type": "stream",
     "text": [
      "9it [01:47, 11.94s/it]\n",
      "0it [00:00, ?it/s]"
     ]
    },
    {
     "name": "stdout",
     "output_type": "stream",
     "text": [
      "gpt2_control_1111  - Extracting activations for layer 6...\n",
      "############# Run 0 #############\n",
      "\tSaving in /neurospin/unicog/protocols/IRMf/LePetitPrince_Pallier_2018/LePetitPrince/data/stimuli-representations/english/gpt2_control_1111_layer-6.\n"
     ]
    },
    {
     "name": "stderr",
     "output_type": "stream",
     "text": [
      "\r",
      "1it [00:10, 10.58s/it]"
     ]
    },
    {
     "name": "stdout",
     "output_type": "stream",
     "text": [
      "############# Run 1 #############\n",
      "\tSaving in /neurospin/unicog/protocols/IRMf/LePetitPrince_Pallier_2018/LePetitPrince/data/stimuli-representations/english/gpt2_control_1111_layer-6.\n"
     ]
    },
    {
     "name": "stderr",
     "output_type": "stream",
     "text": [
      "\r",
      "2it [00:22, 11.04s/it]"
     ]
    },
    {
     "name": "stdout",
     "output_type": "stream",
     "text": [
      "############# Run 2 #############\n",
      "\tSaving in /neurospin/unicog/protocols/IRMf/LePetitPrince_Pallier_2018/LePetitPrince/data/stimuli-representations/english/gpt2_control_1111_layer-6.\n"
     ]
    },
    {
     "name": "stderr",
     "output_type": "stream",
     "text": [
      "\r",
      "3it [01:04, 20.18s/it]"
     ]
    },
    {
     "name": "stdout",
     "output_type": "stream",
     "text": [
      "############# Run 3 #############\n",
      "\tSaving in /neurospin/unicog/protocols/IRMf/LePetitPrince_Pallier_2018/LePetitPrince/data/stimuli-representations/english/gpt2_control_1111_layer-6.\n"
     ]
    },
    {
     "name": "stderr",
     "output_type": "stream",
     "text": [
      "\r",
      "4it [01:21, 19.27s/it]"
     ]
    },
    {
     "name": "stdout",
     "output_type": "stream",
     "text": [
      "############# Run 4 #############\n",
      "\tSaving in /neurospin/unicog/protocols/IRMf/LePetitPrince_Pallier_2018/LePetitPrince/data/stimuli-representations/english/gpt2_control_1111_layer-6.\n"
     ]
    },
    {
     "name": "stderr",
     "output_type": "stream",
     "text": [
      "\r",
      "5it [01:33, 17.27s/it]"
     ]
    },
    {
     "name": "stdout",
     "output_type": "stream",
     "text": [
      "############# Run 5 #############\n",
      "\tSaving in /neurospin/unicog/protocols/IRMf/LePetitPrince_Pallier_2018/LePetitPrince/data/stimuli-representations/english/gpt2_control_1111_layer-6.\n"
     ]
    },
    {
     "name": "stderr",
     "output_type": "stream",
     "text": [
      "\r",
      "6it [01:48, 16.56s/it]"
     ]
    },
    {
     "name": "stdout",
     "output_type": "stream",
     "text": [
      "############# Run 6 #############\n",
      "\tSaving in /neurospin/unicog/protocols/IRMf/LePetitPrince_Pallier_2018/LePetitPrince/data/stimuli-representations/english/gpt2_control_1111_layer-6.\n"
     ]
    },
    {
     "name": "stderr",
     "output_type": "stream",
     "text": [
      "\r",
      "7it [02:02, 15.80s/it]"
     ]
    },
    {
     "name": "stdout",
     "output_type": "stream",
     "text": [
      "############# Run 7 #############\n",
      "\tSaving in /neurospin/unicog/protocols/IRMf/LePetitPrince_Pallier_2018/LePetitPrince/data/stimuli-representations/english/gpt2_control_1111_layer-6.\n"
     ]
    },
    {
     "name": "stderr",
     "output_type": "stream",
     "text": [
      "\r",
      "8it [02:13, 14.16s/it]"
     ]
    },
    {
     "name": "stdout",
     "output_type": "stream",
     "text": [
      "############# Run 8 #############\n",
      "\tSaving in /neurospin/unicog/protocols/IRMf/LePetitPrince_Pallier_2018/LePetitPrince/data/stimuli-representations/english/gpt2_control_1111_layer-6.\n"
     ]
    },
    {
     "name": "stderr",
     "output_type": "stream",
     "text": [
      "9it [02:28, 16.47s/it]\n",
      "0it [00:00, ?it/s]"
     ]
    },
    {
     "name": "stdout",
     "output_type": "stream",
     "text": [
      "gpt2_control_1111  - Extracting activations for layer 7...\n",
      "############# Run 0 #############\n",
      "\tSaving in /neurospin/unicog/protocols/IRMf/LePetitPrince_Pallier_2018/LePetitPrince/data/stimuli-representations/english/gpt2_control_1111_layer-7.\n"
     ]
    },
    {
     "name": "stderr",
     "output_type": "stream",
     "text": [
      "\r",
      "1it [00:09,  9.64s/it]"
     ]
    },
    {
     "name": "stdout",
     "output_type": "stream",
     "text": [
      "############# Run 1 #############\n",
      "\tSaving in /neurospin/unicog/protocols/IRMf/LePetitPrince_Pallier_2018/LePetitPrince/data/stimuli-representations/english/gpt2_control_1111_layer-7.\n"
     ]
    },
    {
     "name": "stderr",
     "output_type": "stream",
     "text": [
      "\r",
      "2it [00:20,  9.99s/it]"
     ]
    },
    {
     "name": "stdout",
     "output_type": "stream",
     "text": [
      "############# Run 2 #############\n",
      "\tSaving in /neurospin/unicog/protocols/IRMf/LePetitPrince_Pallier_2018/LePetitPrince/data/stimuli-representations/english/gpt2_control_1111_layer-7.\n"
     ]
    },
    {
     "name": "stderr",
     "output_type": "stream",
     "text": [
      "\r",
      "3it [00:33, 10.84s/it]"
     ]
    },
    {
     "name": "stdout",
     "output_type": "stream",
     "text": [
      "############# Run 3 #############\n",
      "\tSaving in /neurospin/unicog/protocols/IRMf/LePetitPrince_Pallier_2018/LePetitPrince/data/stimuli-representations/english/gpt2_control_1111_layer-7.\n"
     ]
    },
    {
     "name": "stderr",
     "output_type": "stream",
     "text": [
      "\r",
      "4it [00:45, 11.34s/it]"
     ]
    },
    {
     "name": "stdout",
     "output_type": "stream",
     "text": [
      "############# Run 4 #############\n",
      "\tSaving in /neurospin/unicog/protocols/IRMf/LePetitPrince_Pallier_2018/LePetitPrince/data/stimuli-representations/english/gpt2_control_1111_layer-7.\n"
     ]
    },
    {
     "name": "stderr",
     "output_type": "stream",
     "text": [
      "\r",
      "5it [00:56, 11.25s/it]"
     ]
    },
    {
     "name": "stdout",
     "output_type": "stream",
     "text": [
      "############# Run 5 #############\n",
      "\tSaving in /neurospin/unicog/protocols/IRMf/LePetitPrince_Pallier_2018/LePetitPrince/data/stimuli-representations/english/gpt2_control_1111_layer-7.\n"
     ]
    },
    {
     "name": "stderr",
     "output_type": "stream",
     "text": [
      "\r",
      "6it [01:12, 12.57s/it]"
     ]
    },
    {
     "name": "stdout",
     "output_type": "stream",
     "text": [
      "############# Run 6 #############\n",
      "\tSaving in /neurospin/unicog/protocols/IRMf/LePetitPrince_Pallier_2018/LePetitPrince/data/stimuli-representations/english/gpt2_control_1111_layer-7.\n"
     ]
    },
    {
     "name": "stderr",
     "output_type": "stream",
     "text": [
      "\r",
      "7it [01:25, 12.78s/it]"
     ]
    },
    {
     "name": "stdout",
     "output_type": "stream",
     "text": [
      "############# Run 7 #############\n",
      "\tSaving in /neurospin/unicog/protocols/IRMf/LePetitPrince_Pallier_2018/LePetitPrince/data/stimuli-representations/english/gpt2_control_1111_layer-7.\n"
     ]
    },
    {
     "name": "stderr",
     "output_type": "stream",
     "text": [
      "\r",
      "8it [01:36, 12.16s/it]"
     ]
    },
    {
     "name": "stdout",
     "output_type": "stream",
     "text": [
      "############# Run 8 #############\n",
      "\tSaving in /neurospin/unicog/protocols/IRMf/LePetitPrince_Pallier_2018/LePetitPrince/data/stimuli-representations/english/gpt2_control_1111_layer-7.\n"
     ]
    },
    {
     "name": "stderr",
     "output_type": "stream",
     "text": [
      "9it [01:51, 12.42s/it]\n",
      "0it [00:00, ?it/s]"
     ]
    },
    {
     "name": "stdout",
     "output_type": "stream",
     "text": [
      "gpt2_control_1111  - Extracting activations for layer 8...\n",
      "############# Run 0 #############\n",
      "\tSaving in /neurospin/unicog/protocols/IRMf/LePetitPrince_Pallier_2018/LePetitPrince/data/stimuli-representations/english/gpt2_control_1111_layer-8.\n"
     ]
    },
    {
     "name": "stderr",
     "output_type": "stream",
     "text": [
      "\r",
      "1it [00:10, 10.23s/it]"
     ]
    },
    {
     "name": "stdout",
     "output_type": "stream",
     "text": [
      "############# Run 1 #############\n",
      "\tSaving in /neurospin/unicog/protocols/IRMf/LePetitPrince_Pallier_2018/LePetitPrince/data/stimuli-representations/english/gpt2_control_1111_layer-8.\n"
     ]
    },
    {
     "name": "stderr",
     "output_type": "stream",
     "text": [
      "\r",
      "2it [00:21, 10.50s/it]"
     ]
    },
    {
     "name": "stdout",
     "output_type": "stream",
     "text": [
      "############# Run 2 #############\n",
      "\tSaving in /neurospin/unicog/protocols/IRMf/LePetitPrince_Pallier_2018/LePetitPrince/data/stimuli-representations/english/gpt2_control_1111_layer-8.\n"
     ]
    },
    {
     "name": "stderr",
     "output_type": "stream",
     "text": [
      "\r",
      "3it [00:33, 11.03s/it]"
     ]
    },
    {
     "name": "stdout",
     "output_type": "stream",
     "text": [
      "############# Run 3 #############\n",
      "\tSaving in /neurospin/unicog/protocols/IRMf/LePetitPrince_Pallier_2018/LePetitPrince/data/stimuli-representations/english/gpt2_control_1111_layer-8.\n"
     ]
    },
    {
     "name": "stderr",
     "output_type": "stream",
     "text": [
      "\r",
      "4it [00:45, 11.32s/it]"
     ]
    },
    {
     "name": "stdout",
     "output_type": "stream",
     "text": [
      "############# Run 4 #############\n",
      "\tSaving in /neurospin/unicog/protocols/IRMf/LePetitPrince_Pallier_2018/LePetitPrince/data/stimuli-representations/english/gpt2_control_1111_layer-8.\n"
     ]
    },
    {
     "name": "stderr",
     "output_type": "stream",
     "text": [
      "\r",
      "5it [01:15, 16.94s/it]"
     ]
    },
    {
     "name": "stdout",
     "output_type": "stream",
     "text": [
      "############# Run 5 #############\n",
      "\tSaving in /neurospin/unicog/protocols/IRMf/LePetitPrince_Pallier_2018/LePetitPrince/data/stimuli-representations/english/gpt2_control_1111_layer-8.\n"
     ]
    },
    {
     "name": "stderr",
     "output_type": "stream",
     "text": [
      "\r",
      "6it [01:48, 21.78s/it]"
     ]
    },
    {
     "name": "stdout",
     "output_type": "stream",
     "text": [
      "############# Run 6 #############\n",
      "\tSaving in /neurospin/unicog/protocols/IRMf/LePetitPrince_Pallier_2018/LePetitPrince/data/stimuli-representations/english/gpt2_control_1111_layer-8.\n"
     ]
    },
    {
     "name": "stderr",
     "output_type": "stream",
     "text": [
      "\r",
      "7it [02:01, 19.19s/it]"
     ]
    },
    {
     "name": "stdout",
     "output_type": "stream",
     "text": [
      "############# Run 7 #############\n",
      "\tSaving in /neurospin/unicog/protocols/IRMf/LePetitPrince_Pallier_2018/LePetitPrince/data/stimuli-representations/english/gpt2_control_1111_layer-8.\n"
     ]
    },
    {
     "name": "stderr",
     "output_type": "stream",
     "text": [
      "\r",
      "8it [02:12, 16.55s/it]"
     ]
    },
    {
     "name": "stdout",
     "output_type": "stream",
     "text": [
      "############# Run 8 #############\n",
      "\tSaving in /neurospin/unicog/protocols/IRMf/LePetitPrince_Pallier_2018/LePetitPrince/data/stimuli-representations/english/gpt2_control_1111_layer-8.\n"
     ]
    },
    {
     "name": "stderr",
     "output_type": "stream",
     "text": [
      "9it [02:26, 16.29s/it]\n",
      "0it [00:00, ?it/s]"
     ]
    },
    {
     "name": "stdout",
     "output_type": "stream",
     "text": [
      "gpt2_control_1111  - Extracting activations for layer 9...\n",
      "############# Run 0 #############\n",
      "\tSaving in /neurospin/unicog/protocols/IRMf/LePetitPrince_Pallier_2018/LePetitPrince/data/stimuli-representations/english/gpt2_control_1111_layer-9.\n"
     ]
    },
    {
     "name": "stderr",
     "output_type": "stream",
     "text": [
      "\r",
      "1it [00:09,  9.99s/it]"
     ]
    },
    {
     "name": "stdout",
     "output_type": "stream",
     "text": [
      "############# Run 1 #############\n",
      "\tSaving in /neurospin/unicog/protocols/IRMf/LePetitPrince_Pallier_2018/LePetitPrince/data/stimuli-representations/english/gpt2_control_1111_layer-9.\n"
     ]
    },
    {
     "name": "stderr",
     "output_type": "stream",
     "text": [
      "\r",
      "2it [00:20, 10.15s/it]"
     ]
    },
    {
     "name": "stdout",
     "output_type": "stream",
     "text": [
      "############# Run 2 #############\n",
      "\tSaving in /neurospin/unicog/protocols/IRMf/LePetitPrince_Pallier_2018/LePetitPrince/data/stimuli-representations/english/gpt2_control_1111_layer-9.\n"
     ]
    },
    {
     "name": "stderr",
     "output_type": "stream",
     "text": [
      "\r",
      "3it [00:33, 10.92s/it]"
     ]
    },
    {
     "name": "stdout",
     "output_type": "stream",
     "text": [
      "############# Run 3 #############\n",
      "\tSaving in /neurospin/unicog/protocols/IRMf/LePetitPrince_Pallier_2018/LePetitPrince/data/stimuli-representations/english/gpt2_control_1111_layer-9.\n"
     ]
    },
    {
     "name": "stderr",
     "output_type": "stream",
     "text": [
      "\r",
      "4it [00:45, 11.21s/it]"
     ]
    },
    {
     "name": "stdout",
     "output_type": "stream",
     "text": [
      "############# Run 4 #############\n",
      "\tSaving in /neurospin/unicog/protocols/IRMf/LePetitPrince_Pallier_2018/LePetitPrince/data/stimuli-representations/english/gpt2_control_1111_layer-9.\n"
     ]
    },
    {
     "name": "stderr",
     "output_type": "stream",
     "text": [
      "\r",
      "5it [00:56, 11.28s/it]"
     ]
    },
    {
     "name": "stdout",
     "output_type": "stream",
     "text": [
      "############# Run 5 #############\n",
      "\tSaving in /neurospin/unicog/protocols/IRMf/LePetitPrince_Pallier_2018/LePetitPrince/data/stimuli-representations/english/gpt2_control_1111_layer-9.\n"
     ]
    },
    {
     "name": "stderr",
     "output_type": "stream",
     "text": [
      "\r",
      "6it [01:10, 12.04s/it]"
     ]
    },
    {
     "name": "stdout",
     "output_type": "stream",
     "text": [
      "############# Run 6 #############\n",
      "\tSaving in /neurospin/unicog/protocols/IRMf/LePetitPrince_Pallier_2018/LePetitPrince/data/stimuli-representations/english/gpt2_control_1111_layer-9.\n"
     ]
    },
    {
     "name": "stderr",
     "output_type": "stream",
     "text": [
      "\r",
      "7it [01:24, 12.62s/it]"
     ]
    },
    {
     "name": "stdout",
     "output_type": "stream",
     "text": [
      "############# Run 7 #############\n",
      "\tSaving in /neurospin/unicog/protocols/IRMf/LePetitPrince_Pallier_2018/LePetitPrince/data/stimuli-representations/english/gpt2_control_1111_layer-9.\n"
     ]
    },
    {
     "name": "stderr",
     "output_type": "stream",
     "text": [
      "\r",
      "8it [01:34, 11.92s/it]"
     ]
    },
    {
     "name": "stdout",
     "output_type": "stream",
     "text": [
      "############# Run 8 #############\n",
      "\tSaving in /neurospin/unicog/protocols/IRMf/LePetitPrince_Pallier_2018/LePetitPrince/data/stimuli-representations/english/gpt2_control_1111_layer-9.\n"
     ]
    },
    {
     "name": "stderr",
     "output_type": "stream",
     "text": [
      "9it [01:48, 12.08s/it]\n",
      "0it [00:00, ?it/s]"
     ]
    },
    {
     "name": "stdout",
     "output_type": "stream",
     "text": [
      "gpt2_control_1111  - Extracting activations for layer 10...\n",
      "############# Run 0 #############\n",
      "\tSaving in /neurospin/unicog/protocols/IRMf/LePetitPrince_Pallier_2018/LePetitPrince/data/stimuli-representations/english/gpt2_control_1111_layer-10.\n"
     ]
    },
    {
     "name": "stderr",
     "output_type": "stream",
     "text": [
      "\r",
      "1it [00:09,  9.64s/it]"
     ]
    },
    {
     "name": "stdout",
     "output_type": "stream",
     "text": [
      "############# Run 1 #############\n",
      "\tSaving in /neurospin/unicog/protocols/IRMf/LePetitPrince_Pallier_2018/LePetitPrince/data/stimuli-representations/english/gpt2_control_1111_layer-10.\n"
     ]
    },
    {
     "name": "stderr",
     "output_type": "stream",
     "text": [
      "\r",
      "2it [00:19,  9.85s/it]"
     ]
    },
    {
     "name": "stdout",
     "output_type": "stream",
     "text": [
      "############# Run 2 #############\n",
      "\tSaving in /neurospin/unicog/protocols/IRMf/LePetitPrince_Pallier_2018/LePetitPrince/data/stimuli-representations/english/gpt2_control_1111_layer-10.\n"
     ]
    },
    {
     "name": "stderr",
     "output_type": "stream",
     "text": [
      "\r",
      "3it [00:32, 10.64s/it]"
     ]
    },
    {
     "name": "stdout",
     "output_type": "stream",
     "text": [
      "############# Run 3 #############\n",
      "\tSaving in /neurospin/unicog/protocols/IRMf/LePetitPrince_Pallier_2018/LePetitPrince/data/stimuli-representations/english/gpt2_control_1111_layer-10.\n"
     ]
    },
    {
     "name": "stderr",
     "output_type": "stream",
     "text": [
      "\r",
      "4it [00:43, 10.88s/it]"
     ]
    },
    {
     "name": "stdout",
     "output_type": "stream",
     "text": [
      "############# Run 4 #############\n",
      "\tSaving in /neurospin/unicog/protocols/IRMf/LePetitPrince_Pallier_2018/LePetitPrince/data/stimuli-representations/english/gpt2_control_1111_layer-10.\n"
     ]
    },
    {
     "name": "stderr",
     "output_type": "stream",
     "text": [
      "\r",
      "5it [00:56, 11.32s/it]"
     ]
    },
    {
     "name": "stdout",
     "output_type": "stream",
     "text": [
      "############# Run 5 #############\n",
      "\tSaving in /neurospin/unicog/protocols/IRMf/LePetitPrince_Pallier_2018/LePetitPrince/data/stimuli-representations/english/gpt2_control_1111_layer-10.\n"
     ]
    },
    {
     "name": "stderr",
     "output_type": "stream",
     "text": [
      "\r",
      "6it [01:10, 12.25s/it]"
     ]
    },
    {
     "name": "stdout",
     "output_type": "stream",
     "text": [
      "############# Run 6 #############\n",
      "\tSaving in /neurospin/unicog/protocols/IRMf/LePetitPrince_Pallier_2018/LePetitPrince/data/stimuli-representations/english/gpt2_control_1111_layer-10.\n"
     ]
    },
    {
     "name": "stderr",
     "output_type": "stream",
     "text": [
      "\r",
      "7it [01:24, 12.71s/it]"
     ]
    },
    {
     "name": "stdout",
     "output_type": "stream",
     "text": [
      "############# Run 7 #############\n",
      "\tSaving in /neurospin/unicog/protocols/IRMf/LePetitPrince_Pallier_2018/LePetitPrince/data/stimuli-representations/english/gpt2_control_1111_layer-10.\n"
     ]
    },
    {
     "name": "stderr",
     "output_type": "stream",
     "text": [
      "\r",
      "8it [01:55, 18.20s/it]"
     ]
    },
    {
     "name": "stdout",
     "output_type": "stream",
     "text": [
      "############# Run 8 #############\n",
      "\tSaving in /neurospin/unicog/protocols/IRMf/LePetitPrince_Pallier_2018/LePetitPrince/data/stimuli-representations/english/gpt2_control_1111_layer-10.\n"
     ]
    },
    {
     "name": "stderr",
     "output_type": "stream",
     "text": [
      "9it [02:25, 16.16s/it]\n",
      "0it [00:00, ?it/s]"
     ]
    },
    {
     "name": "stdout",
     "output_type": "stream",
     "text": [
      "gpt2_control_1111  - Extracting activations for layer 11...\n",
      "############# Run 0 #############\n",
      "\tSaving in /neurospin/unicog/protocols/IRMf/LePetitPrince_Pallier_2018/LePetitPrince/data/stimuli-representations/english/gpt2_control_1111_layer-11.\n"
     ]
    },
    {
     "name": "stderr",
     "output_type": "stream",
     "text": [
      "\r",
      "1it [00:10, 10.53s/it]"
     ]
    },
    {
     "name": "stdout",
     "output_type": "stream",
     "text": [
      "############# Run 1 #############\n",
      "\tSaving in /neurospin/unicog/protocols/IRMf/LePetitPrince_Pallier_2018/LePetitPrince/data/stimuli-representations/english/gpt2_control_1111_layer-11.\n"
     ]
    },
    {
     "name": "stderr",
     "output_type": "stream",
     "text": [
      "\r",
      "2it [00:21, 10.69s/it]"
     ]
    },
    {
     "name": "stdout",
     "output_type": "stream",
     "text": [
      "############# Run 2 #############\n",
      "\tSaving in /neurospin/unicog/protocols/IRMf/LePetitPrince_Pallier_2018/LePetitPrince/data/stimuli-representations/english/gpt2_control_1111_layer-11.\n"
     ]
    },
    {
     "name": "stderr",
     "output_type": "stream",
     "text": [
      "\r",
      "3it [00:34, 11.23s/it]"
     ]
    },
    {
     "name": "stdout",
     "output_type": "stream",
     "text": [
      "############# Run 3 #############\n",
      "\tSaving in /neurospin/unicog/protocols/IRMf/LePetitPrince_Pallier_2018/LePetitPrince/data/stimuli-representations/english/gpt2_control_1111_layer-11.\n"
     ]
    },
    {
     "name": "stderr",
     "output_type": "stream",
     "text": [
      "\r",
      "4it [00:46, 11.45s/it]"
     ]
    },
    {
     "name": "stdout",
     "output_type": "stream",
     "text": [
      "############# Run 4 #############\n",
      "\tSaving in /neurospin/unicog/protocols/IRMf/LePetitPrince_Pallier_2018/LePetitPrince/data/stimuli-representations/english/gpt2_control_1111_layer-11.\n"
     ]
    },
    {
     "name": "stderr",
     "output_type": "stream",
     "text": [
      "\r",
      "5it [00:57, 11.49s/it]"
     ]
    },
    {
     "name": "stdout",
     "output_type": "stream",
     "text": [
      "############# Run 5 #############\n",
      "\tSaving in /neurospin/unicog/protocols/IRMf/LePetitPrince_Pallier_2018/LePetitPrince/data/stimuli-representations/english/gpt2_control_1111_layer-11.\n"
     ]
    },
    {
     "name": "stderr",
     "output_type": "stream",
     "text": [
      "\r",
      "6it [01:12, 12.45s/it]"
     ]
    },
    {
     "name": "stdout",
     "output_type": "stream",
     "text": [
      "############# Run 6 #############\n",
      "\tSaving in /neurospin/unicog/protocols/IRMf/LePetitPrince_Pallier_2018/LePetitPrince/data/stimuli-representations/english/gpt2_control_1111_layer-11.\n"
     ]
    },
    {
     "name": "stderr",
     "output_type": "stream",
     "text": [
      "\r",
      "7it [01:25, 12.80s/it]"
     ]
    },
    {
     "name": "stdout",
     "output_type": "stream",
     "text": [
      "############# Run 7 #############\n",
      "\tSaving in /neurospin/unicog/protocols/IRMf/LePetitPrince_Pallier_2018/LePetitPrince/data/stimuli-representations/english/gpt2_control_1111_layer-11.\n"
     ]
    },
    {
     "name": "stderr",
     "output_type": "stream",
     "text": [
      "\r",
      "8it [01:36, 12.07s/it]"
     ]
    },
    {
     "name": "stdout",
     "output_type": "stream",
     "text": [
      "############# Run 8 #############\n",
      "\tSaving in /neurospin/unicog/protocols/IRMf/LePetitPrince_Pallier_2018/LePetitPrince/data/stimuli-representations/english/gpt2_control_1111_layer-11.\n"
     ]
    },
    {
     "name": "stderr",
     "output_type": "stream",
     "text": [
      "9it [01:50, 12.29s/it]\n",
      "0it [00:00, ?it/s]"
     ]
    },
    {
     "name": "stdout",
     "output_type": "stream",
     "text": [
      "gpt2_control_1111  - Extracting activations for layer 12...\n",
      "############# Run 0 #############\n",
      "\tSaving in /neurospin/unicog/protocols/IRMf/LePetitPrince_Pallier_2018/LePetitPrince/data/stimuli-representations/english/gpt2_control_1111_layer-12.\n"
     ]
    },
    {
     "name": "stderr",
     "output_type": "stream",
     "text": [
      "\r",
      "1it [00:10, 10.83s/it]"
     ]
    },
    {
     "name": "stdout",
     "output_type": "stream",
     "text": [
      "############# Run 1 #############\n",
      "\tSaving in /neurospin/unicog/protocols/IRMf/LePetitPrince_Pallier_2018/LePetitPrince/data/stimuli-representations/english/gpt2_control_1111_layer-12.\n"
     ]
    },
    {
     "name": "stderr",
     "output_type": "stream",
     "text": [
      "\r",
      "2it [00:21, 10.66s/it]"
     ]
    },
    {
     "name": "stdout",
     "output_type": "stream",
     "text": [
      "############# Run 2 #############\n",
      "\tSaving in /neurospin/unicog/protocols/IRMf/LePetitPrince_Pallier_2018/LePetitPrince/data/stimuli-representations/english/gpt2_control_1111_layer-12.\n"
     ]
    },
    {
     "name": "stderr",
     "output_type": "stream",
     "text": [
      "\r",
      "3it [00:34, 11.39s/it]"
     ]
    },
    {
     "name": "stdout",
     "output_type": "stream",
     "text": [
      "############# Run 3 #############\n",
      "\tSaving in /neurospin/unicog/protocols/IRMf/LePetitPrince_Pallier_2018/LePetitPrince/data/stimuli-representations/english/gpt2_control_1111_layer-12.\n"
     ]
    },
    {
     "name": "stderr",
     "output_type": "stream",
     "text": [
      "\r",
      "4it [00:46, 11.60s/it]"
     ]
    },
    {
     "name": "stdout",
     "output_type": "stream",
     "text": [
      "############# Run 4 #############\n",
      "\tSaving in /neurospin/unicog/protocols/IRMf/LePetitPrince_Pallier_2018/LePetitPrince/data/stimuli-representations/english/gpt2_control_1111_layer-12.\n"
     ]
    },
    {
     "name": "stderr",
     "output_type": "stream",
     "text": [
      "\r",
      "5it [00:59, 12.20s/it]"
     ]
    },
    {
     "name": "stdout",
     "output_type": "stream",
     "text": [
      "############# Run 5 #############\n",
      "\tSaving in /neurospin/unicog/protocols/IRMf/LePetitPrince_Pallier_2018/LePetitPrince/data/stimuli-representations/english/gpt2_control_1111_layer-12.\n"
     ]
    },
    {
     "name": "stderr",
     "output_type": "stream",
     "text": [
      "\r",
      "6it [01:15, 13.15s/it]"
     ]
    },
    {
     "name": "stdout",
     "output_type": "stream",
     "text": [
      "############# Run 6 #############\n",
      "\tSaving in /neurospin/unicog/protocols/IRMf/LePetitPrince_Pallier_2018/LePetitPrince/data/stimuli-representations/english/gpt2_control_1111_layer-12.\n"
     ]
    },
    {
     "name": "stderr",
     "output_type": "stream",
     "text": [
      "\r",
      "7it [01:28, 13.23s/it]"
     ]
    },
    {
     "name": "stdout",
     "output_type": "stream",
     "text": [
      "############# Run 7 #############\n",
      "\tSaving in /neurospin/unicog/protocols/IRMf/LePetitPrince_Pallier_2018/LePetitPrince/data/stimuli-representations/english/gpt2_control_1111_layer-12.\n"
     ]
    },
    {
     "name": "stderr",
     "output_type": "stream",
     "text": [
      "\r",
      "8it [01:40, 12.69s/it]"
     ]
    },
    {
     "name": "stdout",
     "output_type": "stream",
     "text": [
      "############# Run 8 #############\n",
      "\tSaving in /neurospin/unicog/protocols/IRMf/LePetitPrince_Pallier_2018/LePetitPrince/data/stimuli-representations/english/gpt2_control_1111_layer-12.\n"
     ]
    },
    {
     "name": "stderr",
     "output_type": "stream",
     "text": [
      "9it [01:54, 12.76s/it]\n",
      "0it [00:00, ?it/s]"
     ]
    },
    {
     "name": "stdout",
     "output_type": "stream",
     "text": [
      "gpt2_control_61  - Extracting activations for layer 0...\n",
      "############# Run 0 #############\n",
      "\tSaving in /neurospin/unicog/protocols/IRMf/LePetitPrince_Pallier_2018/LePetitPrince/data/stimuli-representations/english/gpt2_control_61_layer-0.\n"
     ]
    },
    {
     "name": "stderr",
     "output_type": "stream",
     "text": [
      "\r",
      "1it [00:28, 28.89s/it]"
     ]
    },
    {
     "name": "stdout",
     "output_type": "stream",
     "text": [
      "############# Run 1 #############\n",
      "\tSaving in /neurospin/unicog/protocols/IRMf/LePetitPrince_Pallier_2018/LePetitPrince/data/stimuli-representations/english/gpt2_control_61_layer-0.\n"
     ]
    },
    {
     "name": "stderr",
     "output_type": "stream",
     "text": [
      "\r",
      "2it [00:55, 28.08s/it]"
     ]
    },
    {
     "name": "stdout",
     "output_type": "stream",
     "text": [
      "############# Run 2 #############\n",
      "\tSaving in /neurospin/unicog/protocols/IRMf/LePetitPrince_Pallier_2018/LePetitPrince/data/stimuli-representations/english/gpt2_control_61_layer-0.\n"
     ]
    },
    {
     "name": "stderr",
     "output_type": "stream",
     "text": [
      "\r",
      "3it [01:06, 22.96s/it]"
     ]
    },
    {
     "name": "stdout",
     "output_type": "stream",
     "text": [
      "############# Run 3 #############\n",
      "\tSaving in /neurospin/unicog/protocols/IRMf/LePetitPrince_Pallier_2018/LePetitPrince/data/stimuli-representations/english/gpt2_control_61_layer-0.\n"
     ]
    },
    {
     "name": "stderr",
     "output_type": "stream",
     "text": [
      "\r",
      "4it [01:16, 19.23s/it]"
     ]
    },
    {
     "name": "stdout",
     "output_type": "stream",
     "text": [
      "############# Run 4 #############\n",
      "\tSaving in /neurospin/unicog/protocols/IRMf/LePetitPrince_Pallier_2018/LePetitPrince/data/stimuli-representations/english/gpt2_control_61_layer-0.\n"
     ]
    },
    {
     "name": "stderr",
     "output_type": "stream",
     "text": [
      "\r",
      "5it [01:27, 16.59s/it]"
     ]
    },
    {
     "name": "stdout",
     "output_type": "stream",
     "text": [
      "############# Run 5 #############\n",
      "\tSaving in /neurospin/unicog/protocols/IRMf/LePetitPrince_Pallier_2018/LePetitPrince/data/stimuli-representations/english/gpt2_control_61_layer-0.\n"
     ]
    },
    {
     "name": "stderr",
     "output_type": "stream",
     "text": [
      "\r",
      "6it [01:39, 15.25s/it]"
     ]
    },
    {
     "name": "stdout",
     "output_type": "stream",
     "text": [
      "############# Run 6 #############\n",
      "\tSaving in /neurospin/unicog/protocols/IRMf/LePetitPrince_Pallier_2018/LePetitPrince/data/stimuli-representations/english/gpt2_control_61_layer-0.\n"
     ]
    },
    {
     "name": "stderr",
     "output_type": "stream",
     "text": [
      "\r",
      "7it [01:50, 14.16s/it]"
     ]
    },
    {
     "name": "stdout",
     "output_type": "stream",
     "text": [
      "############# Run 7 #############\n",
      "\tSaving in /neurospin/unicog/protocols/IRMf/LePetitPrince_Pallier_2018/LePetitPrince/data/stimuli-representations/english/gpt2_control_61_layer-0.\n"
     ]
    },
    {
     "name": "stderr",
     "output_type": "stream",
     "text": [
      "\r",
      "8it [01:59, 12.59s/it]"
     ]
    },
    {
     "name": "stdout",
     "output_type": "stream",
     "text": [
      "############# Run 8 #############\n",
      "\tSaving in /neurospin/unicog/protocols/IRMf/LePetitPrince_Pallier_2018/LePetitPrince/data/stimuli-representations/english/gpt2_control_61_layer-0.\n"
     ]
    },
    {
     "name": "stderr",
     "output_type": "stream",
     "text": [
      "9it [02:12, 14.67s/it]\n",
      "0it [00:00, ?it/s]"
     ]
    },
    {
     "name": "stdout",
     "output_type": "stream",
     "text": [
      "gpt2_control_61  - Extracting activations for layer 1...\n",
      "############# Run 0 #############\n",
      "\tSaving in /neurospin/unicog/protocols/IRMf/LePetitPrince_Pallier_2018/LePetitPrince/data/stimuli-representations/english/gpt2_control_61_layer-1.\n"
     ]
    },
    {
     "name": "stderr",
     "output_type": "stream",
     "text": [
      "\r",
      "1it [00:09,  9.94s/it]"
     ]
    },
    {
     "name": "stdout",
     "output_type": "stream",
     "text": [
      "############# Run 1 #############\n",
      "\tSaving in /neurospin/unicog/protocols/IRMf/LePetitPrince_Pallier_2018/LePetitPrince/data/stimuli-representations/english/gpt2_control_61_layer-1.\n"
     ]
    },
    {
     "name": "stderr",
     "output_type": "stream",
     "text": [
      "\r",
      "2it [00:20, 10.05s/it]"
     ]
    },
    {
     "name": "stdout",
     "output_type": "stream",
     "text": [
      "############# Run 2 #############\n",
      "\tSaving in /neurospin/unicog/protocols/IRMf/LePetitPrince_Pallier_2018/LePetitPrince/data/stimuli-representations/english/gpt2_control_61_layer-1.\n"
     ]
    },
    {
     "name": "stderr",
     "output_type": "stream",
     "text": [
      "\r",
      "3it [00:33, 10.90s/it]"
     ]
    },
    {
     "name": "stdout",
     "output_type": "stream",
     "text": [
      "############# Run 3 #############\n",
      "\tSaving in /neurospin/unicog/protocols/IRMf/LePetitPrince_Pallier_2018/LePetitPrince/data/stimuli-representations/english/gpt2_control_61_layer-1.\n"
     ]
    },
    {
     "name": "stderr",
     "output_type": "stream",
     "text": [
      "\r",
      "4it [00:46, 11.60s/it]"
     ]
    },
    {
     "name": "stdout",
     "output_type": "stream",
     "text": [
      "############# Run 4 #############\n",
      "\tSaving in /neurospin/unicog/protocols/IRMf/LePetitPrince_Pallier_2018/LePetitPrince/data/stimuli-representations/english/gpt2_control_61_layer-1.\n"
     ]
    },
    {
     "name": "stderr",
     "output_type": "stream",
     "text": [
      "\r",
      "5it [00:59, 12.13s/it]"
     ]
    },
    {
     "name": "stdout",
     "output_type": "stream",
     "text": [
      "############# Run 5 #############\n",
      "\tSaving in /neurospin/unicog/protocols/IRMf/LePetitPrince_Pallier_2018/LePetitPrince/data/stimuli-representations/english/gpt2_control_61_layer-1.\n"
     ]
    },
    {
     "name": "stderr",
     "output_type": "stream",
     "text": [
      "\r",
      "6it [01:14, 12.81s/it]"
     ]
    },
    {
     "name": "stdout",
     "output_type": "stream",
     "text": [
      "############# Run 6 #############\n",
      "\tSaving in /neurospin/unicog/protocols/IRMf/LePetitPrince_Pallier_2018/LePetitPrince/data/stimuli-representations/english/gpt2_control_61_layer-1.\n"
     ]
    },
    {
     "name": "stderr",
     "output_type": "stream",
     "text": [
      "\r",
      "7it [01:27, 12.94s/it]"
     ]
    },
    {
     "name": "stdout",
     "output_type": "stream",
     "text": [
      "############# Run 7 #############\n",
      "\tSaving in /neurospin/unicog/protocols/IRMf/LePetitPrince_Pallier_2018/LePetitPrince/data/stimuli-representations/english/gpt2_control_61_layer-1.\n"
     ]
    },
    {
     "name": "stderr",
     "output_type": "stream",
     "text": [
      "\r",
      "8it [01:37, 12.21s/it]"
     ]
    },
    {
     "name": "stdout",
     "output_type": "stream",
     "text": [
      "############# Run 8 #############\n",
      "\tSaving in /neurospin/unicog/protocols/IRMf/LePetitPrince_Pallier_2018/LePetitPrince/data/stimuli-representations/english/gpt2_control_61_layer-1.\n"
     ]
    },
    {
     "name": "stderr",
     "output_type": "stream",
     "text": [
      "9it [01:51, 12.42s/it]\n",
      "0it [00:00, ?it/s]"
     ]
    },
    {
     "name": "stdout",
     "output_type": "stream",
     "text": [
      "gpt2_control_61  - Extracting activations for layer 2...\n",
      "############# Run 0 #############\n",
      "\tSaving in /neurospin/unicog/protocols/IRMf/LePetitPrince_Pallier_2018/LePetitPrince/data/stimuli-representations/english/gpt2_control_61_layer-2.\n"
     ]
    },
    {
     "name": "stderr",
     "output_type": "stream",
     "text": [
      "\r",
      "1it [00:09,  9.55s/it]"
     ]
    },
    {
     "name": "stdout",
     "output_type": "stream",
     "text": [
      "############# Run 1 #############\n",
      "\tSaving in /neurospin/unicog/protocols/IRMf/LePetitPrince_Pallier_2018/LePetitPrince/data/stimuli-representations/english/gpt2_control_61_layer-2.\n"
     ]
    },
    {
     "name": "stderr",
     "output_type": "stream",
     "text": [
      "\r",
      "2it [00:19,  9.56s/it]"
     ]
    },
    {
     "name": "stdout",
     "output_type": "stream",
     "text": [
      "############# Run 2 #############\n",
      "\tSaving in /neurospin/unicog/protocols/IRMf/LePetitPrince_Pallier_2018/LePetitPrince/data/stimuli-representations/english/gpt2_control_61_layer-2.\n"
     ]
    },
    {
     "name": "stderr",
     "output_type": "stream",
     "text": [
      "\r",
      "3it [00:31, 10.36s/it]"
     ]
    },
    {
     "name": "stdout",
     "output_type": "stream",
     "text": [
      "############# Run 3 #############\n",
      "\tSaving in /neurospin/unicog/protocols/IRMf/LePetitPrince_Pallier_2018/LePetitPrince/data/stimuli-representations/english/gpt2_control_61_layer-2.\n"
     ]
    },
    {
     "name": "stderr",
     "output_type": "stream",
     "text": [
      "\r",
      "4it [00:43, 10.87s/it]"
     ]
    },
    {
     "name": "stdout",
     "output_type": "stream",
     "text": [
      "############# Run 4 #############\n",
      "\tSaving in /neurospin/unicog/protocols/IRMf/LePetitPrince_Pallier_2018/LePetitPrince/data/stimuli-representations/english/gpt2_control_61_layer-2.\n"
     ]
    },
    {
     "name": "stderr",
     "output_type": "stream",
     "text": [
      "\r",
      "5it [01:20, 18.80s/it]"
     ]
    },
    {
     "name": "stdout",
     "output_type": "stream",
     "text": [
      "############# Run 5 #############\n",
      "\tSaving in /neurospin/unicog/protocols/IRMf/LePetitPrince_Pallier_2018/LePetitPrince/data/stimuli-representations/english/gpt2_control_61_layer-2.\n"
     ]
    },
    {
     "name": "stderr",
     "output_type": "stream",
     "text": [
      "\r",
      "6it [01:45, 20.56s/it]"
     ]
    },
    {
     "name": "stdout",
     "output_type": "stream",
     "text": [
      "############# Run 6 #############\n",
      "\tSaving in /neurospin/unicog/protocols/IRMf/LePetitPrince_Pallier_2018/LePetitPrince/data/stimuli-representations/english/gpt2_control_61_layer-2.\n"
     ]
    },
    {
     "name": "stderr",
     "output_type": "stream",
     "text": [
      "\r",
      "7it [01:57, 18.14s/it]"
     ]
    },
    {
     "name": "stdout",
     "output_type": "stream",
     "text": [
      "############# Run 7 #############\n",
      "\tSaving in /neurospin/unicog/protocols/IRMf/LePetitPrince_Pallier_2018/LePetitPrince/data/stimuli-representations/english/gpt2_control_61_layer-2.\n"
     ]
    },
    {
     "name": "stderr",
     "output_type": "stream",
     "text": [
      "\r",
      "8it [02:08, 15.81s/it]"
     ]
    },
    {
     "name": "stdout",
     "output_type": "stream",
     "text": [
      "############# Run 8 #############\n",
      "\tSaving in /neurospin/unicog/protocols/IRMf/LePetitPrince_Pallier_2018/LePetitPrince/data/stimuli-representations/english/gpt2_control_61_layer-2.\n"
     ]
    },
    {
     "name": "stderr",
     "output_type": "stream",
     "text": [
      "9it [02:22, 15.81s/it]\n",
      "0it [00:00, ?it/s]"
     ]
    },
    {
     "name": "stdout",
     "output_type": "stream",
     "text": [
      "gpt2_control_61  - Extracting activations for layer 3...\n",
      "############# Run 0 #############\n",
      "\tSaving in /neurospin/unicog/protocols/IRMf/LePetitPrince_Pallier_2018/LePetitPrince/data/stimuli-representations/english/gpt2_control_61_layer-3.\n"
     ]
    },
    {
     "name": "stderr",
     "output_type": "stream",
     "text": [
      "\r",
      "1it [00:09,  9.77s/it]"
     ]
    },
    {
     "name": "stdout",
     "output_type": "stream",
     "text": [
      "############# Run 1 #############\n",
      "\tSaving in /neurospin/unicog/protocols/IRMf/LePetitPrince_Pallier_2018/LePetitPrince/data/stimuli-representations/english/gpt2_control_61_layer-3.\n"
     ]
    },
    {
     "name": "stderr",
     "output_type": "stream",
     "text": [
      "\r",
      "2it [00:20,  9.95s/it]"
     ]
    },
    {
     "name": "stdout",
     "output_type": "stream",
     "text": [
      "############# Run 2 #############\n",
      "\tSaving in /neurospin/unicog/protocols/IRMf/LePetitPrince_Pallier_2018/LePetitPrince/data/stimuli-representations/english/gpt2_control_61_layer-3.\n"
     ]
    },
    {
     "name": "stderr",
     "output_type": "stream",
     "text": [
      "\r",
      "3it [00:32, 10.54s/it]"
     ]
    },
    {
     "name": "stdout",
     "output_type": "stream",
     "text": [
      "############# Run 3 #############\n",
      "\tSaving in /neurospin/unicog/protocols/IRMf/LePetitPrince_Pallier_2018/LePetitPrince/data/stimuli-representations/english/gpt2_control_61_layer-3.\n"
     ]
    },
    {
     "name": "stderr",
     "output_type": "stream",
     "text": [
      "\r",
      "4it [00:44, 11.00s/it]"
     ]
    },
    {
     "name": "stdout",
     "output_type": "stream",
     "text": [
      "############# Run 4 #############\n",
      "\tSaving in /neurospin/unicog/protocols/IRMf/LePetitPrince_Pallier_2018/LePetitPrince/data/stimuli-representations/english/gpt2_control_61_layer-3.\n"
     ]
    },
    {
     "name": "stderr",
     "output_type": "stream",
     "text": [
      "\r",
      "5it [00:56, 11.29s/it]"
     ]
    },
    {
     "name": "stdout",
     "output_type": "stream",
     "text": [
      "############# Run 5 #############\n",
      "\tSaving in /neurospin/unicog/protocols/IRMf/LePetitPrince_Pallier_2018/LePetitPrince/data/stimuli-representations/english/gpt2_control_61_layer-3.\n"
     ]
    },
    {
     "name": "stderr",
     "output_type": "stream",
     "text": [
      "\r",
      "6it [01:09, 12.02s/it]"
     ]
    },
    {
     "name": "stdout",
     "output_type": "stream",
     "text": [
      "############# Run 6 #############\n",
      "\tSaving in /neurospin/unicog/protocols/IRMf/LePetitPrince_Pallier_2018/LePetitPrince/data/stimuli-representations/english/gpt2_control_61_layer-3.\n"
     ]
    },
    {
     "name": "stderr",
     "output_type": "stream",
     "text": [
      "\r",
      "7it [01:22, 12.37s/it]"
     ]
    },
    {
     "name": "stdout",
     "output_type": "stream",
     "text": [
      "############# Run 7 #############\n",
      "\tSaving in /neurospin/unicog/protocols/IRMf/LePetitPrince_Pallier_2018/LePetitPrince/data/stimuli-representations/english/gpt2_control_61_layer-3.\n"
     ]
    },
    {
     "name": "stderr",
     "output_type": "stream",
     "text": [
      "\r",
      "8it [01:33, 11.75s/it]"
     ]
    },
    {
     "name": "stdout",
     "output_type": "stream",
     "text": [
      "############# Run 8 #############\n",
      "\tSaving in /neurospin/unicog/protocols/IRMf/LePetitPrince_Pallier_2018/LePetitPrince/data/stimuli-representations/english/gpt2_control_61_layer-3.\n"
     ]
    },
    {
     "name": "stderr",
     "output_type": "stream",
     "text": [
      "9it [01:47, 11.94s/it]\n",
      "0it [00:00, ?it/s]"
     ]
    },
    {
     "name": "stdout",
     "output_type": "stream",
     "text": [
      "gpt2_control_61  - Extracting activations for layer 4...\n",
      "############# Run 0 #############\n",
      "\tSaving in /neurospin/unicog/protocols/IRMf/LePetitPrince_Pallier_2018/LePetitPrince/data/stimuli-representations/english/gpt2_control_61_layer-4.\n"
     ]
    },
    {
     "name": "stderr",
     "output_type": "stream",
     "text": [
      "\r",
      "1it [00:10, 10.52s/it]"
     ]
    },
    {
     "name": "stdout",
     "output_type": "stream",
     "text": [
      "############# Run 1 #############\n",
      "\tSaving in /neurospin/unicog/protocols/IRMf/LePetitPrince_Pallier_2018/LePetitPrince/data/stimuli-representations/english/gpt2_control_61_layer-4.\n"
     ]
    },
    {
     "name": "stderr",
     "output_type": "stream",
     "text": [
      "\r",
      "2it [00:21, 10.54s/it]"
     ]
    },
    {
     "name": "stdout",
     "output_type": "stream",
     "text": [
      "############# Run 2 #############\n",
      "\tSaving in /neurospin/unicog/protocols/IRMf/LePetitPrince_Pallier_2018/LePetitPrince/data/stimuli-representations/english/gpt2_control_61_layer-4.\n"
     ]
    },
    {
     "name": "stderr",
     "output_type": "stream",
     "text": [
      "\r",
      "3it [00:34, 11.28s/it]"
     ]
    },
    {
     "name": "stdout",
     "output_type": "stream",
     "text": [
      "############# Run 3 #############\n",
      "\tSaving in /neurospin/unicog/protocols/IRMf/LePetitPrince_Pallier_2018/LePetitPrince/data/stimuli-representations/english/gpt2_control_61_layer-4.\n"
     ]
    },
    {
     "name": "stderr",
     "output_type": "stream",
     "text": [
      "\r",
      "4it [00:46, 11.54s/it]"
     ]
    },
    {
     "name": "stdout",
     "output_type": "stream",
     "text": [
      "############# Run 4 #############\n",
      "\tSaving in /neurospin/unicog/protocols/IRMf/LePetitPrince_Pallier_2018/LePetitPrince/data/stimuli-representations/english/gpt2_control_61_layer-4.\n"
     ]
    },
    {
     "name": "stderr",
     "output_type": "stream",
     "text": [
      "\r",
      "5it [00:58, 11.66s/it]"
     ]
    },
    {
     "name": "stdout",
     "output_type": "stream",
     "text": [
      "############# Run 5 #############\n",
      "\tSaving in /neurospin/unicog/protocols/IRMf/LePetitPrince_Pallier_2018/LePetitPrince/data/stimuli-representations/english/gpt2_control_61_layer-4.\n"
     ]
    },
    {
     "name": "stderr",
     "output_type": "stream",
     "text": [
      "\r",
      "6it [01:12, 12.42s/it]"
     ]
    },
    {
     "name": "stdout",
     "output_type": "stream",
     "text": [
      "############# Run 6 #############\n",
      "\tSaving in /neurospin/unicog/protocols/IRMf/LePetitPrince_Pallier_2018/LePetitPrince/data/stimuli-representations/english/gpt2_control_61_layer-4.\n"
     ]
    },
    {
     "name": "stderr",
     "output_type": "stream",
     "text": [
      "\r",
      "7it [01:27, 13.09s/it]"
     ]
    },
    {
     "name": "stdout",
     "output_type": "stream",
     "text": [
      "############# Run 7 #############\n",
      "\tSaving in /neurospin/unicog/protocols/IRMf/LePetitPrince_Pallier_2018/LePetitPrince/data/stimuli-representations/english/gpt2_control_61_layer-4.\n"
     ]
    },
    {
     "name": "stderr",
     "output_type": "stream",
     "text": [
      "\r",
      "8it [02:01, 19.54s/it]"
     ]
    },
    {
     "name": "stdout",
     "output_type": "stream",
     "text": [
      "############# Run 8 #############\n",
      "\tSaving in /neurospin/unicog/protocols/IRMf/LePetitPrince_Pallier_2018/LePetitPrince/data/stimuli-representations/english/gpt2_control_61_layer-4.\n"
     ]
    },
    {
     "name": "stderr",
     "output_type": "stream",
     "text": [
      "9it [02:25, 16.21s/it]\n",
      "0it [00:00, ?it/s]"
     ]
    },
    {
     "name": "stdout",
     "output_type": "stream",
     "text": [
      "gpt2_control_61  - Extracting activations for layer 5...\n",
      "############# Run 0 #############\n",
      "\tSaving in /neurospin/unicog/protocols/IRMf/LePetitPrince_Pallier_2018/LePetitPrince/data/stimuli-representations/english/gpt2_control_61_layer-5.\n"
     ]
    },
    {
     "name": "stderr",
     "output_type": "stream",
     "text": [
      "\r",
      "1it [00:09,  9.92s/it]"
     ]
    },
    {
     "name": "stdout",
     "output_type": "stream",
     "text": [
      "############# Run 1 #############\n",
      "\tSaving in /neurospin/unicog/protocols/IRMf/LePetitPrince_Pallier_2018/LePetitPrince/data/stimuli-representations/english/gpt2_control_61_layer-5.\n"
     ]
    },
    {
     "name": "stderr",
     "output_type": "stream",
     "text": [
      "\r",
      "2it [00:20, 10.11s/it]"
     ]
    },
    {
     "name": "stdout",
     "output_type": "stream",
     "text": [
      "############# Run 2 #############\n",
      "\tSaving in /neurospin/unicog/protocols/IRMf/LePetitPrince_Pallier_2018/LePetitPrince/data/stimuli-representations/english/gpt2_control_61_layer-5.\n"
     ]
    },
    {
     "name": "stderr",
     "output_type": "stream",
     "text": [
      "\r",
      "3it [00:33, 10.92s/it]"
     ]
    },
    {
     "name": "stdout",
     "output_type": "stream",
     "text": [
      "############# Run 3 #############\n",
      "\tSaving in /neurospin/unicog/protocols/IRMf/LePetitPrince_Pallier_2018/LePetitPrince/data/stimuli-representations/english/gpt2_control_61_layer-5.\n"
     ]
    },
    {
     "name": "stderr",
     "output_type": "stream",
     "text": [
      "\r",
      "4it [00:45, 11.32s/it]"
     ]
    },
    {
     "name": "stdout",
     "output_type": "stream",
     "text": [
      "############# Run 4 #############\n",
      "\tSaving in /neurospin/unicog/protocols/IRMf/LePetitPrince_Pallier_2018/LePetitPrince/data/stimuli-representations/english/gpt2_control_61_layer-5.\n"
     ]
    },
    {
     "name": "stderr",
     "output_type": "stream",
     "text": [
      "\r",
      "5it [00:57, 11.52s/it]"
     ]
    },
    {
     "name": "stdout",
     "output_type": "stream",
     "text": [
      "############# Run 5 #############\n",
      "\tSaving in /neurospin/unicog/protocols/IRMf/LePetitPrince_Pallier_2018/LePetitPrince/data/stimuli-representations/english/gpt2_control_61_layer-5.\n"
     ]
    },
    {
     "name": "stderr",
     "output_type": "stream",
     "text": [
      "\r",
      "6it [01:11, 12.25s/it]"
     ]
    },
    {
     "name": "stdout",
     "output_type": "stream",
     "text": [
      "############# Run 6 #############\n",
      "\tSaving in /neurospin/unicog/protocols/IRMf/LePetitPrince_Pallier_2018/LePetitPrince/data/stimuli-representations/english/gpt2_control_61_layer-5.\n"
     ]
    },
    {
     "name": "stderr",
     "output_type": "stream",
     "text": [
      "\r",
      "7it [01:24, 12.53s/it]"
     ]
    },
    {
     "name": "stdout",
     "output_type": "stream",
     "text": [
      "############# Run 7 #############\n",
      "\tSaving in /neurospin/unicog/protocols/IRMf/LePetitPrince_Pallier_2018/LePetitPrince/data/stimuli-representations/english/gpt2_control_61_layer-5.\n"
     ]
    },
    {
     "name": "stderr",
     "output_type": "stream",
     "text": [
      "\r",
      "8it [01:35, 12.04s/it]"
     ]
    },
    {
     "name": "stdout",
     "output_type": "stream",
     "text": [
      "############# Run 8 #############\n",
      "\tSaving in /neurospin/unicog/protocols/IRMf/LePetitPrince_Pallier_2018/LePetitPrince/data/stimuli-representations/english/gpt2_control_61_layer-5.\n"
     ]
    },
    {
     "name": "stderr",
     "output_type": "stream",
     "text": [
      "9it [01:49, 12.20s/it]\n",
      "0it [00:00, ?it/s]"
     ]
    },
    {
     "name": "stdout",
     "output_type": "stream",
     "text": [
      "gpt2_control_61  - Extracting activations for layer 6...\n",
      "############# Run 0 #############\n",
      "\tSaving in /neurospin/unicog/protocols/IRMf/LePetitPrince_Pallier_2018/LePetitPrince/data/stimuli-representations/english/gpt2_control_61_layer-6.\n"
     ]
    },
    {
     "name": "stderr",
     "output_type": "stream",
     "text": [
      "\r",
      "1it [00:09, 10.00s/it]"
     ]
    },
    {
     "name": "stdout",
     "output_type": "stream",
     "text": [
      "############# Run 1 #############\n",
      "\tSaving in /neurospin/unicog/protocols/IRMf/LePetitPrince_Pallier_2018/LePetitPrince/data/stimuli-representations/english/gpt2_control_61_layer-6.\n"
     ]
    },
    {
     "name": "stderr",
     "output_type": "stream",
     "text": [
      "\r",
      "2it [00:20, 10.04s/it]"
     ]
    },
    {
     "name": "stdout",
     "output_type": "stream",
     "text": [
      "############# Run 2 #############\n",
      "\tSaving in /neurospin/unicog/protocols/IRMf/LePetitPrince_Pallier_2018/LePetitPrince/data/stimuli-representations/english/gpt2_control_61_layer-6.\n"
     ]
    },
    {
     "name": "stderr",
     "output_type": "stream",
     "text": [
      "\r",
      "3it [00:32, 10.73s/it]"
     ]
    },
    {
     "name": "stdout",
     "output_type": "stream",
     "text": [
      "############# Run 3 #############\n",
      "\tSaving in /neurospin/unicog/protocols/IRMf/LePetitPrince_Pallier_2018/LePetitPrince/data/stimuli-representations/english/gpt2_control_61_layer-6.\n"
     ]
    },
    {
     "name": "stderr",
     "output_type": "stream",
     "text": [
      "\r",
      "4it [00:44, 11.06s/it]"
     ]
    },
    {
     "name": "stdout",
     "output_type": "stream",
     "text": [
      "############# Run 4 #############\n",
      "\tSaving in /neurospin/unicog/protocols/IRMf/LePetitPrince_Pallier_2018/LePetitPrince/data/stimuli-representations/english/gpt2_control_61_layer-6.\n"
     ]
    },
    {
     "name": "stderr",
     "output_type": "stream",
     "text": [
      "\r",
      "5it [00:55, 11.13s/it]"
     ]
    },
    {
     "name": "stdout",
     "output_type": "stream",
     "text": [
      "############# Run 5 #############\n",
      "\tSaving in /neurospin/unicog/protocols/IRMf/LePetitPrince_Pallier_2018/LePetitPrince/data/stimuli-representations/english/gpt2_control_61_layer-6.\n"
     ]
    },
    {
     "name": "stderr",
     "output_type": "stream",
     "text": [
      "\r",
      "6it [01:09, 11.93s/it]"
     ]
    },
    {
     "name": "stdout",
     "output_type": "stream",
     "text": [
      "############# Run 6 #############\n",
      "\tSaving in /neurospin/unicog/protocols/IRMf/LePetitPrince_Pallier_2018/LePetitPrince/data/stimuli-representations/english/gpt2_control_61_layer-6.\n"
     ]
    },
    {
     "name": "stderr",
     "output_type": "stream",
     "text": [
      "\r",
      "7it [01:23, 12.52s/it]"
     ]
    },
    {
     "name": "stdout",
     "output_type": "stream",
     "text": [
      "############# Run 7 #############\n",
      "\tSaving in /neurospin/unicog/protocols/IRMf/LePetitPrince_Pallier_2018/LePetitPrince/data/stimuli-representations/english/gpt2_control_61_layer-6.\n"
     ]
    },
    {
     "name": "stderr",
     "output_type": "stream",
     "text": [
      "\r",
      "8it [01:33, 11.95s/it]"
     ]
    },
    {
     "name": "stdout",
     "output_type": "stream",
     "text": [
      "############# Run 8 #############\n",
      "\tSaving in /neurospin/unicog/protocols/IRMf/LePetitPrince_Pallier_2018/LePetitPrince/data/stimuli-representations/english/gpt2_control_61_layer-6.\n"
     ]
    },
    {
     "name": "stderr",
     "output_type": "stream",
     "text": [
      "9it [01:47, 11.96s/it]\n",
      "0it [00:00, ?it/s]"
     ]
    },
    {
     "name": "stdout",
     "output_type": "stream",
     "text": [
      "gpt2_control_61  - Extracting activations for layer 7...\n",
      "############# Run 0 #############\n",
      "\tSaving in /neurospin/unicog/protocols/IRMf/LePetitPrince_Pallier_2018/LePetitPrince/data/stimuli-representations/english/gpt2_control_61_layer-7.\n"
     ]
    },
    {
     "name": "stderr",
     "output_type": "stream",
     "text": [
      "\r",
      "1it [00:24, 24.22s/it]"
     ]
    },
    {
     "name": "stdout",
     "output_type": "stream",
     "text": [
      "############# Run 1 #############\n",
      "\tSaving in /neurospin/unicog/protocols/IRMf/LePetitPrince_Pallier_2018/LePetitPrince/data/stimuli-representations/english/gpt2_control_61_layer-7.\n"
     ]
    },
    {
     "name": "stderr",
     "output_type": "stream",
     "text": [
      "\r",
      "2it [00:54, 26.09s/it]"
     ]
    },
    {
     "name": "stdout",
     "output_type": "stream",
     "text": [
      "############# Run 2 #############\n",
      "\tSaving in /neurospin/unicog/protocols/IRMf/LePetitPrince_Pallier_2018/LePetitPrince/data/stimuli-representations/english/gpt2_control_61_layer-7.\n"
     ]
    },
    {
     "name": "stderr",
     "output_type": "stream",
     "text": [
      "\r",
      "3it [01:07, 22.04s/it]"
     ]
    },
    {
     "name": "stdout",
     "output_type": "stream",
     "text": [
      "############# Run 3 #############\n",
      "\tSaving in /neurospin/unicog/protocols/IRMf/LePetitPrince_Pallier_2018/LePetitPrince/data/stimuli-representations/english/gpt2_control_61_layer-7.\n"
     ]
    },
    {
     "name": "stderr",
     "output_type": "stream",
     "text": [
      "\r",
      "4it [01:19, 19.13s/it]"
     ]
    },
    {
     "name": "stdout",
     "output_type": "stream",
     "text": [
      "############# Run 4 #############\n",
      "\tSaving in /neurospin/unicog/protocols/IRMf/LePetitPrince_Pallier_2018/LePetitPrince/data/stimuli-representations/english/gpt2_control_61_layer-7.\n"
     ]
    },
    {
     "name": "stderr",
     "output_type": "stream",
     "text": [
      "\r",
      "5it [01:31, 16.91s/it]"
     ]
    },
    {
     "name": "stdout",
     "output_type": "stream",
     "text": [
      "############# Run 5 #############\n",
      "\tSaving in /neurospin/unicog/protocols/IRMf/LePetitPrince_Pallier_2018/LePetitPrince/data/stimuli-representations/english/gpt2_control_61_layer-7.\n"
     ]
    },
    {
     "name": "stderr",
     "output_type": "stream",
     "text": [
      "\r",
      "6it [01:45, 16.19s/it]"
     ]
    },
    {
     "name": "stdout",
     "output_type": "stream",
     "text": [
      "############# Run 6 #############\n",
      "\tSaving in /neurospin/unicog/protocols/IRMf/LePetitPrince_Pallier_2018/LePetitPrince/data/stimuli-representations/english/gpt2_control_61_layer-7.\n"
     ]
    },
    {
     "name": "stderr",
     "output_type": "stream",
     "text": [
      "\r",
      "7it [01:59, 15.41s/it]"
     ]
    },
    {
     "name": "stdout",
     "output_type": "stream",
     "text": [
      "############# Run 7 #############\n",
      "\tSaving in /neurospin/unicog/protocols/IRMf/LePetitPrince_Pallier_2018/LePetitPrince/data/stimuli-representations/english/gpt2_control_61_layer-7.\n"
     ]
    },
    {
     "name": "stderr",
     "output_type": "stream",
     "text": [
      "\r",
      "8it [02:10, 14.05s/it]"
     ]
    },
    {
     "name": "stdout",
     "output_type": "stream",
     "text": [
      "############# Run 8 #############\n",
      "\tSaving in /neurospin/unicog/protocols/IRMf/LePetitPrince_Pallier_2018/LePetitPrince/data/stimuli-representations/english/gpt2_control_61_layer-7.\n"
     ]
    },
    {
     "name": "stderr",
     "output_type": "stream",
     "text": [
      "9it [02:24, 16.07s/it]\n",
      "0it [00:00, ?it/s]"
     ]
    },
    {
     "name": "stdout",
     "output_type": "stream",
     "text": [
      "gpt2_control_61  - Extracting activations for layer 8...\n",
      "############# Run 0 #############\n",
      "\tSaving in /neurospin/unicog/protocols/IRMf/LePetitPrince_Pallier_2018/LePetitPrince/data/stimuli-representations/english/gpt2_control_61_layer-8.\n"
     ]
    },
    {
     "name": "stderr",
     "output_type": "stream",
     "text": [
      "\r",
      "1it [00:11, 11.03s/it]"
     ]
    },
    {
     "name": "stdout",
     "output_type": "stream",
     "text": [
      "############# Run 1 #############\n",
      "\tSaving in /neurospin/unicog/protocols/IRMf/LePetitPrince_Pallier_2018/LePetitPrince/data/stimuli-representations/english/gpt2_control_61_layer-8.\n"
     ]
    },
    {
     "name": "stderr",
     "output_type": "stream",
     "text": [
      "\r",
      "2it [00:21, 10.95s/it]"
     ]
    },
    {
     "name": "stdout",
     "output_type": "stream",
     "text": [
      "############# Run 2 #############\n",
      "\tSaving in /neurospin/unicog/protocols/IRMf/LePetitPrince_Pallier_2018/LePetitPrince/data/stimuli-representations/english/gpt2_control_61_layer-8.\n"
     ]
    },
    {
     "name": "stderr",
     "output_type": "stream",
     "text": [
      "\r",
      "3it [00:34, 11.57s/it]"
     ]
    },
    {
     "name": "stdout",
     "output_type": "stream",
     "text": [
      "############# Run 3 #############\n",
      "\tSaving in /neurospin/unicog/protocols/IRMf/LePetitPrince_Pallier_2018/LePetitPrince/data/stimuli-representations/english/gpt2_control_61_layer-8.\n"
     ]
    },
    {
     "name": "stderr",
     "output_type": "stream",
     "text": [
      "\r",
      "4it [00:47, 11.79s/it]"
     ]
    },
    {
     "name": "stdout",
     "output_type": "stream",
     "text": [
      "############# Run 4 #############\n",
      "\tSaving in /neurospin/unicog/protocols/IRMf/LePetitPrince_Pallier_2018/LePetitPrince/data/stimuli-representations/english/gpt2_control_61_layer-8.\n"
     ]
    },
    {
     "name": "stderr",
     "output_type": "stream",
     "text": [
      "\r",
      "5it [00:59, 11.91s/it]"
     ]
    },
    {
     "name": "stdout",
     "output_type": "stream",
     "text": [
      "############# Run 5 #############\n",
      "\tSaving in /neurospin/unicog/protocols/IRMf/LePetitPrince_Pallier_2018/LePetitPrince/data/stimuli-representations/english/gpt2_control_61_layer-8.\n"
     ]
    },
    {
     "name": "stderr",
     "output_type": "stream",
     "text": [
      "\r",
      "6it [01:13, 12.67s/it]"
     ]
    },
    {
     "name": "stdout",
     "output_type": "stream",
     "text": [
      "############# Run 6 #############\n",
      "\tSaving in /neurospin/unicog/protocols/IRMf/LePetitPrince_Pallier_2018/LePetitPrince/data/stimuli-representations/english/gpt2_control_61_layer-8.\n"
     ]
    },
    {
     "name": "stderr",
     "output_type": "stream",
     "text": [
      "\r",
      "7it [01:27, 12.91s/it]"
     ]
    },
    {
     "name": "stdout",
     "output_type": "stream",
     "text": [
      "############# Run 7 #############\n",
      "\tSaving in /neurospin/unicog/protocols/IRMf/LePetitPrince_Pallier_2018/LePetitPrince/data/stimuli-representations/english/gpt2_control_61_layer-8.\n"
     ]
    },
    {
     "name": "stderr",
     "output_type": "stream",
     "text": [
      "\r",
      "8it [01:38, 12.47s/it]"
     ]
    },
    {
     "name": "stdout",
     "output_type": "stream",
     "text": [
      "############# Run 8 #############\n",
      "\tSaving in /neurospin/unicog/protocols/IRMf/LePetitPrince_Pallier_2018/LePetitPrince/data/stimuli-representations/english/gpt2_control_61_layer-8.\n"
     ]
    },
    {
     "name": "stderr",
     "output_type": "stream",
     "text": [
      "9it [01:53, 12.57s/it]\n",
      "0it [00:00, ?it/s]"
     ]
    },
    {
     "name": "stdout",
     "output_type": "stream",
     "text": [
      "gpt2_control_61  - Extracting activations for layer 9...\n",
      "############# Run 0 #############\n",
      "\tSaving in /neurospin/unicog/protocols/IRMf/LePetitPrince_Pallier_2018/LePetitPrince/data/stimuli-representations/english/gpt2_control_61_layer-9.\n"
     ]
    },
    {
     "name": "stderr",
     "output_type": "stream",
     "text": [
      "\r",
      "1it [00:10, 10.39s/it]"
     ]
    },
    {
     "name": "stdout",
     "output_type": "stream",
     "text": [
      "############# Run 1 #############\n",
      "\tSaving in /neurospin/unicog/protocols/IRMf/LePetitPrince_Pallier_2018/LePetitPrince/data/stimuli-representations/english/gpt2_control_61_layer-9.\n"
     ]
    },
    {
     "name": "stderr",
     "output_type": "stream",
     "text": [
      "\r",
      "2it [00:20, 10.26s/it]"
     ]
    },
    {
     "name": "stdout",
     "output_type": "stream",
     "text": [
      "############# Run 2 #############\n",
      "\tSaving in /neurospin/unicog/protocols/IRMf/LePetitPrince_Pallier_2018/LePetitPrince/data/stimuli-representations/english/gpt2_control_61_layer-9.\n"
     ]
    },
    {
     "name": "stderr",
     "output_type": "stream",
     "text": [
      "\r",
      "3it [00:33, 11.13s/it]"
     ]
    },
    {
     "name": "stdout",
     "output_type": "stream",
     "text": [
      "############# Run 3 #############\n",
      "\tSaving in /neurospin/unicog/protocols/IRMf/LePetitPrince_Pallier_2018/LePetitPrince/data/stimuli-representations/english/gpt2_control_61_layer-9.\n"
     ]
    },
    {
     "name": "stderr",
     "output_type": "stream",
     "text": [
      "\r",
      "4it [01:05, 17.34s/it]"
     ]
    },
    {
     "name": "stdout",
     "output_type": "stream",
     "text": [
      "############# Run 4 #############\n",
      "\tSaving in /neurospin/unicog/protocols/IRMf/LePetitPrince_Pallier_2018/LePetitPrince/data/stimuli-representations/english/gpt2_control_61_layer-9.\n"
     ]
    },
    {
     "name": "stderr",
     "output_type": "stream",
     "text": [
      "\r",
      "5it [01:34, 20.98s/it]"
     ]
    },
    {
     "name": "stdout",
     "output_type": "stream",
     "text": [
      "############# Run 5 #############\n",
      "\tSaving in /neurospin/unicog/protocols/IRMf/LePetitPrince_Pallier_2018/LePetitPrince/data/stimuli-representations/english/gpt2_control_61_layer-9.\n"
     ]
    },
    {
     "name": "stderr",
     "output_type": "stream",
     "text": [
      "\r",
      "6it [01:49, 19.09s/it]"
     ]
    },
    {
     "name": "stdout",
     "output_type": "stream",
     "text": [
      "############# Run 6 #############\n",
      "\tSaving in /neurospin/unicog/protocols/IRMf/LePetitPrince_Pallier_2018/LePetitPrince/data/stimuli-representations/english/gpt2_control_61_layer-9.\n"
     ]
    },
    {
     "name": "stderr",
     "output_type": "stream",
     "text": [
      "\r",
      "7it [02:03, 17.46s/it]"
     ]
    },
    {
     "name": "stdout",
     "output_type": "stream",
     "text": [
      "############# Run 7 #############\n",
      "\tSaving in /neurospin/unicog/protocols/IRMf/LePetitPrince_Pallier_2018/LePetitPrince/data/stimuli-representations/english/gpt2_control_61_layer-9.\n"
     ]
    },
    {
     "name": "stderr",
     "output_type": "stream",
     "text": [
      "\r",
      "8it [02:13, 15.38s/it]"
     ]
    },
    {
     "name": "stdout",
     "output_type": "stream",
     "text": [
      "############# Run 8 #############\n",
      "\tSaving in /neurospin/unicog/protocols/IRMf/LePetitPrince_Pallier_2018/LePetitPrince/data/stimuli-representations/english/gpt2_control_61_layer-9.\n"
     ]
    },
    {
     "name": "stderr",
     "output_type": "stream",
     "text": [
      "9it [02:27, 16.43s/it]\n",
      "0it [00:00, ?it/s]"
     ]
    },
    {
     "name": "stdout",
     "output_type": "stream",
     "text": [
      "gpt2_control_61  - Extracting activations for layer 10...\n",
      "############# Run 0 #############\n",
      "\tSaving in /neurospin/unicog/protocols/IRMf/LePetitPrince_Pallier_2018/LePetitPrince/data/stimuli-representations/english/gpt2_control_61_layer-10.\n"
     ]
    },
    {
     "name": "stderr",
     "output_type": "stream",
     "text": [
      "\r",
      "1it [00:09,  9.89s/it]"
     ]
    },
    {
     "name": "stdout",
     "output_type": "stream",
     "text": [
      "############# Run 1 #############\n",
      "\tSaving in /neurospin/unicog/protocols/IRMf/LePetitPrince_Pallier_2018/LePetitPrince/data/stimuli-representations/english/gpt2_control_61_layer-10.\n"
     ]
    },
    {
     "name": "stderr",
     "output_type": "stream",
     "text": [
      "\r",
      "2it [00:20, 10.25s/it]"
     ]
    },
    {
     "name": "stdout",
     "output_type": "stream",
     "text": [
      "############# Run 2 #############\n",
      "\tSaving in /neurospin/unicog/protocols/IRMf/LePetitPrince_Pallier_2018/LePetitPrince/data/stimuli-representations/english/gpt2_control_61_layer-10.\n"
     ]
    },
    {
     "name": "stderr",
     "output_type": "stream",
     "text": [
      "\r",
      "3it [00:33, 10.83s/it]"
     ]
    },
    {
     "name": "stdout",
     "output_type": "stream",
     "text": [
      "############# Run 3 #############\n",
      "\tSaving in /neurospin/unicog/protocols/IRMf/LePetitPrince_Pallier_2018/LePetitPrince/data/stimuli-representations/english/gpt2_control_61_layer-10.\n"
     ]
    },
    {
     "name": "stderr",
     "output_type": "stream",
     "text": [
      "\r",
      "4it [00:44, 11.12s/it]"
     ]
    },
    {
     "name": "stdout",
     "output_type": "stream",
     "text": [
      "############# Run 4 #############\n",
      "\tSaving in /neurospin/unicog/protocols/IRMf/LePetitPrince_Pallier_2018/LePetitPrince/data/stimuli-representations/english/gpt2_control_61_layer-10.\n"
     ]
    },
    {
     "name": "stderr",
     "output_type": "stream",
     "text": [
      "\r",
      "5it [00:56, 11.23s/it]"
     ]
    },
    {
     "name": "stdout",
     "output_type": "stream",
     "text": [
      "############# Run 5 #############\n",
      "\tSaving in /neurospin/unicog/protocols/IRMf/LePetitPrince_Pallier_2018/LePetitPrince/data/stimuli-representations/english/gpt2_control_61_layer-10.\n"
     ]
    },
    {
     "name": "stderr",
     "output_type": "stream",
     "text": [
      "\r",
      "6it [01:11, 12.40s/it]"
     ]
    },
    {
     "name": "stdout",
     "output_type": "stream",
     "text": [
      "############# Run 6 #############\n",
      "\tSaving in /neurospin/unicog/protocols/IRMf/LePetitPrince_Pallier_2018/LePetitPrince/data/stimuli-representations/english/gpt2_control_61_layer-10.\n"
     ]
    },
    {
     "name": "stderr",
     "output_type": "stream",
     "text": [
      "\r",
      "7it [01:24, 12.69s/it]"
     ]
    },
    {
     "name": "stdout",
     "output_type": "stream",
     "text": [
      "############# Run 7 #############\n",
      "\tSaving in /neurospin/unicog/protocols/IRMf/LePetitPrince_Pallier_2018/LePetitPrince/data/stimuli-representations/english/gpt2_control_61_layer-10.\n"
     ]
    },
    {
     "name": "stderr",
     "output_type": "stream",
     "text": [
      "\r",
      "8it [01:35, 12.09s/it]"
     ]
    },
    {
     "name": "stdout",
     "output_type": "stream",
     "text": [
      "############# Run 8 #############\n",
      "\tSaving in /neurospin/unicog/protocols/IRMf/LePetitPrince_Pallier_2018/LePetitPrince/data/stimuli-representations/english/gpt2_control_61_layer-10.\n"
     ]
    },
    {
     "name": "stderr",
     "output_type": "stream",
     "text": [
      "9it [01:49, 12.20s/it]\n",
      "0it [00:00, ?it/s]"
     ]
    },
    {
     "name": "stdout",
     "output_type": "stream",
     "text": [
      "gpt2_control_61  - Extracting activations for layer 11...\n",
      "############# Run 0 #############\n",
      "\tSaving in /neurospin/unicog/protocols/IRMf/LePetitPrince_Pallier_2018/LePetitPrince/data/stimuli-representations/english/gpt2_control_61_layer-11.\n"
     ]
    },
    {
     "name": "stderr",
     "output_type": "stream",
     "text": [
      "\r",
      "1it [00:10, 10.33s/it]"
     ]
    },
    {
     "name": "stdout",
     "output_type": "stream",
     "text": [
      "############# Run 1 #############\n",
      "\tSaving in /neurospin/unicog/protocols/IRMf/LePetitPrince_Pallier_2018/LePetitPrince/data/stimuli-representations/english/gpt2_control_61_layer-11.\n"
     ]
    },
    {
     "name": "stderr",
     "output_type": "stream",
     "text": [
      "\r",
      "2it [00:20, 10.36s/it]"
     ]
    },
    {
     "name": "stdout",
     "output_type": "stream",
     "text": [
      "############# Run 2 #############\n",
      "\tSaving in /neurospin/unicog/protocols/IRMf/LePetitPrince_Pallier_2018/LePetitPrince/data/stimuli-representations/english/gpt2_control_61_layer-11.\n"
     ]
    },
    {
     "name": "stderr",
     "output_type": "stream",
     "text": [
      "\r",
      "3it [00:33, 11.07s/it]"
     ]
    },
    {
     "name": "stdout",
     "output_type": "stream",
     "text": [
      "############# Run 3 #############\n",
      "\tSaving in /neurospin/unicog/protocols/IRMf/LePetitPrince_Pallier_2018/LePetitPrince/data/stimuli-representations/english/gpt2_control_61_layer-11.\n"
     ]
    },
    {
     "name": "stderr",
     "output_type": "stream",
     "text": [
      "\r",
      "4it [00:46, 11.51s/it]"
     ]
    },
    {
     "name": "stdout",
     "output_type": "stream",
     "text": [
      "############# Run 4 #############\n",
      "\tSaving in /neurospin/unicog/protocols/IRMf/LePetitPrince_Pallier_2018/LePetitPrince/data/stimuli-representations/english/gpt2_control_61_layer-11.\n"
     ]
    },
    {
     "name": "stderr",
     "output_type": "stream",
     "text": [
      "\r",
      "5it [00:57, 11.51s/it]"
     ]
    },
    {
     "name": "stdout",
     "output_type": "stream",
     "text": [
      "############# Run 5 #############\n",
      "\tSaving in /neurospin/unicog/protocols/IRMf/LePetitPrince_Pallier_2018/LePetitPrince/data/stimuli-representations/english/gpt2_control_61_layer-11.\n"
     ]
    },
    {
     "name": "stderr",
     "output_type": "stream",
     "text": [
      "\r",
      "6it [01:18, 14.43s/it]"
     ]
    },
    {
     "name": "stdout",
     "output_type": "stream",
     "text": [
      "############# Run 6 #############\n",
      "\tSaving in /neurospin/unicog/protocols/IRMf/LePetitPrince_Pallier_2018/LePetitPrince/data/stimuli-representations/english/gpt2_control_61_layer-11.\n"
     ]
    },
    {
     "name": "stderr",
     "output_type": "stream",
     "text": [
      "\r",
      "7it [02:04, 23.69s/it]"
     ]
    },
    {
     "name": "stdout",
     "output_type": "stream",
     "text": [
      "############# Run 7 #############\n",
      "\tSaving in /neurospin/unicog/protocols/IRMf/LePetitPrince_Pallier_2018/LePetitPrince/data/stimuli-representations/english/gpt2_control_61_layer-11.\n"
     ]
    },
    {
     "name": "stderr",
     "output_type": "stream",
     "text": [
      "\r",
      "8it [02:14, 19.74s/it]"
     ]
    },
    {
     "name": "stdout",
     "output_type": "stream",
     "text": [
      "############# Run 8 #############\n",
      "\tSaving in /neurospin/unicog/protocols/IRMf/LePetitPrince_Pallier_2018/LePetitPrince/data/stimuli-representations/english/gpt2_control_61_layer-11.\n"
     ]
    },
    {
     "name": "stderr",
     "output_type": "stream",
     "text": [
      "9it [02:29, 16.57s/it]\n",
      "0it [00:00, ?it/s]"
     ]
    },
    {
     "name": "stdout",
     "output_type": "stream",
     "text": [
      "gpt2_control_61  - Extracting activations for layer 12...\n",
      "############# Run 0 #############\n",
      "\tSaving in /neurospin/unicog/protocols/IRMf/LePetitPrince_Pallier_2018/LePetitPrince/data/stimuli-representations/english/gpt2_control_61_layer-12.\n"
     ]
    },
    {
     "name": "stderr",
     "output_type": "stream",
     "text": [
      "\r",
      "1it [00:09,  9.96s/it]"
     ]
    },
    {
     "name": "stdout",
     "output_type": "stream",
     "text": [
      "############# Run 1 #############\n",
      "\tSaving in /neurospin/unicog/protocols/IRMf/LePetitPrince_Pallier_2018/LePetitPrince/data/stimuli-representations/english/gpt2_control_61_layer-12.\n"
     ]
    },
    {
     "name": "stderr",
     "output_type": "stream",
     "text": [
      "\r",
      "2it [00:20, 10.12s/it]"
     ]
    },
    {
     "name": "stdout",
     "output_type": "stream",
     "text": [
      "############# Run 2 #############\n",
      "\tSaving in /neurospin/unicog/protocols/IRMf/LePetitPrince_Pallier_2018/LePetitPrince/data/stimuli-representations/english/gpt2_control_61_layer-12.\n"
     ]
    },
    {
     "name": "stderr",
     "output_type": "stream",
     "text": [
      "\r",
      "3it [00:33, 10.96s/it]"
     ]
    },
    {
     "name": "stdout",
     "output_type": "stream",
     "text": [
      "############# Run 3 #############\n",
      "\tSaving in /neurospin/unicog/protocols/IRMf/LePetitPrince_Pallier_2018/LePetitPrince/data/stimuli-representations/english/gpt2_control_61_layer-12.\n"
     ]
    },
    {
     "name": "stderr",
     "output_type": "stream",
     "text": [
      "\r",
      "4it [00:45, 11.31s/it]"
     ]
    },
    {
     "name": "stdout",
     "output_type": "stream",
     "text": [
      "############# Run 4 #############\n",
      "\tSaving in /neurospin/unicog/protocols/IRMf/LePetitPrince_Pallier_2018/LePetitPrince/data/stimuli-representations/english/gpt2_control_61_layer-12.\n"
     ]
    },
    {
     "name": "stderr",
     "output_type": "stream",
     "text": [
      "\r",
      "5it [00:57, 11.39s/it]"
     ]
    },
    {
     "name": "stdout",
     "output_type": "stream",
     "text": [
      "############# Run 5 #############\n",
      "\tSaving in /neurospin/unicog/protocols/IRMf/LePetitPrince_Pallier_2018/LePetitPrince/data/stimuli-representations/english/gpt2_control_61_layer-12.\n"
     ]
    },
    {
     "name": "stderr",
     "output_type": "stream",
     "text": [
      "\r",
      "6it [01:12, 12.48s/it]"
     ]
    },
    {
     "name": "stdout",
     "output_type": "stream",
     "text": [
      "############# Run 6 #############\n",
      "\tSaving in /neurospin/unicog/protocols/IRMf/LePetitPrince_Pallier_2018/LePetitPrince/data/stimuli-representations/english/gpt2_control_61_layer-12.\n"
     ]
    },
    {
     "name": "stderr",
     "output_type": "stream",
     "text": [
      "\r",
      "7it [01:25, 12.67s/it]"
     ]
    },
    {
     "name": "stdout",
     "output_type": "stream",
     "text": [
      "############# Run 7 #############\n",
      "\tSaving in /neurospin/unicog/protocols/IRMf/LePetitPrince_Pallier_2018/LePetitPrince/data/stimuli-representations/english/gpt2_control_61_layer-12.\n"
     ]
    },
    {
     "name": "stderr",
     "output_type": "stream",
     "text": [
      "\r",
      "8it [01:35, 12.06s/it]"
     ]
    },
    {
     "name": "stdout",
     "output_type": "stream",
     "text": [
      "############# Run 8 #############\n",
      "\tSaving in /neurospin/unicog/protocols/IRMf/LePetitPrince_Pallier_2018/LePetitPrince/data/stimuli-representations/english/gpt2_control_61_layer-12.\n"
     ]
    },
    {
     "name": "stderr",
     "output_type": "stream",
     "text": [
      "9it [01:50, 12.26s/it]\n",
      "0it [00:00, ?it/s]"
     ]
    },
    {
     "name": "stdout",
     "output_type": "stream",
     "text": [
      "gpt2_control_183  - Extracting activations for layer 0...\n",
      "############# Run 0 #############\n",
      "\tSaving in /neurospin/unicog/protocols/IRMf/LePetitPrince_Pallier_2018/LePetitPrince/data/stimuli-representations/english/gpt2_control_183_layer-0.\n"
     ]
    },
    {
     "name": "stderr",
     "output_type": "stream",
     "text": [
      "\r",
      "1it [00:08,  8.17s/it]"
     ]
    },
    {
     "name": "stdout",
     "output_type": "stream",
     "text": [
      "############# Run 1 #############\n",
      "\tSaving in /neurospin/unicog/protocols/IRMf/LePetitPrince_Pallier_2018/LePetitPrince/data/stimuli-representations/english/gpt2_control_183_layer-0.\n"
     ]
    },
    {
     "name": "stderr",
     "output_type": "stream",
     "text": [
      "\r",
      "2it [00:16,  8.18s/it]"
     ]
    },
    {
     "name": "stdout",
     "output_type": "stream",
     "text": [
      "############# Run 2 #############\n",
      "\tSaving in /neurospin/unicog/protocols/IRMf/LePetitPrince_Pallier_2018/LePetitPrince/data/stimuli-representations/english/gpt2_control_183_layer-0.\n"
     ]
    },
    {
     "name": "stderr",
     "output_type": "stream",
     "text": [
      "\r",
      "3it [00:27,  8.97s/it]"
     ]
    },
    {
     "name": "stdout",
     "output_type": "stream",
     "text": [
      "############# Run 3 #############\n",
      "\tSaving in /neurospin/unicog/protocols/IRMf/LePetitPrince_Pallier_2018/LePetitPrince/data/stimuli-representations/english/gpt2_control_183_layer-0.\n"
     ]
    },
    {
     "name": "stderr",
     "output_type": "stream",
     "text": [
      "\r",
      "4it [00:37,  9.24s/it]"
     ]
    },
    {
     "name": "stdout",
     "output_type": "stream",
     "text": [
      "############# Run 4 #############\n",
      "\tSaving in /neurospin/unicog/protocols/IRMf/LePetitPrince_Pallier_2018/LePetitPrince/data/stimuli-representations/english/gpt2_control_183_layer-0.\n"
     ]
    },
    {
     "name": "stderr",
     "output_type": "stream",
     "text": [
      "\r",
      "5it [00:47,  9.58s/it]"
     ]
    },
    {
     "name": "stdout",
     "output_type": "stream",
     "text": [
      "############# Run 5 #############\n",
      "\tSaving in /neurospin/unicog/protocols/IRMf/LePetitPrince_Pallier_2018/LePetitPrince/data/stimuli-representations/english/gpt2_control_183_layer-0.\n"
     ]
    },
    {
     "name": "stderr",
     "output_type": "stream",
     "text": [
      "\r",
      "6it [00:59, 10.39s/it]"
     ]
    },
    {
     "name": "stdout",
     "output_type": "stream",
     "text": [
      "############# Run 6 #############\n",
      "\tSaving in /neurospin/unicog/protocols/IRMf/LePetitPrince_Pallier_2018/LePetitPrince/data/stimuli-representations/english/gpt2_control_183_layer-0.\n"
     ]
    },
    {
     "name": "stderr",
     "output_type": "stream",
     "text": [
      "\r",
      "7it [01:10, 10.62s/it]"
     ]
    },
    {
     "name": "stdout",
     "output_type": "stream",
     "text": [
      "############# Run 7 #############\n",
      "\tSaving in /neurospin/unicog/protocols/IRMf/LePetitPrince_Pallier_2018/LePetitPrince/data/stimuli-representations/english/gpt2_control_183_layer-0.\n"
     ]
    },
    {
     "name": "stderr",
     "output_type": "stream",
     "text": [
      "\r",
      "8it [01:19, 10.17s/it]"
     ]
    },
    {
     "name": "stdout",
     "output_type": "stream",
     "text": [
      "############# Run 8 #############\n",
      "\tSaving in /neurospin/unicog/protocols/IRMf/LePetitPrince_Pallier_2018/LePetitPrince/data/stimuli-representations/english/gpt2_control_183_layer-0.\n"
     ]
    },
    {
     "name": "stderr",
     "output_type": "stream",
     "text": [
      "9it [01:32, 10.23s/it]\n",
      "0it [00:00, ?it/s]"
     ]
    },
    {
     "name": "stdout",
     "output_type": "stream",
     "text": [
      "gpt2_control_183  - Extracting activations for layer 1...\n",
      "############# Run 0 #############\n",
      "\tSaving in /neurospin/unicog/protocols/IRMf/LePetitPrince_Pallier_2018/LePetitPrince/data/stimuli-representations/english/gpt2_control_183_layer-1.\n"
     ]
    },
    {
     "name": "stderr",
     "output_type": "stream",
     "text": [
      "\r",
      "1it [00:26, 26.13s/it]"
     ]
    },
    {
     "name": "stdout",
     "output_type": "stream",
     "text": [
      "############# Run 1 #############\n",
      "\tSaving in /neurospin/unicog/protocols/IRMf/LePetitPrince_Pallier_2018/LePetitPrince/data/stimuli-representations/english/gpt2_control_183_layer-1.\n"
     ]
    },
    {
     "name": "stderr",
     "output_type": "stream",
     "text": [
      "\r",
      "2it [00:58, 27.93s/it]"
     ]
    },
    {
     "name": "stdout",
     "output_type": "stream",
     "text": [
      "############# Run 2 #############\n",
      "\tSaving in /neurospin/unicog/protocols/IRMf/LePetitPrince_Pallier_2018/LePetitPrince/data/stimuli-representations/english/gpt2_control_183_layer-1.\n"
     ]
    },
    {
     "name": "stderr",
     "output_type": "stream",
     "text": [
      "\r",
      "3it [01:11, 23.49s/it]"
     ]
    },
    {
     "name": "stdout",
     "output_type": "stream",
     "text": [
      "############# Run 3 #############\n",
      "\tSaving in /neurospin/unicog/protocols/IRMf/LePetitPrince_Pallier_2018/LePetitPrince/data/stimuli-representations/english/gpt2_control_183_layer-1.\n"
     ]
    },
    {
     "name": "stderr",
     "output_type": "stream",
     "text": [
      "\r",
      "4it [01:23, 20.17s/it]"
     ]
    },
    {
     "name": "stdout",
     "output_type": "stream",
     "text": [
      "############# Run 4 #############\n",
      "\tSaving in /neurospin/unicog/protocols/IRMf/LePetitPrince_Pallier_2018/LePetitPrince/data/stimuli-representations/english/gpt2_control_183_layer-1.\n"
     ]
    },
    {
     "name": "stderr",
     "output_type": "stream",
     "text": [
      "\r",
      "5it [01:35, 17.75s/it]"
     ]
    },
    {
     "name": "stdout",
     "output_type": "stream",
     "text": [
      "############# Run 5 #############\n",
      "\tSaving in /neurospin/unicog/protocols/IRMf/LePetitPrince_Pallier_2018/LePetitPrince/data/stimuli-representations/english/gpt2_control_183_layer-1.\n"
     ]
    },
    {
     "name": "stderr",
     "output_type": "stream",
     "text": [
      "\r",
      "6it [01:50, 16.72s/it]"
     ]
    },
    {
     "name": "stdout",
     "output_type": "stream",
     "text": [
      "############# Run 6 #############\n",
      "\tSaving in /neurospin/unicog/protocols/IRMf/LePetitPrince_Pallier_2018/LePetitPrince/data/stimuli-representations/english/gpt2_control_183_layer-1.\n"
     ]
    },
    {
     "name": "stderr",
     "output_type": "stream",
     "text": [
      "\r",
      "7it [02:04, 15.97s/it]"
     ]
    },
    {
     "name": "stdout",
     "output_type": "stream",
     "text": [
      "############# Run 7 #############\n",
      "\tSaving in /neurospin/unicog/protocols/IRMf/LePetitPrince_Pallier_2018/LePetitPrince/data/stimuli-representations/english/gpt2_control_183_layer-1.\n"
     ]
    },
    {
     "name": "stderr",
     "output_type": "stream",
     "text": [
      "\r",
      "8it [02:15, 14.35s/it]"
     ]
    },
    {
     "name": "stdout",
     "output_type": "stream",
     "text": [
      "############# Run 8 #############\n",
      "\tSaving in /neurospin/unicog/protocols/IRMf/LePetitPrince_Pallier_2018/LePetitPrince/data/stimuli-representations/english/gpt2_control_183_layer-1.\n"
     ]
    },
    {
     "name": "stderr",
     "output_type": "stream",
     "text": [
      "9it [02:29, 16.59s/it]\n",
      "0it [00:00, ?it/s]"
     ]
    },
    {
     "name": "stdout",
     "output_type": "stream",
     "text": [
      "gpt2_control_183  - Extracting activations for layer 2...\n",
      "############# Run 0 #############\n",
      "\tSaving in /neurospin/unicog/protocols/IRMf/LePetitPrince_Pallier_2018/LePetitPrince/data/stimuli-representations/english/gpt2_control_183_layer-2.\n"
     ]
    },
    {
     "name": "stderr",
     "output_type": "stream",
     "text": [
      "\r",
      "1it [00:09,  9.79s/it]"
     ]
    },
    {
     "name": "stdout",
     "output_type": "stream",
     "text": [
      "############# Run 1 #############\n",
      "\tSaving in /neurospin/unicog/protocols/IRMf/LePetitPrince_Pallier_2018/LePetitPrince/data/stimuli-representations/english/gpt2_control_183_layer-2.\n"
     ]
    },
    {
     "name": "stderr",
     "output_type": "stream",
     "text": [
      "\r",
      "2it [00:20,  9.94s/it]"
     ]
    },
    {
     "name": "stdout",
     "output_type": "stream",
     "text": [
      "############# Run 2 #############\n",
      "\tSaving in /neurospin/unicog/protocols/IRMf/LePetitPrince_Pallier_2018/LePetitPrince/data/stimuli-representations/english/gpt2_control_183_layer-2.\n"
     ]
    },
    {
     "name": "stderr",
     "output_type": "stream",
     "text": [
      "\r",
      "3it [00:32, 10.81s/it]"
     ]
    },
    {
     "name": "stdout",
     "output_type": "stream",
     "text": [
      "############# Run 3 #############\n",
      "\tSaving in /neurospin/unicog/protocols/IRMf/LePetitPrince_Pallier_2018/LePetitPrince/data/stimuli-representations/english/gpt2_control_183_layer-2.\n"
     ]
    },
    {
     "name": "stderr",
     "output_type": "stream",
     "text": [
      "\r",
      "4it [00:45, 11.23s/it]"
     ]
    },
    {
     "name": "stdout",
     "output_type": "stream",
     "text": [
      "############# Run 4 #############\n",
      "\tSaving in /neurospin/unicog/protocols/IRMf/LePetitPrince_Pallier_2018/LePetitPrince/data/stimuli-representations/english/gpt2_control_183_layer-2.\n"
     ]
    },
    {
     "name": "stderr",
     "output_type": "stream",
     "text": [
      "\r",
      "5it [00:56, 11.32s/it]"
     ]
    },
    {
     "name": "stdout",
     "output_type": "stream",
     "text": [
      "############# Run 5 #############\n",
      "\tSaving in /neurospin/unicog/protocols/IRMf/LePetitPrince_Pallier_2018/LePetitPrince/data/stimuli-representations/english/gpt2_control_183_layer-2.\n"
     ]
    },
    {
     "name": "stderr",
     "output_type": "stream",
     "text": [
      "\r",
      "6it [01:10, 12.11s/it]"
     ]
    },
    {
     "name": "stdout",
     "output_type": "stream",
     "text": [
      "############# Run 6 #############\n",
      "\tSaving in /neurospin/unicog/protocols/IRMf/LePetitPrince_Pallier_2018/LePetitPrince/data/stimuli-representations/english/gpt2_control_183_layer-2.\n"
     ]
    },
    {
     "name": "stderr",
     "output_type": "stream",
     "text": [
      "\r",
      "7it [01:24, 12.70s/it]"
     ]
    },
    {
     "name": "stdout",
     "output_type": "stream",
     "text": [
      "############# Run 7 #############\n",
      "\tSaving in /neurospin/unicog/protocols/IRMf/LePetitPrince_Pallier_2018/LePetitPrince/data/stimuli-representations/english/gpt2_control_183_layer-2.\n"
     ]
    },
    {
     "name": "stderr",
     "output_type": "stream",
     "text": [
      "\r",
      "8it [01:35, 12.15s/it]"
     ]
    },
    {
     "name": "stdout",
     "output_type": "stream",
     "text": [
      "############# Run 8 #############\n",
      "\tSaving in /neurospin/unicog/protocols/IRMf/LePetitPrince_Pallier_2018/LePetitPrince/data/stimuli-representations/english/gpt2_control_183_layer-2.\n"
     ]
    },
    {
     "name": "stderr",
     "output_type": "stream",
     "text": [
      "9it [01:49, 12.15s/it]\n",
      "0it [00:00, ?it/s]"
     ]
    },
    {
     "name": "stdout",
     "output_type": "stream",
     "text": [
      "gpt2_control_183  - Extracting activations for layer 3...\n",
      "############# Run 0 #############\n",
      "\tSaving in /neurospin/unicog/protocols/IRMf/LePetitPrince_Pallier_2018/LePetitPrince/data/stimuli-representations/english/gpt2_control_183_layer-3.\n"
     ]
    },
    {
     "name": "stderr",
     "output_type": "stream",
     "text": [
      "\r",
      "1it [00:10, 10.04s/it]"
     ]
    },
    {
     "name": "stdout",
     "output_type": "stream",
     "text": [
      "############# Run 1 #############\n",
      "\tSaving in /neurospin/unicog/protocols/IRMf/LePetitPrince_Pallier_2018/LePetitPrince/data/stimuli-representations/english/gpt2_control_183_layer-3.\n"
     ]
    },
    {
     "name": "stderr",
     "output_type": "stream",
     "text": [
      "\r",
      "2it [00:19,  9.89s/it]"
     ]
    },
    {
     "name": "stdout",
     "output_type": "stream",
     "text": [
      "############# Run 2 #############\n",
      "\tSaving in /neurospin/unicog/protocols/IRMf/LePetitPrince_Pallier_2018/LePetitPrince/data/stimuli-representations/english/gpt2_control_183_layer-3.\n"
     ]
    },
    {
     "name": "stderr",
     "output_type": "stream",
     "text": [
      "\r",
      "3it [00:33, 11.21s/it]"
     ]
    },
    {
     "name": "stdout",
     "output_type": "stream",
     "text": [
      "############# Run 3 #############\n",
      "\tSaving in /neurospin/unicog/protocols/IRMf/LePetitPrince_Pallier_2018/LePetitPrince/data/stimuli-representations/english/gpt2_control_183_layer-3.\n"
     ]
    },
    {
     "name": "stderr",
     "output_type": "stream",
     "text": [
      "\r",
      "4it [01:13, 19.86s/it]"
     ]
    },
    {
     "name": "stdout",
     "output_type": "stream",
     "text": [
      "############# Run 4 #############\n",
      "\tSaving in /neurospin/unicog/protocols/IRMf/LePetitPrince_Pallier_2018/LePetitPrince/data/stimuli-representations/english/gpt2_control_183_layer-3.\n"
     ]
    },
    {
     "name": "stderr",
     "output_type": "stream",
     "text": [
      "\r",
      "5it [01:32, 19.43s/it]"
     ]
    },
    {
     "name": "stdout",
     "output_type": "stream",
     "text": [
      "############# Run 5 #############\n",
      "\tSaving in /neurospin/unicog/protocols/IRMf/LePetitPrince_Pallier_2018/LePetitPrince/data/stimuli-representations/english/gpt2_control_183_layer-3.\n"
     ]
    },
    {
     "name": "stderr",
     "output_type": "stream",
     "text": [
      "\r",
      "6it [01:46, 17.95s/it]"
     ]
    },
    {
     "name": "stdout",
     "output_type": "stream",
     "text": [
      "############# Run 6 #############\n",
      "\tSaving in /neurospin/unicog/protocols/IRMf/LePetitPrince_Pallier_2018/LePetitPrince/data/stimuli-representations/english/gpt2_control_183_layer-3.\n"
     ]
    },
    {
     "name": "stderr",
     "output_type": "stream",
     "text": [
      "\r",
      "7it [02:00, 16.61s/it]"
     ]
    },
    {
     "name": "stdout",
     "output_type": "stream",
     "text": [
      "############# Run 7 #############\n",
      "\tSaving in /neurospin/unicog/protocols/IRMf/LePetitPrince_Pallier_2018/LePetitPrince/data/stimuli-representations/english/gpt2_control_183_layer-3.\n"
     ]
    },
    {
     "name": "stderr",
     "output_type": "stream",
     "text": [
      "\r",
      "8it [02:10, 14.75s/it]"
     ]
    },
    {
     "name": "stdout",
     "output_type": "stream",
     "text": [
      "############# Run 8 #############\n",
      "\tSaving in /neurospin/unicog/protocols/IRMf/LePetitPrince_Pallier_2018/LePetitPrince/data/stimuli-representations/english/gpt2_control_183_layer-3.\n"
     ]
    },
    {
     "name": "stderr",
     "output_type": "stream",
     "text": [
      "9it [02:24, 16.11s/it]\n",
      "0it [00:00, ?it/s]"
     ]
    },
    {
     "name": "stdout",
     "output_type": "stream",
     "text": [
      "gpt2_control_183  - Extracting activations for layer 4...\n",
      "############# Run 0 #############\n",
      "\tSaving in /neurospin/unicog/protocols/IRMf/LePetitPrince_Pallier_2018/LePetitPrince/data/stimuli-representations/english/gpt2_control_183_layer-4.\n"
     ]
    },
    {
     "name": "stderr",
     "output_type": "stream",
     "text": [
      "\r",
      "1it [00:11, 11.01s/it]"
     ]
    },
    {
     "name": "stdout",
     "output_type": "stream",
     "text": [
      "############# Run 1 #############\n",
      "\tSaving in /neurospin/unicog/protocols/IRMf/LePetitPrince_Pallier_2018/LePetitPrince/data/stimuli-representations/english/gpt2_control_183_layer-4.\n"
     ]
    },
    {
     "name": "stderr",
     "output_type": "stream",
     "text": [
      "\r",
      "2it [00:21, 10.76s/it]"
     ]
    },
    {
     "name": "stdout",
     "output_type": "stream",
     "text": [
      "############# Run 2 #############\n",
      "\tSaving in /neurospin/unicog/protocols/IRMf/LePetitPrince_Pallier_2018/LePetitPrince/data/stimuli-representations/english/gpt2_control_183_layer-4.\n"
     ]
    },
    {
     "name": "stderr",
     "output_type": "stream",
     "text": [
      "\r",
      "3it [00:34, 11.38s/it]"
     ]
    },
    {
     "name": "stdout",
     "output_type": "stream",
     "text": [
      "############# Run 3 #############\n",
      "\tSaving in /neurospin/unicog/protocols/IRMf/LePetitPrince_Pallier_2018/LePetitPrince/data/stimuli-representations/english/gpt2_control_183_layer-4.\n"
     ]
    },
    {
     "name": "stderr",
     "output_type": "stream",
     "text": [
      "\r",
      "4it [00:46, 11.74s/it]"
     ]
    },
    {
     "name": "stdout",
     "output_type": "stream",
     "text": [
      "############# Run 4 #############\n",
      "\tSaving in /neurospin/unicog/protocols/IRMf/LePetitPrince_Pallier_2018/LePetitPrince/data/stimuli-representations/english/gpt2_control_183_layer-4.\n"
     ]
    },
    {
     "name": "stderr",
     "output_type": "stream",
     "text": [
      "\r",
      "5it [00:57, 11.61s/it]"
     ]
    },
    {
     "name": "stdout",
     "output_type": "stream",
     "text": [
      "############# Run 5 #############\n",
      "\tSaving in /neurospin/unicog/protocols/IRMf/LePetitPrince_Pallier_2018/LePetitPrince/data/stimuli-representations/english/gpt2_control_183_layer-4.\n"
     ]
    },
    {
     "name": "stderr",
     "output_type": "stream",
     "text": [
      "\r",
      "6it [01:12, 12.37s/it]"
     ]
    },
    {
     "name": "stdout",
     "output_type": "stream",
     "text": [
      "############# Run 6 #############\n",
      "\tSaving in /neurospin/unicog/protocols/IRMf/LePetitPrince_Pallier_2018/LePetitPrince/data/stimuli-representations/english/gpt2_control_183_layer-4.\n"
     ]
    },
    {
     "name": "stderr",
     "output_type": "stream",
     "text": [
      "\r",
      "7it [01:24, 12.46s/it]"
     ]
    },
    {
     "name": "stdout",
     "output_type": "stream",
     "text": [
      "############# Run 7 #############\n",
      "\tSaving in /neurospin/unicog/protocols/IRMf/LePetitPrince_Pallier_2018/LePetitPrince/data/stimuli-representations/english/gpt2_control_183_layer-4.\n"
     ]
    },
    {
     "name": "stderr",
     "output_type": "stream",
     "text": [
      "\r",
      "8it [01:35, 11.95s/it]"
     ]
    },
    {
     "name": "stdout",
     "output_type": "stream",
     "text": [
      "############# Run 8 #############\n",
      "\tSaving in /neurospin/unicog/protocols/IRMf/LePetitPrince_Pallier_2018/LePetitPrince/data/stimuli-representations/english/gpt2_control_183_layer-4.\n"
     ]
    },
    {
     "name": "stderr",
     "output_type": "stream",
     "text": [
      "9it [01:50, 12.24s/it]\n",
      "0it [00:00, ?it/s]"
     ]
    },
    {
     "name": "stdout",
     "output_type": "stream",
     "text": [
      "gpt2_control_183  - Extracting activations for layer 5...\n",
      "############# Run 0 #############\n",
      "\tSaving in /neurospin/unicog/protocols/IRMf/LePetitPrince_Pallier_2018/LePetitPrince/data/stimuli-representations/english/gpt2_control_183_layer-5.\n"
     ]
    },
    {
     "name": "stderr",
     "output_type": "stream",
     "text": [
      "\r",
      "1it [00:10, 10.41s/it]"
     ]
    },
    {
     "name": "stdout",
     "output_type": "stream",
     "text": [
      "############# Run 1 #############\n",
      "\tSaving in /neurospin/unicog/protocols/IRMf/LePetitPrince_Pallier_2018/LePetitPrince/data/stimuli-representations/english/gpt2_control_183_layer-5.\n"
     ]
    },
    {
     "name": "stderr",
     "output_type": "stream",
     "text": [
      "\r",
      "2it [00:20, 10.23s/it]"
     ]
    },
    {
     "name": "stdout",
     "output_type": "stream",
     "text": [
      "############# Run 2 #############\n",
      "\tSaving in /neurospin/unicog/protocols/IRMf/LePetitPrince_Pallier_2018/LePetitPrince/data/stimuli-representations/english/gpt2_control_183_layer-5.\n"
     ]
    },
    {
     "name": "stderr",
     "output_type": "stream",
     "text": [
      "\r",
      "3it [00:32, 10.88s/it]"
     ]
    },
    {
     "name": "stdout",
     "output_type": "stream",
     "text": [
      "############# Run 3 #############\n",
      "\tSaving in /neurospin/unicog/protocols/IRMf/LePetitPrince_Pallier_2018/LePetitPrince/data/stimuli-representations/english/gpt2_control_183_layer-5.\n"
     ]
    },
    {
     "name": "stderr",
     "output_type": "stream",
     "text": [
      "\r",
      "4it [00:45, 11.37s/it]"
     ]
    },
    {
     "name": "stdout",
     "output_type": "stream",
     "text": [
      "############# Run 4 #############\n",
      "\tSaving in /neurospin/unicog/protocols/IRMf/LePetitPrince_Pallier_2018/LePetitPrince/data/stimuli-representations/english/gpt2_control_183_layer-5.\n"
     ]
    },
    {
     "name": "stderr",
     "output_type": "stream",
     "text": [
      "\r",
      "5it [00:56, 11.33s/it]"
     ]
    },
    {
     "name": "stdout",
     "output_type": "stream",
     "text": [
      "############# Run 5 #############\n",
      "\tSaving in /neurospin/unicog/protocols/IRMf/LePetitPrince_Pallier_2018/LePetitPrince/data/stimuli-representations/english/gpt2_control_183_layer-5.\n"
     ]
    },
    {
     "name": "stderr",
     "output_type": "stream",
     "text": [
      "\r",
      "6it [01:17, 14.28s/it]"
     ]
    },
    {
     "name": "stdout",
     "output_type": "stream",
     "text": [
      "############# Run 6 #############\n",
      "\tSaving in /neurospin/unicog/protocols/IRMf/LePetitPrince_Pallier_2018/LePetitPrince/data/stimuli-representations/english/gpt2_control_183_layer-5.\n"
     ]
    },
    {
     "name": "stderr",
     "output_type": "stream",
     "text": [
      "\r",
      "7it [02:01, 23.22s/it]"
     ]
    },
    {
     "name": "stdout",
     "output_type": "stream",
     "text": [
      "############# Run 7 #############\n",
      "\tSaving in /neurospin/unicog/protocols/IRMf/LePetitPrince_Pallier_2018/LePetitPrince/data/stimuli-representations/english/gpt2_control_183_layer-5.\n"
     ]
    },
    {
     "name": "stderr",
     "output_type": "stream",
     "text": [
      "\r",
      "8it [02:12, 19.50s/it]"
     ]
    },
    {
     "name": "stdout",
     "output_type": "stream",
     "text": [
      "############# Run 8 #############\n",
      "\tSaving in /neurospin/unicog/protocols/IRMf/LePetitPrince_Pallier_2018/LePetitPrince/data/stimuli-representations/english/gpt2_control_183_layer-5.\n"
     ]
    },
    {
     "name": "stderr",
     "output_type": "stream",
     "text": [
      "9it [02:26, 16.24s/it]\n",
      "0it [00:00, ?it/s]"
     ]
    },
    {
     "name": "stdout",
     "output_type": "stream",
     "text": [
      "gpt2_control_183  - Extracting activations for layer 6...\n",
      "############# Run 0 #############\n",
      "\tSaving in /neurospin/unicog/protocols/IRMf/LePetitPrince_Pallier_2018/LePetitPrince/data/stimuli-representations/english/gpt2_control_183_layer-6.\n"
     ]
    },
    {
     "name": "stderr",
     "output_type": "stream",
     "text": [
      "\r",
      "1it [00:09,  9.55s/it]"
     ]
    },
    {
     "name": "stdout",
     "output_type": "stream",
     "text": [
      "############# Run 1 #############\n",
      "\tSaving in /neurospin/unicog/protocols/IRMf/LePetitPrince_Pallier_2018/LePetitPrince/data/stimuli-representations/english/gpt2_control_183_layer-6.\n"
     ]
    },
    {
     "name": "stderr",
     "output_type": "stream",
     "text": [
      "\r",
      "2it [00:19,  9.79s/it]"
     ]
    },
    {
     "name": "stdout",
     "output_type": "stream",
     "text": [
      "############# Run 2 #############\n",
      "\tSaving in /neurospin/unicog/protocols/IRMf/LePetitPrince_Pallier_2018/LePetitPrince/data/stimuli-representations/english/gpt2_control_183_layer-6.\n"
     ]
    },
    {
     "name": "stderr",
     "output_type": "stream",
     "text": [
      "\r",
      "3it [00:32, 10.70s/it]"
     ]
    },
    {
     "name": "stdout",
     "output_type": "stream",
     "text": [
      "############# Run 3 #############\n",
      "\tSaving in /neurospin/unicog/protocols/IRMf/LePetitPrince_Pallier_2018/LePetitPrince/data/stimuli-representations/english/gpt2_control_183_layer-6.\n"
     ]
    },
    {
     "name": "stderr",
     "output_type": "stream",
     "text": [
      "\r",
      "4it [00:44, 11.05s/it]"
     ]
    },
    {
     "name": "stdout",
     "output_type": "stream",
     "text": [
      "############# Run 4 #############\n",
      "\tSaving in /neurospin/unicog/protocols/IRMf/LePetitPrince_Pallier_2018/LePetitPrince/data/stimuli-representations/english/gpt2_control_183_layer-6.\n"
     ]
    },
    {
     "name": "stderr",
     "output_type": "stream",
     "text": [
      "\r",
      "5it [00:56, 11.22s/it]"
     ]
    },
    {
     "name": "stdout",
     "output_type": "stream",
     "text": [
      "############# Run 5 #############\n",
      "\tSaving in /neurospin/unicog/protocols/IRMf/LePetitPrince_Pallier_2018/LePetitPrince/data/stimuli-representations/english/gpt2_control_183_layer-6.\n"
     ]
    },
    {
     "name": "stderr",
     "output_type": "stream",
     "text": [
      "\r",
      "6it [01:09, 11.95s/it]"
     ]
    },
    {
     "name": "stdout",
     "output_type": "stream",
     "text": [
      "############# Run 6 #############\n",
      "\tSaving in /neurospin/unicog/protocols/IRMf/LePetitPrince_Pallier_2018/LePetitPrince/data/stimuli-representations/english/gpt2_control_183_layer-6.\n"
     ]
    },
    {
     "name": "stderr",
     "output_type": "stream",
     "text": [
      "\r",
      "7it [01:24, 12.74s/it]"
     ]
    },
    {
     "name": "stdout",
     "output_type": "stream",
     "text": [
      "############# Run 7 #############\n",
      "\tSaving in /neurospin/unicog/protocols/IRMf/LePetitPrince_Pallier_2018/LePetitPrince/data/stimuli-representations/english/gpt2_control_183_layer-6.\n"
     ]
    },
    {
     "name": "stderr",
     "output_type": "stream",
     "text": [
      "\r",
      "8it [01:35, 12.10s/it]"
     ]
    },
    {
     "name": "stdout",
     "output_type": "stream",
     "text": [
      "############# Run 8 #############\n",
      "\tSaving in /neurospin/unicog/protocols/IRMf/LePetitPrince_Pallier_2018/LePetitPrince/data/stimuli-representations/english/gpt2_control_183_layer-6.\n"
     ]
    },
    {
     "name": "stderr",
     "output_type": "stream",
     "text": [
      "9it [01:48, 12.05s/it]\n",
      "0it [00:00, ?it/s]"
     ]
    },
    {
     "name": "stdout",
     "output_type": "stream",
     "text": [
      "gpt2_control_183  - Extracting activations for layer 7...\n",
      "############# Run 0 #############\n",
      "\tSaving in /neurospin/unicog/protocols/IRMf/LePetitPrince_Pallier_2018/LePetitPrince/data/stimuli-representations/english/gpt2_control_183_layer-7.\n"
     ]
    },
    {
     "name": "stderr",
     "output_type": "stream",
     "text": [
      "\r",
      "1it [00:09,  9.61s/it]"
     ]
    },
    {
     "name": "stdout",
     "output_type": "stream",
     "text": [
      "############# Run 1 #############\n",
      "\tSaving in /neurospin/unicog/protocols/IRMf/LePetitPrince_Pallier_2018/LePetitPrince/data/stimuli-representations/english/gpt2_control_183_layer-7.\n"
     ]
    },
    {
     "name": "stderr",
     "output_type": "stream",
     "text": [
      "\r",
      "2it [00:19,  9.66s/it]"
     ]
    },
    {
     "name": "stdout",
     "output_type": "stream",
     "text": [
      "############# Run 2 #############\n",
      "\tSaving in /neurospin/unicog/protocols/IRMf/LePetitPrince_Pallier_2018/LePetitPrince/data/stimuli-representations/english/gpt2_control_183_layer-7.\n"
     ]
    },
    {
     "name": "stderr",
     "output_type": "stream",
     "text": [
      "\r",
      "3it [00:31, 10.34s/it]"
     ]
    },
    {
     "name": "stdout",
     "output_type": "stream",
     "text": [
      "############# Run 3 #############\n",
      "\tSaving in /neurospin/unicog/protocols/IRMf/LePetitPrince_Pallier_2018/LePetitPrince/data/stimuli-representations/english/gpt2_control_183_layer-7.\n"
     ]
    },
    {
     "name": "stderr",
     "output_type": "stream",
     "text": [
      "\r",
      "4it [00:42, 10.74s/it]"
     ]
    },
    {
     "name": "stdout",
     "output_type": "stream",
     "text": [
      "############# Run 4 #############\n",
      "\tSaving in /neurospin/unicog/protocols/IRMf/LePetitPrince_Pallier_2018/LePetitPrince/data/stimuli-representations/english/gpt2_control_183_layer-7.\n"
     ]
    },
    {
     "name": "stderr",
     "output_type": "stream",
     "text": [
      "\r",
      "5it [00:55, 11.34s/it]"
     ]
    },
    {
     "name": "stdout",
     "output_type": "stream",
     "text": [
      "############# Run 5 #############\n",
      "\tSaving in /neurospin/unicog/protocols/IRMf/LePetitPrince_Pallier_2018/LePetitPrince/data/stimuli-representations/english/gpt2_control_183_layer-7.\n"
     ]
    },
    {
     "name": "stderr",
     "output_type": "stream",
     "text": [
      "\r",
      "6it [01:09, 12.05s/it]"
     ]
    },
    {
     "name": "stdout",
     "output_type": "stream",
     "text": [
      "############# Run 6 #############\n",
      "\tSaving in /neurospin/unicog/protocols/IRMf/LePetitPrince_Pallier_2018/LePetitPrince/data/stimuli-representations/english/gpt2_control_183_layer-7.\n"
     ]
    },
    {
     "name": "stderr",
     "output_type": "stream",
     "text": [
      "\r",
      "7it [01:22, 12.39s/it]"
     ]
    },
    {
     "name": "stdout",
     "output_type": "stream",
     "text": [
      "############# Run 7 #############\n",
      "\tSaving in /neurospin/unicog/protocols/IRMf/LePetitPrince_Pallier_2018/LePetitPrince/data/stimuli-representations/english/gpt2_control_183_layer-7.\n"
     ]
    },
    {
     "name": "stderr",
     "output_type": "stream",
     "text": [
      "\r",
      "8it [01:32, 11.74s/it]"
     ]
    },
    {
     "name": "stdout",
     "output_type": "stream",
     "text": [
      "############# Run 8 #############\n",
      "\tSaving in /neurospin/unicog/protocols/IRMf/LePetitPrince_Pallier_2018/LePetitPrince/data/stimuli-representations/english/gpt2_control_183_layer-7.\n"
     ]
    },
    {
     "name": "stderr",
     "output_type": "stream",
     "text": [
      "9it [01:57, 13.01s/it]\n",
      "0it [00:00, ?it/s]"
     ]
    },
    {
     "name": "stdout",
     "output_type": "stream",
     "text": [
      "gpt2_control_183  - Extracting activations for layer 8...\n",
      "############# Run 0 #############\n",
      "\tSaving in /neurospin/unicog/protocols/IRMf/LePetitPrince_Pallier_2018/LePetitPrince/data/stimuli-representations/english/gpt2_control_183_layer-8.\n"
     ]
    },
    {
     "name": "stderr",
     "output_type": "stream",
     "text": [
      "\r",
      "1it [00:32, 32.90s/it]"
     ]
    },
    {
     "name": "stdout",
     "output_type": "stream",
     "text": [
      "############# Run 1 #############\n",
      "\tSaving in /neurospin/unicog/protocols/IRMf/LePetitPrince_Pallier_2018/LePetitPrince/data/stimuli-representations/english/gpt2_control_183_layer-8.\n"
     ]
    },
    {
     "name": "stderr",
     "output_type": "stream",
     "text": [
      "\r",
      "2it [00:43, 26.12s/it]"
     ]
    },
    {
     "name": "stdout",
     "output_type": "stream",
     "text": [
      "############# Run 2 #############\n",
      "\tSaving in /neurospin/unicog/protocols/IRMf/LePetitPrince_Pallier_2018/LePetitPrince/data/stimuli-representations/english/gpt2_control_183_layer-8.\n"
     ]
    },
    {
     "name": "stderr",
     "output_type": "stream",
     "text": [
      "\r",
      "3it [00:55, 21.97s/it]"
     ]
    },
    {
     "name": "stdout",
     "output_type": "stream",
     "text": [
      "############# Run 3 #############\n",
      "\tSaving in /neurospin/unicog/protocols/IRMf/LePetitPrince_Pallier_2018/LePetitPrince/data/stimuli-representations/english/gpt2_control_183_layer-8.\n"
     ]
    },
    {
     "name": "stderr",
     "output_type": "stream",
     "text": [
      "\r",
      "4it [01:07, 18.94s/it]"
     ]
    },
    {
     "name": "stdout",
     "output_type": "stream",
     "text": [
      "############# Run 4 #############\n",
      "\tSaving in /neurospin/unicog/protocols/IRMf/LePetitPrince_Pallier_2018/LePetitPrince/data/stimuli-representations/english/gpt2_control_183_layer-8.\n"
     ]
    },
    {
     "name": "stderr",
     "output_type": "stream",
     "text": [
      "\r",
      "5it [01:19, 16.80s/it]"
     ]
    },
    {
     "name": "stdout",
     "output_type": "stream",
     "text": [
      "############# Run 5 #############\n",
      "\tSaving in /neurospin/unicog/protocols/IRMf/LePetitPrince_Pallier_2018/LePetitPrince/data/stimuli-representations/english/gpt2_control_183_layer-8.\n"
     ]
    },
    {
     "name": "stderr",
     "output_type": "stream",
     "text": [
      "\r",
      "6it [01:32, 15.84s/it]"
     ]
    },
    {
     "name": "stdout",
     "output_type": "stream",
     "text": [
      "############# Run 6 #############\n",
      "\tSaving in /neurospin/unicog/protocols/IRMf/LePetitPrince_Pallier_2018/LePetitPrince/data/stimuli-representations/english/gpt2_control_183_layer-8.\n"
     ]
    },
    {
     "name": "stderr",
     "output_type": "stream",
     "text": [
      "\r",
      "7it [01:46, 15.24s/it]"
     ]
    },
    {
     "name": "stdout",
     "output_type": "stream",
     "text": [
      "############# Run 7 #############\n",
      "\tSaving in /neurospin/unicog/protocols/IRMf/LePetitPrince_Pallier_2018/LePetitPrince/data/stimuli-representations/english/gpt2_control_183_layer-8.\n"
     ]
    },
    {
     "name": "stderr",
     "output_type": "stream",
     "text": [
      "\r",
      "8it [01:56, 13.71s/it]"
     ]
    },
    {
     "name": "stdout",
     "output_type": "stream",
     "text": [
      "############# Run 8 #############\n",
      "\tSaving in /neurospin/unicog/protocols/IRMf/LePetitPrince_Pallier_2018/LePetitPrince/data/stimuli-representations/english/gpt2_control_183_layer-8.\n"
     ]
    },
    {
     "name": "stderr",
     "output_type": "stream",
     "text": [
      "9it [02:10, 14.53s/it]\n",
      "0it [00:00, ?it/s]"
     ]
    },
    {
     "name": "stdout",
     "output_type": "stream",
     "text": [
      "gpt2_control_183  - Extracting activations for layer 9...\n",
      "############# Run 0 #############\n",
      "\tSaving in /neurospin/unicog/protocols/IRMf/LePetitPrince_Pallier_2018/LePetitPrince/data/stimuli-representations/english/gpt2_control_183_layer-9.\n"
     ]
    },
    {
     "name": "stderr",
     "output_type": "stream",
     "text": [
      "\r",
      "1it [00:09,  9.93s/it]"
     ]
    },
    {
     "name": "stdout",
     "output_type": "stream",
     "text": [
      "############# Run 1 #############\n",
      "\tSaving in /neurospin/unicog/protocols/IRMf/LePetitPrince_Pallier_2018/LePetitPrince/data/stimuli-representations/english/gpt2_control_183_layer-9.\n"
     ]
    },
    {
     "name": "stderr",
     "output_type": "stream",
     "text": [
      "\r",
      "2it [00:20, 10.15s/it]"
     ]
    },
    {
     "name": "stdout",
     "output_type": "stream",
     "text": [
      "############# Run 2 #############\n",
      "\tSaving in /neurospin/unicog/protocols/IRMf/LePetitPrince_Pallier_2018/LePetitPrince/data/stimuli-representations/english/gpt2_control_183_layer-9.\n"
     ]
    },
    {
     "name": "stderr",
     "output_type": "stream",
     "text": [
      "\r",
      "3it [00:33, 10.86s/it]"
     ]
    },
    {
     "name": "stdout",
     "output_type": "stream",
     "text": [
      "############# Run 3 #############\n",
      "\tSaving in /neurospin/unicog/protocols/IRMf/LePetitPrince_Pallier_2018/LePetitPrince/data/stimuli-representations/english/gpt2_control_183_layer-9.\n"
     ]
    },
    {
     "name": "stderr",
     "output_type": "stream",
     "text": [
      "\r",
      "4it [00:45, 11.29s/it]"
     ]
    },
    {
     "name": "stdout",
     "output_type": "stream",
     "text": [
      "############# Run 4 #############\n",
      "\tSaving in /neurospin/unicog/protocols/IRMf/LePetitPrince_Pallier_2018/LePetitPrince/data/stimuli-representations/english/gpt2_control_183_layer-9.\n"
     ]
    },
    {
     "name": "stderr",
     "output_type": "stream",
     "text": [
      "\r",
      "5it [00:57, 11.42s/it]"
     ]
    },
    {
     "name": "stdout",
     "output_type": "stream",
     "text": [
      "############# Run 5 #############\n",
      "\tSaving in /neurospin/unicog/protocols/IRMf/LePetitPrince_Pallier_2018/LePetitPrince/data/stimuli-representations/english/gpt2_control_183_layer-9.\n"
     ]
    },
    {
     "name": "stderr",
     "output_type": "stream",
     "text": [
      "\r",
      "6it [01:11, 12.17s/it]"
     ]
    },
    {
     "name": "stdout",
     "output_type": "stream",
     "text": [
      "############# Run 6 #############\n",
      "\tSaving in /neurospin/unicog/protocols/IRMf/LePetitPrince_Pallier_2018/LePetitPrince/data/stimuli-representations/english/gpt2_control_183_layer-9.\n"
     ]
    },
    {
     "name": "stderr",
     "output_type": "stream",
     "text": [
      "\r",
      "7it [01:23, 12.29s/it]"
     ]
    },
    {
     "name": "stdout",
     "output_type": "stream",
     "text": [
      "############# Run 7 #############\n",
      "\tSaving in /neurospin/unicog/protocols/IRMf/LePetitPrince_Pallier_2018/LePetitPrince/data/stimuli-representations/english/gpt2_control_183_layer-9.\n"
     ]
    },
    {
     "name": "stderr",
     "output_type": "stream",
     "text": [
      "\r",
      "8it [01:34, 11.73s/it]"
     ]
    },
    {
     "name": "stdout",
     "output_type": "stream",
     "text": [
      "############# Run 8 #############\n",
      "\tSaving in /neurospin/unicog/protocols/IRMf/LePetitPrince_Pallier_2018/LePetitPrince/data/stimuli-representations/english/gpt2_control_183_layer-9.\n"
     ]
    },
    {
     "name": "stderr",
     "output_type": "stream",
     "text": [
      "9it [01:48, 12.08s/it]\n",
      "0it [00:00, ?it/s]"
     ]
    },
    {
     "name": "stdout",
     "output_type": "stream",
     "text": [
      "gpt2_control_183  - Extracting activations for layer 10...\n",
      "############# Run 0 #############\n",
      "\tSaving in /neurospin/unicog/protocols/IRMf/LePetitPrince_Pallier_2018/LePetitPrince/data/stimuli-representations/english/gpt2_control_183_layer-10.\n"
     ]
    },
    {
     "name": "stderr",
     "output_type": "stream",
     "text": [
      "\r",
      "1it [00:10, 10.19s/it]"
     ]
    },
    {
     "name": "stdout",
     "output_type": "stream",
     "text": [
      "############# Run 1 #############\n",
      "\tSaving in /neurospin/unicog/protocols/IRMf/LePetitPrince_Pallier_2018/LePetitPrince/data/stimuli-representations/english/gpt2_control_183_layer-10.\n"
     ]
    },
    {
     "name": "stderr",
     "output_type": "stream",
     "text": [
      "\r",
      "2it [00:20, 10.23s/it]"
     ]
    },
    {
     "name": "stdout",
     "output_type": "stream",
     "text": [
      "############# Run 2 #############\n",
      "\tSaving in /neurospin/unicog/protocols/IRMf/LePetitPrince_Pallier_2018/LePetitPrince/data/stimuli-representations/english/gpt2_control_183_layer-10.\n"
     ]
    },
    {
     "name": "stderr",
     "output_type": "stream",
     "text": [
      "\r",
      "3it [00:39, 12.90s/it]"
     ]
    },
    {
     "name": "stdout",
     "output_type": "stream",
     "text": [
      "############# Run 3 #############\n",
      "\tSaving in /neurospin/unicog/protocols/IRMf/LePetitPrince_Pallier_2018/LePetitPrince/data/stimuli-representations/english/gpt2_control_183_layer-10.\n"
     ]
    },
    {
     "name": "stderr",
     "output_type": "stream",
     "text": [
      "\r",
      "4it [01:17, 20.49s/it]"
     ]
    },
    {
     "name": "stdout",
     "output_type": "stream",
     "text": [
      "############# Run 4 #############\n",
      "\tSaving in /neurospin/unicog/protocols/IRMf/LePetitPrince_Pallier_2018/LePetitPrince/data/stimuli-representations/english/gpt2_control_183_layer-10.\n"
     ]
    },
    {
     "name": "stderr",
     "output_type": "stream",
     "text": [
      "\r",
      "5it [01:31, 18.42s/it]"
     ]
    },
    {
     "name": "stdout",
     "output_type": "stream",
     "text": [
      "############# Run 5 #############\n",
      "\tSaving in /neurospin/unicog/protocols/IRMf/LePetitPrince_Pallier_2018/LePetitPrince/data/stimuli-representations/english/gpt2_control_183_layer-10.\n"
     ]
    },
    {
     "name": "stderr",
     "output_type": "stream",
     "text": [
      "\r",
      "6it [01:45, 17.21s/it]"
     ]
    },
    {
     "name": "stdout",
     "output_type": "stream",
     "text": [
      "############# Run 6 #############\n",
      "\tSaving in /neurospin/unicog/protocols/IRMf/LePetitPrince_Pallier_2018/LePetitPrince/data/stimuli-representations/english/gpt2_control_183_layer-10.\n"
     ]
    },
    {
     "name": "stderr",
     "output_type": "stream",
     "text": [
      "\r",
      "7it [01:59, 16.27s/it]"
     ]
    },
    {
     "name": "stdout",
     "output_type": "stream",
     "text": [
      "############# Run 7 #############\n",
      "\tSaving in /neurospin/unicog/protocols/IRMf/LePetitPrince_Pallier_2018/LePetitPrince/data/stimuli-representations/english/gpt2_control_183_layer-10.\n"
     ]
    },
    {
     "name": "stderr",
     "output_type": "stream",
     "text": [
      "\r",
      "8it [02:10, 14.43s/it]"
     ]
    },
    {
     "name": "stdout",
     "output_type": "stream",
     "text": [
      "############# Run 8 #############\n",
      "\tSaving in /neurospin/unicog/protocols/IRMf/LePetitPrince_Pallier_2018/LePetitPrince/data/stimuli-representations/english/gpt2_control_183_layer-10.\n"
     ]
    },
    {
     "name": "stderr",
     "output_type": "stream",
     "text": [
      "9it [02:24, 16.03s/it]\n",
      "0it [00:00, ?it/s]"
     ]
    },
    {
     "name": "stdout",
     "output_type": "stream",
     "text": [
      "gpt2_control_183  - Extracting activations for layer 11...\n",
      "############# Run 0 #############\n",
      "\tSaving in /neurospin/unicog/protocols/IRMf/LePetitPrince_Pallier_2018/LePetitPrince/data/stimuli-representations/english/gpt2_control_183_layer-11.\n"
     ]
    },
    {
     "name": "stderr",
     "output_type": "stream",
     "text": [
      "\r",
      "1it [00:09,  9.79s/it]"
     ]
    },
    {
     "name": "stdout",
     "output_type": "stream",
     "text": [
      "############# Run 1 #############\n",
      "\tSaving in /neurospin/unicog/protocols/IRMf/LePetitPrince_Pallier_2018/LePetitPrince/data/stimuli-representations/english/gpt2_control_183_layer-11.\n"
     ]
    },
    {
     "name": "stderr",
     "output_type": "stream",
     "text": [
      "\r",
      "2it [00:20, 10.01s/it]"
     ]
    },
    {
     "name": "stdout",
     "output_type": "stream",
     "text": [
      "############# Run 2 #############\n",
      "\tSaving in /neurospin/unicog/protocols/IRMf/LePetitPrince_Pallier_2018/LePetitPrince/data/stimuli-representations/english/gpt2_control_183_layer-11.\n"
     ]
    },
    {
     "name": "stderr",
     "output_type": "stream",
     "text": [
      "\r",
      "3it [00:33, 10.85s/it]"
     ]
    },
    {
     "name": "stdout",
     "output_type": "stream",
     "text": [
      "############# Run 3 #############\n",
      "\tSaving in /neurospin/unicog/protocols/IRMf/LePetitPrince_Pallier_2018/LePetitPrince/data/stimuli-representations/english/gpt2_control_183_layer-11.\n"
     ]
    },
    {
     "name": "stderr",
     "output_type": "stream",
     "text": [
      "\r",
      "4it [00:44, 11.13s/it]"
     ]
    },
    {
     "name": "stdout",
     "output_type": "stream",
     "text": [
      "############# Run 4 #############\n",
      "\tSaving in /neurospin/unicog/protocols/IRMf/LePetitPrince_Pallier_2018/LePetitPrince/data/stimuli-representations/english/gpt2_control_183_layer-11.\n"
     ]
    },
    {
     "name": "stderr",
     "output_type": "stream",
     "text": [
      "\r",
      "5it [00:56, 11.41s/it]"
     ]
    },
    {
     "name": "stdout",
     "output_type": "stream",
     "text": [
      "############# Run 5 #############\n",
      "\tSaving in /neurospin/unicog/protocols/IRMf/LePetitPrince_Pallier_2018/LePetitPrince/data/stimuli-representations/english/gpt2_control_183_layer-11.\n"
     ]
    },
    {
     "name": "stderr",
     "output_type": "stream",
     "text": [
      "\r",
      "6it [01:11, 12.30s/it]"
     ]
    },
    {
     "name": "stdout",
     "output_type": "stream",
     "text": [
      "############# Run 6 #############\n",
      "\tSaving in /neurospin/unicog/protocols/IRMf/LePetitPrince_Pallier_2018/LePetitPrince/data/stimuli-representations/english/gpt2_control_183_layer-11.\n"
     ]
    },
    {
     "name": "stderr",
     "output_type": "stream",
     "text": [
      "\r",
      "7it [01:24, 12.64s/it]"
     ]
    },
    {
     "name": "stdout",
     "output_type": "stream",
     "text": [
      "############# Run 7 #############\n",
      "\tSaving in /neurospin/unicog/protocols/IRMf/LePetitPrince_Pallier_2018/LePetitPrince/data/stimuli-representations/english/gpt2_control_183_layer-11.\n"
     ]
    },
    {
     "name": "stderr",
     "output_type": "stream",
     "text": [
      "\r",
      "8it [01:35, 11.99s/it]"
     ]
    },
    {
     "name": "stdout",
     "output_type": "stream",
     "text": [
      "############# Run 8 #############\n",
      "\tSaving in /neurospin/unicog/protocols/IRMf/LePetitPrince_Pallier_2018/LePetitPrince/data/stimuli-representations/english/gpt2_control_183_layer-11.\n"
     ]
    },
    {
     "name": "stderr",
     "output_type": "stream",
     "text": [
      "9it [01:49, 12.19s/it]\n",
      "0it [00:00, ?it/s]"
     ]
    },
    {
     "name": "stdout",
     "output_type": "stream",
     "text": [
      "gpt2_control_183  - Extracting activations for layer 12...\n",
      "############# Run 0 #############\n",
      "\tSaving in /neurospin/unicog/protocols/IRMf/LePetitPrince_Pallier_2018/LePetitPrince/data/stimuli-representations/english/gpt2_control_183_layer-12.\n"
     ]
    },
    {
     "name": "stderr",
     "output_type": "stream",
     "text": [
      "\r",
      "1it [00:10, 10.18s/it]"
     ]
    },
    {
     "name": "stdout",
     "output_type": "stream",
     "text": [
      "############# Run 1 #############\n",
      "\tSaving in /neurospin/unicog/protocols/IRMf/LePetitPrince_Pallier_2018/LePetitPrince/data/stimuli-representations/english/gpt2_control_183_layer-12.\n"
     ]
    },
    {
     "name": "stderr",
     "output_type": "stream",
     "text": [
      "\r",
      "2it [00:20, 10.07s/it]"
     ]
    },
    {
     "name": "stdout",
     "output_type": "stream",
     "text": [
      "############# Run 2 #############\n",
      "\tSaving in /neurospin/unicog/protocols/IRMf/LePetitPrince_Pallier_2018/LePetitPrince/data/stimuli-representations/english/gpt2_control_183_layer-12.\n"
     ]
    },
    {
     "name": "stderr",
     "output_type": "stream",
     "text": [
      "\r",
      "3it [00:32, 10.76s/it]"
     ]
    },
    {
     "name": "stdout",
     "output_type": "stream",
     "text": [
      "############# Run 3 #############\n",
      "\tSaving in /neurospin/unicog/protocols/IRMf/LePetitPrince_Pallier_2018/LePetitPrince/data/stimuli-representations/english/gpt2_control_183_layer-12.\n"
     ]
    },
    {
     "name": "stderr",
     "output_type": "stream",
     "text": [
      "\r",
      "4it [00:44, 11.12s/it]"
     ]
    },
    {
     "name": "stdout",
     "output_type": "stream",
     "text": [
      "############# Run 4 #############\n",
      "\tSaving in /neurospin/unicog/protocols/IRMf/LePetitPrince_Pallier_2018/LePetitPrince/data/stimuli-representations/english/gpt2_control_183_layer-12.\n"
     ]
    },
    {
     "name": "stderr",
     "output_type": "stream",
     "text": [
      "\r",
      "5it [00:57, 11.71s/it]"
     ]
    },
    {
     "name": "stdout",
     "output_type": "stream",
     "text": [
      "############# Run 5 #############\n",
      "\tSaving in /neurospin/unicog/protocols/IRMf/LePetitPrince_Pallier_2018/LePetitPrince/data/stimuli-representations/english/gpt2_control_183_layer-12.\n"
     ]
    },
    {
     "name": "stderr",
     "output_type": "stream",
     "text": [
      "\r",
      "6it [01:26, 16.85s/it]"
     ]
    },
    {
     "name": "stdout",
     "output_type": "stream",
     "text": [
      "############# Run 6 #############\n",
      "\tSaving in /neurospin/unicog/protocols/IRMf/LePetitPrince_Pallier_2018/LePetitPrince/data/stimuli-representations/english/gpt2_control_183_layer-12.\n"
     ]
    },
    {
     "name": "stderr",
     "output_type": "stream",
     "text": [
      "\r",
      "7it [02:02, 22.62s/it]"
     ]
    },
    {
     "name": "stdout",
     "output_type": "stream",
     "text": [
      "############# Run 7 #############\n",
      "\tSaving in /neurospin/unicog/protocols/IRMf/LePetitPrince_Pallier_2018/LePetitPrince/data/stimuli-representations/english/gpt2_control_183_layer-12.\n"
     ]
    },
    {
     "name": "stderr",
     "output_type": "stream",
     "text": [
      "\r",
      "8it [02:12, 19.01s/it]"
     ]
    },
    {
     "name": "stdout",
     "output_type": "stream",
     "text": [
      "############# Run 8 #############\n",
      "\tSaving in /neurospin/unicog/protocols/IRMf/LePetitPrince_Pallier_2018/LePetitPrince/data/stimuli-representations/english/gpt2_control_183_layer-12.\n"
     ]
    },
    {
     "name": "stderr",
     "output_type": "stream",
     "text": [
      "9it [02:27, 16.44s/it]\n"
     ]
    }
   ],
   "source": [
    "for seed in seeds:\n",
    "    set_seed(seed)\n",
    "    for layer in range(13):\n",
    "        extractor = GPT2Extractor(gpt2_model, language, name, prediction_type, output_hidden_states=True, output_attentions=True, config_path=None)\n",
    "        if layer==0:\n",
    "            extractor.model = randomize_embeddings(extractor.model)\n",
    "        else:\n",
    "            extractor.model = randomize_layer(extractor.model, layer)\n",
    "        print(extractor.name + str(seed), ' - Extracting activations for layer {}...'.format(layer))\n",
    "        for run_index, iterator in tqdm(enumerate(iterator_list)):\n",
    "            print(\"############# Run {} #############\".format(run_index))\n",
    "            activations  = extractor.extract_activations(iterator, language)\n",
    "            hidden_states_activations = activations[0]\n",
    "            attention_heads_activations = activations[1]\n",
    "            activations = pd.concat([hidden_states_activations, attention_heads_activations], axis=1)\n",
    "\n",
    "            # activations\n",
    "            heads = np.arange(1, 13)\n",
    "            columns_to_retrieve = ['hidden_state-layer-{}-{}'.format(layer, i) for i in range(1, 769)]\n",
    "            if layer > 0:\n",
    "                columns_to_retrieve += ['attention-layer-{}-head-{}-{}'.format(layer, head, i) for head in heads for i in range(1, 65)]\n",
    "            activations = activations[columns_to_retrieve]\n",
    "\n",
    "            save_path = os.path.join(saving_path_folder, name + str(seed) + '_layer-{}'.format(layer))\n",
    "            check_folder(save_path)\n",
    "            print('\\tSaving in {}.'.format(save_path))\n",
    "            activations.to_csv(os.path.join(save_path, 'activations_run{}.csv'.format(run_index + 1)), index=False)\n"
   ]
  },
  {
   "cell_type": "code",
   "execution_count": null,
   "metadata": {},
   "outputs": [],
   "source": []
  }
 ],
 "metadata": {
  "kernelspec": {
   "display_name": "Python 3",
   "language": "python",
   "name": "python3"
  },
  "language_info": {
   "codemirror_mode": {
    "name": "ipython",
    "version": 3
   },
   "file_extension": ".py",
   "mimetype": "text/x-python",
   "name": "python",
   "nbconvert_exporter": "python",
   "pygments_lexer": "ipython3",
   "version": "3.8.3"
  }
 },
 "nbformat": 4,
 "nbformat_minor": 4
}
